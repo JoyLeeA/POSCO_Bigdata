{
 "cells": [
  {
   "cell_type": "code",
   "execution_count": 10,
   "metadata": {},
   "outputs": [
    {
     "ename": "AttributeError",
     "evalue": "type object 'pandas._libs.tslibs.conversion._TSObject' has no attribute '__reduce_cython__'",
     "output_type": "error",
     "traceback": [
      "\u001b[0;31m---------------------------------------------------------------------------\u001b[0m",
      "\u001b[0;31mAttributeError\u001b[0m                            Traceback (most recent call last)",
      "\u001b[0;32m<ipython-input-10-07c20e2f9b2b>\u001b[0m in \u001b[0;36m<module>\u001b[0;34m\u001b[0m\n\u001b[1;32m      3\u001b[0m \u001b[0;32mfrom\u001b[0m \u001b[0mscipy\u001b[0m \u001b[0;32mimport\u001b[0m \u001b[0mstats\u001b[0m \u001b[0;31m#과학 계산 패키지\u001b[0m\u001b[0;34m\u001b[0m\u001b[0;34m\u001b[0m\u001b[0m\n\u001b[1;32m      4\u001b[0m \u001b[0;32mimport\u001b[0m \u001b[0mscipy\u001b[0m\u001b[0;34m.\u001b[0m\u001b[0mstats\u001b[0m \u001b[0;31m#통계 분석 패키지\u001b[0m\u001b[0;34m\u001b[0m\u001b[0;34m\u001b[0m\u001b[0m\n\u001b[0;32m----> 5\u001b[0;31m \u001b[0;32mimport\u001b[0m \u001b[0mpandas\u001b[0m \u001b[0;32mas\u001b[0m \u001b[0mpd\u001b[0m \u001b[0;31m#데이터 패키지\u001b[0m\u001b[0;34m\u001b[0m\u001b[0;34m\u001b[0m\u001b[0m\n\u001b[0m\u001b[1;32m      6\u001b[0m \u001b[0;32mimport\u001b[0m \u001b[0mstatsmodels\u001b[0m\u001b[0;34m.\u001b[0m\u001b[0mapi\u001b[0m \u001b[0;32mas\u001b[0m \u001b[0msm\u001b[0m \u001b[0;31m#통계 분석 패키지\u001b[0m\u001b[0;34m\u001b[0m\u001b[0;34m\u001b[0m\u001b[0m\n\u001b[1;32m      7\u001b[0m \u001b[0;32mimport\u001b[0m \u001b[0mmatplotlib\u001b[0m\u001b[0;34m.\u001b[0m\u001b[0mpyplot\u001b[0m \u001b[0;32mas\u001b[0m \u001b[0mplt\u001b[0m \u001b[0;31m#데이터 시각화 패키지\u001b[0m\u001b[0;34m\u001b[0m\u001b[0;34m\u001b[0m\u001b[0m\n",
      "\u001b[0;32m~/anaconda3/lib/python3.7/site-packages/pandas/__init__.py\u001b[0m in \u001b[0;36m<module>\u001b[0;34m\u001b[0m\n\u001b[1;32m     28\u001b[0m \u001b[0;34m\u001b[0m\u001b[0m\n\u001b[1;32m     29\u001b[0m \u001b[0;32mtry\u001b[0m\u001b[0;34m:\u001b[0m\u001b[0;34m\u001b[0m\u001b[0;34m\u001b[0m\u001b[0m\n\u001b[0;32m---> 30\u001b[0;31m     \u001b[0;32mfrom\u001b[0m \u001b[0mpandas\u001b[0m\u001b[0;34m.\u001b[0m\u001b[0m_libs\u001b[0m \u001b[0;32mimport\u001b[0m \u001b[0mhashtable\u001b[0m \u001b[0;32mas\u001b[0m \u001b[0m_hashtable\u001b[0m\u001b[0;34m,\u001b[0m \u001b[0mlib\u001b[0m \u001b[0;32mas\u001b[0m \u001b[0m_lib\u001b[0m\u001b[0;34m,\u001b[0m \u001b[0mtslib\u001b[0m \u001b[0;32mas\u001b[0m \u001b[0m_tslib\u001b[0m\u001b[0;34m\u001b[0m\u001b[0;34m\u001b[0m\u001b[0m\n\u001b[0m\u001b[1;32m     31\u001b[0m \u001b[0;32mexcept\u001b[0m \u001b[0mImportError\u001b[0m \u001b[0;32mas\u001b[0m \u001b[0me\u001b[0m\u001b[0;34m:\u001b[0m  \u001b[0;31m# pragma: no cover\u001b[0m\u001b[0;34m\u001b[0m\u001b[0;34m\u001b[0m\u001b[0m\n\u001b[1;32m     32\u001b[0m     \u001b[0;31m# hack but overkill to use re\u001b[0m\u001b[0;34m\u001b[0m\u001b[0;34m\u001b[0m\u001b[0;34m\u001b[0m\u001b[0m\n",
      "\u001b[0;32m~/anaconda3/lib/python3.7/site-packages/pandas/_libs/__init__.py\u001b[0m in \u001b[0;36m<module>\u001b[0;34m\u001b[0m\n\u001b[1;32m      1\u001b[0m \u001b[0;31m# flake8: noqa\u001b[0m\u001b[0;34m\u001b[0m\u001b[0;34m\u001b[0m\u001b[0;34m\u001b[0m\u001b[0m\n\u001b[1;32m      2\u001b[0m \u001b[0;34m\u001b[0m\u001b[0m\n\u001b[0;32m----> 3\u001b[0;31m from .tslibs import (\n\u001b[0m\u001b[1;32m      4\u001b[0m     \u001b[0mNaT\u001b[0m\u001b[0;34m,\u001b[0m\u001b[0;34m\u001b[0m\u001b[0;34m\u001b[0m\u001b[0m\n\u001b[1;32m      5\u001b[0m     \u001b[0mNaTType\u001b[0m\u001b[0;34m,\u001b[0m\u001b[0;34m\u001b[0m\u001b[0;34m\u001b[0m\u001b[0m\n",
      "\u001b[0;32m~/anaconda3/lib/python3.7/site-packages/pandas/_libs/tslibs/__init__.py\u001b[0m in \u001b[0;36m<module>\u001b[0;34m\u001b[0m\n\u001b[1;32m      1\u001b[0m \u001b[0;31m# flake8: noqa\u001b[0m\u001b[0;34m\u001b[0m\u001b[0;34m\u001b[0m\u001b[0;34m\u001b[0m\u001b[0m\n\u001b[1;32m      2\u001b[0m \u001b[0;34m\u001b[0m\u001b[0m\n\u001b[0;32m----> 3\u001b[0;31m \u001b[0;32mfrom\u001b[0m \u001b[0;34m.\u001b[0m\u001b[0mconversion\u001b[0m \u001b[0;32mimport\u001b[0m \u001b[0mlocalize_pydatetime\u001b[0m\u001b[0;34m,\u001b[0m \u001b[0mnormalize_date\u001b[0m\u001b[0;34m\u001b[0m\u001b[0;34m\u001b[0m\u001b[0m\n\u001b[0m\u001b[1;32m      4\u001b[0m \u001b[0;32mfrom\u001b[0m \u001b[0;34m.\u001b[0m\u001b[0mnattype\u001b[0m \u001b[0;32mimport\u001b[0m \u001b[0mNaT\u001b[0m\u001b[0;34m,\u001b[0m \u001b[0mNaTType\u001b[0m\u001b[0;34m,\u001b[0m \u001b[0miNaT\u001b[0m\u001b[0;34m,\u001b[0m \u001b[0mis_null_datetimelike\u001b[0m\u001b[0;34m\u001b[0m\u001b[0;34m\u001b[0m\u001b[0m\n\u001b[1;32m      5\u001b[0m \u001b[0;32mfrom\u001b[0m \u001b[0;34m.\u001b[0m\u001b[0mnp_datetime\u001b[0m \u001b[0;32mimport\u001b[0m \u001b[0mOutOfBoundsDatetime\u001b[0m\u001b[0;34m\u001b[0m\u001b[0;34m\u001b[0m\u001b[0m\n",
      "\u001b[0;32mpandas/_libs/tslibs/conversion.pyx\u001b[0m in \u001b[0;36minit pandas._libs.tslibs.conversion\u001b[0;34m()\u001b[0m\n",
      "\u001b[0;31mAttributeError\u001b[0m: type object 'pandas._libs.tslibs.conversion._TSObject' has no attribute '__reduce_cython__'"
     ]
    }
   ],
   "source": [
    "#필요 모듈 호출\n",
    "import numpy as np #행렬 연산 패키지\n",
    "from scipy import stats #과학 계산 패키지\n",
    "import scipy.stats #통계 분석 패키지\n",
    "import pandas as pd #데이터 패키지\n",
    "import statsmodels.api as sm #통계 분석 패키지\n",
    "import matplotlib.pyplot as plt #데이터 시각화 패키지\n",
    "import seaborn as sns #데이터 시각화 패키지\n",
    "from statsmodels.stats.proportion import proportions_ztest\n",
    "import matplotlib\n",
    "\n",
    "\n",
    "#주피터 노트북 내 그래프를 바로 그리기 위한 설정\n",
    "%matplotlib inline\n",
    "#한글 폰트 (맑은 고딕) 적용\n",
    "matplotlib.rc('font',family='Malgun Gothic')"
   ]
  },
  {
   "cell_type": "code",
   "execution_count": 5,
   "metadata": {},
   "outputs": [
    {
     "ename": "NameError",
     "evalue": "name 'pd' is not defined",
     "output_type": "error",
     "traceback": [
      "\u001b[0;31m---------------------------------------------------------------------------\u001b[0m",
      "\u001b[0;31mNameError\u001b[0m                                 Traceback (most recent call last)",
      "\u001b[0;32m<ipython-input-5-7f07c11ab995>\u001b[0m in \u001b[0;36m<module>\u001b[0;34m\u001b[0m\n\u001b[0;32m----> 1\u001b[0;31m \u001b[0mds_camshaft\u001b[0m \u001b[0;34m=\u001b[0m \u001b[0mpd\u001b[0m\u001b[0;34m.\u001b[0m\u001b[0mread_csv\u001b[0m\u001b[0;34m(\u001b[0m\u001b[0;34m\"/home/pirl/Downloads/camshaft.csv\"\u001b[0m\u001b[0;34m,\u001b[0m \u001b[0mengine\u001b[0m \u001b[0;34m=\u001b[0m \u001b[0;34m\"python\"\u001b[0m\u001b[0;34m)\u001b[0m\u001b[0;34m\u001b[0m\u001b[0;34m\u001b[0m\u001b[0m\n\u001b[0m\u001b[1;32m      2\u001b[0m \u001b[0mds_camshaft\u001b[0m\u001b[0;34m.\u001b[0m\u001b[0mhead\u001b[0m\u001b[0;34m(\u001b[0m\u001b[0;34m)\u001b[0m\u001b[0;34m\u001b[0m\u001b[0;34m\u001b[0m\u001b[0m\n\u001b[1;32m      3\u001b[0m \u001b[0;34m\u001b[0m\u001b[0m\n\u001b[1;32m      4\u001b[0m \u001b[0mdata1\u001b[0m \u001b[0;34m=\u001b[0m \u001b[0mds_camshaft\u001b[0m\u001b[0;34m[\u001b[0m\u001b[0;34m'Supp1'\u001b[0m\u001b[0;34m]\u001b[0m\u001b[0;34m\u001b[0m\u001b[0;34m\u001b[0m\u001b[0m\n\u001b[1;32m      5\u001b[0m \u001b[0mshapiro\u001b[0m\u001b[0;34m(\u001b[0m\u001b[0mdata1\u001b[0m\u001b[0;34m)\u001b[0m\u001b[0;34m\u001b[0m\u001b[0;34m\u001b[0m\u001b[0m\n",
      "\u001b[0;31mNameError\u001b[0m: name 'pd' is not defined"
     ]
    }
   ],
   "source": [
    "ds_camshaft = pd.read_csv(\"/home/pirl/Downloads/camshaft.csv\", engine = \"python\")\n",
    "ds_camshaft.head()\n",
    "\n",
    "data1 = ds_camshaft['Supp1']\n",
    "shapiro(data1)"
   ]
  },
  {
   "cell_type": "code",
   "execution_count": 32,
   "metadata": {},
   "outputs": [
    {
     "name": "stdout",
     "output_type": "stream",
     "text": [
      "(nan, 1.0)\n",
      "(nan, 1.0)\n"
     ]
    }
   ],
   "source": [
    "#p.105 [실습] 정규성 검정\n",
    "ds_camshaft = pd.read_csv(\"/home/pirl/Downloads/2sample_t_test.csv\", engine = \"python\") #csv 파일 호출\n",
    "ds_camshaft.head() #파일 정상 출력 확인\n",
    "\n",
    "data1 = ds_camshaft['Mat_A']\n",
    "data2 = ds_camshaft['Mat_B']\n",
    "print(shapiro(data1))\n",
    "print(shapiro(data2))\n",
    "#두 가지 경우 전부 p값이 0.5이상이 나왔다.\n",
    "#두 가지 경우 모두 정규분포를 따른다는 것을 알 수 있다."
   ]
  },
  {
   "cell_type": "code",
   "execution_count": 37,
   "metadata": {},
   "outputs": [
    {
     "name": "stdout",
     "output_type": "stream",
     "text": [
      "Other       6\n",
      "Peel       21\n",
      "Scratch    34\n",
      "Smudge     40\n",
      "Name: Flaws, dtype: int64 Other      15.0\n",
      "Peel       37.5\n",
      "Scratch    32.5\n",
      "Smudge     15.0\n",
      "Name: Flaws, dtype: float64 Other       15.0\n",
      "Peel        52.5\n",
      "Scratch     85.0\n",
      "Smudge     100.0\n",
      "Name: Flaws, dtype: float64\n"
     ]
    }
   ],
   "source": [
    "#p.26\n",
    "ds_Exh_QC1 = pd.read_csv(\"/home/pirl/Downloads/EXH_QC1.csv\", engine = \"python\")\n",
    "df = ds_Exh_QC1[['Flaws','Period']]\n",
    "\n",
    "count = df['Flaws'].value_counts().sort_index()\n",
    "\n",
    "cumcnt = np.cumsum(count)\n",
    "percent = count / sum(count) * 100\n",
    "cumpct = np.cumsum(percent)\n",
    "\n",
    "print(cumcnt, percent, cumpct)"
   ]
  },
  {
   "cell_type": "code",
   "execution_count": 44,
   "metadata": {},
   "outputs": [
    {
     "data": {
      "text/plain": [
       "<bound method NDFrame.head of       model  mpg\n",
       "0        a4   18\n",
       "1        a4   21\n",
       "2        a4   20\n",
       "3        a4   21\n",
       "4        a4   16\n",
       "..      ...  ...\n",
       "229  passat   19\n",
       "230  passat   21\n",
       "231  passat   16\n",
       "232  passat   18\n",
       "233  passat   17\n",
       "\n",
       "[234 rows x 2 columns]>"
      ]
     },
     "execution_count": 44,
     "metadata": {},
     "output_type": "execute_result"
    }
   ],
   "source": [
    "#p.24\n",
    "ds_mycars = pd.read_csv(\"/home/pirl/Downloads/mycars.csv\", engine = \"python\")\n",
    "df = ds_mycars[['model','mpg']]\n",
    "df.head"
   ]
  },
  {
   "cell_type": "code",
   "execution_count": 49,
   "metadata": {},
   "outputs": [
    {
     "name": "stdout",
     "output_type": "stream",
     "text": [
      "신뢰구간: ([2.57],[2.82])\n"
     ]
    }
   ],
   "source": [
    "#p.107\n",
    "df = pd.DataFrame({\"sample\":[3.6,2.9,2.8,2.6,3.4,3.2,2.2,2.6,2.6,2.4,2.4,2.6,3.4,2.4,2.1,2.6,3.0,2.4,2.7,2.4,2.6,2.9,2.9,2.0,2.7,2.2,2.8,2.7,1.8,2.5,3.0,3.2,2.8,2.6,3.2,3.1,2.9,2.7,2.7,2.2]})\n",
    "df.head()\n",
    "\n",
    "lower,upper = stats.norm.interval(0.95,loc=np.mean(df),scale=0.397/np.sqrt(40))\n",
    "print(\"신뢰구간: ({0},{1})\".format(lower.round(2),upper.round(2)))"
   ]
  },
  {
   "cell_type": "code",
   "execution_count": 51,
   "metadata": {},
   "outputs": [
    {
     "name": "stdout",
     "output_type": "stream",
     "text": [
      "신뢰구간: ([17.83],[21.17])\n"
     ]
    }
   ],
   "source": [
    "#p.108 [실습] 모평균 구간추정_모표준편차를 아는 경우\n",
    "df = pd.DataFrame({\"sample\":[18, 18, 20, 21, 20, 23, 19, 18, 17, 21, 22, 20, 20, 21, 20, 19, 19, 18, 17, 19]})\n",
    "#데이터를 직접 df에 넣는다.\n",
    "df.head()\n",
    "#입력한 데이터의 헤드부분을 출력하여 정상 출력되는지 확인한다.\n",
    "lower,upper = stats.norm.interval(0.95,loc=np.mean(df),scale=3.8/np.sqrt(20))\n",
    "#95%의 신뢰수준, 평균값, 3.8의 모표준편차/루트n을 인자로 넣는다.\n",
    "print(\"신뢰구간: ({0},{1})\".format(lower.round(2),upper.round(2)))\n",
    "#신뢰수준 95%에서 모평균이 존재할 수 있는 범위가 17.83에서 21.17 사이이다.\n",
    "#모표준편차가 주어져서 따로 계산할 필요가 없어서 과제 수행이 용이했다."
   ]
  },
  {
   "cell_type": "code",
   "execution_count": 53,
   "metadata": {},
   "outputs": [
    {
     "name": "stdout",
     "output_type": "stream",
     "text": [
      "신뢰구간:([54.39],[55.33])\n"
     ]
    }
   ],
   "source": [
    "#p110\n",
    "df = pd.DataFrame({\"sample\":[54.1,53.3,56.1,55.7,54.0,54.1,54.5,57.1,55.2,53.8,54.1,54.1,56.1,55.0,55.9,56.0,54.9,54.3,53.9,55.0]})\n",
    "lower,upper = stats.t.interval(0.95,len(df)-1,loc=np.mean(df),scale=scipy.stats.sem(df))\n",
    "print(\"신뢰구간:({0},{1})\".format(lower.round(2),upper.round(2)))\n",
    "\n"
   ]
  },
  {
   "cell_type": "code",
   "execution_count": 57,
   "metadata": {},
   "outputs": [
    {
     "name": "stdout",
     "output_type": "stream",
     "text": [
      "신뢰구간:([70.6],[72.4])\n"
     ]
    }
   ],
   "source": [
    "#p111 [실습] 모평균 추정_모표준편차를 모르는 경우\n",
    "df = pd.DataFrame({\"sample\":[73, 71, 74, 69, 70, 73, 70, 68, 75, 72, 70, 72, 73, 70, 70, 72, 71, 70, 75, 72]})\n",
    "#데이터를 직접 df에 넣는다.\n",
    "lower,upper = stats.t.interval(0.95,len(df)-1,loc=np.mean(df),scale=scipy.stats.sem(df))\n",
    "#95%의 신뢰수준, n-1, 평균, 모표준편차/루트n을 인자로 넣는다.\n",
    "print(\"신뢰구간:({0},{1})\".format(lower.round(2),upper.round(2)))\n",
    "#신뢰수준 95%에서 모평균이 존재할 수 있는 범위가 70.6에서 72.4 사이이다.\n",
    "#모표준편차가 주어지지 않아서 모표준편차를 따로 계산할 필요가 있어서 과제 수행이 보다 복잡했다."
   ]
  },
  {
   "cell_type": "code",
   "execution_count": 60,
   "metadata": {},
   "outputs": [
    {
     "name": "stdout",
     "output_type": "stream",
     "text": [
      "1-Sample t-test\n",
      "t 통계량: [0.864]\n",
      "p-value: [0.41]\n"
     ]
    }
   ],
   "source": [
    "#p.139\n",
    "df = pd.DataFrame({'sample':[74.5,81.2,73.8,82.0,76.3,75.7,80.2,72.6,77.9,82.8]})\n",
    "t_result = stats.ttest_1samp(df,76.7)\n",
    "\n",
    "t,p = t_result.statistic.round(3), t_result.pvalue.round(3)\n",
    "\n",
    "print(\"1-Sample t-test\")\n",
    "print(\"t 통계량: {}\".format(t))\n",
    "print(\"p-value: {}\".format(p))"
   ]
  },
  {
   "cell_type": "code",
   "execution_count": 69,
   "metadata": {},
   "outputs": [
    {
     "name": "stdout",
     "output_type": "stream",
     "text": [
      "4runner 4wd                 6\n",
      "a4                         13\n",
      "a4 quattro                 21\n",
      "a6 quattro                 24\n",
      "altima                     30\n",
      "c1500 suburban 2wd         35\n",
      "camry                      42\n",
      "camry solara               49\n",
      "caravan 2wd                60\n",
      "civic                      69\n",
      "corolla                    74\n",
      "corvette                   79\n",
      "dakota pickup 4wd          88\n",
      "durango 4wd                95\n",
      "expedition 2wd             98\n",
      "explorer 4wd              104\n",
      "f150 pickup 4wd           111\n",
      "forester awd              117\n",
      "grand cherokee 4wd        125\n",
      "grand prix                130\n",
      "gti                       135\n",
      "impreza awd               143\n",
      "jetta                     152\n",
      "k1500 tahoe 4wd           156\n",
      "land cruiser wagon 4wd    158\n",
      "malibu                    163\n",
      "maxima                    166\n",
      "mountaineer 4wd           170\n",
      "mustang                   179\n",
      "navigator 2wd             182\n",
      "new beetle                188\n",
      "passat                    195\n",
      "pathfinder 4wd            199\n",
      "ram 1500 pickup 4wd       209\n",
      "range rover               213\n",
      "sonata                    220\n",
      "tiburon                   227\n",
      "toyota tacoma 4wd         234\n",
      "Name: model, dtype: int64 4runner 4wd               2.564103\n",
      "a4                        2.991453\n",
      "a4 quattro                3.418803\n",
      "a6 quattro                1.282051\n",
      "altima                    2.564103\n",
      "c1500 suburban 2wd        2.136752\n",
      "camry                     2.991453\n",
      "camry solara              2.991453\n",
      "caravan 2wd               4.700855\n",
      "civic                     3.846154\n",
      "corolla                   2.136752\n",
      "corvette                  2.136752\n",
      "dakota pickup 4wd         3.846154\n",
      "durango 4wd               2.991453\n",
      "expedition 2wd            1.282051\n",
      "explorer 4wd              2.564103\n",
      "f150 pickup 4wd           2.991453\n",
      "forester awd              2.564103\n",
      "grand cherokee 4wd        3.418803\n",
      "grand prix                2.136752\n",
      "gti                       2.136752\n",
      "impreza awd               3.418803\n",
      "jetta                     3.846154\n",
      "k1500 tahoe 4wd           1.709402\n",
      "land cruiser wagon 4wd    0.854701\n",
      "malibu                    2.136752\n",
      "maxima                    1.282051\n",
      "mountaineer 4wd           1.709402\n",
      "mustang                   3.846154\n",
      "navigator 2wd             1.282051\n",
      "new beetle                2.564103\n",
      "passat                    2.991453\n",
      "pathfinder 4wd            1.709402\n",
      "ram 1500 pickup 4wd       4.273504\n",
      "range rover               1.709402\n",
      "sonata                    2.991453\n",
      "tiburon                   2.991453\n",
      "toyota tacoma 4wd         2.991453\n",
      "Name: model, dtype: float64 4runner 4wd                 2.564103\n",
      "a4                          5.555556\n",
      "a4 quattro                  8.974359\n",
      "a6 quattro                 10.256410\n",
      "altima                     12.820513\n",
      "c1500 suburban 2wd         14.957265\n",
      "camry                      17.948718\n",
      "camry solara               20.940171\n",
      "caravan 2wd                25.641026\n",
      "civic                      29.487179\n",
      "corolla                    31.623932\n",
      "corvette                   33.760684\n",
      "dakota pickup 4wd          37.606838\n",
      "durango 4wd                40.598291\n",
      "expedition 2wd             41.880342\n",
      "explorer 4wd               44.444444\n",
      "f150 pickup 4wd            47.435897\n",
      "forester awd               50.000000\n",
      "grand cherokee 4wd         53.418803\n",
      "grand prix                 55.555556\n",
      "gti                        57.692308\n",
      "impreza awd                61.111111\n",
      "jetta                      64.957265\n",
      "k1500 tahoe 4wd            66.666667\n",
      "land cruiser wagon 4wd     67.521368\n",
      "malibu                     69.658120\n",
      "maxima                     70.940171\n",
      "mountaineer 4wd            72.649573\n",
      "mustang                    76.495726\n",
      "navigator 2wd              77.777778\n",
      "new beetle                 80.341880\n",
      "passat                     83.333333\n",
      "pathfinder 4wd             85.042735\n",
      "ram 1500 pickup 4wd        89.316239\n",
      "range rover                91.025641\n",
      "sonata                     94.017094\n",
      "tiburon                    97.008547\n",
      "toyota tacoma 4wd         100.000000\n",
      "Name: model, dtype: float64\n"
     ]
    }
   ],
   "source": [
    "#p.28 [실습] 기술통계\n",
    "ds_mycars = pd.read_csv(\"/home/pirl/Downloads/mycars.csv\", engine = \"python\")\n",
    "df = ds_mycars[['model','mpg']]\n",
    "\n",
    "count = df['model'].value_counts().sort_index()\n",
    "\n",
    "cumcnt = np.cumsum(count)\n",
    "percent = count / sum(count) * 100\n",
    "cumpct = np.cumsum(percent)\n",
    "\n",
    "print(cumcnt, percent, cumpct)"
   ]
  },
  {
   "cell_type": "code",
   "execution_count": 114,
   "metadata": {},
   "outputs": [
    {
     "data": {
      "text/html": [
       "<div>\n",
       "<style scoped>\n",
       "    .dataframe tbody tr th:only-of-type {\n",
       "        vertical-align: middle;\n",
       "    }\n",
       "\n",
       "    .dataframe tbody tr th {\n",
       "        vertical-align: top;\n",
       "    }\n",
       "\n",
       "    .dataframe thead tr th {\n",
       "        text-align: left;\n",
       "    }\n",
       "\n",
       "    .dataframe thead tr:last-of-type th {\n",
       "        text-align: right;\n",
       "    }\n",
       "</style>\n",
       "<table border=\"1\" class=\"dataframe\">\n",
       "  <thead>\n",
       "    <tr>\n",
       "      <th></th>\n",
       "      <th colspan=\"8\" halign=\"left\">mpg</th>\n",
       "    </tr>\n",
       "    <tr>\n",
       "      <th></th>\n",
       "      <th>count</th>\n",
       "      <th>mean</th>\n",
       "      <th>std</th>\n",
       "      <th>min</th>\n",
       "      <th>25%</th>\n",
       "      <th>50%</th>\n",
       "      <th>75%</th>\n",
       "      <th>max</th>\n",
       "    </tr>\n",
       "    <tr>\n",
       "      <th>automatic</th>\n",
       "      <th></th>\n",
       "      <th></th>\n",
       "      <th></th>\n",
       "      <th></th>\n",
       "      <th></th>\n",
       "      <th></th>\n",
       "      <th></th>\n",
       "      <th></th>\n",
       "    </tr>\n",
       "  </thead>\n",
       "  <tbody>\n",
       "    <tr>\n",
       "      <td>auto</td>\n",
       "      <td>157.0</td>\n",
       "      <td>15.968</td>\n",
       "      <td>3.849</td>\n",
       "      <td>9.0</td>\n",
       "      <td>13.0</td>\n",
       "      <td>16.0</td>\n",
       "      <td>18.0</td>\n",
       "      <td>29.0</td>\n",
       "    </tr>\n",
       "    <tr>\n",
       "      <td>manual</td>\n",
       "      <td>77.0</td>\n",
       "      <td>18.675</td>\n",
       "      <td>4.488</td>\n",
       "      <td>9.0</td>\n",
       "      <td>15.0</td>\n",
       "      <td>18.0</td>\n",
       "      <td>21.0</td>\n",
       "      <td>35.0</td>\n",
       "    </tr>\n",
       "  </tbody>\n",
       "</table>\n",
       "</div>"
      ],
      "text/plain": [
       "             mpg                                            \n",
       "           count    mean    std  min   25%   50%   75%   max\n",
       "automatic                                                   \n",
       "auto       157.0  15.968  3.849  9.0  13.0  16.0  18.0  29.0\n",
       "manual      77.0  18.675  4.488  9.0  15.0  18.0  21.0  35.0"
      ]
     },
     "execution_count": 114,
     "metadata": {},
     "output_type": "execute_result"
    }
   ],
   "source": [
    "#p.25 [실습] 기술통계 -1\n",
    "ds_mycars = pd.read_csv(\"/home/pirl/Downloads/mycars.csv\", engine = \"python\")\n",
    "ds_mycars.head()\n",
    "df = ds_mycars[['automatic','mpg']] #표의 x축과 기준\n",
    "df.groupby('automatic').describe().round(3) #표의 y축\n",
    "\n",
    "\n"
   ]
  },
  {
   "cell_type": "code",
   "execution_count": 119,
   "metadata": {},
   "outputs": [
    {
     "data": {
      "text/html": [
       "<div>\n",
       "<style scoped>\n",
       "    .dataframe tbody tr th:only-of-type {\n",
       "        vertical-align: middle;\n",
       "    }\n",
       "\n",
       "    .dataframe tbody tr th {\n",
       "        vertical-align: top;\n",
       "    }\n",
       "\n",
       "    .dataframe thead tr th {\n",
       "        text-align: left;\n",
       "    }\n",
       "\n",
       "    .dataframe thead tr:last-of-type th {\n",
       "        text-align: right;\n",
       "    }\n",
       "</style>\n",
       "<table border=\"1\" class=\"dataframe\">\n",
       "  <thead>\n",
       "    <tr>\n",
       "      <th></th>\n",
       "      <th colspan=\"8\" halign=\"left\">mpg</th>\n",
       "    </tr>\n",
       "    <tr>\n",
       "      <th></th>\n",
       "      <th>count</th>\n",
       "      <th>mean</th>\n",
       "      <th>std</th>\n",
       "      <th>min</th>\n",
       "      <th>25%</th>\n",
       "      <th>50%</th>\n",
       "      <th>75%</th>\n",
       "      <th>max</th>\n",
       "    </tr>\n",
       "    <tr>\n",
       "      <th>highway_mileage</th>\n",
       "      <th></th>\n",
       "      <th></th>\n",
       "      <th></th>\n",
       "      <th></th>\n",
       "      <th></th>\n",
       "      <th></th>\n",
       "      <th></th>\n",
       "      <th></th>\n",
       "    </tr>\n",
       "  </thead>\n",
       "  <tbody>\n",
       "    <tr>\n",
       "      <td>12</td>\n",
       "      <td>5.0</td>\n",
       "      <td>9.000</td>\n",
       "      <td>0.000</td>\n",
       "      <td>9.0</td>\n",
       "      <td>9.00</td>\n",
       "      <td>9.0</td>\n",
       "      <td>9.00</td>\n",
       "      <td>9.0</td>\n",
       "    </tr>\n",
       "    <tr>\n",
       "      <td>14</td>\n",
       "      <td>2.0</td>\n",
       "      <td>11.000</td>\n",
       "      <td>0.000</td>\n",
       "      <td>11.0</td>\n",
       "      <td>11.00</td>\n",
       "      <td>11.0</td>\n",
       "      <td>11.00</td>\n",
       "      <td>11.0</td>\n",
       "    </tr>\n",
       "    <tr>\n",
       "      <td>15</td>\n",
       "      <td>10.0</td>\n",
       "      <td>11.000</td>\n",
       "      <td>0.000</td>\n",
       "      <td>11.0</td>\n",
       "      <td>11.00</td>\n",
       "      <td>11.0</td>\n",
       "      <td>11.00</td>\n",
       "      <td>11.0</td>\n",
       "    </tr>\n",
       "    <tr>\n",
       "      <td>16</td>\n",
       "      <td>7.0</td>\n",
       "      <td>11.857</td>\n",
       "      <td>0.900</td>\n",
       "      <td>11.0</td>\n",
       "      <td>11.00</td>\n",
       "      <td>12.0</td>\n",
       "      <td>12.50</td>\n",
       "      <td>13.0</td>\n",
       "    </tr>\n",
       "    <tr>\n",
       "      <td>17</td>\n",
       "      <td>31.0</td>\n",
       "      <td>13.161</td>\n",
       "      <td>1.186</td>\n",
       "      <td>11.0</td>\n",
       "      <td>13.00</td>\n",
       "      <td>13.0</td>\n",
       "      <td>14.00</td>\n",
       "      <td>15.0</td>\n",
       "    </tr>\n",
       "    <tr>\n",
       "      <td>18</td>\n",
       "      <td>10.0</td>\n",
       "      <td>12.800</td>\n",
       "      <td>1.033</td>\n",
       "      <td>12.0</td>\n",
       "      <td>12.00</td>\n",
       "      <td>12.5</td>\n",
       "      <td>13.00</td>\n",
       "      <td>15.0</td>\n",
       "    </tr>\n",
       "    <tr>\n",
       "      <td>19</td>\n",
       "      <td>13.0</td>\n",
       "      <td>14.077</td>\n",
       "      <td>0.862</td>\n",
       "      <td>13.0</td>\n",
       "      <td>13.00</td>\n",
       "      <td>14.0</td>\n",
       "      <td>15.00</td>\n",
       "      <td>15.0</td>\n",
       "    </tr>\n",
       "    <tr>\n",
       "      <td>20</td>\n",
       "      <td>11.0</td>\n",
       "      <td>15.000</td>\n",
       "      <td>0.894</td>\n",
       "      <td>14.0</td>\n",
       "      <td>14.00</td>\n",
       "      <td>15.0</td>\n",
       "      <td>16.00</td>\n",
       "      <td>16.0</td>\n",
       "    </tr>\n",
       "    <tr>\n",
       "      <td>21</td>\n",
       "      <td>2.0</td>\n",
       "      <td>15.000</td>\n",
       "      <td>0.000</td>\n",
       "      <td>15.0</td>\n",
       "      <td>15.00</td>\n",
       "      <td>15.0</td>\n",
       "      <td>15.00</td>\n",
       "      <td>15.0</td>\n",
       "    </tr>\n",
       "    <tr>\n",
       "      <td>22</td>\n",
       "      <td>7.0</td>\n",
       "      <td>15.857</td>\n",
       "      <td>0.900</td>\n",
       "      <td>15.0</td>\n",
       "      <td>15.00</td>\n",
       "      <td>16.0</td>\n",
       "      <td>16.50</td>\n",
       "      <td>17.0</td>\n",
       "    </tr>\n",
       "    <tr>\n",
       "      <td>23</td>\n",
       "      <td>7.0</td>\n",
       "      <td>16.000</td>\n",
       "      <td>1.000</td>\n",
       "      <td>15.0</td>\n",
       "      <td>15.50</td>\n",
       "      <td>16.0</td>\n",
       "      <td>16.00</td>\n",
       "      <td>18.0</td>\n",
       "    </tr>\n",
       "    <tr>\n",
       "      <td>24</td>\n",
       "      <td>13.0</td>\n",
       "      <td>16.692</td>\n",
       "      <td>0.947</td>\n",
       "      <td>15.0</td>\n",
       "      <td>16.00</td>\n",
       "      <td>17.0</td>\n",
       "      <td>17.00</td>\n",
       "      <td>18.0</td>\n",
       "    </tr>\n",
       "    <tr>\n",
       "      <td>25</td>\n",
       "      <td>15.0</td>\n",
       "      <td>17.333</td>\n",
       "      <td>1.676</td>\n",
       "      <td>15.0</td>\n",
       "      <td>16.00</td>\n",
       "      <td>17.0</td>\n",
       "      <td>19.00</td>\n",
       "      <td>20.0</td>\n",
       "    </tr>\n",
       "    <tr>\n",
       "      <td>26</td>\n",
       "      <td>32.0</td>\n",
       "      <td>18.000</td>\n",
       "      <td>1.191</td>\n",
       "      <td>16.0</td>\n",
       "      <td>17.75</td>\n",
       "      <td>18.0</td>\n",
       "      <td>19.00</td>\n",
       "      <td>21.0</td>\n",
       "    </tr>\n",
       "    <tr>\n",
       "      <td>27</td>\n",
       "      <td>14.0</td>\n",
       "      <td>19.214</td>\n",
       "      <td>1.188</td>\n",
       "      <td>17.0</td>\n",
       "      <td>18.25</td>\n",
       "      <td>19.0</td>\n",
       "      <td>20.00</td>\n",
       "      <td>21.0</td>\n",
       "    </tr>\n",
       "    <tr>\n",
       "      <td>28</td>\n",
       "      <td>7.0</td>\n",
       "      <td>19.286</td>\n",
       "      <td>0.756</td>\n",
       "      <td>18.0</td>\n",
       "      <td>19.00</td>\n",
       "      <td>19.0</td>\n",
       "      <td>20.00</td>\n",
       "      <td>20.0</td>\n",
       "    </tr>\n",
       "    <tr>\n",
       "      <td>29</td>\n",
       "      <td>22.0</td>\n",
       "      <td>20.636</td>\n",
       "      <td>1.293</td>\n",
       "      <td>18.0</td>\n",
       "      <td>21.00</td>\n",
       "      <td>21.0</td>\n",
       "      <td>21.00</td>\n",
       "      <td>23.0</td>\n",
       "    </tr>\n",
       "    <tr>\n",
       "      <td>30</td>\n",
       "      <td>4.0</td>\n",
       "      <td>22.000</td>\n",
       "      <td>1.414</td>\n",
       "      <td>21.0</td>\n",
       "      <td>21.00</td>\n",
       "      <td>21.5</td>\n",
       "      <td>22.50</td>\n",
       "      <td>24.0</td>\n",
       "    </tr>\n",
       "    <tr>\n",
       "      <td>31</td>\n",
       "      <td>7.0</td>\n",
       "      <td>21.286</td>\n",
       "      <td>0.951</td>\n",
       "      <td>20.0</td>\n",
       "      <td>21.00</td>\n",
       "      <td>21.0</td>\n",
       "      <td>21.50</td>\n",
       "      <td>23.0</td>\n",
       "    </tr>\n",
       "    <tr>\n",
       "      <td>32</td>\n",
       "      <td>4.0</td>\n",
       "      <td>24.000</td>\n",
       "      <td>0.816</td>\n",
       "      <td>23.0</td>\n",
       "      <td>23.75</td>\n",
       "      <td>24.0</td>\n",
       "      <td>24.25</td>\n",
       "      <td>25.0</td>\n",
       "    </tr>\n",
       "    <tr>\n",
       "      <td>33</td>\n",
       "      <td>2.0</td>\n",
       "      <td>26.000</td>\n",
       "      <td>2.828</td>\n",
       "      <td>24.0</td>\n",
       "      <td>25.00</td>\n",
       "      <td>26.0</td>\n",
       "      <td>27.00</td>\n",
       "      <td>28.0</td>\n",
       "    </tr>\n",
       "    <tr>\n",
       "      <td>34</td>\n",
       "      <td>1.0</td>\n",
       "      <td>26.000</td>\n",
       "      <td>NaN</td>\n",
       "      <td>26.0</td>\n",
       "      <td>26.00</td>\n",
       "      <td>26.0</td>\n",
       "      <td>26.00</td>\n",
       "      <td>26.0</td>\n",
       "    </tr>\n",
       "    <tr>\n",
       "      <td>35</td>\n",
       "      <td>2.0</td>\n",
       "      <td>26.000</td>\n",
       "      <td>0.000</td>\n",
       "      <td>26.0</td>\n",
       "      <td>26.00</td>\n",
       "      <td>26.0</td>\n",
       "      <td>26.00</td>\n",
       "      <td>26.0</td>\n",
       "    </tr>\n",
       "    <tr>\n",
       "      <td>36</td>\n",
       "      <td>2.0</td>\n",
       "      <td>24.500</td>\n",
       "      <td>0.707</td>\n",
       "      <td>24.0</td>\n",
       "      <td>24.25</td>\n",
       "      <td>24.5</td>\n",
       "      <td>24.75</td>\n",
       "      <td>25.0</td>\n",
       "    </tr>\n",
       "    <tr>\n",
       "      <td>37</td>\n",
       "      <td>1.0</td>\n",
       "      <td>28.000</td>\n",
       "      <td>NaN</td>\n",
       "      <td>28.0</td>\n",
       "      <td>28.00</td>\n",
       "      <td>28.0</td>\n",
       "      <td>28.00</td>\n",
       "      <td>28.0</td>\n",
       "    </tr>\n",
       "    <tr>\n",
       "      <td>41</td>\n",
       "      <td>1.0</td>\n",
       "      <td>29.000</td>\n",
       "      <td>NaN</td>\n",
       "      <td>29.0</td>\n",
       "      <td>29.00</td>\n",
       "      <td>29.0</td>\n",
       "      <td>29.00</td>\n",
       "      <td>29.0</td>\n",
       "    </tr>\n",
       "    <tr>\n",
       "      <td>44</td>\n",
       "      <td>2.0</td>\n",
       "      <td>34.000</td>\n",
       "      <td>1.414</td>\n",
       "      <td>33.0</td>\n",
       "      <td>33.50</td>\n",
       "      <td>34.0</td>\n",
       "      <td>34.50</td>\n",
       "      <td>35.0</td>\n",
       "    </tr>\n",
       "  </tbody>\n",
       "</table>\n",
       "</div>"
      ],
      "text/plain": [
       "                  mpg                                               \n",
       "                count    mean    std   min    25%   50%    75%   max\n",
       "highway_mileage                                                     \n",
       "12                5.0   9.000  0.000   9.0   9.00   9.0   9.00   9.0\n",
       "14                2.0  11.000  0.000  11.0  11.00  11.0  11.00  11.0\n",
       "15               10.0  11.000  0.000  11.0  11.00  11.0  11.00  11.0\n",
       "16                7.0  11.857  0.900  11.0  11.00  12.0  12.50  13.0\n",
       "17               31.0  13.161  1.186  11.0  13.00  13.0  14.00  15.0\n",
       "18               10.0  12.800  1.033  12.0  12.00  12.5  13.00  15.0\n",
       "19               13.0  14.077  0.862  13.0  13.00  14.0  15.00  15.0\n",
       "20               11.0  15.000  0.894  14.0  14.00  15.0  16.00  16.0\n",
       "21                2.0  15.000  0.000  15.0  15.00  15.0  15.00  15.0\n",
       "22                7.0  15.857  0.900  15.0  15.00  16.0  16.50  17.0\n",
       "23                7.0  16.000  1.000  15.0  15.50  16.0  16.00  18.0\n",
       "24               13.0  16.692  0.947  15.0  16.00  17.0  17.00  18.0\n",
       "25               15.0  17.333  1.676  15.0  16.00  17.0  19.00  20.0\n",
       "26               32.0  18.000  1.191  16.0  17.75  18.0  19.00  21.0\n",
       "27               14.0  19.214  1.188  17.0  18.25  19.0  20.00  21.0\n",
       "28                7.0  19.286  0.756  18.0  19.00  19.0  20.00  20.0\n",
       "29               22.0  20.636  1.293  18.0  21.00  21.0  21.00  23.0\n",
       "30                4.0  22.000  1.414  21.0  21.00  21.5  22.50  24.0\n",
       "31                7.0  21.286  0.951  20.0  21.00  21.0  21.50  23.0\n",
       "32                4.0  24.000  0.816  23.0  23.75  24.0  24.25  25.0\n",
       "33                2.0  26.000  2.828  24.0  25.00  26.0  27.00  28.0\n",
       "34                1.0  26.000    NaN  26.0  26.00  26.0  26.00  26.0\n",
       "35                2.0  26.000  0.000  26.0  26.00  26.0  26.00  26.0\n",
       "36                2.0  24.500  0.707  24.0  24.25  24.5  24.75  25.0\n",
       "37                1.0  28.000    NaN  28.0  28.00  28.0  28.00  28.0\n",
       "41                1.0  29.000    NaN  29.0  29.00  29.0  29.00  29.0\n",
       "44                2.0  34.000  1.414  33.0  33.50  34.0  34.50  35.0"
      ]
     },
     "execution_count": 119,
     "metadata": {},
     "output_type": "execute_result"
    }
   ],
   "source": [
    "#p.25 [실습] 기술통계 -2\n",
    "ds_mycars = pd.read_csv(\"/home/pirl/Downloads/mycars.csv\", engine = \"python\")\n",
    "ds_mycars.head()\n",
    "df = ds_mycars[['highway_mileage','mpg']] #표의 x축과 기준\n",
    "df.groupby('highway_mileage').describe().round(3) #표의 y축\n"
   ]
  },
  {
   "cell_type": "code",
   "execution_count": 132,
   "metadata": {},
   "outputs": [
    {
     "name": "stdout",
     "output_type": "stream",
     "text": [
      "2-Sample t-test\n",
      "t:[-3.122]\n",
      "p:[0.003]\n"
     ]
    }
   ],
   "source": [
    "#p.146\n",
    "df1 = pd.DataFrame({'sample':[6,5,5,4,6,7,6,4,5,6,4,5,5,6,4,8,6,5,6,7]})\n",
    "df2 = pd.DataFrame({'sample':[7,5,7,8,7,8,8,5,7,6,5,5,6,6,5,7,9,7,7,8]})\n",
    "plot_data = (df1, df2)\n",
    "\n",
    "t_result = stats.ttest_ind(df1, df2)\n",
    "\n",
    "t, p = t_result.statistic.round(3), t_result.pvalue.round(3)\n",
    "\n",
    "print(\"2-Sample t-test\")\n",
    "print(\"t:{}\".format(t))\n",
    "print(\"p:{}\".format(p))\n",
    "#유의 수준 5%에서 검정 결과 P값이 0.003이므로 고객간에 고객 만족도의 차이가 있다."
   ]
  },
  {
   "cell_type": "code",
   "execution_count": 93,
   "metadata": {},
   "outputs": [
    {
     "data": {
      "image/png": "[encoded data removed]",
      "text/plain": [
       "<Figure size 432x288 with 1 Axes>"
      ]
     },
     "metadata": {
      "needs_background": "light"
     },
     "output_type": "display_data"
    }
   ],
   "source": [
    "#p.146 그래프\n",
    "df1 = [6,5,5,4,6,7,6,4,5,6,4,5,5,6,4,8,6,5,6,7]\n",
    "df2 = [7,5,7,8,7,8,8,5,7,6,5,5,6,6,5,7,9,7,7,8]\n",
    "plot_data = (df1, df2)\n",
    "ax = plt.boxplot(plot_data)\n",
    "plt.show()\n"
   ]
  },
  {
   "cell_type": "code",
   "execution_count": 96,
   "metadata": {},
   "outputs": [
    {
     "name": "stdout",
     "output_type": "stream",
     "text": [
      "Paired t-test\n",
      "t:[-5.324]\n",
      "p:[0.]\n"
     ]
    }
   ],
   "source": [
    "#p.149\n",
    "df1 = pd.DataFrame({'before':[720,589,780,648,720,589,780,648,780,648]})\n",
    "df2 = pd.DataFrame({'after':[810,670,790,712,810,670,790,712,790,712]})\n",
    "\n",
    "t_result = stats.ttest_rel(df1,df2)\n",
    "t,p = t_result.statistic.round(3), t_result.pvalue.round(3)\n",
    "\n",
    "print(\"Paired t-test\")\n",
    "print(\"t:{}\".format(t))\n",
    "print(\"p:{}\".format(p))"
   ]
  },
  {
   "cell_type": "code",
   "execution_count": 98,
   "metadata": {},
   "outputs": [
    {
     "name": "stdout",
     "output_type": "stream",
     "text": [
      "1 Proprotion test\n",
      "z: 1.400\n",
      "p:0.161\n"
     ]
    }
   ],
   "source": [
    "#p.155\n",
    "count = 15\n",
    "n_obs=100\n",
    "value=0.1\n",
    "\n",
    "stat,pval = proportions_ztest(count,n_obs,value)\n",
    "\n",
    "print(\"1 Proprotion test\")\n",
    "print('z: {0:0.3f}'.format(stat))\n",
    "print(\"p:{0:0.3f}\".format(pval))"
   ]
  },
  {
   "cell_type": "code",
   "execution_count": 101,
   "metadata": {},
   "outputs": [
    {
     "name": "stdout",
     "output_type": "stream",
     "text": [
      "2 Proprotion test\n",
      "z: 1.553\n",
      "p:0.120\n"
     ]
    }
   ],
   "source": [
    "#p.158\n",
    "count = np.array([4,1])\n",
    "nobs = np.array([1000,1200])\n",
    "\n",
    "stat, pval = proportions_ztest(count, nobs)\n",
    "\n",
    "print(\"2 Proprotion test\")\n",
    "print('z: {0:0.3f}'.format(stat))\n",
    "print(\"p:{0:0.3f}\".format(pval))"
   ]
  },
  {
   "cell_type": "code",
   "execution_count": 126,
   "metadata": {},
   "outputs": [
    {
     "name": "stdout",
     "output_type": "stream",
     "text": [
      "chi-squre test\n",
      "chisq: 11.187\n",
      "p: 0.083\n",
      "degree pf freedom: 6\n",
      "expected value:\n",
      "[[245.763 281.017 234.576 238.644]\n",
      " [245.763 281.017 234.576 238.644]\n",
      " [233.475 266.966 222.847 226.712]]\n"
     ]
    }
   ],
   "source": [
    "#p166\n",
    "df = pd.DataFrame({'HSG':[270,260,236,234],'SS':[228,285,225,262],'SPA':[227,284,231,208]})\n",
    "chi,pval,dof,expected = stats.chi2_contingency(df.T)\n",
    "\n",
    "print(\"chi-squre test\")\n",
    "print('chisq: {0:0.3f}'.format(chi))\n",
    "print('p: {0:0.3f}'.format(pval))\n",
    "print('degree pf freedom: {}'.format(dof))\n",
    "print('expected value:\\n{}'.format(expected.round(3)))"
   ]
  },
  {
   "cell_type": "code",
   "execution_count": 129,
   "metadata": {},
   "outputs": [
    {
     "name": "stdout",
     "output_type": "stream",
     "text": [
      "chi-squre test\n",
      "chisq: 98.274\n",
      "p: 0.000\n",
      "degree pf freedom: 30\n"
     ]
    }
   ],
   "source": [
    "#p168 [실습] 카이제곱 검정\n",
    "df = pd.DataFrame({'A':[18,1,8,7,10,9,10],'B':[8,2,14,5,5,9,4],'C':[4,1,3,4,9,5,4],'D':[4,1,2,3,2,7,3],'E':[3,1,3,1,1,1,1],'F':[3,25,8,10,2,1,7]})\n",
    "chi,pval,dof,expected = stats.chi2_contingency(df.T)\n",
    "\n",
    "print(\"chi-squre test\")\n",
    "print('chisq: {0:0.3f}'.format(chi))\n",
    "print('p: {0:0.3f}'.format(pval))\n",
    "print('degree pf freedom: {}'.format(dof))\n",
    "\n"
   ]
  },
  {
   "cell_type": "code",
   "execution_count": 1,
   "metadata": {},
   "outputs": [
    {
     "ename": "NameError",
     "evalue": "name 'pd' is not defined",
     "output_type": "error",
     "traceback": [
      "\u001b[0;31m---------------------------------------------------------------------------\u001b[0m",
      "\u001b[0;31mNameError\u001b[0m                                 Traceback (most recent call last)",
      "\u001b[0;32m<ipython-input-1-8c6c08e6f9a1>\u001b[0m in \u001b[0;36m<module>\u001b[0;34m\u001b[0m\n\u001b[1;32m      1\u001b[0m \u001b[0;31m#p.174\u001b[0m\u001b[0;34m\u001b[0m\u001b[0;34m\u001b[0m\u001b[0;34m\u001b[0m\u001b[0m\n\u001b[0;32m----> 2\u001b[0;31m df = pd.DataFrame({'A':[892,623,721,678,723,790,720,670,690,771],\n\u001b[0m\u001b[1;32m      3\u001b[0m                    \u001b[0;34m'B'\u001b[0m\u001b[0;34m:\u001b[0m\u001b[0;34m[\u001b[0m\u001b[0;36m721\u001b[0m\u001b[0;34m,\u001b[0m\u001b[0;36m821\u001b[0m\u001b[0;34m,\u001b[0m\u001b[0;36m910\u001b[0m\u001b[0;34m,\u001b[0m\u001b[0;36m678\u001b[0m\u001b[0;34m,\u001b[0m\u001b[0;36m723\u001b[0m\u001b[0;34m,\u001b[0m\u001b[0;36m790\u001b[0m\u001b[0;34m,\u001b[0m\u001b[0;36m711\u001b[0m\u001b[0;34m,\u001b[0m\u001b[0;36m790\u001b[0m\u001b[0;34m,\u001b[0m\u001b[0;36m745\u001b[0m\u001b[0;34m,\u001b[0m\u001b[0;36m891\u001b[0m\u001b[0;34m]\u001b[0m\u001b[0;34m,\u001b[0m\u001b[0;34m\u001b[0m\u001b[0;34m\u001b[0m\u001b[0m\n\u001b[1;32m      4\u001b[0m                    'C':[621,915,888,721,894,834,841,912,845,889]})\n\u001b[1;32m      5\u001b[0m \u001b[0;34m\u001b[0m\u001b[0m\n",
      "\u001b[0;31mNameError\u001b[0m: name 'pd' is not defined"
     ]
    }
   ],
   "source": [
    "#p.174\n",
    "df = pd.DataFrame({'A':[892,623,721,678,723,790,720,670,690,771],\n",
    "                   'B':[721,821,910,678,723,790,711,790,745,891],\n",
    "                   'C':[621,915,888,721,894,834,841,912,845,889]})\n",
    "\n",
    "df.boxplot(['A','B','C'])\n"
   ]
  },
  {
   "cell_type": "code",
   "execution_count": null,
   "metadata": {},
   "outputs": [],
   "source": []
  }
 ],
 "metadata": {
  "kernelspec": {
   "display_name": "Python 3",
   "language": "python",
   "name": "python3"
  },
  "language_info": {
   "codemirror_mode": {
    "name": "ipython",
    "version": 3
   },
   "file_extension": ".py",
   "mimetype": "text/x-python",
   "name": "python",
   "nbconvert_exporter": "python",
   "pygments_lexer": "ipython3",
   "version": "3.7.4"
  }
 },
 "nbformat": 4,
 "nbformat_minor": 2
}
