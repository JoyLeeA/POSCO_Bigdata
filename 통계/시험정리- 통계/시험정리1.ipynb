{
 "cells": [
  {
   "cell_type": "code",
   "execution_count": 2,
   "metadata": {},
   "outputs": [],
   "source": [
    "#필요 모듈 호출\n",
    "import numpy as np #행렬 연산 패키지\n",
    "from scipy import stats #과학 계산 패키지\n",
    "import scipy.stats #통계 분석 패키지\n",
    "import pandas as pd #데이터 패키지\n",
    "import statsmodels.api as sm #통계 분석 패키지\n",
    "import matplotlib.pyplot as plt #데이터 시각화 패키지\n",
    "import seaborn as sns #데이터 시각화 패키지\n",
    "from statsmodels.stats.proportion import proportions_ztest\n",
    "import matplotlib\n",
    "from numpy.random import rand\n",
    "\n",
    "\n",
    "#주피터 노트북 내 그래프를 바로 그리기 위한 설정\n",
    "%matplotlib inline\n",
    "#한글 폰트 (맑은 고딕) 적용\n",
    "matplotlib.rc('font',family='Malgun Gothic')"
   ]
  },
  {
   "cell_type": "markdown",
   "metadata": {},
   "source": [
    "# p.25 [실습] 기술통계 -1"
   ]
  },
  {
   "cell_type": "code",
   "execution_count": 3,
   "metadata": {},
   "outputs": [
    {
     "data": {
      "text/html": [
       "<div>\n",
       "<style scoped>\n",
       "    .dataframe tbody tr th:only-of-type {\n",
       "        vertical-align: middle;\n",
       "    }\n",
       "\n",
       "    .dataframe tbody tr th {\n",
       "        vertical-align: top;\n",
       "    }\n",
       "\n",
       "    .dataframe thead tr th {\n",
       "        text-align: left;\n",
       "    }\n",
       "\n",
       "    .dataframe thead tr:last-of-type th {\n",
       "        text-align: right;\n",
       "    }\n",
       "</style>\n",
       "<table border=\"1\" class=\"dataframe\">\n",
       "  <thead>\n",
       "    <tr>\n",
       "      <th></th>\n",
       "      <th colspan=\"8\" halign=\"left\">mpg</th>\n",
       "    </tr>\n",
       "    <tr>\n",
       "      <th></th>\n",
       "      <th>count</th>\n",
       "      <th>mean</th>\n",
       "      <th>std</th>\n",
       "      <th>min</th>\n",
       "      <th>25%</th>\n",
       "      <th>50%</th>\n",
       "      <th>75%</th>\n",
       "      <th>max</th>\n",
       "    </tr>\n",
       "    <tr>\n",
       "      <th>automatic</th>\n",
       "      <th></th>\n",
       "      <th></th>\n",
       "      <th></th>\n",
       "      <th></th>\n",
       "      <th></th>\n",
       "      <th></th>\n",
       "      <th></th>\n",
       "      <th></th>\n",
       "    </tr>\n",
       "  </thead>\n",
       "  <tbody>\n",
       "    <tr>\n",
       "      <th>auto</th>\n",
       "      <td>157.0</td>\n",
       "      <td>15.968</td>\n",
       "      <td>3.849</td>\n",
       "      <td>9.0</td>\n",
       "      <td>13.0</td>\n",
       "      <td>16.0</td>\n",
       "      <td>18.0</td>\n",
       "      <td>29.0</td>\n",
       "    </tr>\n",
       "    <tr>\n",
       "      <th>manual</th>\n",
       "      <td>77.0</td>\n",
       "      <td>18.675</td>\n",
       "      <td>4.488</td>\n",
       "      <td>9.0</td>\n",
       "      <td>15.0</td>\n",
       "      <td>18.0</td>\n",
       "      <td>21.0</td>\n",
       "      <td>35.0</td>\n",
       "    </tr>\n",
       "  </tbody>\n",
       "</table>\n",
       "</div>"
      ],
      "text/plain": [
       "             mpg                                            \n",
       "           count    mean    std  min   25%   50%   75%   max\n",
       "automatic                                                   \n",
       "auto       157.0  15.968  3.849  9.0  13.0  16.0  18.0  29.0\n",
       "manual      77.0  18.675  4.488  9.0  15.0  18.0  21.0  35.0"
      ]
     },
     "execution_count": 3,
     "metadata": {},
     "output_type": "execute_result"
    }
   ],
   "source": [
    "#자동차 연비 Data Set에서 기술통계치 구하기\n",
    "#시내에서 연비(mpg) 통계치 구하기: 구동방식, 평균, 중앙값, 표준편차, min, max, Q1, Q3\n",
    "#연비 통계치 구하기: 구동 방식별 데이터 수, 평균, 중앙값, 표준편차, min, max, Q1, Q3\n",
    "ds_mycars = pd.read_csv(\"/home/pirl/Downloads/mycars.csv\", engine = \"python\") #파일 불러오기\n",
    "ds_mycars.head() #파일 제대로 불려 왔는지 확인\n",
    "df = ds_mycars[['automatic','mpg']] #표의 x축과 기준을 구동방식과 연비로 설정\n",
    "df.groupby('automatic').describe().round(3) #표의 y축을 구동방식으로 설정\n",
    "\n",
    "#파이썬을 이용하여 쉽고 간편하게 평균, 중앙 값, 데이터 수등 다양한 정보를 구할 수 있었다.\n",
    "#파일을 불러와서 원하는대로 가공하는 법에 대해서 익힐 수 있었다."
   ]
  },
  {
   "cell_type": "markdown",
   "metadata": {},
   "source": [
    "# p.25 [실습] 기술통계 -2"
   ]
  },
  {
   "cell_type": "code",
   "execution_count": 4,
   "metadata": {},
   "outputs": [
    {
     "data": {
      "text/html": [
       "<div>\n",
       "<style scoped>\n",
       "    .dataframe tbody tr th:only-of-type {\n",
       "        vertical-align: middle;\n",
       "    }\n",
       "\n",
       "    .dataframe tbody tr th {\n",
       "        vertical-align: top;\n",
       "    }\n",
       "\n",
       "    .dataframe thead tr th {\n",
       "        text-align: left;\n",
       "    }\n",
       "\n",
       "    .dataframe thead tr:last-of-type th {\n",
       "        text-align: right;\n",
       "    }\n",
       "</style>\n",
       "<table border=\"1\" class=\"dataframe\">\n",
       "  <thead>\n",
       "    <tr>\n",
       "      <th></th>\n",
       "      <th colspan=\"8\" halign=\"left\">mpg</th>\n",
       "    </tr>\n",
       "    <tr>\n",
       "      <th></th>\n",
       "      <th>count</th>\n",
       "      <th>mean</th>\n",
       "      <th>std</th>\n",
       "      <th>min</th>\n",
       "      <th>25%</th>\n",
       "      <th>50%</th>\n",
       "      <th>75%</th>\n",
       "      <th>max</th>\n",
       "    </tr>\n",
       "    <tr>\n",
       "      <th>highway_mileage</th>\n",
       "      <th></th>\n",
       "      <th></th>\n",
       "      <th></th>\n",
       "      <th></th>\n",
       "      <th></th>\n",
       "      <th></th>\n",
       "      <th></th>\n",
       "      <th></th>\n",
       "    </tr>\n",
       "  </thead>\n",
       "  <tbody>\n",
       "    <tr>\n",
       "      <th>12</th>\n",
       "      <td>5.0</td>\n",
       "      <td>9.000</td>\n",
       "      <td>0.000</td>\n",
       "      <td>9.0</td>\n",
       "      <td>9.00</td>\n",
       "      <td>9.0</td>\n",
       "      <td>9.00</td>\n",
       "      <td>9.0</td>\n",
       "    </tr>\n",
       "    <tr>\n",
       "      <th>14</th>\n",
       "      <td>2.0</td>\n",
       "      <td>11.000</td>\n",
       "      <td>0.000</td>\n",
       "      <td>11.0</td>\n",
       "      <td>11.00</td>\n",
       "      <td>11.0</td>\n",
       "      <td>11.00</td>\n",
       "      <td>11.0</td>\n",
       "    </tr>\n",
       "    <tr>\n",
       "      <th>15</th>\n",
       "      <td>10.0</td>\n",
       "      <td>11.000</td>\n",
       "      <td>0.000</td>\n",
       "      <td>11.0</td>\n",
       "      <td>11.00</td>\n",
       "      <td>11.0</td>\n",
       "      <td>11.00</td>\n",
       "      <td>11.0</td>\n",
       "    </tr>\n",
       "    <tr>\n",
       "      <th>16</th>\n",
       "      <td>7.0</td>\n",
       "      <td>11.857</td>\n",
       "      <td>0.900</td>\n",
       "      <td>11.0</td>\n",
       "      <td>11.00</td>\n",
       "      <td>12.0</td>\n",
       "      <td>12.50</td>\n",
       "      <td>13.0</td>\n",
       "    </tr>\n",
       "    <tr>\n",
       "      <th>17</th>\n",
       "      <td>31.0</td>\n",
       "      <td>13.161</td>\n",
       "      <td>1.186</td>\n",
       "      <td>11.0</td>\n",
       "      <td>13.00</td>\n",
       "      <td>13.0</td>\n",
       "      <td>14.00</td>\n",
       "      <td>15.0</td>\n",
       "    </tr>\n",
       "    <tr>\n",
       "      <th>18</th>\n",
       "      <td>10.0</td>\n",
       "      <td>12.800</td>\n",
       "      <td>1.033</td>\n",
       "      <td>12.0</td>\n",
       "      <td>12.00</td>\n",
       "      <td>12.5</td>\n",
       "      <td>13.00</td>\n",
       "      <td>15.0</td>\n",
       "    </tr>\n",
       "    <tr>\n",
       "      <th>19</th>\n",
       "      <td>13.0</td>\n",
       "      <td>14.077</td>\n",
       "      <td>0.862</td>\n",
       "      <td>13.0</td>\n",
       "      <td>13.00</td>\n",
       "      <td>14.0</td>\n",
       "      <td>15.00</td>\n",
       "      <td>15.0</td>\n",
       "    </tr>\n",
       "    <tr>\n",
       "      <th>20</th>\n",
       "      <td>11.0</td>\n",
       "      <td>15.000</td>\n",
       "      <td>0.894</td>\n",
       "      <td>14.0</td>\n",
       "      <td>14.00</td>\n",
       "      <td>15.0</td>\n",
       "      <td>16.00</td>\n",
       "      <td>16.0</td>\n",
       "    </tr>\n",
       "    <tr>\n",
       "      <th>21</th>\n",
       "      <td>2.0</td>\n",
       "      <td>15.000</td>\n",
       "      <td>0.000</td>\n",
       "      <td>15.0</td>\n",
       "      <td>15.00</td>\n",
       "      <td>15.0</td>\n",
       "      <td>15.00</td>\n",
       "      <td>15.0</td>\n",
       "    </tr>\n",
       "    <tr>\n",
       "      <th>22</th>\n",
       "      <td>7.0</td>\n",
       "      <td>15.857</td>\n",
       "      <td>0.900</td>\n",
       "      <td>15.0</td>\n",
       "      <td>15.00</td>\n",
       "      <td>16.0</td>\n",
       "      <td>16.50</td>\n",
       "      <td>17.0</td>\n",
       "    </tr>\n",
       "    <tr>\n",
       "      <th>23</th>\n",
       "      <td>7.0</td>\n",
       "      <td>16.000</td>\n",
       "      <td>1.000</td>\n",
       "      <td>15.0</td>\n",
       "      <td>15.50</td>\n",
       "      <td>16.0</td>\n",
       "      <td>16.00</td>\n",
       "      <td>18.0</td>\n",
       "    </tr>\n",
       "    <tr>\n",
       "      <th>24</th>\n",
       "      <td>13.0</td>\n",
       "      <td>16.692</td>\n",
       "      <td>0.947</td>\n",
       "      <td>15.0</td>\n",
       "      <td>16.00</td>\n",
       "      <td>17.0</td>\n",
       "      <td>17.00</td>\n",
       "      <td>18.0</td>\n",
       "    </tr>\n",
       "    <tr>\n",
       "      <th>25</th>\n",
       "      <td>15.0</td>\n",
       "      <td>17.333</td>\n",
       "      <td>1.676</td>\n",
       "      <td>15.0</td>\n",
       "      <td>16.00</td>\n",
       "      <td>17.0</td>\n",
       "      <td>19.00</td>\n",
       "      <td>20.0</td>\n",
       "    </tr>\n",
       "    <tr>\n",
       "      <th>26</th>\n",
       "      <td>32.0</td>\n",
       "      <td>18.000</td>\n",
       "      <td>1.191</td>\n",
       "      <td>16.0</td>\n",
       "      <td>17.75</td>\n",
       "      <td>18.0</td>\n",
       "      <td>19.00</td>\n",
       "      <td>21.0</td>\n",
       "    </tr>\n",
       "    <tr>\n",
       "      <th>27</th>\n",
       "      <td>14.0</td>\n",
       "      <td>19.214</td>\n",
       "      <td>1.188</td>\n",
       "      <td>17.0</td>\n",
       "      <td>18.25</td>\n",
       "      <td>19.0</td>\n",
       "      <td>20.00</td>\n",
       "      <td>21.0</td>\n",
       "    </tr>\n",
       "    <tr>\n",
       "      <th>28</th>\n",
       "      <td>7.0</td>\n",
       "      <td>19.286</td>\n",
       "      <td>0.756</td>\n",
       "      <td>18.0</td>\n",
       "      <td>19.00</td>\n",
       "      <td>19.0</td>\n",
       "      <td>20.00</td>\n",
       "      <td>20.0</td>\n",
       "    </tr>\n",
       "    <tr>\n",
       "      <th>29</th>\n",
       "      <td>22.0</td>\n",
       "      <td>20.636</td>\n",
       "      <td>1.293</td>\n",
       "      <td>18.0</td>\n",
       "      <td>21.00</td>\n",
       "      <td>21.0</td>\n",
       "      <td>21.00</td>\n",
       "      <td>23.0</td>\n",
       "    </tr>\n",
       "    <tr>\n",
       "      <th>30</th>\n",
       "      <td>4.0</td>\n",
       "      <td>22.000</td>\n",
       "      <td>1.414</td>\n",
       "      <td>21.0</td>\n",
       "      <td>21.00</td>\n",
       "      <td>21.5</td>\n",
       "      <td>22.50</td>\n",
       "      <td>24.0</td>\n",
       "    </tr>\n",
       "    <tr>\n",
       "      <th>31</th>\n",
       "      <td>7.0</td>\n",
       "      <td>21.286</td>\n",
       "      <td>0.951</td>\n",
       "      <td>20.0</td>\n",
       "      <td>21.00</td>\n",
       "      <td>21.0</td>\n",
       "      <td>21.50</td>\n",
       "      <td>23.0</td>\n",
       "    </tr>\n",
       "    <tr>\n",
       "      <th>32</th>\n",
       "      <td>4.0</td>\n",
       "      <td>24.000</td>\n",
       "      <td>0.816</td>\n",
       "      <td>23.0</td>\n",
       "      <td>23.75</td>\n",
       "      <td>24.0</td>\n",
       "      <td>24.25</td>\n",
       "      <td>25.0</td>\n",
       "    </tr>\n",
       "    <tr>\n",
       "      <th>33</th>\n",
       "      <td>2.0</td>\n",
       "      <td>26.000</td>\n",
       "      <td>2.828</td>\n",
       "      <td>24.0</td>\n",
       "      <td>25.00</td>\n",
       "      <td>26.0</td>\n",
       "      <td>27.00</td>\n",
       "      <td>28.0</td>\n",
       "    </tr>\n",
       "    <tr>\n",
       "      <th>34</th>\n",
       "      <td>1.0</td>\n",
       "      <td>26.000</td>\n",
       "      <td>NaN</td>\n",
       "      <td>26.0</td>\n",
       "      <td>26.00</td>\n",
       "      <td>26.0</td>\n",
       "      <td>26.00</td>\n",
       "      <td>26.0</td>\n",
       "    </tr>\n",
       "    <tr>\n",
       "      <th>35</th>\n",
       "      <td>2.0</td>\n",
       "      <td>26.000</td>\n",
       "      <td>0.000</td>\n",
       "      <td>26.0</td>\n",
       "      <td>26.00</td>\n",
       "      <td>26.0</td>\n",
       "      <td>26.00</td>\n",
       "      <td>26.0</td>\n",
       "    </tr>\n",
       "    <tr>\n",
       "      <th>36</th>\n",
       "      <td>2.0</td>\n",
       "      <td>24.500</td>\n",
       "      <td>0.707</td>\n",
       "      <td>24.0</td>\n",
       "      <td>24.25</td>\n",
       "      <td>24.5</td>\n",
       "      <td>24.75</td>\n",
       "      <td>25.0</td>\n",
       "    </tr>\n",
       "    <tr>\n",
       "      <th>37</th>\n",
       "      <td>1.0</td>\n",
       "      <td>28.000</td>\n",
       "      <td>NaN</td>\n",
       "      <td>28.0</td>\n",
       "      <td>28.00</td>\n",
       "      <td>28.0</td>\n",
       "      <td>28.00</td>\n",
       "      <td>28.0</td>\n",
       "    </tr>\n",
       "    <tr>\n",
       "      <th>41</th>\n",
       "      <td>1.0</td>\n",
       "      <td>29.000</td>\n",
       "      <td>NaN</td>\n",
       "      <td>29.0</td>\n",
       "      <td>29.00</td>\n",
       "      <td>29.0</td>\n",
       "      <td>29.00</td>\n",
       "      <td>29.0</td>\n",
       "    </tr>\n",
       "    <tr>\n",
       "      <th>44</th>\n",
       "      <td>2.0</td>\n",
       "      <td>34.000</td>\n",
       "      <td>1.414</td>\n",
       "      <td>33.0</td>\n",
       "      <td>33.50</td>\n",
       "      <td>34.0</td>\n",
       "      <td>34.50</td>\n",
       "      <td>35.0</td>\n",
       "    </tr>\n",
       "  </tbody>\n",
       "</table>\n",
       "</div>"
      ],
      "text/plain": [
       "                  mpg                                               \n",
       "                count    mean    std   min    25%   50%    75%   max\n",
       "highway_mileage                                                     \n",
       "12                5.0   9.000  0.000   9.0   9.00   9.0   9.00   9.0\n",
       "14                2.0  11.000  0.000  11.0  11.00  11.0  11.00  11.0\n",
       "15               10.0  11.000  0.000  11.0  11.00  11.0  11.00  11.0\n",
       "16                7.0  11.857  0.900  11.0  11.00  12.0  12.50  13.0\n",
       "17               31.0  13.161  1.186  11.0  13.00  13.0  14.00  15.0\n",
       "18               10.0  12.800  1.033  12.0  12.00  12.5  13.00  15.0\n",
       "19               13.0  14.077  0.862  13.0  13.00  14.0  15.00  15.0\n",
       "20               11.0  15.000  0.894  14.0  14.00  15.0  16.00  16.0\n",
       "21                2.0  15.000  0.000  15.0  15.00  15.0  15.00  15.0\n",
       "22                7.0  15.857  0.900  15.0  15.00  16.0  16.50  17.0\n",
       "23                7.0  16.000  1.000  15.0  15.50  16.0  16.00  18.0\n",
       "24               13.0  16.692  0.947  15.0  16.00  17.0  17.00  18.0\n",
       "25               15.0  17.333  1.676  15.0  16.00  17.0  19.00  20.0\n",
       "26               32.0  18.000  1.191  16.0  17.75  18.0  19.00  21.0\n",
       "27               14.0  19.214  1.188  17.0  18.25  19.0  20.00  21.0\n",
       "28                7.0  19.286  0.756  18.0  19.00  19.0  20.00  20.0\n",
       "29               22.0  20.636  1.293  18.0  21.00  21.0  21.00  23.0\n",
       "30                4.0  22.000  1.414  21.0  21.00  21.5  22.50  24.0\n",
       "31                7.0  21.286  0.951  20.0  21.00  21.0  21.50  23.0\n",
       "32                4.0  24.000  0.816  23.0  23.75  24.0  24.25  25.0\n",
       "33                2.0  26.000  2.828  24.0  25.00  26.0  27.00  28.0\n",
       "34                1.0  26.000    NaN  26.0  26.00  26.0  26.00  26.0\n",
       "35                2.0  26.000  0.000  26.0  26.00  26.0  26.00  26.0\n",
       "36                2.0  24.500  0.707  24.0  24.25  24.5  24.75  25.0\n",
       "37                1.0  28.000    NaN  28.0  28.00  28.0  28.00  28.0\n",
       "41                1.0  29.000    NaN  29.0  29.00  29.0  29.00  29.0\n",
       "44                2.0  34.000  1.414  33.0  33.50  34.0  34.50  35.0"
      ]
     },
     "execution_count": 4,
     "metadata": {},
     "output_type": "execute_result"
    }
   ],
   "source": [
    "#제품의 품질을 조사하여, 제품별 결함과 결함이 발생한 기간을 조사한 Table입니다. 범주형 데이터에 대해, counts, percents,\n",
    "#cumulative counts, cumulative percents계산 바랍니다.\n",
    "ds_mycars = pd.read_csv(\"/home/pirl/Downloads/mycars.csv\", engine = \"python\") #파일 불러오기\n",
    "ds_mycars.head() #파일 제대로 불려 왔는지 확인\n",
    "df = ds_mycars[['highway_mileage','mpg']] #표의 x축과 기준을 고속도로와 연비로 설정\n",
    "df.groupby('highway_mileage').describe().round(3) #표의 y축을 고속도로로 설정\n",
    "\n",
    "#파이썬을 이용하여 쉽고 간편하게 평균, 중앙 값, 데이터 수등 다양한 정보를 구할 수 있었다.\n",
    "#파일을 불러와서 원하는대로 가공하는 법에 대해서 익힐 수 있었다."
   ]
  },
  {
   "cell_type": "markdown",
   "metadata": {},
   "source": [
    "# p.40 정규분포 이해하기"
   ]
  },
  {
   "cell_type": "code",
   "execution_count": 5,
   "metadata": {},
   "outputs": [
    {
     "data": {
      "text/plain": [
       "<matplotlib.axes._subplots.AxesSubplot at 0x7f3d9640d550>"
      ]
     },
     "execution_count": 5,
     "metadata": {},
     "output_type": "execute_result"
    },
    {
     "name": "stderr",
     "output_type": "stream",
     "text": [
      "findfont: Font family ['Malgun Gothic'] not found. Falling back to DejaVu Sans.\n"
     ]
    },
    {
     "data": {
      "image/png": "[encoded data removed]",
      "text/plain": [
       "<Figure size 432x288 with 1 Axes>"
      ]
     },
     "metadata": {
      "needs_background": "light"
     },
     "output_type": "display_data"
    }
   ],
   "source": [
    "#Random Data생성: n = 100,000, x bar = 20, Standard Deviation = 2\n",
    "#seed 선택을 하여 매번 실행 시 동일 한 값이 나오도록 설정\n",
    "np.random.seed(seed=1234)\n",
    "\n",
    "#평균:20, 표준편차:2, 데이터 수: 100,000의 정규분포로 따르는 데이터 생성\n",
    "normal = np.random.normal(20,2,100000)\n",
    "\n",
    "sns.distplot(normal)"
   ]
  },
  {
   "cell_type": "markdown",
   "metadata": {},
   "source": [
    "# p.41 [실습] 정규분포 그리기"
   ]
  },
  {
   "cell_type": "code",
   "execution_count": 6,
   "metadata": {},
   "outputs": [
    {
     "data": {
      "text/plain": [
       "<matplotlib.axes._subplots.AxesSubplot at 0x7f3d96327f10>"
      ]
     },
     "execution_count": 6,
     "metadata": {},
     "output_type": "execute_result"
    },
    {
     "data": {
      "image/png": "[encoded data removed]",
      "text/plain": [
       "<Figure size 432x288 with 1 Axes>"
      ]
     },
     "metadata": {
      "needs_background": "light"
     },
     "output_type": "display_data"
    }
   ],
   "source": [
    "#Random Data생성: n = 100,000, x bar = 20, Standard Deviation = 2\n",
    "normal2 = np.random.normal(30,2.5,100000)\n",
    "sns.distplot(normal2)\n",
    "\n",
    "#데이터 수를 10만개, 평균을 30, 표준 편차를 2.5로 잡은 정규분포이다\n",
    "#정규 분포는 가운데(평균)을 기준으로 양옆으로 동일하다는 것을 인식하게 되었다."
   ]
  },
  {
   "cell_type": "markdown",
   "metadata": {},
   "source": [
    "# p.44 정규분포 확률계산"
   ]
  },
  {
   "cell_type": "code",
   "execution_count": 52,
   "metadata": {},
   "outputs": [
    {
     "name": "stdout",
     "output_type": "stream",
     "text": [
      "35분 이상 걸리는 A/S 작업 비율:10.6%\n"
     ]
    }
   ],
   "source": [
    "#A/S 작업을 수행하는데 걸리는 시간을 츩정해 본 결과 평균 115분, 표준편차 20분이 소요된다는 것을 알았음.\n",
    "#만일 A/S 작업시간의 허용범위가 135분 이내라면 135분 이상 걸리는 A/S작업 비율은 어느 정도 일까요?\n",
    "mu = 10\n",
    "sigma = 20\n",
    "x = 35\n",
    "prob = stats.norm.cdf(x, mu, sigma)\n",
    "print(\"{0}분 이상 걸리는 A/S 작업 비율:{1:.1f}%\".format(x,(1-prob)*100))"
   ]
  },
  {
   "cell_type": "markdown",
   "metadata": {},
   "source": [
    "# p.45 정규분포 확률계산"
   ]
  },
  {
   "cell_type": "code",
   "execution_count": 8,
   "metadata": {},
   "outputs": [
    {
     "name": "stdout",
     "output_type": "stream",
     "text": [
      "나의 키가 180cm 이상일 경우에 나는 15.9%범위에 위치\n"
     ]
    }
   ],
   "source": [
    "#대한민국 남성의 20~30대 키를 측정한 결과, 평균 175cm, 표준편차 5cm이다.\n",
    "#나의 키가 180cm일 경우에 나는 몇 %범위에 위치할까요?\n",
    "mu = 175\n",
    "sigma = 5\n",
    "x = 180\n",
    "prob = stats.norm.cdf(x, mu, sigma)\n",
    "print(\"나의 키가 {0}cm 이상일 경우에 나는 {1:.1f}%범위에 위치\".format(x,(1-prob)*100))"
   ]
  },
  {
   "cell_type": "markdown",
   "metadata": {},
   "source": [
    "# p.46 정규분포 확률계산"
   ]
  },
  {
   "cell_type": "code",
   "execution_count": 9,
   "metadata": {},
   "outputs": [
    {
     "name": "stdout",
     "output_type": "stream",
     "text": [
      "12km 이상 15km 이하를 달릴 확률은:34.1%에 해당함\n"
     ]
    }
   ],
   "source": [
    "#어떤 자동차 1리터당 주행거리가 평균 12km, 표준편차 3km인 정규분포를 이룬다고하자. \n",
    "#1리터를 가지고 12km이상 15km이하를 달릴 확률은 얼마인가요?\n",
    "mu = 12\n",
    "sigma = 3\n",
    "x = 15\n",
    "prob = stats.norm.cdf(x, mu, sigma)\n",
    "print(\"{0}km 이상 {1}km 이하를 달릴 확률은:{2:.1f}%에 해당함\".format(mu,x,(prob-0.5)*100))"
   ]
  },
  {
   "cell_type": "markdown",
   "metadata": {},
   "source": [
    "# p.47 정규분포 확률계산"
   ]
  },
  {
   "cell_type": "code",
   "execution_count": 10,
   "metadata": {},
   "outputs": [
    {
     "name": "stdout",
     "output_type": "stream",
     "text": [
      "9km 이상 15km 이하를 달릴 확률은:68.3%에 해당함\n"
     ]
    }
   ],
   "source": [
    "#어떤 자동차 1리터당 주행거리가 평균 12km, 표준편차 3km인 정규분포를 이룬다.\n",
    "#1) 1리터를 가지고 9km이상 15km이하를 달릴 확률은 얼마인가요?\n",
    "#2) 1리터를 가지고 15km이상을 달릴 확률은 얼마인가요?\n",
    "mu = 12\n",
    "sigma = 3\n",
    "x = 15\n",
    "x1 = 9\n",
    "prob = stats.norm.cdf(x, mu, sigma)\n",
    "prob1 = stats.norm.cdf(x1, mu, sigma)\n",
    "print(\"{0}km 이상 {1}km 이하를 달릴 확률은:{2:.1f}%에 해당함\".format(x1,x,(prob-prob1)*100))\n",
    "\n",
    "#평균이 12, 표준편차가 3인 정규 분포에서 9부터 12에 해당하는 넓이가 답이다.\n",
    "#구하고자 하는 오른쪽 끝 부분의 넓이에서 왼쪽 끝 부분의 넓이를 제거하면 가운데 값을 얻어낼 수 있음을 알게되었다."
   ]
  },
  {
   "cell_type": "markdown",
   "metadata": {},
   "source": [
    "# p.53 표준정규분포 그리기"
   ]
  },
  {
   "cell_type": "code",
   "execution_count": 11,
   "metadata": {},
   "outputs": [
    {
     "data": {
      "text/plain": [
       "array([ 0.471, -1.191,  1.433, ...,  0.029, -1.221,  0.384])"
      ]
     },
     "execution_count": 11,
     "metadata": {},
     "output_type": "execute_result"
    },
    {
     "data": {
      "image/png": "[encoded data removed]",
      "text/plain": [
       "<Figure size 432x288 with 1 Axes>"
      ]
     },
     "metadata": {
      "needs_background": "light"
     },
     "output_type": "display_data"
    }
   ],
   "source": [
    "#Random Data 생성: n =100000, x bar = 0, Standard Deviation = 1\n",
    "np.random.seed(1234)\n",
    "#평균: 0, 표준편차:1, 데이터 수: 100,000의 정규분포를 따르는 데이터 생성\n",
    "normal = np.random.normal(0,1,100000)\n",
    "#histogram\n",
    "sns.distplot(normal)\n",
    "\n",
    "#데이터 확인, 소수점3\n",
    "normal.round(3)"
   ]
  },
  {
   "cell_type": "markdown",
   "metadata": {},
   "source": [
    "# p.57 표준정규분포 그리기"
   ]
  },
  {
   "cell_type": "code",
   "execution_count": 12,
   "metadata": {},
   "outputs": [
    {
     "data": {
      "text/plain": [
       "<matplotlib.axes._subplots.AxesSubplot at 0x7f3d95858a50>"
      ]
     },
     "execution_count": 12,
     "metadata": {},
     "output_type": "execute_result"
    },
    {
     "data": {
      "image/png": "[encoded data removed]",
      "text/plain": [
       "<Figure size 432x288 with 1 Axes>"
      ]
     },
     "metadata": {
      "needs_background": "light"
     },
     "output_type": "display_data"
    }
   ],
   "source": [
    "#Random Data생성: n = 100,000, xbar=0, Standard Deviation =1\n",
    "np.random.seed(1234)\n",
    "t_df29 = np.random.standard_t(df=29, size=1000)\n",
    "sns.distplot(t_df29,fit=stats.norm,kde=False)"
   ]
  },
  {
   "cell_type": "markdown",
   "metadata": {},
   "source": [
    "# p.58 실습 T분포"
   ]
  },
  {
   "cell_type": "code",
   "execution_count": 13,
   "metadata": {},
   "outputs": [
    {
     "data": {
      "text/plain": [
       "<matplotlib.axes._subplots.AxesSubplot at 0x7f3d95832d50>"
      ]
     },
     "execution_count": 13,
     "metadata": {},
     "output_type": "execute_result"
    },
    {
     "data": {
      "image/png": "[encoded data removed]",
      "text/plain": [
       "<Figure size 432x288 with 1 Axes>"
      ]
     },
     "metadata": {
      "needs_background": "light"
     },
     "output_type": "display_data"
    }
   ],
   "source": [
    "#Random Data생성: n = 100,000, degree of freedom = 5\n",
    "#Random Data생성: n = 100,000, degree of freedom = 50\n",
    "np.random.seed(1234)\n",
    "t_df5 = np.random.standard_t(df=5, size=10000)\n",
    "sns.distplot(t_df5,fit=stats.norm,kde=False)"
   ]
  },
  {
   "cell_type": "markdown",
   "metadata": {},
   "source": [
    "# p.59 T분포"
   ]
  },
  {
   "cell_type": "code",
   "execution_count": 14,
   "metadata": {},
   "outputs": [
    {
     "name": "stdout",
     "output_type": "stream",
     "text": [
      "P(T<=):0.907\n"
     ]
    }
   ],
   "source": [
    "#확률변수 t는 자유도가 5인 t-분포를 따른다.\n",
    "#t값이 1.53일 때, P(T<=t)을 계산하시오.\n",
    "t = 1.53\n",
    "df = 5\n",
    "prob=stats.t.cdf(t,df)\n",
    "print(\"P(T<=):{:.3f}\".format(prob))\n",
    "\n"
   ]
  },
  {
   "cell_type": "markdown",
   "metadata": {},
   "source": []
  },
  {
   "cell_type": "markdown",
   "metadata": {},
   "source": [
    "# p.60 T분포"
   ]
  },
  {
   "cell_type": "code",
   "execution_count": 15,
   "metadata": {},
   "outputs": [
    {
     "name": "stdout",
     "output_type": "stream",
     "text": [
      "P(T<=):0.976\n"
     ]
    }
   ],
   "source": [
    "#확률변수 t는 자유도가 100인 t-분포를 따른다.\n",
    "#t값이 2.0일 때, P(T<=t)을 계산하시오.\n",
    "t = 2.0\n",
    "df = 100\n",
    "prob=stats.t.cdf(t,df)\n",
    "print(\"P(T<=):{:.3f}\".format(prob))"
   ]
  },
  {
   "cell_type": "markdown",
   "metadata": {},
   "source": [
    "# p.62 카이제곱 분포"
   ]
  },
  {
   "cell_type": "code",
   "execution_count": 16,
   "metadata": {},
   "outputs": [
    {
     "data": {
      "text/plain": [
       "<matplotlib.axes._subplots.AxesSubplot at 0x7f3d946aa9d0>"
      ]
     },
     "execution_count": 16,
     "metadata": {},
     "output_type": "execute_result"
    },
    {
     "data": {
      "image/png": "[encoded data removed]",
      "text/plain": [
       "<Figure size 432x288 with 1 Axes>"
      ]
     },
     "metadata": {
      "needs_background": "light"
     },
     "output_type": "display_data"
    }
   ],
   "source": [
    "#Random Data생성: n = 100,000, degree of freedom = 5\n",
    "#Random Data생성: n = 100,000, degree of freedom = 5\n",
    "np.random.seed(seed=1234)\n",
    "chisq_df10 = np.random.chisquare(df = 10, size = 1000)\n",
    "sns.distplot(chisq_df10,fit=stats.norm,kde=False)"
   ]
  },
  {
   "cell_type": "markdown",
   "metadata": {},
   "source": [
    "# p.63 카이제곱 분포"
   ]
  },
  {
   "cell_type": "code",
   "execution_count": 17,
   "metadata": {},
   "outputs": [
    {
     "data": {
      "text/plain": [
       "<matplotlib.axes._subplots.AxesSubplot at 0x7f3d945db8d0>"
      ]
     },
     "execution_count": 17,
     "metadata": {},
     "output_type": "execute_result"
    },
    {
     "data": {
      "image/png": "[encoded data removed]",
      "text/plain": [
       "<Figure size 432x288 with 1 Axes>"
      ]
     },
     "metadata": {
      "needs_background": "light"
     },
     "output_type": "display_data"
    }
   ],
   "source": [
    "#p\n",
    "np.random.seed(seed=1234)\n",
    "chisq_df40 = np.random.chisquare(df = 40, size = 1000)\n",
    "sns.distplot(chisq_df40,fit=stats.norm,kde=False)"
   ]
  },
  {
   "cell_type": "markdown",
   "metadata": {},
   "source": [
    "# p.64"
   ]
  },
  {
   "cell_type": "code",
   "execution_count": 18,
   "metadata": {},
   "outputs": [
    {
     "data": {
      "text/plain": [
       "<matplotlib.axes._subplots.AxesSubplot at 0x7f3d944f79d0>"
      ]
     },
     "execution_count": 18,
     "metadata": {},
     "output_type": "execute_result"
    },
    {
     "data": {
      "image/png": "[encoded data removed]",
      "text/plain": [
       "<Figure size 432x288 with 1 Axes>"
      ]
     },
     "metadata": {
      "needs_background": "light"
     },
     "output_type": "display_data"
    }
   ],
   "source": [
    "#p.64\n",
    "np.random.seed(seed=1234)\n",
    "chisq_df3 = np.random.chisquare(df = 3, size = 1000)\n",
    "sns.distplot(chisq_df3,fit=stats.norm,kde=False)"
   ]
  },
  {
   "cell_type": "markdown",
   "metadata": {},
   "source": [
    "# p.65"
   ]
  },
  {
   "cell_type": "code",
   "execution_count": 19,
   "metadata": {},
   "outputs": [
    {
     "name": "stdout",
     "output_type": "stream",
     "text": [
      "P(X<=10):0.0002\n"
     ]
    }
   ],
   "source": [
    "#p.65\n",
    "chisq = 10\n",
    "df = 30\n",
    "prob = stats.chi2.cdf(chisq, df)\n",
    "print(\"P(X<={0}):{1:.4f}\".format(chisq,prob))"
   ]
  },
  {
   "cell_type": "markdown",
   "metadata": {},
   "source": [
    "# p.66"
   ]
  },
  {
   "cell_type": "code",
   "execution_count": null,
   "metadata": {},
   "outputs": [],
   "source": [
    "#p.66\n",
    "chisq = 3.0\n",
    "df = 8\n",
    "prob = stats.chi2.cdf(chisq, df)\n",
    "print(\"P(X<={0}):{1:.4f}\".format(chisq,prob))"
   ]
  },
  {
   "cell_type": "markdown",
   "metadata": {},
   "source": []
  },
  {
   "cell_type": "markdown",
   "metadata": {},
   "source": [
    "# p.69"
   ]
  },
  {
   "cell_type": "code",
   "execution_count": null,
   "metadata": {},
   "outputs": [],
   "source": [
    "#p.69\n",
    "np.random.seed(seed=1234)\n",
    "F_df10_10 = np.random.f(dfnum=10, dfden=10, size=1000)\n",
    "sns.distplot(F_df10_10, fit = stats.norm, kde = False)"
   ]
  },
  {
   "cell_type": "markdown",
   "metadata": {},
   "source": [
    "# p.70"
   ]
  },
  {
   "cell_type": "code",
   "execution_count": null,
   "metadata": {},
   "outputs": [],
   "source": [
    "#p.70\n",
    "np.random.seed(seed=1234)\n",
    "F_df10_10 = np.random.f(dfnum=100, dfden=100, size=1000)\n",
    "sns.distplot(F_df10_10, fit = stats.norm, kde = False)"
   ]
  },
  {
   "cell_type": "markdown",
   "metadata": {},
   "source": [
    "# p.71"
   ]
  },
  {
   "cell_type": "code",
   "execution_count": null,
   "metadata": {},
   "outputs": [],
   "source": [
    "#p.71 [실습] F-분포-2\n",
    "np.random.seed(seed=1234)\n",
    "F_df10_50 = np.random.f(dfnum=10, dfden=50, size=100)\n",
    "sns.distplot(F_df10_50, fit = stats.norm, kde = False)\n",
    "\n",
    "#분자 자유도10, 분모 자유도50, 데이터 백개로 구성된 F분포이다.\n",
    "#실제로, 분모의 자유도가 증가하여, 기존보다 정규분표 형태에 가까워졌다.\n",
    "#이로서, 자유도이 상승이 곧 정규분포 형태로의 전환이라는 사실을 인식하게 되었다."
   ]
  },
  {
   "cell_type": "markdown",
   "metadata": {},
   "source": [
    "# p.72"
   ]
  },
  {
   "cell_type": "code",
   "execution_count": null,
   "metadata": {},
   "outputs": [],
   "source": [
    "#p.72\n",
    "f = 2.0\n",
    "dfnum = 15\n",
    "dfden = 15\n",
    "\n",
    "prob = stats.f.cdf(x=f, dfn = dfnum, dfd = dfden)\n",
    "print(\"P(X<=):{:.3f}\".format(prob))\n",
    "#F분포표에 의하면"
   ]
  },
  {
   "cell_type": "markdown",
   "metadata": {},
   "source": [
    "# p.73"
   ]
  },
  {
   "cell_type": "code",
   "execution_count": null,
   "metadata": {},
   "outputs": [],
   "source": [
    "#p.73 [실습] F-분포\n",
    "f = 1.5\n",
    "dfnum = 10\n",
    "dfden = 100\n",
    "\n",
    "prob = stats.f.cdf(x=f, dfn = dfnum, dfd = dfden)\n",
    "print(\"P(X<=):{:.2f}\".format(prob))\n",
    "\n",
    "#기존 F-분포 값을 구하기 위해서는 F분포표에서 두개의 자유도와 F값을 고려하여 값 산출이 필요하였다.\n",
    "#파이썬을 이용하니 결과를 구하는 시간이 큰 폭으로 줄어들었다.\n",
    "#종형의 대칭분포가 아니다."
   ]
  },
  {
   "cell_type": "markdown",
   "metadata": {},
   "source": [
    "# p.76"
   ]
  },
  {
   "cell_type": "code",
   "execution_count": null,
   "metadata": {},
   "outputs": [],
   "source": [
    "#p.76\n",
    "x = 1500\n",
    "alpha = 2.2\n",
    "beta = 1200\n",
    "prob = stats.weibull_min.cdf(x,alpha,scale = beta)\n",
    "print(\"P(X<=x):{:.3f}\".format(1-prob))"
   ]
  },
  {
   "cell_type": "markdown",
   "metadata": {},
   "source": [
    "# p.77"
   ]
  },
  {
   "cell_type": "code",
   "execution_count": null,
   "metadata": {},
   "outputs": [],
   "source": [
    "#p.77 [실습] Weibull분포\n",
    "x = 2500\n",
    "alpha = 5.2\n",
    "beta = 2200\n",
    "prob = stats.weibull_min.cdf(x,alpha,scale = beta)\n",
    "print(\"P(X<=x):{:.3f}\".format(1-prob))\n",
    "\n",
    "#신뢰성 문제에 적용되는 분포이다.\n",
    "#x와 형상모수, 척도모수를 전부 고려해야하므로 상당히 복잡한 분포이다.\n",
    "#이상 작동해야 하므로, 오른쪽에 있는 넓이를 구해야하므로 전체에서 나머지 부분을 빼주었다."
   ]
  },
  {
   "cell_type": "markdown",
   "metadata": {},
   "source": [
    "# p.82"
   ]
  },
  {
   "cell_type": "code",
   "execution_count": null,
   "metadata": {},
   "outputs": [],
   "source": [
    "#p.82\n",
    "n = 3\n",
    "for i in range(n+1):\n",
    "    prob = stats.binom.pmf(k = i, n = n, p = 0.4)\n",
    "    print(\"P(X={0})={1:.3f}\".format(i, prob))"
   ]
  },
  {
   "cell_type": "markdown",
   "metadata": {},
   "source": [
    "# p.84"
   ]
  },
  {
   "cell_type": "code",
   "execution_count": 34,
   "metadata": {},
   "outputs": [
    {
     "name": "stdout",
     "output_type": "stream",
     "text": [
      "P(X=0)=0.774\n",
      "P(X=1)=0.204\n",
      "P(X=2)=0.021\n",
      "P(X=3)=0.001\n",
      "P(X=4)=0.000\n",
      "P(X=5)=0.000\n"
     ]
    }
   ],
   "source": [
    "#p.84 [실습] 이항분포\n",
    "n = 5\n",
    "for i in range(n+1):\n",
    "    prob = stats.binom.pmf(k = i, n = n, p = 0.05)\n",
    "    print(\"P(X={0})={1:.3f}\".format(i, prob))\n",
    "    \n",
    "#특정한 횟수의 성공을 알고자 할때 사용하는 분포이다.\n",
    "#5대의 차량을 선택해야 하므로, n에 5를주고, 불량 대수는 0대부터 5대까지 나올 수 있으므로 range에는 n+1을준다.\n",
    "#확률p(0.3)에 의거하여 불량대수 x가 나올 확률을 구한다.\n",
    "#불량대수 확률이 30%이므로, 상식적으로 생각했을때 1대가 나오는 것이 이상적이다."
   ]
  },
  {
   "cell_type": "markdown",
   "metadata": {},
   "source": [
    "# p.86"
   ]
  },
  {
   "cell_type": "code",
   "execution_count": 36,
   "metadata": {},
   "outputs": [
    {
     "name": "stdout",
     "output_type": "stream",
     "text": [
      "1분당 3번의 전화가 걸려올 확률:18.0\n",
      "1분당 최대 2회 이하의 전화가 걸려올 확률:67.7\n"
     ]
    }
   ],
   "source": [
    "#p.86\n",
    "mu = 2\n",
    "prob = stats.poisson.pmf(3,mu)\n",
    "cdf_prob = stats.poisson.cdf(2,mu)\n",
    "print(\"1분당 {0}번의 전화가 걸려올 확률:{1:.1f}\".format(3,prob*100))\n",
    "print(\"1분당 최대 {0}회 이하의 전화가 걸려올 확률:{1:.1f}\".format(2,cdf_prob*100))"
   ]
  },
  {
   "cell_type": "markdown",
   "metadata": {},
   "source": [
    "# p.87"
   ]
  },
  {
   "cell_type": "code",
   "execution_count": 35,
   "metadata": {},
   "outputs": [
    {
     "name": "stdout",
     "output_type": "stream",
     "text": [
      "2명의 손님이 도착할 확률:22.4\n",
      "1명 이하의 손님이 도착할 확률:19.9\n",
      "3명 이상의 손님이 도착할 확률:35.3\n"
     ]
    }
   ],
   "source": [
    "#p.87 [실습] 포아송분포\n",
    "mu = 3\n",
    "prob_1 = stats.poisson.pmf(2,mu)\n",
    "prob_2 = stats.poisson.cdf(1,mu)\n",
    "prob_3 = stats.poisson.cdf(3,mu)\n",
    "print(\"{0}명의 손님이 도착할 확률:{1:.1f}\".format(2,prob_1*100))\n",
    "print(\"{0}명 이하의 손님이 도착할 확률:{1:.1f}\".format(1,prob_2*100))\n",
    "print(\"{0}명 이상의 손님이 도착할 확률:{1:.1f}\".format(3,(1-prob_3)*100))\n",
    "\n",
    "#일정 단위에서 발생한 성공 횟수를 알기 위해 사용하는 분포이다.\n",
    "#평균 1시간에 3명씩 손님이 도착한다. 따라서, 10시에서 11시 사이라는 조건은 큰 의미가 없다.\n",
    "#즉, 10시부터 11시 사이와 12시와 13시 사이에 발생할 사건의 확률이 동일하다는 의미이다.\n",
    "#평균 한시간에 3명의 손님이 오므로, mu에 3을 주었다.\n",
    "#2명의 손님이 도착해야 하므로 prob_1의 인자에 2를 주었다.\n",
    "#1명 이하의 손님이 도착해야 하므로 prob_2의 인자에 1을 주었다.\n",
    "#3명 이상의 손님이 도착해야하므로 prob_3의 인자에 3을 주고, 그것을 1에서 빼었다.\n",
    "#1에서 prob_3을 빼준 이유는, prob_3은 3명 이하의 손님이 도착할 확률이기 때문이다."
   ]
  },
  {
   "cell_type": "markdown",
   "metadata": {},
   "source": [
    "# p.104"
   ]
  },
  {
   "cell_type": "code",
   "execution_count": 38,
   "metadata": {},
   "outputs": [
    {
     "ename": "NameError",
     "evalue": "name 'shapiro' is not defined",
     "output_type": "error",
     "traceback": [
      "\u001b[0;31m---------------------------------------------------------------------------\u001b[0m",
      "\u001b[0;31mNameError\u001b[0m                                 Traceback (most recent call last)",
      "\u001b[0;32m<ipython-input-38-4b675f913b57>\u001b[0m in \u001b[0;36m<module>\u001b[0;34m\u001b[0m\n\u001b[1;32m      5\u001b[0m \u001b[0;34m\u001b[0m\u001b[0m\n\u001b[1;32m      6\u001b[0m \u001b[0mdata1\u001b[0m \u001b[0;34m=\u001b[0m \u001b[0mds_camshaft\u001b[0m\u001b[0;34m[\u001b[0m\u001b[0;34m'Supp1'\u001b[0m\u001b[0;34m]\u001b[0m\u001b[0;34m\u001b[0m\u001b[0;34m\u001b[0m\u001b[0m\n\u001b[0;32m----> 7\u001b[0;31m \u001b[0mshapiro\u001b[0m\u001b[0;34m(\u001b[0m\u001b[0mdata1\u001b[0m\u001b[0;34m)\u001b[0m\u001b[0;34m\u001b[0m\u001b[0;34m\u001b[0m\u001b[0m\n\u001b[0m",
      "\u001b[0;31mNameError\u001b[0m: name 'shapiro' is not defined"
     ]
    }
   ],
   "source": [
    "#실습파일 camshaft 데이터 불러온다.\n",
    "#변수 Supp1에 대해 정규성을 검정합니다.\n",
    "ds_camshaft = pd.read_csv(\"/home/pirl/Downloads/camshaft.csv\", engine = \"python\") #csv 파일 호출\n",
    "ds_camshaft.head()\n",
    "\n",
    "data1 = ds_camshaft['Supp1']\n",
    "shapiro(data1)"
   ]
  },
  {
   "cell_type": "markdown",
   "metadata": {},
   "source": [
    "# p.105"
   ]
  },
  {
   "cell_type": "code",
   "execution_count": 39,
   "metadata": {},
   "outputs": [
    {
     "ename": "NameError",
     "evalue": "name 'shapiro' is not defined",
     "output_type": "error",
     "traceback": [
      "\u001b[0;31m---------------------------------------------------------------------------\u001b[0m",
      "\u001b[0;31mNameError\u001b[0m                                 Traceback (most recent call last)",
      "\u001b[0;32m<ipython-input-39-398a9f88134c>\u001b[0m in \u001b[0;36m<module>\u001b[0;34m\u001b[0m\n\u001b[1;32m      5\u001b[0m \u001b[0mdata1\u001b[0m \u001b[0;34m=\u001b[0m \u001b[0mds_camshaft\u001b[0m\u001b[0;34m[\u001b[0m\u001b[0;34m'Mat_A'\u001b[0m\u001b[0;34m]\u001b[0m\u001b[0;34m\u001b[0m\u001b[0;34m\u001b[0m\u001b[0m\n\u001b[1;32m      6\u001b[0m \u001b[0mdata2\u001b[0m \u001b[0;34m=\u001b[0m \u001b[0mds_camshaft\u001b[0m\u001b[0;34m[\u001b[0m\u001b[0;34m'Mat_B'\u001b[0m\u001b[0;34m]\u001b[0m\u001b[0;34m\u001b[0m\u001b[0;34m\u001b[0m\u001b[0m\n\u001b[0;32m----> 7\u001b[0;31m \u001b[0mprint\u001b[0m\u001b[0;34m(\u001b[0m\u001b[0mshapiro\u001b[0m\u001b[0;34m(\u001b[0m\u001b[0mdata1\u001b[0m\u001b[0;34m)\u001b[0m\u001b[0;34m)\u001b[0m\u001b[0;34m\u001b[0m\u001b[0;34m\u001b[0m\u001b[0m\n\u001b[0m\u001b[1;32m      8\u001b[0m \u001b[0mprint\u001b[0m\u001b[0;34m(\u001b[0m\u001b[0mshapiro\u001b[0m\u001b[0;34m(\u001b[0m\u001b[0mdata2\u001b[0m\u001b[0;34m)\u001b[0m\u001b[0;34m)\u001b[0m\u001b[0;34m\u001b[0m\u001b[0;34m\u001b[0m\u001b[0m\n\u001b[1;32m      9\u001b[0m \u001b[0;31m#두 가지 경우 전부 p값이 0.05이상이 나왔다.\u001b[0m\u001b[0;34m\u001b[0m\u001b[0;34m\u001b[0m\u001b[0;34m\u001b[0m\u001b[0m\n",
      "\u001b[0;31mNameError\u001b[0m: name 'shapiro' is not defined"
     ]
    }
   ],
   "source": [
    "#p.105 [실습] 정규성 검정\n",
    "ds_camshaft = pd.read_csv(\"/home/pirl/Downloads/2sample_t_test.csv\", engine = \"python\") #csv 파일 호출\n",
    "ds_camshaft.head() #파일 정상 출력 확인\n",
    "\n",
    "data1 = ds_camshaft['Mat_A']\n",
    "data2 = ds_camshaft['Mat_B']\n",
    "print(shapiro(data1))\n",
    "print(shapiro(data2))\n",
    "#두 가지 경우 전부 p값이 0.05이상이 나왔다.\n",
    "#두 가지 경우 모두 정규분포를 따른다는 것을 알 수 있다."
   ]
  },
  {
   "cell_type": "markdown",
   "metadata": {},
   "source": [
    "# p.107"
   ]
  },
  {
   "cell_type": "code",
   "execution_count": 40,
   "metadata": {},
   "outputs": [
    {
     "name": "stdout",
     "output_type": "stream",
     "text": [
      "신뢰구간: ([2.57],[2.82])\n"
     ]
    }
   ],
   "source": [
    "#p.107\n",
    "df = pd.DataFrame({\"sample\":[3.6,2.9,2.8,2.6,3.4,3.2,2.2,2.6,2.6,2.4,2.4,2.6,3.4,2.4,2.1,2.6,3.0,2.4,2.7,2.4,2.6,2.9,2.9,2.0,2.7,2.2,2.8,2.7,1.8,2.5,3.0,3.2,2.8,2.6,3.2,3.1,2.9,2.7,2.7,2.2]})\n",
    "df.head()\n",
    "\n",
    "lower,upper = stats.norm.interval(0.95,loc=np.mean(df),scale=0.397/np.sqrt(40))\n",
    "print(\"신뢰구간: ({0},{1})\".format(lower.round(2),upper.round(2)))"
   ]
  },
  {
   "cell_type": "markdown",
   "metadata": {},
   "source": [
    "# p.108"
   ]
  },
  {
   "cell_type": "code",
   "execution_count": 41,
   "metadata": {},
   "outputs": [
    {
     "name": "stdout",
     "output_type": "stream",
     "text": [
      "신뢰구간: ([17.83],[21.17])\n"
     ]
    }
   ],
   "source": [
    "#p.108 [실습] 모평균 구간추정_모표준편차를 아는 경우\n",
    "df = pd.DataFrame({\"sample\":[18, 18, 20, 21, 20, 23, 19, 18, 17, 21, 22, 20, 20, 21, 20, 19, 19, 18, 17, 19]})\n",
    "#데이터를 직접 df에 넣는다.\n",
    "df.head()\n",
    "#입력한 데이터의 헤드부분을 출력하여 정상 출력되는지 확인한다.\n",
    "lower,upper = stats.norm.interval(0.95,loc=np.mean(df),scale=3.8/np.sqrt(20))\n",
    "#95%의 신뢰수준, 평균값, 3.8의 모표준편차/루트n을 인자로 넣는다.\n",
    "print(\"신뢰구간: ({0},{1})\".format(lower.round(2),upper.round(2)))\n",
    "#신뢰수준 95%에서 모평균이 존재할 수 있는 범위가 17.83에서 21.17 사이이다.\n",
    "#모표준편차가 주어져서 따로 계산할 필요가 없어서 과제 수행이 용이했다."
   ]
  },
  {
   "cell_type": "markdown",
   "metadata": {},
   "source": [
    "# p.110"
   ]
  },
  {
   "cell_type": "code",
   "execution_count": 42,
   "metadata": {},
   "outputs": [
    {
     "name": "stdout",
     "output_type": "stream",
     "text": [
      "신뢰구간:([54.39],[55.33])\n"
     ]
    }
   ],
   "source": [
    "#p110\n",
    "df = pd.DataFrame({\"sample\":[54.1,53.3,56.1,55.7,54.0,54.1,54.5,57.1,55.2,53.8,54.1,54.1,56.1,55.0,55.9,56.0,54.9,54.3,53.9,55.0]})\n",
    "lower,upper = stats.t.interval(0.95,len(df)-1,loc=np.mean(df),scale=scipy.stats.sem(df))\n",
    "print(\"신뢰구간:({0},{1})\".format(lower.round(2),upper.round(2)))\n",
    "\n",
    "\n"
   ]
  },
  {
   "cell_type": "markdown",
   "metadata": {},
   "source": [
    "# p.111"
   ]
  },
  {
   "cell_type": "code",
   "execution_count": 43,
   "metadata": {},
   "outputs": [
    {
     "name": "stdout",
     "output_type": "stream",
     "text": [
      "신뢰구간:([70.6],[72.4])\n"
     ]
    }
   ],
   "source": [
    "#p.111 [실습] 모평균 추정_모표준편차를 모르는 경우\n",
    "df = pd.DataFrame({\"sample\":[73, 71, 74, 69, 70, 73, 70, 68, 75, 72, 70, 72, 73, 70, 70, 72, 71, 70, 75, 72]})\n",
    "#데이터를 직접 df에 넣는다.\n",
    "lower,upper = stats.t.interval(0.95,len(df)-1,loc=np.mean(df),scale=scipy.stats.sem(df))\n",
    "#95%의 신뢰수준, n-1, 평균, 모표준편차/루트n을 인자로 넣는다.\n",
    "print(\"신뢰구간:({0},{1})\".format(lower.round(2),upper.round(2)))\n",
    "#신뢰수준 95%에서 모평균이 존재할 수 있는 범위가 70.6에서 72.4 사이이다.\n",
    "#모표준편차가 주어지지 않아서 모표준편차를 따로 계산할 필요가 있어서 과제 수행이 보다 복잡했다."
   ]
  },
  {
   "cell_type": "markdown",
   "metadata": {},
   "source": [
    "# p.139"
   ]
  },
  {
   "cell_type": "code",
   "execution_count": 44,
   "metadata": {},
   "outputs": [
    {
     "name": "stdout",
     "output_type": "stream",
     "text": [
      "1-Sample t-test\n",
      "t 통계량: [0.864]\n",
      "p-value: [0.41]\n"
     ]
    }
   ],
   "source": [
    "#p.139\n",
    "df = pd.DataFrame({'sample':[74.5,81.2,73.8,82.0,76.3,75.7,80.2,72.6,77.9,82.8]})\n",
    "t_result = stats.ttest_1samp(df,76.7)\n",
    "\n",
    "t,p = t_result.statistic.round(3), t_result.pvalue.round(3)\n",
    "\n",
    "print(\"1-Sample t-test\")\n",
    "print(\"t 통계량: {}\".format(t))\n",
    "print(\"p-value: {}\".format(p))"
   ]
  },
  {
   "cell_type": "markdown",
   "metadata": {},
   "source": [
    "# p.140"
   ]
  },
  {
   "cell_type": "code",
   "execution_count": null,
   "metadata": {},
   "outputs": [],
   "source": [
    "#p.140 [실습] 평균 검정(모집단 표준편차를 모르는 경우)\n",
    "df = pd.DataFrame({'sample':[85.0,79.0,79.1,79.9,81.6,78.6,85.4,83.4,78.1,79.2]})\n",
    "t_result = stats.ttest_1samp(df,78.0)\n",
    "\n",
    "t,p = t_result.statistic.round(3), t_result.pvalue.round(3)\n",
    "\n",
    "print(\"1-Sample t-test\")\n",
    "print(\"t 통계량: {}\".format(t))\n",
    "print(\"p-value: {}\".format(p))\n",
    "#귀무가설: 개선활동이 만족도를 변화시키지 않았다.\n",
    "#대립가설: 개선활동이 만족도를 변화시켰다.\n",
    "#유의수준 5%에서 검정 결과 P값이 0.008이므로 개선활동이 만족도를 변화시켰다고 볼 수 있다.\n",
    "#즉, 개선활동을 채택했다."
   ]
  },
  {
   "cell_type": "markdown",
   "metadata": {},
   "source": [
    "# p.146"
   ]
  },
  {
   "cell_type": "code",
   "execution_count": null,
   "metadata": {},
   "outputs": [],
   "source": [
    "#p.146\n",
    "df1 = pd.DataFrame({'sample':[6,5,5,4,6,7,6,4,5,6,4,5,5,6,4,8,6,5,6,7]})\n",
    "df2 = pd.DataFrame({'sample':[7,5,7,8,7,8,8,5,7,6,5,5,6,6,5,7,9,7,7,8]})\n",
    "plot_data = (df1, df2)\n",
    "\n",
    "t_result = stats.ttest_ind(df1, df2)\n",
    "\n",
    "t, p = t_result.statistic.round(3), t_result.pvalue.round(3)\n",
    "\n",
    "print(\"2-Sample t-test\")\n",
    "print(\"t:{}\".format(t))\n",
    "print(\"p:{}\".format(p))\n",
    "#유의 수준 5%에서 검정 결과 P값이 0.003이므로 고객간에 고객 만족도의 차이가 있다."
   ]
  },
  {
   "cell_type": "code",
   "execution_count": null,
   "metadata": {},
   "outputs": [],
   "source": [
    "#p.146 그래프\n",
    "df1 = [6,5,5,4,6,7,6,4,5,6,4,5,5,6,4,8,6,5,6,7]\n",
    "df2 = [7,5,7,8,7,8,8,5,7,6,5,5,6,6,5,7,9,7,7,8]\n",
    "plot_data = (df1, df2)\n",
    "ax = plt.boxplot(plot_data)\n",
    "plt.show()"
   ]
  },
  {
   "cell_type": "markdown",
   "metadata": {},
   "source": [
    "# p.148"
   ]
  },
  {
   "cell_type": "code",
   "execution_count": 1,
   "metadata": {},
   "outputs": [
    {
     "ename": "NameError",
     "evalue": "name 'pd' is not defined",
     "output_type": "error",
     "traceback": [
      "\u001b[0;31m---------------------------------------------------------------------------\u001b[0m",
      "\u001b[0;31mNameError\u001b[0m                                 Traceback (most recent call last)",
      "\u001b[0;32m<ipython-input-1-956e22fd4e50>\u001b[0m in \u001b[0;36m<module>\u001b[0;34m\u001b[0m\n\u001b[1;32m      1\u001b[0m \u001b[0;31m#p.148 [실습] Sample t-test\u001b[0m\u001b[0;34m\u001b[0m\u001b[0;34m\u001b[0m\u001b[0;34m\u001b[0m\u001b[0m\n\u001b[0;32m----> 2\u001b[0;31m \u001b[0mdf1\u001b[0m \u001b[0;34m=\u001b[0m \u001b[0mpd\u001b[0m\u001b[0;34m.\u001b[0m\u001b[0mDataFrame\u001b[0m\u001b[0;34m(\u001b[0m\u001b[0;34m{\u001b[0m\u001b[0;34m'A'\u001b[0m\u001b[0;34m:\u001b[0m\u001b[0;34m[\u001b[0m\u001b[0;36m1.883\u001b[0m\u001b[0;34m,\u001b[0m\u001b[0;36m1.715\u001b[0m\u001b[0;34m,\u001b[0m\u001b[0;36m1.799\u001b[0m\u001b[0;34m,\u001b[0m\u001b[0;36m1.768\u001b[0m\u001b[0;34m,\u001b[0m\u001b[0;36m1.711\u001b[0m\u001b[0;34m,\u001b[0m\u001b[0;36m1.832\u001b[0m\u001b[0;34m,\u001b[0m\u001b[0;36m1.427\u001b[0m\u001b[0;34m,\u001b[0m\u001b[0;36m1.344\u001b[0m\u001b[0;34m]\u001b[0m\u001b[0;34m}\u001b[0m\u001b[0;34m)\u001b[0m \u001b[0;31m#A 공급자\u001b[0m\u001b[0;34m\u001b[0m\u001b[0;34m\u001b[0m\u001b[0m\n\u001b[0m\u001b[1;32m      3\u001b[0m \u001b[0mdf2\u001b[0m \u001b[0;34m=\u001b[0m \u001b[0mpd\u001b[0m\u001b[0;34m.\u001b[0m\u001b[0mDataFrame\u001b[0m\u001b[0;34m(\u001b[0m\u001b[0;34m{\u001b[0m\u001b[0;34m'B'\u001b[0m\u001b[0;34m:\u001b[0m\u001b[0;34m[\u001b[0m\u001b[0;36m1.435\u001b[0m\u001b[0;34m,\u001b[0m\u001b[0;36m1.572\u001b[0m\u001b[0;34m,\u001b[0m\u001b[0;36m1.486\u001b[0m\u001b[0;34m,\u001b[0m\u001b[0;36m1.511\u001b[0m\u001b[0;34m,\u001b[0m\u001b[0;36m1.457\u001b[0m\u001b[0;34m,\u001b[0m\u001b[0;36m1.548\u001b[0m\u001b[0;34m,\u001b[0m\u001b[0;36m1.404\u001b[0m\u001b[0;34m,\u001b[0m\u001b[0;36m1.883\u001b[0m\u001b[0;34m]\u001b[0m\u001b[0;34m}\u001b[0m\u001b[0;34m)\u001b[0m \u001b[0;31m#B 공급자\u001b[0m\u001b[0;34m\u001b[0m\u001b[0;34m\u001b[0m\u001b[0m\n\u001b[1;32m      4\u001b[0m \u001b[0mdf\u001b[0m\u001b[0;34m.\u001b[0m\u001b[0mboxplot\u001b[0m\u001b[0;34m(\u001b[0m\u001b[0;34m[\u001b[0m\u001b[0;34m'A'\u001b[0m\u001b[0;34m,\u001b[0m\u001b[0;34m'B'\u001b[0m\u001b[0;34m]\u001b[0m\u001b[0;34m)\u001b[0m \u001b[0;31m#그래프 그리기\u001b[0m\u001b[0;34m\u001b[0m\u001b[0;34m\u001b[0m\u001b[0m\n\u001b[1;32m      5\u001b[0m \u001b[0mplot_data\u001b[0m \u001b[0;34m=\u001b[0m \u001b[0;34m(\u001b[0m\u001b[0mdf1\u001b[0m\u001b[0;34m,\u001b[0m \u001b[0mdf2\u001b[0m\u001b[0;34m)\u001b[0m \u001b[0;31m#그래프 그리기\u001b[0m\u001b[0;34m\u001b[0m\u001b[0;34m\u001b[0m\u001b[0m\n",
      "\u001b[0;31mNameError\u001b[0m: name 'pd' is not defined"
     ]
    }
   ],
   "source": [
    "#p.148 [실습] Sample t-test\n",
    "df1 = pd.DataFrame({'A':[1.883,1.715,1.799,1.768,1.711,1.832,1.427,1.344]}) #A 공급자\n",
    "df2 = pd.DataFrame({'B':[1.435,1.572,1.486,1.511,1.457,1.548,1.404,1.883]}) #B 공급자\n",
    "df.boxplot(['A','B']) #그래프 그리기\n",
    "plot_data = (df1, df2) #그래프 그리기\n",
    "\n",
    "t_result = stats.ttest_ind(df1, df2) #Sample t-test 시행\n",
    "t, p = t_result.statistic.round(3), t_result.pvalue.round(3) #시행값 저장\n",
    "\n",
    "print(\"2-Sample t-test\")\n",
    "print(\"t:{}\".format(t))\n",
    "print(\"p:{}\".format(p))\n",
    "\n",
    "#그래프 그리기를 통해서, 데이터의 형태를 한눈으로 들여다 볼 수 있었다.\n",
    "#귀무가설: 공급자 간에 모평균에 차이가 없다.\n",
    "#대립가설: 공급자 간에 모평균에 차이가 있다.\n",
    "#유의수준 5%에서 검정 결과 P값이 0.111이므로 공급자가 간에 모평균에 차이가 없다고 볼 수 있다.\n",
    "#즉, 귀무가설을 채택했다.\n",
    "\n"
   ]
  },
  {
   "cell_type": "markdown",
   "metadata": {},
   "source": [
    "# p.149"
   ]
  },
  {
   "cell_type": "code",
   "execution_count": null,
   "metadata": {},
   "outputs": [],
   "source": [
    "#p.149\n",
    "df1 = pd.DataFrame({'before':[720,589,780,648,720,589,780,648,780,648]})\n",
    "df2 = pd.DataFrame({'after':[810,670,790,712,810,670,790,712,790,712]})\n",
    "\n",
    "t_result = stats.ttest_rel(df1,df2)\n",
    "t,p = t_result.statistic.round(3), t_result.pvalue.round(3)\n",
    "\n",
    "print(\"Paired t-test\")\n",
    "print(\"t:{}\".format(t))\n",
    "print(\"p:{}\".format(p))"
   ]
  },
  {
   "cell_type": "markdown",
   "metadata": {},
   "source": [
    "# p.151"
   ]
  },
  {
   "cell_type": "code",
   "execution_count": null,
   "metadata": {},
   "outputs": [],
   "source": [
    "#p.151 [실습] Paired t-test\n",
    "df1 = pd.DataFrame({'before':[720,589,780,648,720,589,780,648,780,648]}) #before 데이터 생성\n",
    "df2 = pd.DataFrame({'after':[710,580,787,712,750,600,782,670,790,680]})  #after 데이터 생성\n",
    "\n",
    "t_result = stats.ttest_rel(df1,df2) #Paired t-test 수행\n",
    "t,p = t_result.statistic.round(3), t_result.pvalue.round(3) #결과 값 저장\n",
    "\n",
    "print(\"Paired t-test\") #출력\n",
    "print(\"t:{}\".format(t))\n",
    "print(\"p:{}\".format(p))\n",
    "\n",
    "#귀무가설: 성적이 학원을 가기전과 차이가 없다.\n",
    "#대립가설: 성적이 학원을 가기전과 차이가 있다.\n",
    "#p값이 0.05이므로 p<=0.05는 성립한다. \n",
    "#따라서, 성적이 학원을 가기전과 차이가 있다고 볼 수 있다.\n",
    "#즉, 대립가설을 채택했다."
   ]
  },
  {
   "cell_type": "markdown",
   "metadata": {},
   "source": [
    "# p.155"
   ]
  },
  {
   "cell_type": "code",
   "execution_count": null,
   "metadata": {},
   "outputs": [],
   "source": [
    "#p.155\n",
    "count = 15\n",
    "n_obs=100\n",
    "value=0.1\n",
    "\n",
    "stat,pval = proportions_ztest(count,n_obs,value)\n",
    "\n",
    "print(\"1 Proprotion test\")\n",
    "print('z: {0:0.3f}'.format(stat))\n",
    "print(\"p:{0:0.3f}\".format(pval))"
   ]
  },
  {
   "cell_type": "markdown",
   "metadata": {},
   "source": [
    "# p.157"
   ]
  },
  {
   "cell_type": "code",
   "execution_count": 10,
   "metadata": {},
   "outputs": [
    {
     "name": "stdout",
     "output_type": "stream",
     "text": [
      "1 Proprotion test\n",
      "z: -2.041\n",
      "p:0.041\n"
     ]
    }
   ],
   "source": [
    "#p.157\n",
    "count = 40\n",
    "n_obs=100\n",
    "value=0.5\n",
    "\n",
    "stat,pval = proportions_ztest(count,n_obs,value)\n",
    "\n",
    "print(\"1 Proprotion test\")\n",
    "print('z: {0:0.3f}'.format(stat))\n",
    "print(\"p:{0:0.3f}\".format(pval))"
   ]
  },
  {
   "cell_type": "markdown",
   "metadata": {},
   "source": [
    "# p.158"
   ]
  },
  {
   "cell_type": "code",
   "execution_count": null,
   "metadata": {},
   "outputs": [],
   "source": [
    "#p.158\n",
    "count = np.array([4,1])\n",
    "nobs = np.array([1000,1200])\n",
    "\n",
    "stat, pval = proportions_ztest(count, nobs)\n",
    "\n",
    "print(\"2 Proprotion test\")\n",
    "print('z: {0:0.3f}'.format(stat))\n",
    "print(\"p:{0:0.3f}\".format(pval))"
   ]
  },
  {
   "cell_type": "markdown",
   "metadata": {},
   "source": [
    "# p.160"
   ]
  },
  {
   "cell_type": "code",
   "execution_count": null,
   "metadata": {},
   "outputs": [],
   "source": [
    "#p.160 [실습] Proprotion test\n",
    "count = np.array([14,5]) #공장 A와 B의 불량품 갯수를 저장\n",
    "nobs = np.array([1200,1200]) #공장 A와 B의 생산 갯수를 저장\n",
    "#즉, 공장A는 1200개중 불량품이 14개, 공장B는 1200개중 불량품이 5개라는 뜻이다.\n",
    "\n",
    "stat, pval = proportions_ztest(count, nobs) #Proportion test 실행\n",
    "\n",
    "print(\"2 Proprotion test\") #출력\n",
    "print('z: {0:0.3f}'.format(stat))\n",
    "print(\"p:{0:0.3f}\".format(pval))\n",
    "\n",
    "#귀무가설: 두 공정의 불량률에 차이가 없다.\n",
    "#대립가설: 두 공정의 불량률에 차이가 있다.\n",
    "#p값이 0.038이므로 p<0.05는 성립한다.\n",
    "#즉, 두 공정의 불량률에 차이가 있다고 볼 수 있다.\n",
    "#즉, 대립가설을 채택했다."
   ]
  },
  {
   "cell_type": "markdown",
   "metadata": {},
   "source": [
    "# p.166"
   ]
  },
  {
   "cell_type": "code",
   "execution_count": null,
   "metadata": {},
   "outputs": [],
   "source": [
    "#p166\n",
    "df = pd.DataFrame({'HSG':[270,260,236,234],'SS':[228,285,225,262],'SPA':[227,284,231,208]})\n",
    "chi,pval,dof,expected = stats.chi2_contingency(df.T)\n",
    "\n",
    "print(\"chi-squre test\")\n",
    "print('chisq: {0:0.3f}'.format(chi))\n",
    "print('p: {0:0.3f}'.format(pval))\n",
    "print('degree pf freedom: {}'.format(dof))\n",
    "print('expected value:\\n{}'.format(expected.round(3)))"
   ]
  },
  {
   "cell_type": "markdown",
   "metadata": {},
   "source": [
    "# p.168"
   ]
  },
  {
   "cell_type": "code",
   "execution_count": null,
   "metadata": {},
   "outputs": [],
   "source": [
    "#p168 [실습] 카이제곱 검정\n",
    "df = pd.DataFrame({'A':[18,1,8,7,10,9,10],'B':[8,2,14,5,5,9,4],'C':[4,1,3,4,9,5,4],'D':[4,1,2,3,2,7,3],'E':[3,1,3,1,1,1,1],'F':[3,25,8,10,2,1,7]})\n",
    "#데이터 입력\n",
    "chi,pval,dof,expected = stats.chi2_contingency(df.T) #chi-squre test실행\n",
    "\n",
    "print(\"chi-squre test\") #결과 출력\n",
    "print('chisq: {0:0.3f}'.format(chi))\n",
    "print('p: {0:0.3f}'.format(pval))\n",
    "print('degree pf freedom: {}'.format(dof))\n",
    "\n",
    "#귀무가설: 각 제품에 대한 이미지에 대해 차이가 없다.\n",
    "#대립가설: 각 제품에 대한 이미지에 대해 차이가 있다.\n",
    "#p값이 0이므로 p<0.05는 성립한다.\n",
    "#즉, 각 제품에 대한 이미지에 대해 차이가 있다고 볼 수 있다.\n",
    "#즉, 대립가설을 채택했다."
   ]
  },
  {
   "cell_type": "markdown",
   "metadata": {},
   "source": [
    "# p.174"
   ]
  },
  {
   "cell_type": "code",
   "execution_count": null,
   "metadata": {},
   "outputs": [],
   "source": [
    "#p.174\n",
    "df = pd.DataFrame({'A':[892,623,721,678,723,790,720,670,690,771],\n",
    "                   'B':[721,821,910,678,723,790,711,790,745,891],\n",
    "                   'C':[621,915,888,721,894,834,841,912,845,889]})\n",
    "\n",
    "df.boxplot(['A','B','C'])\n",
    "\n"
   ]
  },
  {
   "cell_type": "markdown",
   "metadata": {},
   "source": [
    "# p.176"
   ]
  },
  {
   "cell_type": "code",
   "execution_count": 48,
   "metadata": {},
   "outputs": [
    {
     "name": "stderr",
     "output_type": "stream",
     "text": [
      "findfont: Font family ['Malgun Gothic'] not found. Falling back to DejaVu Sans.\n"
     ]
    },
    {
     "name": "stdout",
     "output_type": "stream",
     "text": [
      "One-way\n",
      "F통계량:4.172\n",
      "p-value:0.019\n"
     ]
    },
    {
     "data": {
      "image/png": "[encoded data removed]",
      "text/plain": [
       "<Figure size 432x288 with 1 Axes>"
      ]
     },
     "metadata": {
      "needs_background": "light"
     },
     "output_type": "display_data"
    }
   ],
   "source": [
    "#p.176 [실습] One way ANOVA\n",
    "ds_anova = pd.read_csv(\"/home/pirl/Downloads/ANOVA.csv\", engine = \"python\") #데이터를 불러옴\n",
    "df = ds_anova[['time','gangjong']]\n",
    "df.boxplot(by = 'gangjong') #그래프 그리기(x축은 강종, y축은 시간을 갖음)\n",
    "\n",
    "a = df['time'][df.gangjong=='a'] # a강종의 시간을 변수 a에 저장\n",
    "b = df['time'][df.gangjong=='b'] # b강종의 시간을 변수 a에 저장\n",
    "c = df['time'][df.gangjong=='c'] # c강종의 시간을 변수 a에 저장\n",
    "d = df['time'][df.gangjong=='d'] # d강종의 시간을 변수 a에 저장\n",
    "\n",
    "f_result = stats.f_oneway(a, b, c, d) #ANOVA 실행\n",
    "f, p = f_result.statistic.round(3), f_result.pvalue.round(3) #결과값 저장\n",
    "print(\"One-way\") #출력\n",
    "print(\"F통계량:{}\".format(f))\n",
    "print(\"p-value:{}\".format(p))\n",
    "\n",
    "#귀무가설: 강종별 2차정련 시간에 차이가 없다.\n",
    "#대립가설: 강종별 2차정련 시간에 차이가 있다.\n",
    "#p값이 0.019이므로 p<0.05는 성립한다.\n",
    "#즉, 강종별 2차정련 시간에는 차이가 있다고 볼 수 있다.\n",
    "#즉, 대립가설을 채택했다."
   ]
  },
  {
   "cell_type": "markdown",
   "metadata": {},
   "source": [
    "# p.181"
   ]
  },
  {
   "cell_type": "code",
   "execution_count": 24,
   "metadata": {},
   "outputs": [
    {
     "name": "stdout",
     "output_type": "stream",
     "text": [
      "Correlation Analysis\n",
      "corr:0.989\n",
      "p-value : 0.000\n"
     ]
    }
   ],
   "source": [
    "#p181\n",
    "df1 = [1,2,3,4,4,5,6,6,7,8]\n",
    "df2 = [23,29,49,64,74,87,96,97,109,119]\n",
    "\n",
    "corr, pval = stats.pearsonr(df1, df2)\n",
    "\n",
    "print(\"Correlation Analysis\")\n",
    "print('corr:{0:0.3f}'.format(corr))\n",
    "print('p-value : {0:0.3f}'.format(pval))"
   ]
  },
  {
   "cell_type": "markdown",
   "metadata": {},
   "source": [
    "# p.183"
   ]
  },
  {
   "cell_type": "code",
   "execution_count": 20,
   "metadata": {},
   "outputs": [
    {
     "name": "stdout",
     "output_type": "stream",
     "text": [
      "Correlation Analysis\n",
      "corr:-0.723\n",
      "p-value : 0.000\n"
     ]
    }
   ],
   "source": [
    "#p.183 [실습] 상관분석\n",
    "df1 = [37.6, 38.6,37.2,36.4,38.6,39,37.2,36.1,35.9,37.1,36.9,37.5,36.3,38.1,39,36.9,36.8,37.6,33,33.5] #강도 값 입력\n",
    "df2 = [14,15,14,16,17,14,17,16,15,16,14,16,18,13,15,17,14,16,20,21] #온도 값 입력\n",
    "\n",
    "corr, pval = stats.pearsonr(df1, df2) #Correlation Analysis 실행 및 변수 저장\n",
    " \n",
    "print(\"Correlation Analysis\") #결과 출력\n",
    "print('corr:{0:0.3f}'.format(corr))\n",
    "print('p-value : {0:0.3f}'.format(pval))\n",
    "\n",
    "# 대립가설: 초코칩의 강도와 재료 반죽온도간에 매우 강한 상관성이 있다.\n",
    "# p<0.05이므로, 초코칩의 강도와 재료 반죽온도간에는 매우 강한 상관성이 있다고 볼 수 있다.\n",
    "# 즉, 대립가설을 채택한다."
   ]
  },
  {
   "cell_type": "markdown",
   "metadata": {},
   "source": [
    "# 추가문제"
   ]
  },
  {
   "cell_type": "code",
   "execution_count": 21,
   "metadata": {},
   "outputs": [
    {
     "ename": "NameError",
     "evalue": "name 'ols' is not defined",
     "output_type": "error",
     "traceback": [
      "\u001b[0;31m---------------------------------------------------------------------------\u001b[0m",
      "\u001b[0;31mNameError\u001b[0m                                 Traceback (most recent call last)",
      "\u001b[0;32m<ipython-input-21-19b7e9618949>\u001b[0m in \u001b[0;36m<module>\u001b[0;34m\u001b[0m\n\u001b[1;32m      2\u001b[0m \u001b[0mdf\u001b[0m \u001b[0;34m=\u001b[0m \u001b[0mpd\u001b[0m\u001b[0;34m.\u001b[0m\u001b[0mread_csv\u001b[0m\u001b[0;34m(\u001b[0m\u001b[0;34m\"/home/pirl/Downloads/storesales.csv\"\u001b[0m\u001b[0;34m,\u001b[0m \u001b[0mengine\u001b[0m \u001b[0;34m=\u001b[0m \u001b[0;34m\"python\"\u001b[0m\u001b[0;34m,\u001b[0m \u001b[0mencoding\u001b[0m \u001b[0;34m=\u001b[0m \u001b[0;34m'euckr'\u001b[0m\u001b[0;34m)\u001b[0m\u001b[0;34m\u001b[0m\u001b[0;34m\u001b[0m\u001b[0m\n\u001b[1;32m      3\u001b[0m \u001b[0mformula\u001b[0m\u001b[0;34m=\u001b[0m\u001b[0;34m'sales~C(weekday) + C(position) + C(weekday):C(position)'\u001b[0m\u001b[0;34m\u001b[0m\u001b[0;34m\u001b[0m\u001b[0m\n\u001b[0;32m----> 4\u001b[0;31m \u001b[0mlm\u001b[0m \u001b[0;34m=\u001b[0m \u001b[0mols\u001b[0m\u001b[0;34m(\u001b[0m\u001b[0mformula\u001b[0m\u001b[0;34m,\u001b[0m \u001b[0mdf\u001b[0m\u001b[0;34m)\u001b[0m\u001b[0;34m.\u001b[0m\u001b[0mfit\u001b[0m\u001b[0;34m(\u001b[0m\u001b[0;34m)\u001b[0m\u001b[0;34m\u001b[0m\u001b[0;34m\u001b[0m\u001b[0m\n\u001b[0m\u001b[1;32m      5\u001b[0m \u001b[0mprint\u001b[0m\u001b[0;34m(\u001b[0m\u001b[0manova_lm\u001b[0m\u001b[0;34m(\u001b[0m\u001b[0mlm\u001b[0m\u001b[0;34m)\u001b[0m\u001b[0;34m)\u001b[0m\u001b[0;34m\u001b[0m\u001b[0;34m\u001b[0m\u001b[0m\n\u001b[1;32m      6\u001b[0m \u001b[0;34m\u001b[0m\u001b[0m\n",
      "\u001b[0;31mNameError\u001b[0m: name 'ols' is not defined"
     ]
    }
   ],
   "source": [
    "#본사에서는 대리점의 위치별(중심자, 시내, 쇼핑센터) 상품판매량에 차이가 있는지 검정하라(유의수준 5%)\n",
    "df = pd.read_csv(\"/home/pirl/Downloads/storesales.csv\", engine = \"python\", encoding = 'euckr')\n",
    "formula='sales~C(weekday) + C(position) + C(weekday):C(position)'\n",
    "lm = ols(formula, df).fit()\n",
    "print(anova_lm(lm))\n",
    "\n",
    "\n",
    "# PR(>F) 항목은 F검정통계량의 결과로 P값으로 볼 수 있다.\n",
    "# weekday의 p값은 0.05보다 크므로, weekday와 상품판매량의 관계는 없다고 볼 수 있다.\n",
    "# position의 p값은 0.05보다 작으므로,position과 상품판매량의 관계는 있다고 볼 수 있다.\n",
    "# weekday와 position과의 교차 관계의 p값은 0.05보다 크므로, 서로 관계가 없다고 볼 수 있다."
   ]
  },
  {
   "cell_type": "markdown",
   "metadata": {},
   "source": [
    "# p.204"
   ]
  },
  {
   "cell_type": "code",
   "execution_count": 22,
   "metadata": {},
   "outputs": [
    {
     "name": "stderr",
     "output_type": "stream",
     "text": [
      "/home/pirl/anaconda3/lib/python3.7/site-packages/numpy/core/fromnumeric.py:2542: FutureWarning: Method .ptp is deprecated and will be removed in a future version. Use numpy.ptp instead.\n",
      "  return ptp(axis=axis, out=out, **kwargs)\n"
     ]
    },
    {
     "name": "stdout",
     "output_type": "stream",
     "text": [
      "                            OLS Regression Results                            \n",
      "==============================================================================\n",
      "Dep. Variable:               strength   R-squared:                       0.646\n",
      "Model:                            OLS   Adj. R-squared:                  0.627\n",
      "Method:                 Least Squares   F-statistic:                     32.90\n",
      "Date:                Fri, 31 Jan 2020   Prob (F-statistic):           1.95e-05\n",
      "Time:                        17:30:14   Log-Likelihood:                -26.431\n",
      "No. Observations:                  20   AIC:                             56.86\n",
      "Df Residuals:                      18   BIC:                             58.85\n",
      "Df Model:                           1                                         \n",
      "Covariance Type:            nonrobust                                         \n",
      "===============================================================================\n",
      "                  coef    std err          t      P>|t|      [0.025      0.975]\n",
      "-------------------------------------------------------------------------------\n",
      "const          13.0013      4.184      3.108      0.006       4.212      21.791\n",
      "Baking_time    30.8722      5.383      5.736      0.000      19.564      42.181\n",
      "==============================================================================\n",
      "Omnibus:                        1.724   Durbin-Watson:                   0.765\n",
      "Prob(Omnibus):                  0.422   Jarque-Bera (JB):                1.206\n",
      "Skew:                          -0.589   Prob(JB):                        0.547\n",
      "Kurtosis:                       2.753   Cond. No.                         40.4\n",
      "==============================================================================\n",
      "\n",
      "Warnings:\n",
      "[1] Standard Errors assume that the covariance matrix of the errors is correctly specified.\n"
     ]
    },
    {
     "data": {
      "image/png": "[encoded data removed]",
      "text/plain": [
       "<Figure size 432x288 with 1 Axes>"
      ]
     },
     "metadata": {
      "needs_background": "light"
     },
     "output_type": "display_data"
    }
   ],
   "source": [
    "#p.204 [실습] 단순선형회귀\n",
    "df = pd.DataFrame({'strength' : [37.6,38.6,37.2,36.4,38.6,39,37.2,36.1,35.9,37.1,36.9,37.5,36.3,38.1,39,36.9,36.8,37.6,33,33.5],\n",
    "'Baking_time' : [0.798922,0.84902,0.816163,0.758266,0.815894,0.807477,0.809068,0.7664,0.742243,0.751118,0.740629,0.751495,0.738863,0.827428,0.818172,0.740939,0.757128,0.804695,0.695121,0.735377]})\n",
    "\n",
    "df.head()\n",
    "\n",
    "sns.scatterplot(x='strength', y='Baking_time', data=df)\n",
    "\n",
    "Baking = sm.add_constant(df['Baking_time'])\n",
    "model = sm.OLS(df['strength'], Baking)\n",
    "result = model.fit()\n",
    "\n",
    "print(result.summary())\n",
    "\n",
    "# 회귀식: 13.00013 + 30.8722*x / Baking_time의 P값은 유의미하다. / R-square 값은 0.646\n",
    "\n",
    "\n"
   ]
  },
  {
   "cell_type": "markdown",
   "metadata": {},
   "source": [
    "# p.205"
   ]
  },
  {
   "cell_type": "code",
   "execution_count": null,
   "metadata": {},
   "outputs": [],
   "source": [
    "#p.205\n",
    "df_raw = pd.read_csv(\"/home/pirl/Downloads/직무능력평가.csv\", engine = \"python\") #데이터를 불러옴\n",
    "df_raw.head(3)\n",
    "\n",
    "from sklearn.linear_model import LinearRegression\n",
    "import statsmodels.formula.api as smf\n",
    "model = smf.ols(formula = \"EVAL~DISSATIS\", data=df_raw)\n",
    "\n",
    "result = model.fit()\n",
    "print(result.summary())"
   ]
  },
  {
   "cell_type": "markdown",
   "metadata": {},
   "source": [
    "# p.207"
   ]
  },
  {
   "cell_type": "code",
   "execution_count": 23,
   "metadata": {},
   "outputs": [
    {
     "name": "stdout",
     "output_type": "stream",
     "text": [
      "                            OLS Regression Results                            \n",
      "==============================================================================\n",
      "Dep. Variable:               strength   R-squared:                       0.001\n",
      "Model:                            OLS   Adj. R-squared:                 -0.011\n",
      "Method:                 Least Squares   F-statistic:                    0.1136\n",
      "Date:                Fri, 31 Jan 2020   Prob (F-statistic):              0.737\n",
      "Time:                        17:31:20   Log-Likelihood:                -223.88\n",
      "No. Observations:                  86   AIC:                             451.8\n",
      "Df Residuals:                      84   BIC:                             456.7\n",
      "Df Model:                           1                                         \n",
      "Covariance Type:            nonrobust                                         \n",
      "==============================================================================\n",
      "                 coef    std err          t      P>|t|      [0.025      0.975]\n",
      "------------------------------------------------------------------------------\n",
      "Intercept     30.4190      5.271      5.771      0.000      19.936      40.902\n",
      "Oven_TMP       0.0056      0.017      0.337      0.737      -0.027       0.038\n",
      "==============================================================================\n",
      "Omnibus:                       15.278   Durbin-Watson:                   0.175\n",
      "Prob(Omnibus):                  0.000   Jarque-Bera (JB):                8.264\n",
      "Skew:                           0.581   Prob(JB):                       0.0160\n",
      "Kurtosis:                       2.023   Cond. No.                     4.71e+03\n",
      "==============================================================================\n",
      "\n",
      "Warnings:\n",
      "[1] Standard Errors assume that the covariance matrix of the errors is correctly specified.\n",
      "[2] The condition number is large, 4.71e+03. This might indicate that there are\n",
      "strong multicollinearity or other numerical problems.\n"
     ]
    }
   ],
   "source": [
    "#p.207 [실습] 단순선형회귀\n",
    "df_raw = pd.read_csv(\"/home/pirl/Downloads/correaltion.csv\", engine = \"python\") #데이터를 불러옴\n",
    "df_raw.head(3)\n",
    "\n",
    "from sklearn.linear_model import LinearRegression\n",
    "import statsmodels.formula.api as smf\n",
    "model = smf.ols(formula = \"strength~Oven_TMP\", data=df_raw)\n",
    "\n",
    "result = model.fit()\n",
    "print(result.summary())\n",
    "\n",
    "#회귀식은 strength = 30.419 + 0.0056 * Oven_TMP이다. 설명력은 R-Sq = 0.1%이다.\n",
    "# R-square 값은 0.001으로 설명력이 낮은 편이다.\n",
    "# 따라서, 초코칩의 강도와 오븐 온도와의 인과관계는 없다고 볼 수 있다."
   ]
  },
  {
   "cell_type": "code",
   "execution_count": null,
   "metadata": {},
   "outputs": [],
   "source": []
  },
  {
   "cell_type": "code",
   "execution_count": 25,
   "metadata": {},
   "outputs": [
    {
     "data": {
      "text/html": [
       "<div>\n",
       "<style scoped>\n",
       "    .dataframe tbody tr th:only-of-type {\n",
       "        vertical-align: middle;\n",
       "    }\n",
       "\n",
       "    .dataframe tbody tr th {\n",
       "        vertical-align: top;\n",
       "    }\n",
       "\n",
       "    .dataframe thead th {\n",
       "        text-align: right;\n",
       "    }\n",
       "</style>\n",
       "<table border=\"1\" class=\"dataframe\">\n",
       "  <thead>\n",
       "    <tr style=\"text-align: right;\">\n",
       "      <th></th>\n",
       "      <th>A</th>\n",
       "      <th>B</th>\n",
       "    </tr>\n",
       "  </thead>\n",
       "  <tbody>\n",
       "    <tr>\n",
       "      <th>0</th>\n",
       "      <td>0.191519</td>\n",
       "      <td>0.622109</td>\n",
       "    </tr>\n",
       "    <tr>\n",
       "      <th>1</th>\n",
       "      <td>0.437728</td>\n",
       "      <td>0.785359</td>\n",
       "    </tr>\n",
       "    <tr>\n",
       "      <th>2</th>\n",
       "      <td>0.779976</td>\n",
       "      <td>0.272593</td>\n",
       "    </tr>\n",
       "    <tr>\n",
       "      <th>3</th>\n",
       "      <td>0.276464</td>\n",
       "      <td>0.801872</td>\n",
       "    </tr>\n",
       "    <tr>\n",
       "      <th>4</th>\n",
       "      <td>0.958139</td>\n",
       "      <td>0.875933</td>\n",
       "    </tr>\n",
       "    <tr>\n",
       "      <th>5</th>\n",
       "      <td>0.357817</td>\n",
       "      <td>0.500995</td>\n",
       "    </tr>\n",
       "    <tr>\n",
       "      <th>6</th>\n",
       "      <td>0.683463</td>\n",
       "      <td>0.712702</td>\n",
       "    </tr>\n",
       "    <tr>\n",
       "      <th>7</th>\n",
       "      <td>0.370251</td>\n",
       "      <td>0.561196</td>\n",
       "    </tr>\n",
       "    <tr>\n",
       "      <th>8</th>\n",
       "      <td>0.503083</td>\n",
       "      <td>0.013768</td>\n",
       "    </tr>\n",
       "    <tr>\n",
       "      <th>9</th>\n",
       "      <td>0.772827</td>\n",
       "      <td>0.882641</td>\n",
       "    </tr>\n",
       "  </tbody>\n",
       "</table>\n",
       "</div>"
      ],
      "text/plain": [
       "          A         B\n",
       "0  0.191519  0.622109\n",
       "1  0.437728  0.785359\n",
       "2  0.779976  0.272593\n",
       "3  0.276464  0.801872\n",
       "4  0.958139  0.875933\n",
       "5  0.357817  0.500995\n",
       "6  0.683463  0.712702\n",
       "7  0.370251  0.561196\n",
       "8  0.503083  0.013768\n",
       "9  0.772827  0.882641"
      ]
     },
     "execution_count": 25,
     "metadata": {},
     "output_type": "execute_result"
    }
   ],
   "source": [
    "#p.129\n",
    "np.random.seed(1234)\n",
    "df = pd.DataFrame(rand(10,2), columns = ['A','B'])\n",
    "dfdf = pd.DataFrame({'소득수준' : [183, 213, 203],\n",
    "'법안지지' : [154, 138, 110]})\n"
   ]
  },
  {
   "cell_type": "code",
   "execution_count": 27,
   "metadata": {},
   "outputs": [
    {
     "name": "stdout",
     "output_type": "stream",
     "text": [
      "                            OLS Regression Results                            \n",
      "==============================================================================\n",
      "Dep. Variable:               strength   R-squared:                       0.001\n",
      "Model:                            OLS   Adj. R-squared:                 -0.011\n",
      "Method:                 Least Squares   F-statistic:                    0.1136\n",
      "Date:                Fri, 31 Jan 2020   Prob (F-statistic):              0.737\n",
      "Time:                        17:34:25   Log-Likelihood:                -223.88\n",
      "No. Observations:                  86   AIC:                             451.8\n",
      "Df Residuals:                      84   BIC:                             456.7\n",
      "Df Model:                           1                                         \n",
      "Covariance Type:            nonrobust                                         \n",
      "==============================================================================\n",
      "                 coef    std err          t      P>|t|      [0.025      0.975]\n",
      "------------------------------------------------------------------------------\n",
      "Intercept     30.4190      5.271      5.771      0.000      19.936      40.902\n",
      "Oven_TMP       0.0056      0.017      0.337      0.737      -0.027       0.038\n",
      "==============================================================================\n",
      "Omnibus:                       15.278   Durbin-Watson:                   0.175\n",
      "Prob(Omnibus):                  0.000   Jarque-Bera (JB):                8.264\n",
      "Skew:                           0.581   Prob(JB):                       0.0160\n",
      "Kurtosis:                       2.023   Cond. No.                     4.71e+03\n",
      "==============================================================================\n",
      "\n",
      "Warnings:\n",
      "[1] Standard Errors assume that the covariance matrix of the errors is correctly specified.\n",
      "[2] The condition number is large, 4.71e+03. This might indicate that there are\n",
      "strong multicollinearity or other numerical problems.\n"
     ]
    }
   ],
   "source": [
    "#p.207 [실습] 단순선형회귀\n",
    "\n",
    "df1 = [182, 213, 203] #강도 값 입력\n",
    "df2 = [14,15,14,16,17,14,17,16,15,16,14,16,18,13,15,17,14,16,20,21]\n",
    "df_raw = pd.read_csv(\"/home/pirl/Downloads/correaltion.csv\", engine = \"python\") #데이터를 불러옴\n",
    "df_raw.head(3)\n",
    "\n",
    "from sklearn.linear_model import LinearRegression\n",
    "import statsmodels.formula.api as smf\n",
    "model = smf.ols(formula = \"strength~Oven_TMP\", data=df_raw)\n",
    "\n",
    "result = model.fit()\n",
    "print(result.summary())\n",
    "\n",
    "#회귀식은 strength = 30.419 + 0.0056 * Oven_TMP이다. 설명력은 R-Sq = 0.1%이다.\n",
    "# R-square 값은 0.001으로 설명력이 낮은 편이다.\n",
    "# 따라서, 초코칩의 강도와 오븐 온도와의 인과관계는 없다고 볼 수 있다."
   ]
  },
  {
   "cell_type": "code",
   "execution_count": 50,
   "metadata": {},
   "outputs": [
    {
     "name": "stdout",
     "output_type": "stream",
     "text": [
      "                            OLS Regression Results                            \n",
      "==============================================================================\n",
      "Dep. Variable:                      X   R-squared:                       0.023\n",
      "Model:                            OLS   Adj. R-squared:                 -0.172\n",
      "Method:                 Least Squares   F-statistic:                    0.1183\n",
      "Date:                Fri, 31 Jan 2020   Prob (F-statistic):              0.745\n",
      "Time:                        18:01:49   Log-Likelihood:                -7.3525\n",
      "No. Observations:                   7   AIC:                             18.71\n",
      "Df Residuals:                       5   BIC:                             18.60\n",
      "Df Model:                           1                                         \n",
      "Covariance Type:            nonrobust                                         \n",
      "==============================================================================\n",
      "                 coef    std err          t      P>|t|      [0.025      0.975]\n",
      "------------------------------------------------------------------------------\n",
      "const          1.5565      0.846      1.840      0.125      -0.618       3.731\n",
      "Y             -0.1541      0.448     -0.344      0.745      -1.306       0.998\n",
      "==============================================================================\n",
      "Omnibus:                          nan   Durbin-Watson:                   1.117\n",
      "Prob(Omnibus):                    nan   Jarque-Bera (JB):                5.509\n",
      "Skew:                           1.939   Prob(JB):                       0.0636\n",
      "Kurtosis:                       4.960   Cond. No.                         6.46\n",
      "==============================================================================\n",
      "\n",
      "Warnings:\n",
      "[1] Standard Errors assume that the covariance matrix of the errors is correctly specified.\n"
     ]
    },
    {
     "name": "stderr",
     "output_type": "stream",
     "text": [
      "/home/pirl/anaconda3/lib/python3.7/site-packages/statsmodels/stats/stattools.py:71: ValueWarning: omni_normtest is not valid with less than 8 observations; 7 samples were given.\n",
      "  \"samples were given.\" % int(n), ValueWarning)\n"
     ]
    },
    {
     "data": {
      "image/png": "[encoded data removed]",
      "text/plain": [
       "<Figure size 432x288 with 1 Axes>"
      ]
     },
     "metadata": {
      "needs_background": "light"
     },
     "output_type": "display_data"
    }
   ],
   "source": [
    "#p.204 [실습] 단순선형회귀\n",
    "df = pd.DataFrame({'X' : [1,1,1,1,1, 1,3],\n",
    "'Y' : [0.4, 1.3, 2.2, 2.5, 2.4, 2.0, 1.5]})\n",
    "\n",
    "df.head()\n",
    "\n",
    "sns.scatterplot(x='X', y='Y', data=df)\n",
    "\n",
    "Baking = sm.add_constant(df['Y'])\n",
    "model = sm.OLS(df['X'], Baking)\n",
    "result = model.fit()\n",
    "\n",
    "print(result.summary())\n",
    "\n",
    "# 회귀식: 13.00013 + 30.8722*x / Baking_time의 P값은 유의미하다. / R-square 값은 0.646\n",
    "\n",
    "\n",
    "\n",
    "\n",
    "\n",
    "\n"
   ]
  },
  {
   "cell_type": "code",
   "execution_count": 49,
   "metadata": {},
   "outputs": [
    {
     "name": "stdout",
     "output_type": "stream",
     "text": [
      "                            OLS Regression Results                            \n",
      "==============================================================================\n",
      "Dep. Variable:                   소득수준   R-squared:                       0.280\n",
      "Model:                            OLS   Adj. R-squared:                 -0.440\n",
      "Method:                 Least Squares   F-statistic:                    0.3888\n",
      "Date:                Fri, 31 Jan 2020   Prob (F-statistic):              0.645\n",
      "Time:                        17:55:25   Log-Likelihood:                -11.335\n",
      "No. Observations:                   3   AIC:                             26.67\n",
      "Df Residuals:                       1   BIC:                             24.87\n",
      "Df Model:                           1                                         \n",
      "Covariance Type:            nonrobust                                         \n",
      "==============================================================================\n",
      "                 coef    std err          t      P>|t|      [0.025      0.975]\n",
      "------------------------------------------------------------------------------\n",
      "const        248.2957     78.704      3.155      0.195    -751.729    1248.321\n",
      "법안지지          -0.3629      0.582     -0.624      0.645      -7.758       7.032\n",
      "==============================================================================\n",
      "Omnibus:                          nan   Durbin-Watson:                   2.952\n",
      "Prob(Omnibus):                    nan   Jarque-Bera (JB):                0.480\n",
      "Skew:                           0.631   Prob(JB):                        0.787\n",
      "Kurtosis:                       1.500   Cond. No.                     1.01e+03\n",
      "==============================================================================\n",
      "\n",
      "Warnings:\n",
      "[1] Standard Errors assume that the covariance matrix of the errors is correctly specified.\n",
      "[2] The condition number is large, 1.01e+03. This might indicate that there are\n",
      "strong multicollinearity or other numerical problems.\n"
     ]
    },
    {
     "name": "stderr",
     "output_type": "stream",
     "text": [
      "/home/pirl/anaconda3/lib/python3.7/site-packages/numpy/core/fromnumeric.py:2542: FutureWarning: Method .ptp is deprecated and will be removed in a future version. Use numpy.ptp instead.\n",
      "  return ptp(axis=axis, out=out, **kwargs)\n",
      "/home/pirl/anaconda3/lib/python3.7/site-packages/statsmodels/stats/stattools.py:71: ValueWarning: omni_normtest is not valid with less than 8 observations; 3 samples were given.\n",
      "  \"samples were given.\" % int(n), ValueWarning)\n",
      "/home/pirl/anaconda3/lib/python3.7/site-packages/matplotlib/backends/backend_agg.py:211: RuntimeWarning: Glyph 49548 missing from current font.\n",
      "  font.set_text(s, 0.0, flags=flags)\n",
      "/home/pirl/anaconda3/lib/python3.7/site-packages/matplotlib/backends/backend_agg.py:211: RuntimeWarning: Glyph 46301 missing from current font.\n",
      "  font.set_text(s, 0.0, flags=flags)\n",
      "/home/pirl/anaconda3/lib/python3.7/site-packages/matplotlib/backends/backend_agg.py:211: RuntimeWarning: Glyph 49688 missing from current font.\n",
      "  font.set_text(s, 0.0, flags=flags)\n",
      "/home/pirl/anaconda3/lib/python3.7/site-packages/matplotlib/backends/backend_agg.py:211: RuntimeWarning: Glyph 51456 missing from current font.\n",
      "  font.set_text(s, 0.0, flags=flags)\n",
      "/home/pirl/anaconda3/lib/python3.7/site-packages/matplotlib/backends/backend_agg.py:180: RuntimeWarning: Glyph 49548 missing from current font.\n",
      "  font.set_text(s, 0, flags=flags)\n",
      "/home/pirl/anaconda3/lib/python3.7/site-packages/matplotlib/backends/backend_agg.py:180: RuntimeWarning: Glyph 46301 missing from current font.\n",
      "  font.set_text(s, 0, flags=flags)\n",
      "/home/pirl/anaconda3/lib/python3.7/site-packages/matplotlib/backends/backend_agg.py:180: RuntimeWarning: Glyph 49688 missing from current font.\n",
      "  font.set_text(s, 0, flags=flags)\n",
      "/home/pirl/anaconda3/lib/python3.7/site-packages/matplotlib/backends/backend_agg.py:180: RuntimeWarning: Glyph 51456 missing from current font.\n",
      "  font.set_text(s, 0, flags=flags)\n",
      "/home/pirl/anaconda3/lib/python3.7/site-packages/matplotlib/backends/backend_agg.py:211: RuntimeWarning: Glyph 48277 missing from current font.\n",
      "  font.set_text(s, 0.0, flags=flags)\n",
      "/home/pirl/anaconda3/lib/python3.7/site-packages/matplotlib/backends/backend_agg.py:211: RuntimeWarning: Glyph 50504 missing from current font.\n",
      "  font.set_text(s, 0.0, flags=flags)\n",
      "/home/pirl/anaconda3/lib/python3.7/site-packages/matplotlib/backends/backend_agg.py:211: RuntimeWarning: Glyph 51648 missing from current font.\n",
      "  font.set_text(s, 0.0, flags=flags)\n",
      "/home/pirl/anaconda3/lib/python3.7/site-packages/matplotlib/backends/backend_agg.py:180: RuntimeWarning: Glyph 48277 missing from current font.\n",
      "  font.set_text(s, 0, flags=flags)\n",
      "/home/pirl/anaconda3/lib/python3.7/site-packages/matplotlib/backends/backend_agg.py:180: RuntimeWarning: Glyph 50504 missing from current font.\n",
      "  font.set_text(s, 0, flags=flags)\n",
      "/home/pirl/anaconda3/lib/python3.7/site-packages/matplotlib/backends/backend_agg.py:180: RuntimeWarning: Glyph 51648 missing from current font.\n",
      "  font.set_text(s, 0, flags=flags)\n"
     ]
    },
    {
     "data": {
      "image/png": "[encoded data removed]",
      "text/plain": [
       "<Figure size 432x288 with 1 Axes>"
      ]
     },
     "metadata": {
      "needs_background": "light"
     },
     "output_type": "display_data"
    }
   ],
   "source": [
    "#p.204 [실습] 단순선형회귀\n",
    "df = pd.DataFrame({'소득수준' : [183, 213, 203],\n",
    "'법안지지' : [154, 138, 110]})\n",
    "\n",
    "df.head()\n",
    "\n",
    "sns.scatterplot(x='소득수준', y='법안지지', data=df)\n",
    "\n",
    "Baking = sm.add_constant(df['법안지지'])\n",
    "model = sm.OLS(df['소득수준'], Baking)\n",
    "result = model.fit()\n",
    "\n",
    "print(result.summary())\n",
    "\n",
    "# 회귀식: 13.00013 + 30.8722*x / Baking_time의 P값은 유의미하다. / R-square 값은 0.646\n",
    "\n",
    "\n",
    "\n",
    "\n",
    "\n",
    "\n"
   ]
  },
  {
   "cell_type": "code",
   "execution_count": null,
   "metadata": {},
   "outputs": [],
   "source": [
    "#p.176 [실습] One way ANOVA\n",
    "df = pd.DataFrame({'소득수준' : [183, 213, 203],'법안지지' : [154, 138, 110]})\n",
    "\n",
    "ds_anova = pd.read_csv(\"/home/pirl/Downloads/ANOVA.csv\", engine = \"python\") #데이터를 불러옴\n",
    "df = ds_anova[['time','gangjong']]\n",
    "df.boxplot(by = 'gangjong') #그래프 그리기(x축은 강종, y축은 시간을 갖음)\n",
    "\n",
    "a = df['time'][df.gangjong=='a'] # a강종의 시간을 변수 a에 저장\n",
    "b = df['time'][df.gangjong=='b'] # b강종의 시간을 변수 a에 저장\n",
    "c = df['time'][df.gangjong=='c'] # c강종의 시간을 변수 a에 저장\n",
    "d = df['time'][df.gangjong=='d'] # d강종의 시간을 변수 a에 저장\n",
    "\n",
    "f_result = stats.f_oneway(a, b, c, d) #ANOVA 실행\n",
    "f, p = f_result.statistic.round(3), f_result.pvalue.round(3) #결과값 저장\n",
    "print(\"One-way\") #출력\n",
    "print(\"F통계량:{}\".format(f))\n",
    "print(\"p-value:{}\".format(p))\n",
    "\n",
    "#귀무가설: 강종별 2차정련 시간에 차이가 없다.\n",
    "#대립가설: 강종별 2차정련 시간에 차이가 있다.\n",
    "#p값이 0.019이므로 p<0.05는 성립한다.\n",
    "#즉, 강종별 2차정련 시간에는 차이가 있다고 볼 수 있다.\n",
    "#즉, 대립가설을 채택했다."
   ]
  }
 ],
 "metadata": {
  "kernelspec": {
   "display_name": "Python 3",
   "language": "python",
   "name": "python3"
  },
  "language_info": {
   "codemirror_mode": {
    "name": "ipython",
    "version": 3
   },
   "file_extension": ".py",
   "mimetype": "text/x-python",
   "name": "python",
   "nbconvert_exporter": "python",
   "pygments_lexer": "ipython3",
   "version": "3.7.6"
  }
 },
 "nbformat": 4,
 "nbformat_minor": 4
}
