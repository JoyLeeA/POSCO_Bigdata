{
 "cells": [
  {
   "cell_type": "code",
   "execution_count": 182,
   "metadata": {},
   "outputs": [],
   "source": [
    "menubox\n",
    "def menubox():\n",
    "    print(\"Student\",\"   \",\"Name\",\"       \",\"Midterm\",\"Final\",\"Average\",\"Grade\")\n",
    "    print(\"---------------------------------------------------------------------\")"
   ]
  },
  {
   "cell_type": "code",
   "execution_count": 152,
   "metadata": {},
   "outputs": [
    {
     "name": "stdout",
     "output_type": "stream",
     "text": [
      "20180011 : ['Ha Donghun', 58, 68]\n",
      "20180001 : ['Hong Gildong', 84, 73]\n",
      "20180007 : ['Kim Cheolsu', 57, 62]\n",
      "20180002 : ['Lee Jieun', 92, 89]\n",
      "20180009 : ['Lee Yeonghee', 81, 84]\n"
     ]
    }
   ],
   "source": [
    "f = open(\"students.txt\",\"r\")\n",
    "f1 = open (\"newStudents.txt\",\"w\")\n",
    "stu_dict = {}\n",
    "for x in f:\n",
    "    stu_dict[x.split()[0]] = [x.split()[1] +\" \"+ x.split()[2],int(x.split()[3]),int(x.split()[4])]\n",
    "\n",
    "sorted_s1 = sorted(stu_dict.items(), key = lambda a : a[1][0])\n",
    "\n",
    "for key, value in sorted_s1:\n",
    "    print(key, \":\", value)\n",
    "\n",
    "\n",
    "f.close()\n",
    "f1.close()"
   ]
  },
  {
   "cell_type": "code",
   "execution_count": 104,
   "metadata": {},
   "outputs": [],
   "source": [
    "#등급 리턴 함수\n",
    "def Grade(avg):\n",
    "    if avg >= 90:\n",
    "        return 'A'\n",
    "    elif avg >= 80:\n",
    "        return 'B'\n",
    "    elif avg>= 70:\n",
    "        return 'C'\n",
    "    elif avg >= 60:\n",
    "        return 'D'\n",
    "    else:\n",
    "        return 'F'"
   ]
  },
  {
   "cell_type": "code",
   "execution_count": 105,
   "metadata": {},
   "outputs": [],
   "source": [
    "#평균 함수\n",
    "def Avg(a, b):\n",
    "    return (a + b) /2"
   ]
  },
  {
   "cell_type": "code",
   "execution_count": 106,
   "metadata": {},
   "outputs": [
    {
     "ename": "SyntaxError",
     "evalue": "unexpected EOF while parsing (<ipython-input-106-e4e40226d868>, line 4)",
     "output_type": "error",
     "traceback": [
      "\u001b[0;36m  File \u001b[0;32m\"<ipython-input-106-e4e40226d868>\"\u001b[0;36m, line \u001b[0;32m4\u001b[0m\n\u001b[0;31m    \u001b[0m\n\u001b[0m    ^\u001b[0m\n\u001b[0;31mSyntaxError\u001b[0m\u001b[0;31m:\u001b[0m unexpected EOF while parsing\n"
     ]
    }
   ],
   "source": [
    "#Show 함수\n",
    "def Show(stu_dict):\n",
    "    \n",
    "    "
   ]
  },
  {
   "cell_type": "code",
   "execution_count": 203,
   "metadata": {},
   "outputs": [],
   "source": [
    "#Search 함수\n",
    "def search(a):\n",
    "    stnum = input(\"Student ID: \")\n",
    "    if stnum in a[0]:\n",
    "        menubox()\n",
    "        for x in range(6):\n",
    "            print(stu_dict[stnum][x], end ='    ')\n",
    "    else:\n",
    "        print(\"NO SUCH PERSON.\")\n",
    "    "
   ]
  },
  {
   "cell_type": "code",
   "execution_count": 142,
   "metadata": {},
   "outputs": [],
   "source": [
    "#changescore\n",
    "def changescore(a):\n",
    "    stnum = input(\"Student ID: \")\n",
    "    if stnum in a[0]:\n",
    "        MF = input(\"Mid/Final? \")\n",
    "        if \"mid\" or \"MID\" in MF:\n",
    "            newscore = int(input(\"Input new score:\" ))\n",
    "            backup = stu_dict[stnum][2]\n",
    "            stu_dict[stnum][2] = newscore\n",
    "        elif \"final\" or \"FINAL\" in MF:\n",
    "            newscore = int(input(\"Input new score:\"))\n",
    "            stu_dict[stnum][3] = newscore\n",
    "        else:\n",
    "            pass\n",
    "    else:\n",
    "        print(\"NO SUCH PERSON.\")\n",
    "    print(backup)\n",
    "                      "
   ]
  },
  {
   "cell_type": "code",
   "execution_count": null,
   "metadata": {},
   "outputs": [],
   "source": [
    "#add\n"
   ]
  },
  {
   "cell_type": "code",
   "execution_count": null,
   "metadata": {},
   "outputs": [],
   "source": [
    "#searchgrade"
   ]
  },
  {
   "cell_type": "code",
   "execution_count": null,
   "metadata": {},
   "outputs": [],
   "source": [
    "#remove"
   ]
  },
  {
   "cell_type": "code",
   "execution_count": null,
   "metadata": {},
   "outputs": [],
   "source": [
    "#quit"
   ]
  },
  {
   "cell_type": "code",
   "execution_count": null,
   "metadata": {},
   "outputs": [],
   "source": []
  },
  {
   "cell_type": "code",
   "execution_count": null,
   "metadata": {},
   "outputs": [],
   "source": []
  },
  {
   "cell_type": "code",
   "execution_count": null,
   "metadata": {},
   "outputs": [],
   "source": []
  },
  {
   "cell_type": "code",
   "execution_count": 210,
   "metadata": {},
   "outputs": [
    {
     "name": "stdout",
     "output_type": "stream",
     "text": [
      "20180001 : ['20180001', 'Hong Gildong', 84, 73, 78.5, 'C']\n",
      "20180002 : ['20180002', 'Lee Jieun', 92, 89, 90.5, 'A']\n",
      "20180007 : ['20180007', 'Kim Cheolsu', 57, 62, 59.5, 'F']\n",
      "20180009 : ['20180009', 'Lee Yeonghee', 81, 84, 82.5, 'B']\n",
      "20180011 : ['20180011', 'Ha Donghun', 58, 68, 63.0, 'D']\n",
      "Student ID: 20180001\n",
      "Mid/Final? MID\n",
      "Input new score:30\n",
      "84 {'20180001': ['20180001', 'Hong Gildong', 30, 73, 78.5, 'C'], '20180002': ['20180002', 'Lee Jieun', 92, 89, 90.5, 'A'], '20180007': ['20180007', 'Kim Cheolsu', 57, 62, 59.5, 'F'], '20180009': ['20180009', 'Lee Yeonghee', 81, 84, 82.5, 'B'], '20180011': ['20180011', 'Ha Donghun', 58, 68, 63.0, 'D']}\n"
     ]
    }
   ],
   "source": [
    "f = open(\"students.txt\",\"r\")\n",
    "f1 = open (\"newStudents.txt\",\"w\")\n",
    "stu_dict = {}\n",
    "for x in f:\n",
    "    stu_dict[x.split()[0]] = [x.split()[0],x.split()[1] +\" \"+ x.split()[2],int(x.split()[3]),int(x.split()[4]),\n",
    "                              (Avg(int(x.split()[3]),int(x.split()[4]))), \n",
    "                              Grade((Avg(int(x.split()[3]),int(x.split()[4])))) ]\n",
    "\n",
    "sorted_s1 = sorted(stu_dict.items(), key = lambda a : a[1][0])\n",
    "\n",
    "for key, value in sorted_s1:\n",
    "    print(key, \":\", value)\n",
    "\n",
    "#search(sorted_s1)\n",
    "changescore(sorted_s1)\n",
    "f.close()\n",
    "f1.close()"
   ]
  },
  {
   "cell_type": "code",
   "execution_count": null,
   "metadata": {},
   "outputs": [],
   "source": []
  },
  {
   "cell_type": "code",
   "execution_count": null,
   "metadata": {},
   "outputs": [],
   "source": []
  }
 ],
 "metadata": {
  "kernelspec": {
   "display_name": "Python 3",
   "language": "python",
   "name": "python3"
  },
  "language_info": {
   "codemirror_mode": {
    "name": "ipython",
    "version": 3
   },
   "file_extension": ".py",
   "mimetype": "text/x-python",
   "name": "python",
   "nbconvert_exporter": "python",
   "pygments_lexer": "ipython3",
   "version": "3.7.4"
  }
 },
 "nbformat": 4,
 "nbformat_minor": 2
}
