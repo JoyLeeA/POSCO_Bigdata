{
 "cells": [
  {
   "cell_type": "code",
   "execution_count": 2,
   "metadata": {},
   "outputs": [],
   "source": [
    "#필요 모듈 호출\n",
    "import numpy as np #행렬 연산 패키지\n",
    "from scipy import stats #과학 계산 패키지\n",
    "import scipy.stats #통계 분석 패키지\n",
    "import pandas as pd #데이터 패키지\n",
    "import statsmodels.api as sm #통계 분석 패키지\n",
    "import matplotlib.pyplot as plt #데이터 시각화 패키지\n",
    "import seaborn as sns #데이터 시각화 패키지\n",
    "from statsmodels.stats.proportion import proportions_ztest\n",
    "import matplotlib\n",
    "from statsmodels.formula.api import ols\n",
    "from statsmodels.stats.anova import anova_lm\n",
    "from sklearn.linear_model import LinearRegression\n",
    "import statsmodels.formula.api as smf\n",
    "\n",
    "#주피터 노트북 내 그래프를 바로 그리기 위한 설정\n",
    "%matplotlib inline\n",
    "#한글 폰트 (맑은 고딕) 적용\n",
    "matplotlib.rc('font',family='Malgun Gothic')"
   ]
  },
  {
   "cell_type": "code",
   "execution_count": 5,
   "metadata": {},
   "outputs": [
    {
     "name": "stdout",
     "output_type": "stream",
     "text": [
      "Correlation Analysis\n",
      "corr:-0.723\n",
      "p-value : 0.000\n"
     ]
    }
   ],
   "source": [
    "#p.183 [실습] 상관분석\n",
    "df1 = [37.6, 38.6,37.2,36.4,38.6,39,37.2,36.1,35.9,37.1,36.9,37.5,36.3,38.1,39,36.9,36.8,37.6,33,33.5] #강도 값 입력\n",
    "df2 = [14,15,14,16,17,14,17,16,15,16,14,16,18,13,15,17,14,16,20,21] #온도 값 입력\n",
    "\n",
    "corr, pval = stats.pearsonr(df1, df2) #Correlation Analysis 실행 및 변수 저장\n",
    " \n",
    "print(\"Correlation Analysis\") #결과 출력\n",
    "print('corr:{0:0.3f}'.format(corr))\n",
    "print('p-value : {0:0.3f}'.format(pval))\n",
    "\n",
    "# 대립가설: 초코칩의 강도와 재료 반죽온도간에 매우 강한 상관성이 있다.\n",
    "# p<0.05이므로, 초코칩의 강도와 재료 반죽온도간에는 매우 강한 상관성이 있다고 볼 수 있다.\n",
    "# 즉, 대립가설을 채택한다."
   ]
  },
  {
   "cell_type": "code",
   "execution_count": 6,
   "metadata": {},
   "outputs": [
    {
     "name": "stderr",
     "output_type": "stream",
     "text": [
      "/home/pirl/anaconda3/lib/python3.7/site-packages/numpy/core/fromnumeric.py:2495: FutureWarning: Method .ptp is deprecated and will be removed in a future version. Use numpy.ptp instead.\n",
      "  return ptp(axis=axis, out=out, **kwargs)\n",
      "findfont: Font family ['Malgun Gothic'] not found. Falling back to DejaVu Sans.\n"
     ]
    },
    {
     "name": "stdout",
     "output_type": "stream",
     "text": [
      "                            OLS Regression Results                            \n",
      "==============================================================================\n",
      "Dep. Variable:               strength   R-squared:                       0.646\n",
      "Model:                            OLS   Adj. R-squared:                  0.627\n",
      "Method:                 Least Squares   F-statistic:                     32.90\n",
      "Date:                Tue, 28 Jan 2020   Prob (F-statistic):           1.95e-05\n",
      "Time:                        09:24:26   Log-Likelihood:                -26.431\n",
      "No. Observations:                  20   AIC:                             56.86\n",
      "Df Residuals:                      18   BIC:                             58.85\n",
      "Df Model:                           1                                         \n",
      "Covariance Type:            nonrobust                                         \n",
      "===============================================================================\n",
      "                  coef    std err          t      P>|t|      [0.025      0.975]\n",
      "-------------------------------------------------------------------------------\n",
      "const          13.0013      4.184      3.108      0.006       4.212      21.791\n",
      "Baking_time    30.8722      5.383      5.736      0.000      19.564      42.181\n",
      "==============================================================================\n",
      "Omnibus:                        1.724   Durbin-Watson:                   0.765\n",
      "Prob(Omnibus):                  0.422   Jarque-Bera (JB):                1.206\n",
      "Skew:                          -0.589   Prob(JB):                        0.547\n",
      "Kurtosis:                       2.753   Cond. No.                         40.4\n",
      "==============================================================================\n",
      "\n",
      "Warnings:\n",
      "[1] Standard Errors assume that the covariance matrix of the errors is correctly specified.\n"
     ]
    },
    {
     "data": {
      "image/png": "[encoded data removed]",
      "text/plain": [
       "<Figure size 432x288 with 1 Axes>"
      ]
     },
     "metadata": {
      "needs_background": "light"
     },
     "output_type": "display_data"
    }
   ],
   "source": [
    "#p.204 [실습] 단순선형회귀\n",
    "df = pd.DataFrame({'strength' : [37.6,38.6,37.2,36.4,38.6,39,37.2,36.1,35.9,37.1,36.9,37.5,36.3,38.1,39,36.9,36.8,37.6,33,33.5],\n",
    "'Baking_time' : [0.798922,0.84902,0.816163,0.758266,0.815894,0.807477,0.809068,0.7664,0.742243,0.751118,0.740629,0.751495,0.738863,0.827428,0.818172,0.740939,0.757128,0.804695,0.695121,0.735377]})\n",
    "\n",
    "df.head()\n",
    "\n",
    "sns.scatterplot(x='strength', y='Baking_time', data=df)\n",
    "\n",
    "Baking = sm.add_constant(df['Baking_time'])\n",
    "model = sm.OLS(df['strength'], Baking)\n",
    "result = model.fit()\n",
    "\n",
    "print(result.summary())\n",
    "\n",
    "# 회귀식은 Baking_time = 13.00013 + 30.8722 * strength 이다.\n",
    "# Baking_time의 P값은 p<0.05 이므로 유의미하다.\n",
    "# R-square 값은 0.646으로 설명력이 높은 편이다.\n",
    "# 따라서, 초코칩의 강도와 굽는 시간과의 인과관계가 있다고 볼 수 있다."
   ]
  },
  {
   "cell_type": "code",
   "execution_count": 7,
   "metadata": {},
   "outputs": [
    {
     "name": "stdout",
     "output_type": "stream",
     "text": [
      "                            OLS Regression Results                            \n",
      "==============================================================================\n",
      "Dep. Variable:               strength   R-squared:                       0.001\n",
      "Model:                            OLS   Adj. R-squared:                 -0.011\n",
      "Method:                 Least Squares   F-statistic:                    0.1136\n",
      "Date:                Tue, 28 Jan 2020   Prob (F-statistic):              0.737\n",
      "Time:                        09:34:23   Log-Likelihood:                -223.88\n",
      "No. Observations:                  86   AIC:                             451.8\n",
      "Df Residuals:                      84   BIC:                             456.7\n",
      "Df Model:                           1                                         \n",
      "Covariance Type:            nonrobust                                         \n",
      "==============================================================================\n",
      "                 coef    std err          t      P>|t|      [0.025      0.975]\n",
      "------------------------------------------------------------------------------\n",
      "Intercept     30.4190      5.271      5.771      0.000      19.936      40.902\n",
      "Oven_TMP       0.0056      0.017      0.337      0.737      -0.027       0.038\n",
      "==============================================================================\n",
      "Omnibus:                       15.278   Durbin-Watson:                   0.175\n",
      "Prob(Omnibus):                  0.000   Jarque-Bera (JB):                8.264\n",
      "Skew:                           0.581   Prob(JB):                       0.0160\n",
      "Kurtosis:                       2.023   Cond. No.                     4.71e+03\n",
      "==============================================================================\n",
      "\n",
      "Warnings:\n",
      "[1] Standard Errors assume that the covariance matrix of the errors is correctly specified.\n",
      "[2] The condition number is large, 4.71e+03. This might indicate that there are\n",
      "strong multicollinearity or other numerical problems.\n"
     ]
    }
   ],
   "source": [
    "#p.207 [실습] 단순선형회귀\n",
    "df_raw = pd.read_csv(\"/home/pirl/Downloads/correaltion.csv\", engine = \"python\") #데이터를 불러옴\n",
    "df_raw.head(3)\n",
    "\n",
    "from sklearn.linear_model import LinearRegression\n",
    "import statsmodels.formula.api as smf\n",
    "model = smf.ols(formula = \"strength~Oven_TMP\", data=df_raw)\n",
    "\n",
    "result = model.fit()\n",
    "print(result.summary())\n",
    "\n",
    "#회귀식은 strength = 30.419 + 0.0056 * Oven_TMP이다. 설명력은 R-Sq = 0.1%이다.\n",
    "# R-square 값은 0.001으로 설명력이 낮은 편이다.\n",
    "# 따라서, 초코칩의 강도와 오븐 온도와의 인과관계는 없다고 볼 수 있다."
   ]
  },
  {
   "cell_type": "code",
   "execution_count": 9,
   "metadata": {},
   "outputs": [
    {
     "name": "stdout",
     "output_type": "stream",
     "text": [
      "                          df        sum_sq       mean_sq         F    PR(>F)\n",
      "C(weekday)               4.0  7.083747e+06  1.770937e+06  1.732501  0.168888\n",
      "C(position)              2.0  1.728288e+07  8.641441e+06  8.453891  0.001225\n",
      "C(weekday):C(position)   8.0  1.952911e+06  2.441138e+05  0.238816  0.980024\n",
      "Residual                30.0  3.066555e+07  1.022185e+06       NaN       NaN\n"
     ]
    }
   ],
   "source": [
    "#본사에서는 대리점의 위치별(중심자, 시내, 쇼핑센터) 상품판매량에 차이가 있는지 검정하라(유의수준 5%)\n",
    "df = pd.read_csv(\"/home/pirl/Downloads/storesales.csv\", engine = \"python\", encoding = 'euckr')\n",
    "formula='sales~C(weekday) + C(position) + C(weekday):C(position)'\n",
    "lm = ols(formula, df).fit()\n",
    "print(anova_lm(lm))\n",
    "\n",
    "\n",
    "# PR(>F) 항목은 F검정통계량의 결과로 P값으로 볼 수 있다.\n",
    "# weekday의 p값은 0.05보다 크므로, weekday와 상품판매량의 관계는 없다고 볼 수 있다.\n",
    "# position의 p값은 0.05보다 작으므로,position과 상품판매량의 관계는 있다고 볼 수 있다.\n",
    "# weekday와 position과의 교차 관계의 p값은 0.05보다 크므로, 서로 관계가 없다고 볼 수 있다."
   ]
  },
  {
   "cell_type": "markdown",
   "metadata": {},
   "source": [
    "# 기타 연습 문제"
   ]
  },
  {
   "cell_type": "code",
   "execution_count": 10,
   "metadata": {},
   "outputs": [
    {
     "name": "stdout",
     "output_type": "stream",
     "text": [
      "Correlation Analysis\n",
      "corr:0.989\n",
      "p-value : 0.000\n"
     ]
    }
   ],
   "source": [
    "#p181\n",
    "df1 = [1,2,3,4,4,5,6,6,7,8]\n",
    "df2 = [23,29,49,64,74,87,96,97,109,119]\n",
    "\n",
    "corr, pval = stats.pearsonr(df1, df2)\n",
    "\n",
    "print(\"Correlation Analysis\")\n",
    "print('corr:{0:0.3f}'.format(corr))\n",
    "print('p-value : {0:0.3f}'.format(pval))"
   ]
  },
  {
   "cell_type": "code",
   "execution_count": null,
   "metadata": {},
   "outputs": [],
   "source": [
    "#p.205\n",
    "df_raw = pd.read_csv(\"/home/pirl/Downloads/직무능력평가.csv\", engine = \"python\") #데이터를 불러옴\n",
    "df_raw.head(3)\n",
    "\n",
    "from sklearn.linear_model import LinearRegression\n",
    "import statsmodels.formula.api as smf\n",
    "model = smf.ols(formula = \"EVAL~DISSATIS\", data=df_raw)\n",
    "\n",
    "result = model.fit()\n",
    "print(result.summary())"
   ]
  }
 ],
 "metadata": {
  "kernelspec": {
   "display_name": "Python 3",
   "language": "python",
   "name": "python3"
  },
  "language_info": {
   "codemirror_mode": {
    "name": "ipython",
    "version": 3
   },
   "file_extension": ".py",
   "mimetype": "text/x-python",
   "name": "python",
   "nbconvert_exporter": "python",
   "pygments_lexer": "ipython3",
   "version": "3.7.4"
  }
 },
 "nbformat": 4,
 "nbformat_minor": 2
}
