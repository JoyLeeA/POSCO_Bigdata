{
 "cells": [
  {
   "cell_type": "markdown",
   "metadata": {},
   "source": [
    "Step 0. 패키지 불러오기"
   ]
  },
  {
   "cell_type": "code",
   "execution_count": 3,
   "metadata": {},
   "outputs": [],
   "source": [
    "import pandas as pd\n",
    "import matplotlib.pyplot as plt\n",
    "import matplotlib\n",
    "\n",
    "from sklearn.preprocessing import StandardScaler\n",
    "\n",
    "from sklearn.model_selection import train_test_split\n",
    "\n",
    "from sklearn.svm import SVR\n",
    "\n",
    "from sklearn.model_selection import GridSearchCV\n",
    "import os"
   ]
  },
  {
   "cell_type": "code",
   "execution_count": 4,
   "metadata": {},
   "outputs": [],
   "source": [
    "matplotlib.rc(\"font\", family=\"NanumGothic\")\n",
    "plt.rcParams['axes.unicode_minus']=False\n",
    "os.environ['PATH']+=os.pathsep+\"~/anaconda3/lib/python3.7/site-packages\""
   ]
  },
  {
   "cell_type": "markdown",
   "metadata": {},
   "source": [
    "Step1. 데이터 구성하기"
   ]
  },
  {
   "cell_type": "code",
   "execution_count": 6,
   "metadata": {},
   "outputs": [
    {
     "name": "stdout",
     "output_type": "stream",
     "text": [
      "train data X size :(176, 13)\n",
      "train data Y size :(176,)\n",
      "test data X size :(76, 13)\n",
      "test data Y size :(76,)\n"
     ]
    }
   ],
   "source": [
    "df = pd.read_csv(\"data/BigData/체질검사.csv\")\n",
    "df_x=df.drop('FAT',axis=1)\n",
    "df_y=df['FAT']\n",
    "\n",
    "# x: 설명변수 데이터, y: 목표변수 데이터, test_size: test데이터 비율, random_state:random_seed\n",
    "df_train_x, df_test_x, df_train_y, df_test_y = train_test_split(df_x,df_y, test_size=0.3,\n",
    "                                                               random_state=23)\n",
    "print(\"train data X size :{}\".format(df_train_x.shape))\n",
    "print(\"train data Y size :{}\".format(df_train_y.shape))\n",
    "print(\"test data X size :{}\".format(df_test_x.shape))\n",
    "print(\"test data Y size :{}\".format(df_test_y.shape))"
   ]
  },
  {
   "cell_type": "markdown",
   "metadata": {},
   "source": [
    "Step2. 모델 생성"
   ]
  },
  {
   "cell_type": "code",
   "execution_count": 7,
   "metadata": {},
   "outputs": [
    {
     "name": "stdout",
     "output_type": "stream",
     "text": [
      "Score on training set : 0.177\n",
      "Score on test set : -0.012\n"
     ]
    },
    {
     "name": "stderr",
     "output_type": "stream",
     "text": [
      "/home/pirl/anaconda3/lib/python3.7/site-packages/sklearn/svm/base.py:193: FutureWarning: The default value of gamma will change from 'auto' to 'scale' in version 0.22 to account better for unscaled features. Set gamma explicitly to 'auto' or 'scale' to avoid this warning.\n",
      "  \"avoid this warning.\", FutureWarning)\n"
     ]
    }
   ],
   "source": [
    "svm_uncustomized = SVR()\n",
    "svm_uncustomized.fit(df_train_x, df_train_y)\n",
    "\n",
    "print(\"Score on training set : {:.3f}\".format(svm_uncustomized.score(df_train_x, df_train_y)))\n",
    "print(\"Score on test set : {:.3f}\".format(svm_uncustomized.score(df_test_x, df_test_y)))"
   ]
  },
  {
   "cell_type": "code",
   "execution_count": 24,
   "metadata": {},
   "outputs": [
    {
     "data": {
      "text/plain": [
       "SVR(C=1.0, cache_size=200, coef0=0.0, degree=3, epsilon=0.1,\n",
       "    gamma='auto_deprecated', kernel='rbf', max_iter=-1, shrinking=True,\n",
       "    tol=0.001, verbose=False)"
      ]
     },
     "execution_count": 24,
     "metadata": {},
     "output_type": "execute_result"
    }
   ],
   "source": [
    "svm_uncustomized"
   ]
  },
  {
   "cell_type": "markdown",
   "metadata": {},
   "source": [
    "설명력이 매우 낮음 : 데이터 scale 변환 필요"
   ]
  },
  {
   "cell_type": "markdown",
   "metadata": {},
   "source": [
    "Scale 변환(설명변수 대상)"
   ]
  },
  {
   "cell_type": "code",
   "execution_count": 9,
   "metadata": {},
   "outputs": [
    {
     "data": {
      "text/html": [
       "<div>\n",
       "<style scoped>\n",
       "    .dataframe tbody tr th:only-of-type {\n",
       "        vertical-align: middle;\n",
       "    }\n",
       "\n",
       "    .dataframe tbody tr th {\n",
       "        vertical-align: top;\n",
       "    }\n",
       "\n",
       "    .dataframe thead th {\n",
       "        text-align: right;\n",
       "    }\n",
       "</style>\n",
       "<table border=\"1\" class=\"dataframe\">\n",
       "  <thead>\n",
       "    <tr style=\"text-align: right;\">\n",
       "      <th></th>\n",
       "      <th>AGE</th>\n",
       "      <th>WEIGHT</th>\n",
       "      <th>HEIGHT</th>\n",
       "      <th>NECK</th>\n",
       "      <th>CHEST</th>\n",
       "      <th>ABDOMEN</th>\n",
       "      <th>HIP</th>\n",
       "      <th>THIGH</th>\n",
       "      <th>KNEE</th>\n",
       "      <th>ANKLE</th>\n",
       "      <th>BICEPS</th>\n",
       "      <th>FOREARM</th>\n",
       "      <th>WRIST</th>\n",
       "    </tr>\n",
       "  </thead>\n",
       "  <tbody>\n",
       "    <tr>\n",
       "      <th>0</th>\n",
       "      <td>0.088660</td>\n",
       "      <td>6.280963</td>\n",
       "      <td>0.574790</td>\n",
       "      <td>5.444135</td>\n",
       "      <td>4.204531</td>\n",
       "      <td>5.161290</td>\n",
       "      <td>6.684808</td>\n",
       "      <td>5.323774</td>\n",
       "      <td>4.366207</td>\n",
       "      <td>3.841274</td>\n",
       "      <td>4.220708</td>\n",
       "      <td>0.166666</td>\n",
       "      <td>3.402526</td>\n",
       "    </tr>\n",
       "    <tr>\n",
       "      <th>1</th>\n",
       "      <td>-1.422033</td>\n",
       "      <td>-0.372455</td>\n",
       "      <td>0.301235</td>\n",
       "      <td>0.044490</td>\n",
       "      <td>-0.929933</td>\n",
       "      <td>-1.250360</td>\n",
       "      <td>-0.755929</td>\n",
       "      <td>-0.401936</td>\n",
       "      <td>-0.993129</td>\n",
       "      <td>0.826247</td>\n",
       "      <td>-1.085611</td>\n",
       "      <td>0.662531</td>\n",
       "      <td>0.612020</td>\n",
       "    </tr>\n",
       "    <tr>\n",
       "      <th>2</th>\n",
       "      <td>1.917394</td>\n",
       "      <td>-0.040040</td>\n",
       "      <td>-0.451039</td>\n",
       "      <td>0.291802</td>\n",
       "      <td>0.139747</td>\n",
       "      <td>0.227107</td>\n",
       "      <td>-0.224448</td>\n",
       "      <td>-0.840907</td>\n",
       "      <td>-0.120679</td>\n",
       "      <td>-0.769944</td>\n",
       "      <td>-0.488650</td>\n",
       "      <td>-1.469689</td>\n",
       "      <td>0.612020</td>\n",
       "    </tr>\n",
       "    <tr>\n",
       "      <th>3</th>\n",
       "      <td>0.963272</td>\n",
       "      <td>-1.062856</td>\n",
       "      <td>-1.203313</td>\n",
       "      <td>-1.150851</td>\n",
       "      <td>-0.145501</td>\n",
       "      <td>-0.572026</td>\n",
       "      <td>-1.371328</td>\n",
       "      <td>-1.222621</td>\n",
       "      <td>-1.491672</td>\n",
       "      <td>-1.065535</td>\n",
       "      <td>-0.190169</td>\n",
       "      <td>-0.676305</td>\n",
       "      <td>-1.427195</td>\n",
       "    </tr>\n",
       "    <tr>\n",
       "      <th>4</th>\n",
       "      <td>0.486211</td>\n",
       "      <td>1.366332</td>\n",
       "      <td>-1.682033</td>\n",
       "      <td>1.322269</td>\n",
       "      <td>2.255336</td>\n",
       "      <td>2.745306</td>\n",
       "      <td>1.803573</td>\n",
       "      <td>0.590521</td>\n",
       "      <td>-0.702312</td>\n",
       "      <td>0.294183</td>\n",
       "      <td>0.804765</td>\n",
       "      <td>0.216252</td>\n",
       "      <td>0.182712</td>\n",
       "    </tr>\n",
       "  </tbody>\n",
       "</table>\n",
       "</div>"
      ],
      "text/plain": [
       "        AGE    WEIGHT    HEIGHT      NECK     CHEST   ABDOMEN       HIP  \\\n",
       "0  0.088660  6.280963  0.574790  5.444135  4.204531  5.161290  6.684808   \n",
       "1 -1.422033 -0.372455  0.301235  0.044490 -0.929933 -1.250360 -0.755929   \n",
       "2  1.917394 -0.040040 -0.451039  0.291802  0.139747  0.227107 -0.224448   \n",
       "3  0.963272 -1.062856 -1.203313 -1.150851 -0.145501 -0.572026 -1.371328   \n",
       "4  0.486211  1.366332 -1.682033  1.322269  2.255336  2.745306  1.803573   \n",
       "\n",
       "      THIGH      KNEE     ANKLE    BICEPS   FOREARM     WRIST  \n",
       "0  5.323774  4.366207  3.841274  4.220708  0.166666  3.402526  \n",
       "1 -0.401936 -0.993129  0.826247 -1.085611  0.662531  0.612020  \n",
       "2 -0.840907 -0.120679 -0.769944 -0.488650 -1.469689  0.612020  \n",
       "3 -1.222621 -1.491672 -1.065535 -0.190169 -0.676305 -1.427195  \n",
       "4  0.590521 -0.702312  0.294183  0.804765  0.216252  0.182712  "
      ]
     },
     "execution_count": 9,
     "metadata": {},
     "output_type": "execute_result"
    }
   ],
   "source": [
    "v_feature_name = df_train_x.columns\n",
    "\n",
    "scaler = StandardScaler()\n",
    "df_scaled = scaler.fit_transform(df_x)\n",
    "df_scaled = pd.DataFrame(df_scaled, columns=v_feature_name)\n",
    "df_scaled.head()"
   ]
  },
  {
   "cell_type": "markdown",
   "metadata": {},
   "source": [
    "Scale 변환 데이터 분할"
   ]
  },
  {
   "cell_type": "code",
   "execution_count": 20,
   "metadata": {},
   "outputs": [
    {
     "name": "stdout",
     "output_type": "stream",
     "text": [
      "train data X size :(176, 13)\n",
      "test data X size :(76, 13)\n"
     ]
    }
   ],
   "source": [
    "df_scaled_train_x ,df_scaled_test_x = train_test_split(df_scaled, test_size=0.3, random_state=23)\n",
    "print(\"train data X size :{}\".format(df_scaled_train_x.shape))\n",
    "print(\"test data X size :{}\".format(df_scaled_test_x.shape))"
   ]
  },
  {
   "cell_type": "markdown",
   "metadata": {},
   "source": [
    "기본 옵션으로 모델 생성 : scaled 데이터 사용"
   ]
  },
  {
   "cell_type": "code",
   "execution_count": 22,
   "metadata": {},
   "outputs": [
    {
     "name": "stdout",
     "output_type": "stream",
     "text": [
      "Score on training set : 0.573\n",
      "Score on test set : 0.514\n"
     ]
    },
    {
     "name": "stderr",
     "output_type": "stream",
     "text": [
      "/home/pirl/anaconda3/lib/python3.7/site-packages/sklearn/svm/base.py:193: FutureWarning: The default value of gamma will change from 'auto' to 'scale' in version 0.22 to account better for unscaled features. Set gamma explicitly to 'auto' or 'scale' to avoid this warning.\n",
      "  \"avoid this warning.\", FutureWarning)\n"
     ]
    }
   ],
   "source": [
    "svm_scaled = SVR()\n",
    "svm_scaled.fit(df_scaled_train_x, df_train_y)\n",
    "\n",
    "print(\"Score on training set : {:.3f}\".format(svm_scaled.score(df_scaled_train_x, df_train_y)))\n",
    "print(\"Score on test set : {:.3f}\".format(svm_scaled.score(df_scaled_test_x, df_test_y)))"
   ]
  },
  {
   "cell_type": "markdown",
   "metadata": {},
   "source": [
    "모델 설명력이 개선되었으나 parameter 조정 필요"
   ]
  },
  {
   "cell_type": "code",
   "execution_count": 23,
   "metadata": {},
   "outputs": [
    {
     "data": {
      "text/plain": [
       "SVR(C=1.0, cache_size=200, coef0=0.0, degree=3, epsilon=0.1,\n",
       "    gamma='auto_deprecated', kernel='rbf', max_iter=-1, shrinking=True,\n",
       "    tol=0.001, verbose=False)"
      ]
     },
     "execution_count": 23,
     "metadata": {},
     "output_type": "execute_result"
    }
   ],
   "source": [
    "svm_scaled"
   ]
  },
  {
   "cell_type": "markdown",
   "metadata": {},
   "source": [
    "Step2. 모델 parameter 조정"
   ]
  },
  {
   "cell_type": "markdown",
   "metadata": {},
   "source": [
    "### C 규제 변경"
   ]
  },
  {
   "cell_type": "code",
   "execution_count": null,
   "metadata": {},
   "outputs": [],
   "source": [
    "train_score=[]; test_score=[]; sub_score=[]\n",
    "\n",
    "para_C = [10 ** c for c in range(-2, 3)]\n",
    "\n",
    "for v_C in para_C:\n",
    "    svm = SVR(C=v_C)\n",
    "    svm.fit(df_scaled_train_x, df_train_y)\n",
    "    train_score.append(svm.score(df_scaled_train_x, df_train_y))\n",
    "    test_score.append(svm.score(df_scaled_test_x, df_test_y))\n",
    "    sub_score.append(abs(svm.score(df_scaled_train_x,df_train_y)-svm.score(df_scaled_test_x, df_test_y)))\n",
    "    \n",
    "df_score_c=pd.DataFrame()\n",
    "df_score_c['gamma']=para_C\n",
    "df_score_c['TrainScore']=train_score\n",
    "df_score_c['TestScore']=test_score\n",
    "df_score_c['sub']=sub_score\n",
    "\n",
    "df_score_c.round(3)"
   ]
  },
  {
   "cell_type": "code",
   "execution_count": 41,
   "metadata": {
    "scrolled": false
   },
   "outputs": [
    {
     "data": {
      "text/plain": [
       "<matplotlib.legend.Legend at 0x7f66fb6d5898>"
      ]
     },
     "execution_count": 41,
     "metadata": {},
     "output_type": "execute_result"
    },
    {
     "data": {
      "image/png": "[encoded data removed]",
      "text/plain": [
       "<Figure size 432x288 with 1 Axes>"
      ]
     },
     "metadata": {
      "needs_background": "light"
     },
     "output_type": "display_data"
    }
   ],
   "source": [
    "plt.plot(para_C, train_score, linestyle=\"-\", label=\"Train Score\")\n",
    "plt.plot(para_C, test_score, lineStyle=\"--\", label=\"Test Score\")\n",
    "plt.plot(para_C,sub_score, lineStyle=\":\", label=\"Sub\" )\n",
    "plt.ylabel('score'); plt.xlabel('C')\n",
    "plt.legend()"
   ]
  },
  {
   "cell_type": "markdown",
   "metadata": {},
   "source": [
    "### Gamma 규제(훈련 샘플이 미치는 영향의 범위) 변경"
   ]
  },
  {
   "cell_type": "code",
   "execution_count": 61,
   "metadata": {},
   "outputs": [
    {
     "data": {
      "text/html": [
       "<div>\n",
       "<style scoped>\n",
       "    .dataframe tbody tr th:only-of-type {\n",
       "        vertical-align: middle;\n",
       "    }\n",
       "\n",
       "    .dataframe tbody tr th {\n",
       "        vertical-align: top;\n",
       "    }\n",
       "\n",
       "    .dataframe thead th {\n",
       "        text-align: right;\n",
       "    }\n",
       "</style>\n",
       "<table border=\"1\" class=\"dataframe\">\n",
       "  <thead>\n",
       "    <tr style=\"text-align: right;\">\n",
       "      <th></th>\n",
       "      <th>gamma</th>\n",
       "      <th>TrainScore</th>\n",
       "      <th>TestScore</th>\n",
       "      <th>sub</th>\n",
       "    </tr>\n",
       "  </thead>\n",
       "  <tbody>\n",
       "    <tr>\n",
       "      <th>0</th>\n",
       "      <td>0.01</td>\n",
       "      <td>0.753</td>\n",
       "      <td>0.637</td>\n",
       "      <td>0.116</td>\n",
       "    </tr>\n",
       "    <tr>\n",
       "      <th>1</th>\n",
       "      <td>0.10</td>\n",
       "      <td>0.862</td>\n",
       "      <td>0.591</td>\n",
       "      <td>0.270</td>\n",
       "    </tr>\n",
       "    <tr>\n",
       "      <th>2</th>\n",
       "      <td>1.00</td>\n",
       "      <td>0.936</td>\n",
       "      <td>0.201</td>\n",
       "      <td>0.735</td>\n",
       "    </tr>\n",
       "    <tr>\n",
       "      <th>3</th>\n",
       "      <td>10.00</td>\n",
       "      <td>0.918</td>\n",
       "      <td>-0.022</td>\n",
       "      <td>0.941</td>\n",
       "    </tr>\n",
       "    <tr>\n",
       "      <th>4</th>\n",
       "      <td>100.00</td>\n",
       "      <td>0.918</td>\n",
       "      <td>-0.022</td>\n",
       "      <td>0.941</td>\n",
       "    </tr>\n",
       "  </tbody>\n",
       "</table>\n",
       "</div>"
      ],
      "text/plain": [
       "    gamma  TrainScore  TestScore    sub\n",
       "0    0.01       0.753      0.637  0.116\n",
       "1    0.10       0.862      0.591  0.270\n",
       "2    1.00       0.936      0.201  0.735\n",
       "3   10.00       0.918     -0.022  0.941\n",
       "4  100.00       0.918     -0.022  0.941"
      ]
     },
     "execution_count": 61,
     "metadata": {},
     "output_type": "execute_result"
    }
   ],
   "source": [
    "train_score=[]; test_score=[]; sub_score=[]\n",
    "para_gamma = [10**gamma for gamma in range(-2,3)]\n",
    "\n",
    "for v_gamma in para_gamma:\n",
    "    svm=SVR(gamma=v_gamma,C=10)\n",
    "    svm.fit(df_scaled_train_x, df_train_y)\n",
    "    train_score.append(svm.score(df_scaled_train_x, df_train_y))\n",
    "    test_score.append(svm.score(df_scaled_test_x, df_test_y))\n",
    "    sub_score.append(abs(svm.score(df_scaled_train_x,df_train_y)-svm.score(df_scaled_test_x, df_test_y)))\n",
    "    \n",
    "df_score_gamma=pd.DataFrame()\n",
    "df_score_gamma['gamma']=para_gamma\n",
    "df_score_gamma['TrainScore']=train_score\n",
    "df_score_gamma['TestScore']=test_score\n",
    "df_score_gamma['sub']=sub_score\n",
    "\n",
    "df_score_gamma.round(3)"
   ]
  },
  {
   "cell_type": "code",
   "execution_count": 62,
   "metadata": {
    "scrolled": true
   },
   "outputs": [
    {
     "data": {
      "text/plain": [
       "<matplotlib.legend.Legend at 0x7f66fb9d6a58>"
      ]
     },
     "execution_count": 62,
     "metadata": {},
     "output_type": "execute_result"
    },
    {
     "data": {
      "image/png": "[encoded data removed]",
      "text/plain": [
       "<Figure size 432x288 with 1 Axes>"
      ]
     },
     "metadata": {
      "needs_background": "light"
     },
     "output_type": "display_data"
    }
   ],
   "source": [
    "plt.plot(para_gamma, train_score, linestyle=\"-\", label=\"Train Score\")\n",
    "plt.plot(para_gamma, test_score, lineStyle=\"--\", label=\"Test Score\")\n",
    "plt.plot(para_gamma,sub_score, lineStyle=\":\", label=\"Sub\" )\n",
    "plt.ylabel('score'); plt.xlabel('gamma')\n",
    "plt.legend()"
   ]
  },
  {
   "cell_type": "code",
   "execution_count": 63,
   "metadata": {},
   "outputs": [
    {
     "data": {
      "text/html": [
       "<div>\n",
       "<style scoped>\n",
       "    .dataframe tbody tr th:only-of-type {\n",
       "        vertical-align: middle;\n",
       "    }\n",
       "\n",
       "    .dataframe tbody tr th {\n",
       "        vertical-align: top;\n",
       "    }\n",
       "\n",
       "    .dataframe thead th {\n",
       "        text-align: right;\n",
       "    }\n",
       "</style>\n",
       "<table border=\"1\" class=\"dataframe\">\n",
       "  <thead>\n",
       "    <tr style=\"text-align: right;\">\n",
       "      <th></th>\n",
       "      <th>gamma</th>\n",
       "      <th>TrainScore</th>\n",
       "      <th>TestScore</th>\n",
       "      <th>sub</th>\n",
       "    </tr>\n",
       "  </thead>\n",
       "  <tbody>\n",
       "    <tr>\n",
       "      <th>0</th>\n",
       "      <td>0.01</td>\n",
       "      <td>0.753</td>\n",
       "      <td>0.637</td>\n",
       "      <td>0.116</td>\n",
       "    </tr>\n",
       "    <tr>\n",
       "      <th>1</th>\n",
       "      <td>0.02</td>\n",
       "      <td>0.779</td>\n",
       "      <td>0.624</td>\n",
       "      <td>0.155</td>\n",
       "    </tr>\n",
       "    <tr>\n",
       "      <th>2</th>\n",
       "      <td>0.03</td>\n",
       "      <td>0.791</td>\n",
       "      <td>0.619</td>\n",
       "      <td>0.172</td>\n",
       "    </tr>\n",
       "    <tr>\n",
       "      <th>3</th>\n",
       "      <td>0.04</td>\n",
       "      <td>0.804</td>\n",
       "      <td>0.620</td>\n",
       "      <td>0.184</td>\n",
       "    </tr>\n",
       "    <tr>\n",
       "      <th>4</th>\n",
       "      <td>0.05</td>\n",
       "      <td>0.816</td>\n",
       "      <td>0.622</td>\n",
       "      <td>0.194</td>\n",
       "    </tr>\n",
       "    <tr>\n",
       "      <th>5</th>\n",
       "      <td>0.06</td>\n",
       "      <td>0.827</td>\n",
       "      <td>0.620</td>\n",
       "      <td>0.207</td>\n",
       "    </tr>\n",
       "    <tr>\n",
       "      <th>6</th>\n",
       "      <td>0.07</td>\n",
       "      <td>0.837</td>\n",
       "      <td>0.616</td>\n",
       "      <td>0.221</td>\n",
       "    </tr>\n",
       "    <tr>\n",
       "      <th>7</th>\n",
       "      <td>0.08</td>\n",
       "      <td>0.845</td>\n",
       "      <td>0.605</td>\n",
       "      <td>0.240</td>\n",
       "    </tr>\n",
       "  </tbody>\n",
       "</table>\n",
       "</div>"
      ],
      "text/plain": [
       "   gamma  TrainScore  TestScore    sub\n",
       "0   0.01       0.753      0.637  0.116\n",
       "1   0.02       0.779      0.624  0.155\n",
       "2   0.03       0.791      0.619  0.172\n",
       "3   0.04       0.804      0.620  0.184\n",
       "4   0.05       0.816      0.622  0.194\n",
       "5   0.06       0.827      0.620  0.207\n",
       "6   0.07       0.837      0.616  0.221\n",
       "7   0.08       0.845      0.605  0.240"
      ]
     },
     "execution_count": 63,
     "metadata": {},
     "output_type": "execute_result"
    }
   ],
   "source": [
    "train_score=[]; test_score=[]; sub_score=[]\n",
    "para_gamma = [0.01*gamma for gamma in range(1,9)]\n",
    "\n",
    "for v_gamma in para_gamma:\n",
    "    svm=SVR(gamma=v_gamma,C=10)\n",
    "    svm.fit(df_scaled_train_x, df_train_y)\n",
    "    train_score.append(svm.score(df_scaled_train_x, df_train_y))\n",
    "    test_score.append(svm.score(df_scaled_test_x, df_test_y))\n",
    "    sub_score.append(abs(svm.score(df_scaled_train_x,df_train_y)-svm.score(df_scaled_test_x, df_test_y)))\n",
    "    \n",
    "df_score_gamma=pd.DataFrame()\n",
    "df_score_gamma['gamma']=para_gamma\n",
    "df_score_gamma['TrainScore']=train_score\n",
    "df_score_gamma['TestScore']=test_score\n",
    "df_score_gamma['sub']=sub_score\n",
    "\n",
    "df_score_gamma.round(3)"
   ]
  },
  {
   "cell_type": "code",
   "execution_count": 64,
   "metadata": {},
   "outputs": [
    {
     "data": {
      "text/plain": [
       "<matplotlib.legend.Legend at 0x7f66fffcf9b0>"
      ]
     },
     "execution_count": 64,
     "metadata": {},
     "output_type": "execute_result"
    },
    {
     "data": {
      "image/png": "[encoded data removed]",
      "text/plain": [
       "<Figure size 432x288 with 1 Axes>"
      ]
     },
     "metadata": {
      "needs_background": "light"
     },
     "output_type": "display_data"
    }
   ],
   "source": [
    "plt.plot(para_gamma, train_score, linestyle=\"-\", label=\"Train Score\")\n",
    "plt.plot(para_gamma, test_score, lineStyle=\"--\", label=\"Test Score\")\n",
    "plt.plot(para_gamma,sub_score, lineStyle=\":\", label=\"Sub\" )\n",
    "plt.ylabel('score'); plt.xlabel('gamma')\n",
    "plt.legend()"
   ]
  },
  {
   "cell_type": "markdown",
   "metadata": {},
   "source": [
    "### Epsilon 변경"
   ]
  },
  {
   "cell_type": "code",
   "execution_count": 65,
   "metadata": {},
   "outputs": [
    {
     "data": {
      "text/html": [
       "<div>\n",
       "<style scoped>\n",
       "    .dataframe tbody tr th:only-of-type {\n",
       "        vertical-align: middle;\n",
       "    }\n",
       "\n",
       "    .dataframe tbody tr th {\n",
       "        vertical-align: top;\n",
       "    }\n",
       "\n",
       "    .dataframe thead th {\n",
       "        text-align: right;\n",
       "    }\n",
       "</style>\n",
       "<table border=\"1\" class=\"dataframe\">\n",
       "  <thead>\n",
       "    <tr style=\"text-align: right;\">\n",
       "      <th></th>\n",
       "      <th>epsilon</th>\n",
       "      <th>TrainScore</th>\n",
       "      <th>TestScore</th>\n",
       "      <th>sub</th>\n",
       "    </tr>\n",
       "  </thead>\n",
       "  <tbody>\n",
       "    <tr>\n",
       "      <th>0</th>\n",
       "      <td>0.05</td>\n",
       "      <td>0.754</td>\n",
       "      <td>0.637</td>\n",
       "      <td>0.117</td>\n",
       "    </tr>\n",
       "    <tr>\n",
       "      <th>1</th>\n",
       "      <td>0.10</td>\n",
       "      <td>0.753</td>\n",
       "      <td>0.637</td>\n",
       "      <td>0.116</td>\n",
       "    </tr>\n",
       "    <tr>\n",
       "      <th>2</th>\n",
       "      <td>0.15</td>\n",
       "      <td>0.752</td>\n",
       "      <td>0.636</td>\n",
       "      <td>0.117</td>\n",
       "    </tr>\n",
       "    <tr>\n",
       "      <th>3</th>\n",
       "      <td>0.20</td>\n",
       "      <td>0.752</td>\n",
       "      <td>0.634</td>\n",
       "      <td>0.118</td>\n",
       "    </tr>\n",
       "    <tr>\n",
       "      <th>4</th>\n",
       "      <td>0.25</td>\n",
       "      <td>0.752</td>\n",
       "      <td>0.633</td>\n",
       "      <td>0.119</td>\n",
       "    </tr>\n",
       "    <tr>\n",
       "      <th>5</th>\n",
       "      <td>0.30</td>\n",
       "      <td>0.752</td>\n",
       "      <td>0.633</td>\n",
       "      <td>0.119</td>\n",
       "    </tr>\n",
       "    <tr>\n",
       "      <th>6</th>\n",
       "      <td>0.35</td>\n",
       "      <td>0.753</td>\n",
       "      <td>0.633</td>\n",
       "      <td>0.119</td>\n",
       "    </tr>\n",
       "    <tr>\n",
       "      <th>7</th>\n",
       "      <td>0.40</td>\n",
       "      <td>0.754</td>\n",
       "      <td>0.633</td>\n",
       "      <td>0.120</td>\n",
       "    </tr>\n",
       "    <tr>\n",
       "      <th>8</th>\n",
       "      <td>0.45</td>\n",
       "      <td>0.755</td>\n",
       "      <td>0.633</td>\n",
       "      <td>0.122</td>\n",
       "    </tr>\n",
       "    <tr>\n",
       "      <th>9</th>\n",
       "      <td>0.50</td>\n",
       "      <td>0.756</td>\n",
       "      <td>0.632</td>\n",
       "      <td>0.124</td>\n",
       "    </tr>\n",
       "    <tr>\n",
       "      <th>10</th>\n",
       "      <td>0.55</td>\n",
       "      <td>0.756</td>\n",
       "      <td>0.632</td>\n",
       "      <td>0.125</td>\n",
       "    </tr>\n",
       "    <tr>\n",
       "      <th>11</th>\n",
       "      <td>0.60</td>\n",
       "      <td>0.756</td>\n",
       "      <td>0.633</td>\n",
       "      <td>0.124</td>\n",
       "    </tr>\n",
       "    <tr>\n",
       "      <th>12</th>\n",
       "      <td>0.65</td>\n",
       "      <td>0.757</td>\n",
       "      <td>0.634</td>\n",
       "      <td>0.123</td>\n",
       "    </tr>\n",
       "    <tr>\n",
       "      <th>13</th>\n",
       "      <td>0.70</td>\n",
       "      <td>0.757</td>\n",
       "      <td>0.634</td>\n",
       "      <td>0.123</td>\n",
       "    </tr>\n",
       "    <tr>\n",
       "      <th>14</th>\n",
       "      <td>0.75</td>\n",
       "      <td>0.758</td>\n",
       "      <td>0.634</td>\n",
       "      <td>0.123</td>\n",
       "    </tr>\n",
       "    <tr>\n",
       "      <th>15</th>\n",
       "      <td>0.80</td>\n",
       "      <td>0.759</td>\n",
       "      <td>0.635</td>\n",
       "      <td>0.124</td>\n",
       "    </tr>\n",
       "    <tr>\n",
       "      <th>16</th>\n",
       "      <td>0.85</td>\n",
       "      <td>0.759</td>\n",
       "      <td>0.635</td>\n",
       "      <td>0.123</td>\n",
       "    </tr>\n",
       "    <tr>\n",
       "      <th>17</th>\n",
       "      <td>0.90</td>\n",
       "      <td>0.758</td>\n",
       "      <td>0.637</td>\n",
       "      <td>0.121</td>\n",
       "    </tr>\n",
       "    <tr>\n",
       "      <th>18</th>\n",
       "      <td>0.95</td>\n",
       "      <td>0.758</td>\n",
       "      <td>0.639</td>\n",
       "      <td>0.119</td>\n",
       "    </tr>\n",
       "    <tr>\n",
       "      <th>19</th>\n",
       "      <td>1.00</td>\n",
       "      <td>0.757</td>\n",
       "      <td>0.638</td>\n",
       "      <td>0.119</td>\n",
       "    </tr>\n",
       "  </tbody>\n",
       "</table>\n",
       "</div>"
      ],
      "text/plain": [
       "    epsilon  TrainScore  TestScore    sub\n",
       "0      0.05       0.754      0.637  0.117\n",
       "1      0.10       0.753      0.637  0.116\n",
       "2      0.15       0.752      0.636  0.117\n",
       "3      0.20       0.752      0.634  0.118\n",
       "4      0.25       0.752      0.633  0.119\n",
       "5      0.30       0.752      0.633  0.119\n",
       "6      0.35       0.753      0.633  0.119\n",
       "7      0.40       0.754      0.633  0.120\n",
       "8      0.45       0.755      0.633  0.122\n",
       "9      0.50       0.756      0.632  0.124\n",
       "10     0.55       0.756      0.632  0.125\n",
       "11     0.60       0.756      0.633  0.124\n",
       "12     0.65       0.757      0.634  0.123\n",
       "13     0.70       0.757      0.634  0.123\n",
       "14     0.75       0.758      0.634  0.123\n",
       "15     0.80       0.759      0.635  0.124\n",
       "16     0.85       0.759      0.635  0.123\n",
       "17     0.90       0.758      0.637  0.121\n",
       "18     0.95       0.758      0.639  0.119\n",
       "19     1.00       0.757      0.638  0.119"
      ]
     },
     "execution_count": 65,
     "metadata": {},
     "output_type": "execute_result"
    }
   ],
   "source": [
    "train_score=[]; test_score=[]; sub_score=[]\n",
    "\n",
    "para_epsilon=[eps/20 for eps in range(1,21)]\n",
    "\n",
    "for v_epsilon in para_epsilon:\n",
    "    svm=SVR(epsilon=v_epsilon, C=10, gamma=0.01)\n",
    "    svm.fit(df_scaled_train_x, df_train_y)\n",
    "    train_score.append(svm.score(df_scaled_train_x, df_train_y))\n",
    "    test_score.append(svm.score(df_scaled_test_x, df_test_y))\n",
    "    sub_score.append(abs(svm.score(df_scaled_train_x,df_train_y)-svm.score(df_scaled_test_x, df_test_y)))\n",
    "\n",
    "df_score_epsilon=pd.DataFrame()\n",
    "df_score_epsilon['epsilon']=para_epsilon\n",
    "df_score_epsilon['TrainScore']=train_score\n",
    "df_score_epsilon['TestScore']=test_score\n",
    "df_score_epsilon['sub']=sub_score\n",
    "\n",
    "df_score_epsilon.round(3)"
   ]
  },
  {
   "cell_type": "code",
   "execution_count": 66,
   "metadata": {
    "scrolled": true
   },
   "outputs": [
    {
     "data": {
      "text/plain": [
       "<matplotlib.legend.Legend at 0x7f6700336668>"
      ]
     },
     "execution_count": 66,
     "metadata": {},
     "output_type": "execute_result"
    },
    {
     "data": {
      "image/png": "[encoded data removed]",
      "text/plain": [
       "<Figure size 432x288 with 1 Axes>"
      ]
     },
     "metadata": {
      "needs_background": "light"
     },
     "output_type": "display_data"
    }
   ],
   "source": [
    "plt.plot(para_epsilon, train_score, linestyle=\"-\", label=\"Train Score\")\n",
    "plt.plot(para_epsilon, test_score, lineStyle=\"--\", label=\"Test Score\")\n",
    "plt.plot(para_epsilon,sub_score, lineStyle=\":\", label=\"Sub\" )\n",
    "plt.ylabel('score'); plt.xlabel('epsilon')\n",
    "plt.legend()"
   ]
  },
  {
   "cell_type": "markdown",
   "metadata": {},
   "source": [
    "### 최종 모델 생성"
   ]
  },
  {
   "cell_type": "code",
   "execution_count": 68,
   "metadata": {
    "scrolled": true
   },
   "outputs": [
    {
     "name": "stdout",
     "output_type": "stream",
     "text": [
      "Scored on training set: 0.864\n",
      "Scored on test set : 0.611\n"
     ]
    }
   ],
   "source": [
    "svm_final=SVR(C=10, gamma=0.1, epsilon=0.5)\n",
    "svm_final.fit(df_scaled_train_x, df_train_y)\n",
    "\n",
    "print(\"Scored on training set: {:.3f}\".format(svm_final.score(df_scaled_train_x, df_train_y)))\n",
    "print(\"Scored on test set : {:.3f}\".format(svm_final.score(df_scaled_test_x, df_test_y)))"
   ]
  },
  {
   "cell_type": "code",
   "execution_count": null,
   "metadata": {},
   "outputs": [],
   "source": [
    "estimator = SVR()\n",
    "\n",
    "param_grid={\"C\":para_C, \"gamma\":para_gamma, \"epsilon\":para_epsilon}\n"
   ]
  },
  {
   "cell_type": "markdown",
   "metadata": {},
   "source": [
    "# 실습"
   ]
  },
  {
   "cell_type": "code",
   "execution_count": 80,
   "metadata": {},
   "outputs": [
    {
     "data": {
      "text/html": [
       "<div>\n",
       "<style scoped>\n",
       "    .dataframe tbody tr th:only-of-type {\n",
       "        vertical-align: middle;\n",
       "    }\n",
       "\n",
       "    .dataframe tbody tr th {\n",
       "        vertical-align: top;\n",
       "    }\n",
       "\n",
       "    .dataframe thead th {\n",
       "        text-align: right;\n",
       "    }\n",
       "</style>\n",
       "<table border=\"1\" class=\"dataframe\">\n",
       "  <thead>\n",
       "    <tr style=\"text-align: right;\">\n",
       "      <th></th>\n",
       "      <th>Y</th>\n",
       "      <th>AGE</th>\n",
       "      <th>GENDER</th>\n",
       "      <th>BMI</th>\n",
       "      <th>BP</th>\n",
       "      <th>CHOLESTEROL</th>\n",
       "      <th>LDL</th>\n",
       "      <th>HDL</th>\n",
       "      <th>TCH</th>\n",
       "      <th>LTG</th>\n",
       "      <th>GLUCOSE</th>\n",
       "    </tr>\n",
       "  </thead>\n",
       "  <tbody>\n",
       "    <tr>\n",
       "      <th>0</th>\n",
       "      <td>151</td>\n",
       "      <td>59</td>\n",
       "      <td>2</td>\n",
       "      <td>32.1</td>\n",
       "      <td>101.0</td>\n",
       "      <td>157</td>\n",
       "      <td>93.2</td>\n",
       "      <td>38.0</td>\n",
       "      <td>4.0</td>\n",
       "      <td>4.8598</td>\n",
       "      <td>87</td>\n",
       "    </tr>\n",
       "    <tr>\n",
       "      <th>1</th>\n",
       "      <td>75</td>\n",
       "      <td>48</td>\n",
       "      <td>1</td>\n",
       "      <td>21.6</td>\n",
       "      <td>87.0</td>\n",
       "      <td>183</td>\n",
       "      <td>103.2</td>\n",
       "      <td>70.0</td>\n",
       "      <td>3.0</td>\n",
       "      <td>3.8918</td>\n",
       "      <td>69</td>\n",
       "    </tr>\n",
       "    <tr>\n",
       "      <th>2</th>\n",
       "      <td>141</td>\n",
       "      <td>72</td>\n",
       "      <td>2</td>\n",
       "      <td>30.5</td>\n",
       "      <td>93.0</td>\n",
       "      <td>156</td>\n",
       "      <td>93.6</td>\n",
       "      <td>41.0</td>\n",
       "      <td>4.0</td>\n",
       "      <td>4.6728</td>\n",
       "      <td>85</td>\n",
       "    </tr>\n",
       "    <tr>\n",
       "      <th>3</th>\n",
       "      <td>206</td>\n",
       "      <td>24</td>\n",
       "      <td>1</td>\n",
       "      <td>25.3</td>\n",
       "      <td>84.0</td>\n",
       "      <td>198</td>\n",
       "      <td>131.4</td>\n",
       "      <td>40.0</td>\n",
       "      <td>5.0</td>\n",
       "      <td>4.8903</td>\n",
       "      <td>89</td>\n",
       "    </tr>\n",
       "    <tr>\n",
       "      <th>4</th>\n",
       "      <td>135</td>\n",
       "      <td>50</td>\n",
       "      <td>1</td>\n",
       "      <td>23.0</td>\n",
       "      <td>101.0</td>\n",
       "      <td>192</td>\n",
       "      <td>125.4</td>\n",
       "      <td>52.0</td>\n",
       "      <td>4.0</td>\n",
       "      <td>4.2905</td>\n",
       "      <td>80</td>\n",
       "    </tr>\n",
       "  </tbody>\n",
       "</table>\n",
       "</div>"
      ],
      "text/plain": [
       "     Y  AGE  GENDER   BMI     BP  CHOLESTEROL    LDL   HDL  TCH     LTG  \\\n",
       "0  151   59       2  32.1  101.0          157   93.2  38.0  4.0  4.8598   \n",
       "1   75   48       1  21.6   87.0          183  103.2  70.0  3.0  3.8918   \n",
       "2  141   72       2  30.5   93.0          156   93.6  41.0  4.0  4.6728   \n",
       "3  206   24       1  25.3   84.0          198  131.4  40.0  5.0  4.8903   \n",
       "4  135   50       1  23.0  101.0          192  125.4  52.0  4.0  4.2905   \n",
       "\n",
       "   GLUCOSE  \n",
       "0       87  \n",
       "1       69  \n",
       "2       85  \n",
       "3       89  \n",
       "4       80  "
      ]
     },
     "execution_count": 80,
     "metadata": {},
     "output_type": "execute_result"
    }
   ],
   "source": [
    "df= pd.read_csv(\"data/BigData/DIABETES.csv\")\n",
    "df.head()"
   ]
  },
  {
   "cell_type": "code",
   "execution_count": 81,
   "metadata": {},
   "outputs": [
    {
     "name": "stdout",
     "output_type": "stream",
     "text": [
      "train data X size :(309, 10)\n",
      "train data Y size :(309,)\n",
      "test data X size :(133, 10)\n",
      "test data Y size :(133,)\n"
     ]
    }
   ],
   "source": [
    "df_x=df.drop('Y',axis=1)\n",
    "df_y=df['Y']\n",
    "\n",
    "# x: 설명변수 데이터, y: 목표변수 데이터, test_size: test데이터 비율, random_state:random_seed\n",
    "df_train_x, df_test_x, df_train_y, df_test_y = train_test_split(df_x,df_y, test_size=0.3,\n",
    "                                                               random_state=55)\n",
    "print(\"train data X size :{}\".format(df_train_x.shape))\n",
    "print(\"train data Y size :{}\".format(df_train_y.shape))\n",
    "print(\"test data X size :{}\".format(df_test_x.shape))\n",
    "print(\"test data Y size :{}\".format(df_test_y.shape))"
   ]
  },
  {
   "cell_type": "markdown",
   "metadata": {},
   "source": [
    "Step2. 모델 생성"
   ]
  },
  {
   "cell_type": "code",
   "execution_count": 82,
   "metadata": {},
   "outputs": [
    {
     "name": "stdout",
     "output_type": "stream",
     "text": [
      "Score on training set : 0.002\n",
      "Score on test set : -0.002\n"
     ]
    },
    {
     "name": "stderr",
     "output_type": "stream",
     "text": [
      "/home/pirl/anaconda3/lib/python3.7/site-packages/sklearn/svm/base.py:193: FutureWarning: The default value of gamma will change from 'auto' to 'scale' in version 0.22 to account better for unscaled features. Set gamma explicitly to 'auto' or 'scale' to avoid this warning.\n",
      "  \"avoid this warning.\", FutureWarning)\n"
     ]
    }
   ],
   "source": [
    "svm_uncustomized = SVR()\n",
    "svm_uncustomized.fit(df_train_x, df_train_y)\n",
    "\n",
    "print(\"Score on training set : {:.3f}\".format(svm_uncustomized.score(df_train_x, df_train_y)))\n",
    "print(\"Score on test set : {:.3f}\".format(svm_uncustomized.score(df_test_x, df_test_y)))"
   ]
  },
  {
   "cell_type": "code",
   "execution_count": 83,
   "metadata": {},
   "outputs": [
    {
     "data": {
      "text/plain": [
       "SVR(C=1.0, cache_size=200, coef0=0.0, degree=3, epsilon=0.1,\n",
       "    gamma='auto_deprecated', kernel='rbf', max_iter=-1, shrinking=True,\n",
       "    tol=0.001, verbose=False)"
      ]
     },
     "execution_count": 83,
     "metadata": {},
     "output_type": "execute_result"
    }
   ],
   "source": [
    "svm_uncustomized"
   ]
  },
  {
   "cell_type": "markdown",
   "metadata": {},
   "source": [
    "설명력이 매우 낮음 : 데이터 scale 변환 필요"
   ]
  },
  {
   "cell_type": "markdown",
   "metadata": {},
   "source": [
    "Scale 변환(설명변수 대상)"
   ]
  },
  {
   "cell_type": "code",
   "execution_count": 84,
   "metadata": {},
   "outputs": [
    {
     "data": {
      "text/html": [
       "<div>\n",
       "<style scoped>\n",
       "    .dataframe tbody tr th:only-of-type {\n",
       "        vertical-align: middle;\n",
       "    }\n",
       "\n",
       "    .dataframe tbody tr th {\n",
       "        vertical-align: top;\n",
       "    }\n",
       "\n",
       "    .dataframe thead th {\n",
       "        text-align: right;\n",
       "    }\n",
       "</style>\n",
       "<table border=\"1\" class=\"dataframe\">\n",
       "  <thead>\n",
       "    <tr style=\"text-align: right;\">\n",
       "      <th></th>\n",
       "      <th>AGE</th>\n",
       "      <th>GENDER</th>\n",
       "      <th>BMI</th>\n",
       "      <th>BP</th>\n",
       "      <th>CHOLESTEROL</th>\n",
       "      <th>LDL</th>\n",
       "      <th>HDL</th>\n",
       "      <th>TCH</th>\n",
       "      <th>LTG</th>\n",
       "      <th>GLUCOSE</th>\n",
       "    </tr>\n",
       "  </thead>\n",
       "  <tbody>\n",
       "    <tr>\n",
       "      <th>0</th>\n",
       "      <td>0.800500</td>\n",
       "      <td>1.065488</td>\n",
       "      <td>1.297088</td>\n",
       "      <td>0.459841</td>\n",
       "      <td>-0.929746</td>\n",
       "      <td>-0.732065</td>\n",
       "      <td>-0.912451</td>\n",
       "      <td>-0.054499</td>\n",
       "      <td>0.418531</td>\n",
       "      <td>-0.370989</td>\n",
       "    </tr>\n",
       "    <tr>\n",
       "      <th>1</th>\n",
       "      <td>-0.039567</td>\n",
       "      <td>-0.938537</td>\n",
       "      <td>-1.082180</td>\n",
       "      <td>-0.553505</td>\n",
       "      <td>-0.177624</td>\n",
       "      <td>-0.402886</td>\n",
       "      <td>1.564414</td>\n",
       "      <td>-0.830301</td>\n",
       "      <td>-1.436589</td>\n",
       "      <td>-1.938479</td>\n",
       "    </tr>\n",
       "    <tr>\n",
       "      <th>2</th>\n",
       "      <td>1.793307</td>\n",
       "      <td>1.065488</td>\n",
       "      <td>0.934533</td>\n",
       "      <td>-0.119214</td>\n",
       "      <td>-0.958674</td>\n",
       "      <td>-0.718897</td>\n",
       "      <td>-0.680245</td>\n",
       "      <td>-0.054499</td>\n",
       "      <td>0.060156</td>\n",
       "      <td>-0.545154</td>\n",
       "    </tr>\n",
       "    <tr>\n",
       "      <th>3</th>\n",
       "      <td>-1.872441</td>\n",
       "      <td>-0.938537</td>\n",
       "      <td>-0.243771</td>\n",
       "      <td>-0.770650</td>\n",
       "      <td>0.256292</td>\n",
       "      <td>0.525397</td>\n",
       "      <td>-0.757647</td>\n",
       "      <td>0.721302</td>\n",
       "      <td>0.476983</td>\n",
       "      <td>-0.196823</td>\n",
       "    </tr>\n",
       "    <tr>\n",
       "      <th>4</th>\n",
       "      <td>0.113172</td>\n",
       "      <td>-0.938537</td>\n",
       "      <td>-0.764944</td>\n",
       "      <td>0.459841</td>\n",
       "      <td>0.082726</td>\n",
       "      <td>0.327890</td>\n",
       "      <td>0.171178</td>\n",
       "      <td>-0.054499</td>\n",
       "      <td>-0.672502</td>\n",
       "      <td>-0.980568</td>\n",
       "    </tr>\n",
       "  </tbody>\n",
       "</table>\n",
       "</div>"
      ],
      "text/plain": [
       "        AGE    GENDER       BMI        BP  CHOLESTEROL       LDL       HDL  \\\n",
       "0  0.800500  1.065488  1.297088  0.459841    -0.929746 -0.732065 -0.912451   \n",
       "1 -0.039567 -0.938537 -1.082180 -0.553505    -0.177624 -0.402886  1.564414   \n",
       "2  1.793307  1.065488  0.934533 -0.119214    -0.958674 -0.718897 -0.680245   \n",
       "3 -1.872441 -0.938537 -0.243771 -0.770650     0.256292  0.525397 -0.757647   \n",
       "4  0.113172 -0.938537 -0.764944  0.459841     0.082726  0.327890  0.171178   \n",
       "\n",
       "        TCH       LTG   GLUCOSE  \n",
       "0 -0.054499  0.418531 -0.370989  \n",
       "1 -0.830301 -1.436589 -1.938479  \n",
       "2 -0.054499  0.060156 -0.545154  \n",
       "3  0.721302  0.476983 -0.196823  \n",
       "4 -0.054499 -0.672502 -0.980568  "
      ]
     },
     "execution_count": 84,
     "metadata": {},
     "output_type": "execute_result"
    }
   ],
   "source": [
    "v_feature_name = df_train_x.columns\n",
    "\n",
    "scaler = StandardScaler()\n",
    "df_scaled = scaler.fit_transform(df_x)\n",
    "df_scaled = pd.DataFrame(df_scaled, columns=v_feature_name)\n",
    "df_scaled.head()"
   ]
  },
  {
   "cell_type": "markdown",
   "metadata": {},
   "source": [
    "Scale 변환 데이터 분할"
   ]
  },
  {
   "cell_type": "code",
   "execution_count": 85,
   "metadata": {},
   "outputs": [
    {
     "name": "stdout",
     "output_type": "stream",
     "text": [
      "train data X size :(309, 10)\n",
      "test data X size :(133, 10)\n"
     ]
    }
   ],
   "source": [
    "df_scaled_train_x ,df_scaled_test_x = train_test_split(df_scaled, test_size=0.3, random_state=23)\n",
    "print(\"train data X size :{}\".format(df_scaled_train_x.shape))\n",
    "print(\"test data X size :{}\".format(df_scaled_test_x.shape))"
   ]
  },
  {
   "cell_type": "markdown",
   "metadata": {},
   "source": [
    "기본 옵션으로 모델 생성 : scaled 데이터 사용"
   ]
  },
  {
   "cell_type": "code",
   "execution_count": 86,
   "metadata": {},
   "outputs": [
    {
     "name": "stdout",
     "output_type": "stream",
     "text": [
      "Score on training set : 0.157\n",
      "Score on test set : 0.175\n"
     ]
    },
    {
     "name": "stderr",
     "output_type": "stream",
     "text": [
      "/home/pirl/anaconda3/lib/python3.7/site-packages/sklearn/svm/base.py:193: FutureWarning: The default value of gamma will change from 'auto' to 'scale' in version 0.22 to account better for unscaled features. Set gamma explicitly to 'auto' or 'scale' to avoid this warning.\n",
      "  \"avoid this warning.\", FutureWarning)\n"
     ]
    }
   ],
   "source": [
    "svm_scaled = SVR()\n",
    "svm_scaled.fit(df_scaled_train_x, df_train_y)\n",
    "\n",
    "print(\"Score on training set : {:.3f}\".format(svm_scaled.score(df_scaled_train_x, df_train_y)))\n",
    "print(\"Score on test set : {:.3f}\".format(svm_scaled.score(df_scaled_test_x, df_test_y)))"
   ]
  },
  {
   "cell_type": "markdown",
   "metadata": {},
   "source": [
    "모델 설명력이 개선되었으나 parameter 조정 필요"
   ]
  },
  {
   "cell_type": "code",
   "execution_count": 87,
   "metadata": {},
   "outputs": [
    {
     "data": {
      "text/plain": [
       "SVR(C=1.0, cache_size=200, coef0=0.0, degree=3, epsilon=0.1,\n",
       "    gamma='auto_deprecated', kernel='rbf', max_iter=-1, shrinking=True,\n",
       "    tol=0.001, verbose=False)"
      ]
     },
     "execution_count": 87,
     "metadata": {},
     "output_type": "execute_result"
    }
   ],
   "source": [
    "svm_scaled"
   ]
  },
  {
   "cell_type": "markdown",
   "metadata": {},
   "source": [
    "Step2. 모델 parameter 조정"
   ]
  },
  {
   "cell_type": "markdown",
   "metadata": {},
   "source": [
    "### C 규제"
   ]
  },
  {
   "cell_type": "code",
   "execution_count": 88,
   "metadata": {},
   "outputs": [
    {
     "name": "stderr",
     "output_type": "stream",
     "text": [
      "/home/pirl/anaconda3/lib/python3.7/site-packages/sklearn/svm/base.py:193: FutureWarning: The default value of gamma will change from 'auto' to 'scale' in version 0.22 to account better for unscaled features. Set gamma explicitly to 'auto' or 'scale' to avoid this warning.\n",
      "  \"avoid this warning.\", FutureWarning)\n",
      "/home/pirl/anaconda3/lib/python3.7/site-packages/sklearn/svm/base.py:193: FutureWarning: The default value of gamma will change from 'auto' to 'scale' in version 0.22 to account better for unscaled features. Set gamma explicitly to 'auto' or 'scale' to avoid this warning.\n",
      "  \"avoid this warning.\", FutureWarning)\n",
      "/home/pirl/anaconda3/lib/python3.7/site-packages/sklearn/svm/base.py:193: FutureWarning: The default value of gamma will change from 'auto' to 'scale' in version 0.22 to account better for unscaled features. Set gamma explicitly to 'auto' or 'scale' to avoid this warning.\n",
      "  \"avoid this warning.\", FutureWarning)\n",
      "/home/pirl/anaconda3/lib/python3.7/site-packages/sklearn/svm/base.py:193: FutureWarning: The default value of gamma will change from 'auto' to 'scale' in version 0.22 to account better for unscaled features. Set gamma explicitly to 'auto' or 'scale' to avoid this warning.\n",
      "  \"avoid this warning.\", FutureWarning)\n",
      "/home/pirl/anaconda3/lib/python3.7/site-packages/sklearn/svm/base.py:193: FutureWarning: The default value of gamma will change from 'auto' to 'scale' in version 0.22 to account better for unscaled features. Set gamma explicitly to 'auto' or 'scale' to avoid this warning.\n",
      "  \"avoid this warning.\", FutureWarning)\n"
     ]
    },
    {
     "data": {
      "text/html": [
       "<div>\n",
       "<style scoped>\n",
       "    .dataframe tbody tr th:only-of-type {\n",
       "        vertical-align: middle;\n",
       "    }\n",
       "\n",
       "    .dataframe tbody tr th {\n",
       "        vertical-align: top;\n",
       "    }\n",
       "\n",
       "    .dataframe thead th {\n",
       "        text-align: right;\n",
       "    }\n",
       "</style>\n",
       "<table border=\"1\" class=\"dataframe\">\n",
       "  <thead>\n",
       "    <tr style=\"text-align: right;\">\n",
       "      <th></th>\n",
       "      <th>gamma</th>\n",
       "      <th>TrainScore</th>\n",
       "      <th>TestScore</th>\n",
       "      <th>sub</th>\n",
       "    </tr>\n",
       "  </thead>\n",
       "  <tbody>\n",
       "    <tr>\n",
       "      <th>0</th>\n",
       "      <td>0.01</td>\n",
       "      <td>-0.016</td>\n",
       "      <td>0.000</td>\n",
       "      <td>0.016</td>\n",
       "    </tr>\n",
       "    <tr>\n",
       "      <th>1</th>\n",
       "      <td>0.10</td>\n",
       "      <td>0.003</td>\n",
       "      <td>0.021</td>\n",
       "      <td>0.017</td>\n",
       "    </tr>\n",
       "    <tr>\n",
       "      <th>2</th>\n",
       "      <td>1.00</td>\n",
       "      <td>0.157</td>\n",
       "      <td>0.175</td>\n",
       "      <td>0.019</td>\n",
       "    </tr>\n",
       "    <tr>\n",
       "      <th>3</th>\n",
       "      <td>10.00</td>\n",
       "      <td>0.531</td>\n",
       "      <td>0.507</td>\n",
       "      <td>0.024</td>\n",
       "    </tr>\n",
       "    <tr>\n",
       "      <th>4</th>\n",
       "      <td>100.00</td>\n",
       "      <td>0.671</td>\n",
       "      <td>0.505</td>\n",
       "      <td>0.167</td>\n",
       "    </tr>\n",
       "  </tbody>\n",
       "</table>\n",
       "</div>"
      ],
      "text/plain": [
       "    gamma  TrainScore  TestScore    sub\n",
       "0    0.01      -0.016      0.000  0.016\n",
       "1    0.10       0.003      0.021  0.017\n",
       "2    1.00       0.157      0.175  0.019\n",
       "3   10.00       0.531      0.507  0.024\n",
       "4  100.00       0.671      0.505  0.167"
      ]
     },
     "execution_count": 88,
     "metadata": {},
     "output_type": "execute_result"
    }
   ],
   "source": [
    "train_score=[]; test_score=[]; sub_score=[]\n",
    "\n",
    "para_C = [10 ** c for c in range(-2, 3)]\n",
    "\n",
    "for v_C in para_C:\n",
    "    svm = SVR(C=v_C)\n",
    "    svm.fit(df_scaled_train_x, df_train_y)\n",
    "    train_score.append(svm.score(df_scaled_train_x, df_train_y))\n",
    "    test_score.append(svm.score(df_scaled_test_x, df_test_y))\n",
    "    sub_score.append(abs(svm.score(df_scaled_train_x,df_train_y)-svm.score(df_scaled_test_x, df_test_y)))\n",
    "    \n",
    "df_score_c=pd.DataFrame()\n",
    "df_score_c['gamma']=para_C\n",
    "df_score_c['TrainScore']=train_score\n",
    "df_score_c['TestScore']=test_score\n",
    "df_score_c['sub']=sub_score\n",
    "\n",
    "df_score_c.round(3)"
   ]
  },
  {
   "cell_type": "code",
   "execution_count": 89,
   "metadata": {},
   "outputs": [
    {
     "data": {
      "text/plain": [
       "<matplotlib.legend.Legend at 0x7f6700b734e0>"
      ]
     },
     "execution_count": 89,
     "metadata": {},
     "output_type": "execute_result"
    },
    {
     "data": {
      "image/png": "[encoded data removed]",
      "text/plain": [
       "<Figure size 432x288 with 1 Axes>"
      ]
     },
     "metadata": {
      "needs_background": "light"
     },
     "output_type": "display_data"
    }
   ],
   "source": [
    "plt.plot(para_C, train_score, linestyle=\"-\", label=\"Train Score\")\n",
    "plt.plot(para_C, test_score, lineStyle=\"--\", label=\"Test Score\")\n",
    "plt.plot(para_C,sub_score, lineStyle=\":\", label=\"Sub\" )\n",
    "plt.ylabel('score'); plt.xlabel('C')\n",
    "plt.legend()"
   ]
  },
  {
   "cell_type": "markdown",
   "metadata": {},
   "source": [
    "0 ~ 20 사이를 다시 확인해봄"
   ]
  },
  {
   "cell_type": "code",
   "execution_count": 134,
   "metadata": {},
   "outputs": [
    {
     "name": "stderr",
     "output_type": "stream",
     "text": [
      "/home/pirl/anaconda3/lib/python3.7/site-packages/sklearn/svm/base.py:193: FutureWarning: The default value of gamma will change from 'auto' to 'scale' in version 0.22 to account better for unscaled features. Set gamma explicitly to 'auto' or 'scale' to avoid this warning.\n",
      "  \"avoid this warning.\", FutureWarning)\n",
      "/home/pirl/anaconda3/lib/python3.7/site-packages/sklearn/svm/base.py:193: FutureWarning: The default value of gamma will change from 'auto' to 'scale' in version 0.22 to account better for unscaled features. Set gamma explicitly to 'auto' or 'scale' to avoid this warning.\n",
      "  \"avoid this warning.\", FutureWarning)\n",
      "/home/pirl/anaconda3/lib/python3.7/site-packages/sklearn/svm/base.py:193: FutureWarning: The default value of gamma will change from 'auto' to 'scale' in version 0.22 to account better for unscaled features. Set gamma explicitly to 'auto' or 'scale' to avoid this warning.\n",
      "  \"avoid this warning.\", FutureWarning)\n",
      "/home/pirl/anaconda3/lib/python3.7/site-packages/sklearn/svm/base.py:193: FutureWarning: The default value of gamma will change from 'auto' to 'scale' in version 0.22 to account better for unscaled features. Set gamma explicitly to 'auto' or 'scale' to avoid this warning.\n",
      "  \"avoid this warning.\", FutureWarning)\n",
      "/home/pirl/anaconda3/lib/python3.7/site-packages/sklearn/svm/base.py:193: FutureWarning: The default value of gamma will change from 'auto' to 'scale' in version 0.22 to account better for unscaled features. Set gamma explicitly to 'auto' or 'scale' to avoid this warning.\n",
      "  \"avoid this warning.\", FutureWarning)\n",
      "/home/pirl/anaconda3/lib/python3.7/site-packages/sklearn/svm/base.py:193: FutureWarning: The default value of gamma will change from 'auto' to 'scale' in version 0.22 to account better for unscaled features. Set gamma explicitly to 'auto' or 'scale' to avoid this warning.\n",
      "  \"avoid this warning.\", FutureWarning)\n",
      "/home/pirl/anaconda3/lib/python3.7/site-packages/sklearn/svm/base.py:193: FutureWarning: The default value of gamma will change from 'auto' to 'scale' in version 0.22 to account better for unscaled features. Set gamma explicitly to 'auto' or 'scale' to avoid this warning.\n",
      "  \"avoid this warning.\", FutureWarning)\n",
      "/home/pirl/anaconda3/lib/python3.7/site-packages/sklearn/svm/base.py:193: FutureWarning: The default value of gamma will change from 'auto' to 'scale' in version 0.22 to account better for unscaled features. Set gamma explicitly to 'auto' or 'scale' to avoid this warning.\n",
      "  \"avoid this warning.\", FutureWarning)\n",
      "/home/pirl/anaconda3/lib/python3.7/site-packages/sklearn/svm/base.py:193: FutureWarning: The default value of gamma will change from 'auto' to 'scale' in version 0.22 to account better for unscaled features. Set gamma explicitly to 'auto' or 'scale' to avoid this warning.\n",
      "  \"avoid this warning.\", FutureWarning)\n",
      "/home/pirl/anaconda3/lib/python3.7/site-packages/sklearn/svm/base.py:193: FutureWarning: The default value of gamma will change from 'auto' to 'scale' in version 0.22 to account better for unscaled features. Set gamma explicitly to 'auto' or 'scale' to avoid this warning.\n",
      "  \"avoid this warning.\", FutureWarning)\n"
     ]
    },
    {
     "data": {
      "text/html": [
       "<div>\n",
       "<style scoped>\n",
       "    .dataframe tbody tr th:only-of-type {\n",
       "        vertical-align: middle;\n",
       "    }\n",
       "\n",
       "    .dataframe tbody tr th {\n",
       "        vertical-align: top;\n",
       "    }\n",
       "\n",
       "    .dataframe thead th {\n",
       "        text-align: right;\n",
       "    }\n",
       "</style>\n",
       "<table border=\"1\" class=\"dataframe\">\n",
       "  <thead>\n",
       "    <tr style=\"text-align: right;\">\n",
       "      <th></th>\n",
       "      <th>gamma</th>\n",
       "      <th>TrainScore</th>\n",
       "      <th>TestScore</th>\n",
       "      <th>sub</th>\n",
       "    </tr>\n",
       "  </thead>\n",
       "  <tbody>\n",
       "    <tr>\n",
       "      <th>0</th>\n",
       "      <td>1</td>\n",
       "      <td>0.157</td>\n",
       "      <td>0.175</td>\n",
       "      <td>0.019</td>\n",
       "    </tr>\n",
       "    <tr>\n",
       "      <th>1</th>\n",
       "      <td>3</td>\n",
       "      <td>0.350</td>\n",
       "      <td>0.362</td>\n",
       "      <td>0.012</td>\n",
       "    </tr>\n",
       "    <tr>\n",
       "      <th>2</th>\n",
       "      <td>5</td>\n",
       "      <td>0.444</td>\n",
       "      <td>0.441</td>\n",
       "      <td>0.004</td>\n",
       "    </tr>\n",
       "    <tr>\n",
       "      <th>3</th>\n",
       "      <td>7</td>\n",
       "      <td>0.492</td>\n",
       "      <td>0.483</td>\n",
       "      <td>0.009</td>\n",
       "    </tr>\n",
       "    <tr>\n",
       "      <th>4</th>\n",
       "      <td>9</td>\n",
       "      <td>0.522</td>\n",
       "      <td>0.502</td>\n",
       "      <td>0.019</td>\n",
       "    </tr>\n",
       "    <tr>\n",
       "      <th>5</th>\n",
       "      <td>11</td>\n",
       "      <td>0.538</td>\n",
       "      <td>0.511</td>\n",
       "      <td>0.026</td>\n",
       "    </tr>\n",
       "    <tr>\n",
       "      <th>6</th>\n",
       "      <td>13</td>\n",
       "      <td>0.547</td>\n",
       "      <td>0.516</td>\n",
       "      <td>0.031</td>\n",
       "    </tr>\n",
       "    <tr>\n",
       "      <th>7</th>\n",
       "      <td>15</td>\n",
       "      <td>0.555</td>\n",
       "      <td>0.519</td>\n",
       "      <td>0.036</td>\n",
       "    </tr>\n",
       "    <tr>\n",
       "      <th>8</th>\n",
       "      <td>17</td>\n",
       "      <td>0.562</td>\n",
       "      <td>0.521</td>\n",
       "      <td>0.041</td>\n",
       "    </tr>\n",
       "    <tr>\n",
       "      <th>9</th>\n",
       "      <td>19</td>\n",
       "      <td>0.568</td>\n",
       "      <td>0.522</td>\n",
       "      <td>0.046</td>\n",
       "    </tr>\n",
       "  </tbody>\n",
       "</table>\n",
       "</div>"
      ],
      "text/plain": [
       "   gamma  TrainScore  TestScore    sub\n",
       "0      1       0.157      0.175  0.019\n",
       "1      3       0.350      0.362  0.012\n",
       "2      5       0.444      0.441  0.004\n",
       "3      7       0.492      0.483  0.009\n",
       "4      9       0.522      0.502  0.019\n",
       "5     11       0.538      0.511  0.026\n",
       "6     13       0.547      0.516  0.031\n",
       "7     15       0.555      0.519  0.036\n",
       "8     17       0.562      0.521  0.041\n",
       "9     19       0.568      0.522  0.046"
      ]
     },
     "execution_count": 134,
     "metadata": {},
     "output_type": "execute_result"
    }
   ],
   "source": [
    "train_score=[]; test_score=[]; sub_score=[]\n",
    "\n",
    "para_C = [c for c in range(1,20,2)]\n",
    "\n",
    "for v_C in para_C:\n",
    "    svm = SVR(C=v_C)\n",
    "    svm.fit(df_scaled_train_x, df_train_y)\n",
    "    train_score.append(svm.score(df_scaled_train_x, df_train_y))\n",
    "    test_score.append(svm.score(df_scaled_test_x, df_test_y))\n",
    "    sub_score.append(abs(svm.score(df_scaled_train_x,df_train_y)-svm.score(df_scaled_test_x, df_test_y)))\n",
    "    \n",
    "df_score_c=pd.DataFrame()\n",
    "df_score_c['gamma']=para_C\n",
    "df_score_c['TrainScore']=train_score\n",
    "df_score_c['TestScore']=test_score\n",
    "df_score_c['sub']=sub_score\n",
    "\n",
    "df_score_c.round(3)"
   ]
  },
  {
   "cell_type": "code",
   "execution_count": 135,
   "metadata": {},
   "outputs": [
    {
     "data": {
      "text/plain": [
       "<matplotlib.legend.Legend at 0x7f66faa6ee80>"
      ]
     },
     "execution_count": 135,
     "metadata": {},
     "output_type": "execute_result"
    },
    {
     "data": {
      "image/png": "[encoded data removed]",
      "text/plain": [
       "<Figure size 432x288 with 1 Axes>"
      ]
     },
     "metadata": {
      "needs_background": "light"
     },
     "output_type": "display_data"
    }
   ],
   "source": [
    "plt.plot(para_C, train_score, linestyle=\"-\", label=\"Train Score\")\n",
    "plt.plot(para_C, test_score, lineStyle=\"--\", label=\"Test Score\")\n",
    "plt.plot(para_C,sub_score, lineStyle=\":\", label=\"Sub\" )\n",
    "plt.ylabel('score'); plt.xlabel('C')\n",
    "plt.legend()"
   ]
  },
  {
   "cell_type": "markdown",
   "metadata": {},
   "source": [
    "c=19 선택"
   ]
  },
  {
   "cell_type": "markdown",
   "metadata": {},
   "source": [
    "### Gamma 규제(훈련 샘플이 미치는 영향의 범위) 변경"
   ]
  },
  {
   "cell_type": "code",
   "execution_count": 95,
   "metadata": {},
   "outputs": [
    {
     "data": {
      "text/html": [
       "<div>\n",
       "<style scoped>\n",
       "    .dataframe tbody tr th:only-of-type {\n",
       "        vertical-align: middle;\n",
       "    }\n",
       "\n",
       "    .dataframe tbody tr th {\n",
       "        vertical-align: top;\n",
       "    }\n",
       "\n",
       "    .dataframe thead th {\n",
       "        text-align: right;\n",
       "    }\n",
       "</style>\n",
       "<table border=\"1\" class=\"dataframe\">\n",
       "  <thead>\n",
       "    <tr style=\"text-align: right;\">\n",
       "      <th></th>\n",
       "      <th>gamma</th>\n",
       "      <th>TrainScore</th>\n",
       "      <th>TestScore</th>\n",
       "      <th>sub</th>\n",
       "    </tr>\n",
       "  </thead>\n",
       "  <tbody>\n",
       "    <tr>\n",
       "      <th>0</th>\n",
       "      <td>0.01</td>\n",
       "      <td>0.401</td>\n",
       "      <td>0.442</td>\n",
       "      <td>0.040</td>\n",
       "    </tr>\n",
       "    <tr>\n",
       "      <th>1</th>\n",
       "      <td>0.10</td>\n",
       "      <td>0.492</td>\n",
       "      <td>0.483</td>\n",
       "      <td>0.009</td>\n",
       "    </tr>\n",
       "    <tr>\n",
       "      <th>2</th>\n",
       "      <td>1.00</td>\n",
       "      <td>0.151</td>\n",
       "      <td>0.034</td>\n",
       "      <td>0.116</td>\n",
       "    </tr>\n",
       "    <tr>\n",
       "      <th>3</th>\n",
       "      <td>10.00</td>\n",
       "      <td>0.130</td>\n",
       "      <td>-0.001</td>\n",
       "      <td>0.131</td>\n",
       "    </tr>\n",
       "    <tr>\n",
       "      <th>4</th>\n",
       "      <td>100.00</td>\n",
       "      <td>0.130</td>\n",
       "      <td>-0.001</td>\n",
       "      <td>0.131</td>\n",
       "    </tr>\n",
       "  </tbody>\n",
       "</table>\n",
       "</div>"
      ],
      "text/plain": [
       "    gamma  TrainScore  TestScore    sub\n",
       "0    0.01       0.401      0.442  0.040\n",
       "1    0.10       0.492      0.483  0.009\n",
       "2    1.00       0.151      0.034  0.116\n",
       "3   10.00       0.130     -0.001  0.131\n",
       "4  100.00       0.130     -0.001  0.131"
      ]
     },
     "execution_count": 95,
     "metadata": {},
     "output_type": "execute_result"
    }
   ],
   "source": [
    "train_score=[]; test_score=[]; sub_score=[]\n",
    "para_gamma = [10**gamma for gamma in range(-2,3)]\n",
    "\n",
    "for v_gamma in para_gamma:\n",
    "    svm=SVR(gamma=v_gamma,C=7)\n",
    "    svm.fit(df_scaled_train_x, df_train_y)\n",
    "    train_score.append(svm.score(df_scaled_train_x, df_train_y))\n",
    "    test_score.append(svm.score(df_scaled_test_x, df_test_y))\n",
    "    sub_score.append(abs(svm.score(df_scaled_train_x,df_train_y)-svm.score(df_scaled_test_x, df_test_y)))\n",
    "    \n",
    "df_score_gamma=pd.DataFrame()\n",
    "df_score_gamma['gamma']=para_gamma\n",
    "df_score_gamma['TrainScore']=train_score\n",
    "df_score_gamma['TestScore']=test_score\n",
    "df_score_gamma['sub']=sub_score\n",
    "\n",
    "df_score_gamma.round(3)"
   ]
  },
  {
   "cell_type": "code",
   "execution_count": 97,
   "metadata": {
    "scrolled": true
   },
   "outputs": [
    {
     "data": {
      "text/plain": [
       "<matplotlib.legend.Legend at 0x7f66fb11f358>"
      ]
     },
     "execution_count": 97,
     "metadata": {},
     "output_type": "execute_result"
    },
    {
     "data": {
      "image/png": "[encoded data removed]",
      "text/plain": [
       "<Figure size 432x288 with 1 Axes>"
      ]
     },
     "metadata": {
      "needs_background": "light"
     },
     "output_type": "display_data"
    }
   ],
   "source": [
    "plt.plot(para_gamma, train_score, linestyle=\"-\", label=\"Train Score\")\n",
    "plt.plot(para_gamma, test_score, lineStyle=\"--\", label=\"Test Score\")\n",
    "#plt.plot(para_gamma,sub_score, lineStyle=\":\", label=\"Sub\" )\n",
    "plt.ylabel('score'); plt.xlabel('gamma')\n",
    "plt.legend()"
   ]
  },
  {
   "cell_type": "markdown",
   "metadata": {},
   "source": [
    "0.01 ~ 0.09 사이의 값을 다시 확인해봄"
   ]
  },
  {
   "cell_type": "code",
   "execution_count": 138,
   "metadata": {},
   "outputs": [
    {
     "data": {
      "text/html": [
       "<div>\n",
       "<style scoped>\n",
       "    .dataframe tbody tr th:only-of-type {\n",
       "        vertical-align: middle;\n",
       "    }\n",
       "\n",
       "    .dataframe tbody tr th {\n",
       "        vertical-align: top;\n",
       "    }\n",
       "\n",
       "    .dataframe thead th {\n",
       "        text-align: right;\n",
       "    }\n",
       "</style>\n",
       "<table border=\"1\" class=\"dataframe\">\n",
       "  <thead>\n",
       "    <tr style=\"text-align: right;\">\n",
       "      <th></th>\n",
       "      <th>gamma</th>\n",
       "      <th>TrainScore</th>\n",
       "      <th>TestScore</th>\n",
       "      <th>sub</th>\n",
       "    </tr>\n",
       "  </thead>\n",
       "  <tbody>\n",
       "    <tr>\n",
       "      <th>0</th>\n",
       "      <td>0.01</td>\n",
       "      <td>0.401</td>\n",
       "      <td>0.442</td>\n",
       "      <td>0.040</td>\n",
       "    </tr>\n",
       "    <tr>\n",
       "      <th>1</th>\n",
       "      <td>0.02</td>\n",
       "      <td>0.450</td>\n",
       "      <td>0.488</td>\n",
       "      <td>0.039</td>\n",
       "    </tr>\n",
       "    <tr>\n",
       "      <th>2</th>\n",
       "      <td>0.03</td>\n",
       "      <td>0.471</td>\n",
       "      <td>0.503</td>\n",
       "      <td>0.032</td>\n",
       "    </tr>\n",
       "    <tr>\n",
       "      <th>3</th>\n",
       "      <td>0.04</td>\n",
       "      <td>0.488</td>\n",
       "      <td>0.508</td>\n",
       "      <td>0.020</td>\n",
       "    </tr>\n",
       "    <tr>\n",
       "      <th>4</th>\n",
       "      <td>0.05</td>\n",
       "      <td>0.497</td>\n",
       "      <td>0.508</td>\n",
       "      <td>0.011</td>\n",
       "    </tr>\n",
       "    <tr>\n",
       "      <th>5</th>\n",
       "      <td>0.06</td>\n",
       "      <td>0.501</td>\n",
       "      <td>0.506</td>\n",
       "      <td>0.005</td>\n",
       "    </tr>\n",
       "    <tr>\n",
       "      <th>6</th>\n",
       "      <td>0.07</td>\n",
       "      <td>0.502</td>\n",
       "      <td>0.503</td>\n",
       "      <td>0.001</td>\n",
       "    </tr>\n",
       "    <tr>\n",
       "      <th>7</th>\n",
       "      <td>0.08</td>\n",
       "      <td>0.501</td>\n",
       "      <td>0.498</td>\n",
       "      <td>0.003</td>\n",
       "    </tr>\n",
       "    <tr>\n",
       "      <th>8</th>\n",
       "      <td>0.09</td>\n",
       "      <td>0.497</td>\n",
       "      <td>0.492</td>\n",
       "      <td>0.005</td>\n",
       "    </tr>\n",
       "  </tbody>\n",
       "</table>\n",
       "</div>"
      ],
      "text/plain": [
       "   gamma  TrainScore  TestScore    sub\n",
       "0   0.01       0.401      0.442  0.040\n",
       "1   0.02       0.450      0.488  0.039\n",
       "2   0.03       0.471      0.503  0.032\n",
       "3   0.04       0.488      0.508  0.020\n",
       "4   0.05       0.497      0.508  0.011\n",
       "5   0.06       0.501      0.506  0.005\n",
       "6   0.07       0.502      0.503  0.001\n",
       "7   0.08       0.501      0.498  0.003\n",
       "8   0.09       0.497      0.492  0.005"
      ]
     },
     "execution_count": 138,
     "metadata": {},
     "output_type": "execute_result"
    }
   ],
   "source": [
    "train_score=[]; test_score=[]; sub_score=[]\n",
    "para_gamma = [0.01*gamma for gamma in range(1,10)]\n",
    "\n",
    "for v_gamma in para_gamma:\n",
    "    svm=SVR(gamma=v_gamma,C=7)\n",
    "    svm.fit(df_scaled_train_x, df_train_y)\n",
    "    train_score.append(svm.score(df_scaled_train_x, df_train_y))\n",
    "    test_score.append(svm.score(df_scaled_test_x, df_test_y))\n",
    "    sub_score.append(abs(svm.score(df_scaled_train_x,df_train_y)-svm.score(df_scaled_test_x, df_test_y)))\n",
    "    \n",
    "df_score_gamma=pd.DataFrame()\n",
    "df_score_gamma['gamma']=para_gamma\n",
    "df_score_gamma['TrainScore']=train_score\n",
    "df_score_gamma['TestScore']=test_score\n",
    "df_score_gamma['sub']=sub_score\n",
    "\n",
    "df_score_gamma.round(3)"
   ]
  },
  {
   "cell_type": "code",
   "execution_count": 137,
   "metadata": {},
   "outputs": [
    {
     "data": {
      "text/plain": [
       "<matplotlib.legend.Legend at 0x7f66fa9e0ef0>"
      ]
     },
     "execution_count": 137,
     "metadata": {},
     "output_type": "execute_result"
    },
    {
     "data": {
      "image/png": "[encoded data removed]",
      "text/plain": [
       "<Figure size 432x288 with 1 Axes>"
      ]
     },
     "metadata": {
      "needs_background": "light"
     },
     "output_type": "display_data"
    }
   ],
   "source": [
    "plt.plot(para_gamma, train_score, linestyle=\"-\", label=\"Train Score\")\n",
    "plt.plot(para_gamma, test_score, lineStyle=\"--\", label=\"Test Score\")\n",
    "plt.plot(para_gamma,sub_score, lineStyle=\":\", label=\"Sub\" )\n",
    "plt.ylabel('score'); plt.xlabel('gamma')\n",
    "plt.legend()"
   ]
  },
  {
   "cell_type": "markdown",
   "metadata": {},
   "source": [
    "gamma=0.07"
   ]
  },
  {
   "cell_type": "markdown",
   "metadata": {},
   "source": [
    "### Epsilon 변경"
   ]
  },
  {
   "cell_type": "code",
   "execution_count": 117,
   "metadata": {},
   "outputs": [
    {
     "data": {
      "text/html": [
       "<div>\n",
       "<style scoped>\n",
       "    .dataframe tbody tr th:only-of-type {\n",
       "        vertical-align: middle;\n",
       "    }\n",
       "\n",
       "    .dataframe tbody tr th {\n",
       "        vertical-align: top;\n",
       "    }\n",
       "\n",
       "    .dataframe thead th {\n",
       "        text-align: right;\n",
       "    }\n",
       "</style>\n",
       "<table border=\"1\" class=\"dataframe\">\n",
       "  <thead>\n",
       "    <tr style=\"text-align: right;\">\n",
       "      <th></th>\n",
       "      <th>epsilon</th>\n",
       "      <th>TrainScore</th>\n",
       "      <th>TestScore</th>\n",
       "      <th>sub</th>\n",
       "    </tr>\n",
       "  </thead>\n",
       "  <tbody>\n",
       "    <tr>\n",
       "      <th>0</th>\n",
       "      <td>0.05</td>\n",
       "      <td>0.502</td>\n",
       "      <td>0.503</td>\n",
       "      <td>0.001</td>\n",
       "    </tr>\n",
       "    <tr>\n",
       "      <th>1</th>\n",
       "      <td>0.10</td>\n",
       "      <td>0.502</td>\n",
       "      <td>0.503</td>\n",
       "      <td>0.001</td>\n",
       "    </tr>\n",
       "    <tr>\n",
       "      <th>2</th>\n",
       "      <td>0.15</td>\n",
       "      <td>0.502</td>\n",
       "      <td>0.503</td>\n",
       "      <td>0.001</td>\n",
       "    </tr>\n",
       "    <tr>\n",
       "      <th>3</th>\n",
       "      <td>0.20</td>\n",
       "      <td>0.502</td>\n",
       "      <td>0.503</td>\n",
       "      <td>0.001</td>\n",
       "    </tr>\n",
       "    <tr>\n",
       "      <th>4</th>\n",
       "      <td>0.25</td>\n",
       "      <td>0.502</td>\n",
       "      <td>0.503</td>\n",
       "      <td>0.001</td>\n",
       "    </tr>\n",
       "    <tr>\n",
       "      <th>5</th>\n",
       "      <td>0.30</td>\n",
       "      <td>0.502</td>\n",
       "      <td>0.503</td>\n",
       "      <td>0.001</td>\n",
       "    </tr>\n",
       "    <tr>\n",
       "      <th>6</th>\n",
       "      <td>0.35</td>\n",
       "      <td>0.502</td>\n",
       "      <td>0.503</td>\n",
       "      <td>0.001</td>\n",
       "    </tr>\n",
       "    <tr>\n",
       "      <th>7</th>\n",
       "      <td>0.40</td>\n",
       "      <td>0.502</td>\n",
       "      <td>0.503</td>\n",
       "      <td>0.001</td>\n",
       "    </tr>\n",
       "    <tr>\n",
       "      <th>8</th>\n",
       "      <td>0.45</td>\n",
       "      <td>0.501</td>\n",
       "      <td>0.503</td>\n",
       "      <td>0.001</td>\n",
       "    </tr>\n",
       "    <tr>\n",
       "      <th>9</th>\n",
       "      <td>0.50</td>\n",
       "      <td>0.501</td>\n",
       "      <td>0.503</td>\n",
       "      <td>0.001</td>\n",
       "    </tr>\n",
       "    <tr>\n",
       "      <th>10</th>\n",
       "      <td>0.55</td>\n",
       "      <td>0.501</td>\n",
       "      <td>0.503</td>\n",
       "      <td>0.001</td>\n",
       "    </tr>\n",
       "    <tr>\n",
       "      <th>11</th>\n",
       "      <td>0.60</td>\n",
       "      <td>0.501</td>\n",
       "      <td>0.503</td>\n",
       "      <td>0.002</td>\n",
       "    </tr>\n",
       "    <tr>\n",
       "      <th>12</th>\n",
       "      <td>0.65</td>\n",
       "      <td>0.501</td>\n",
       "      <td>0.503</td>\n",
       "      <td>0.002</td>\n",
       "    </tr>\n",
       "    <tr>\n",
       "      <th>13</th>\n",
       "      <td>0.70</td>\n",
       "      <td>0.501</td>\n",
       "      <td>0.503</td>\n",
       "      <td>0.002</td>\n",
       "    </tr>\n",
       "    <tr>\n",
       "      <th>14</th>\n",
       "      <td>0.75</td>\n",
       "      <td>0.501</td>\n",
       "      <td>0.503</td>\n",
       "      <td>0.002</td>\n",
       "    </tr>\n",
       "    <tr>\n",
       "      <th>15</th>\n",
       "      <td>0.80</td>\n",
       "      <td>0.501</td>\n",
       "      <td>0.503</td>\n",
       "      <td>0.002</td>\n",
       "    </tr>\n",
       "    <tr>\n",
       "      <th>16</th>\n",
       "      <td>0.85</td>\n",
       "      <td>0.501</td>\n",
       "      <td>0.503</td>\n",
       "      <td>0.002</td>\n",
       "    </tr>\n",
       "    <tr>\n",
       "      <th>17</th>\n",
       "      <td>0.90</td>\n",
       "      <td>0.501</td>\n",
       "      <td>0.502</td>\n",
       "      <td>0.002</td>\n",
       "    </tr>\n",
       "    <tr>\n",
       "      <th>18</th>\n",
       "      <td>0.95</td>\n",
       "      <td>0.501</td>\n",
       "      <td>0.502</td>\n",
       "      <td>0.002</td>\n",
       "    </tr>\n",
       "    <tr>\n",
       "      <th>19</th>\n",
       "      <td>1.00</td>\n",
       "      <td>0.500</td>\n",
       "      <td>0.502</td>\n",
       "      <td>0.002</td>\n",
       "    </tr>\n",
       "  </tbody>\n",
       "</table>\n",
       "</div>"
      ],
      "text/plain": [
       "    epsilon  TrainScore  TestScore    sub\n",
       "0      0.05       0.502      0.503  0.001\n",
       "1      0.10       0.502      0.503  0.001\n",
       "2      0.15       0.502      0.503  0.001\n",
       "3      0.20       0.502      0.503  0.001\n",
       "4      0.25       0.502      0.503  0.001\n",
       "5      0.30       0.502      0.503  0.001\n",
       "6      0.35       0.502      0.503  0.001\n",
       "7      0.40       0.502      0.503  0.001\n",
       "8      0.45       0.501      0.503  0.001\n",
       "9      0.50       0.501      0.503  0.001\n",
       "10     0.55       0.501      0.503  0.001\n",
       "11     0.60       0.501      0.503  0.002\n",
       "12     0.65       0.501      0.503  0.002\n",
       "13     0.70       0.501      0.503  0.002\n",
       "14     0.75       0.501      0.503  0.002\n",
       "15     0.80       0.501      0.503  0.002\n",
       "16     0.85       0.501      0.503  0.002\n",
       "17     0.90       0.501      0.502  0.002\n",
       "18     0.95       0.501      0.502  0.002\n",
       "19     1.00       0.500      0.502  0.002"
      ]
     },
     "execution_count": 117,
     "metadata": {},
     "output_type": "execute_result"
    }
   ],
   "source": [
    "train_score=[]; test_score=[]; sub_score=[]\n",
    "\n",
    "para_epsilon=[eps/20 for eps in range(1,21)]\n",
    "\n",
    "for v_epsilon in para_epsilon:\n",
    "    svm=SVR(epsilon=v_epsilon, C=7, gamma=0.07)\n",
    "    svm.fit(df_scaled_train_x, df_train_y)\n",
    "    train_score.append(svm.score(df_scaled_train_x, df_train_y))\n",
    "    test_score.append(svm.score(df_scaled_test_x, df_test_y))\n",
    "    sub_score.append(abs(svm.score(df_scaled_train_x,df_train_y)-svm.score(df_scaled_test_x, df_test_y)))\n",
    "\n",
    "df_score_epsilon=pd.DataFrame()\n",
    "df_score_epsilon['epsilon']=para_epsilon\n",
    "df_score_epsilon['TrainScore']=train_score\n",
    "df_score_epsilon['TestScore']=test_score\n",
    "df_score_epsilon['sub']=sub_score\n",
    "\n",
    "df_score_epsilon.round(3)"
   ]
  },
  {
   "cell_type": "code",
   "execution_count": 118,
   "metadata": {
    "scrolled": false
   },
   "outputs": [
    {
     "data": {
      "text/plain": [
       "<matplotlib.legend.Legend at 0x7f66fabb65f8>"
      ]
     },
     "execution_count": 118,
     "metadata": {},
     "output_type": "execute_result"
    },
    {
     "data": {
      "image/png": "[encoded data removed]",
      "text/plain": [
       "<Figure size 432x288 with 1 Axes>"
      ]
     },
     "metadata": {
      "needs_background": "light"
     },
     "output_type": "display_data"
    }
   ],
   "source": [
    "plt.plot(para_epsilon, train_score, linestyle=\"-\", label=\"Train Score\")\n",
    "plt.plot(para_epsilon, test_score, lineStyle=\"--\", label=\"Test Score\")\n",
    "plt.plot(para_epsilon,sub_score, lineStyle=\":\", label=\"Sub\" )\n",
    "#plt.ylabel('score'); plt.xlabel('epsilon')\n",
    "plt.legend()"
   ]
  },
  {
   "cell_type": "code",
   "execution_count": 115,
   "metadata": {},
   "outputs": [
    {
     "data": {
      "text/html": [
       "<div>\n",
       "<style scoped>\n",
       "    .dataframe tbody tr th:only-of-type {\n",
       "        vertical-align: middle;\n",
       "    }\n",
       "\n",
       "    .dataframe tbody tr th {\n",
       "        vertical-align: top;\n",
       "    }\n",
       "\n",
       "    .dataframe thead th {\n",
       "        text-align: right;\n",
       "    }\n",
       "</style>\n",
       "<table border=\"1\" class=\"dataframe\">\n",
       "  <thead>\n",
       "    <tr style=\"text-align: right;\">\n",
       "      <th></th>\n",
       "      <th>epsilon</th>\n",
       "      <th>TrainScore</th>\n",
       "      <th>TestScore</th>\n",
       "      <th>sub</th>\n",
       "    </tr>\n",
       "  </thead>\n",
       "  <tbody>\n",
       "    <tr>\n",
       "      <th>0</th>\n",
       "      <td>0</td>\n",
       "      <td>0.502</td>\n",
       "      <td>0.503</td>\n",
       "      <td>0.001</td>\n",
       "    </tr>\n",
       "    <tr>\n",
       "      <th>1</th>\n",
       "      <td>5</td>\n",
       "      <td>0.503</td>\n",
       "      <td>0.504</td>\n",
       "      <td>0.001</td>\n",
       "    </tr>\n",
       "    <tr>\n",
       "      <th>2</th>\n",
       "      <td>10</td>\n",
       "      <td>0.501</td>\n",
       "      <td>0.502</td>\n",
       "      <td>0.000</td>\n",
       "    </tr>\n",
       "    <tr>\n",
       "      <th>3</th>\n",
       "      <td>15</td>\n",
       "      <td>0.493</td>\n",
       "      <td>0.496</td>\n",
       "      <td>0.002</td>\n",
       "    </tr>\n",
       "    <tr>\n",
       "      <th>4</th>\n",
       "      <td>20</td>\n",
       "      <td>0.487</td>\n",
       "      <td>0.490</td>\n",
       "      <td>0.003</td>\n",
       "    </tr>\n",
       "    <tr>\n",
       "      <th>5</th>\n",
       "      <td>25</td>\n",
       "      <td>0.476</td>\n",
       "      <td>0.477</td>\n",
       "      <td>0.001</td>\n",
       "    </tr>\n",
       "    <tr>\n",
       "      <th>6</th>\n",
       "      <td>30</td>\n",
       "      <td>0.468</td>\n",
       "      <td>0.469</td>\n",
       "      <td>0.001</td>\n",
       "    </tr>\n",
       "    <tr>\n",
       "      <th>7</th>\n",
       "      <td>35</td>\n",
       "      <td>0.462</td>\n",
       "      <td>0.462</td>\n",
       "      <td>0.000</td>\n",
       "    </tr>\n",
       "    <tr>\n",
       "      <th>8</th>\n",
       "      <td>40</td>\n",
       "      <td>0.453</td>\n",
       "      <td>0.450</td>\n",
       "      <td>0.002</td>\n",
       "    </tr>\n",
       "    <tr>\n",
       "      <th>9</th>\n",
       "      <td>45</td>\n",
       "      <td>0.443</td>\n",
       "      <td>0.438</td>\n",
       "      <td>0.005</td>\n",
       "    </tr>\n",
       "    <tr>\n",
       "      <th>10</th>\n",
       "      <td>50</td>\n",
       "      <td>0.437</td>\n",
       "      <td>0.428</td>\n",
       "      <td>0.009</td>\n",
       "    </tr>\n",
       "    <tr>\n",
       "      <th>11</th>\n",
       "      <td>55</td>\n",
       "      <td>0.420</td>\n",
       "      <td>0.411</td>\n",
       "      <td>0.009</td>\n",
       "    </tr>\n",
       "    <tr>\n",
       "      <th>12</th>\n",
       "      <td>60</td>\n",
       "      <td>0.401</td>\n",
       "      <td>0.391</td>\n",
       "      <td>0.010</td>\n",
       "    </tr>\n",
       "    <tr>\n",
       "      <th>13</th>\n",
       "      <td>65</td>\n",
       "      <td>0.386</td>\n",
       "      <td>0.372</td>\n",
       "      <td>0.014</td>\n",
       "    </tr>\n",
       "    <tr>\n",
       "      <th>14</th>\n",
       "      <td>70</td>\n",
       "      <td>0.367</td>\n",
       "      <td>0.354</td>\n",
       "      <td>0.013</td>\n",
       "    </tr>\n",
       "    <tr>\n",
       "      <th>15</th>\n",
       "      <td>75</td>\n",
       "      <td>0.345</td>\n",
       "      <td>0.329</td>\n",
       "      <td>0.016</td>\n",
       "    </tr>\n",
       "    <tr>\n",
       "      <th>16</th>\n",
       "      <td>80</td>\n",
       "      <td>0.320</td>\n",
       "      <td>0.303</td>\n",
       "      <td>0.017</td>\n",
       "    </tr>\n",
       "    <tr>\n",
       "      <th>17</th>\n",
       "      <td>85</td>\n",
       "      <td>0.292</td>\n",
       "      <td>0.273</td>\n",
       "      <td>0.019</td>\n",
       "    </tr>\n",
       "    <tr>\n",
       "      <th>18</th>\n",
       "      <td>90</td>\n",
       "      <td>0.264</td>\n",
       "      <td>0.242</td>\n",
       "      <td>0.023</td>\n",
       "    </tr>\n",
       "    <tr>\n",
       "      <th>19</th>\n",
       "      <td>95</td>\n",
       "      <td>0.240</td>\n",
       "      <td>0.215</td>\n",
       "      <td>0.025</td>\n",
       "    </tr>\n",
       "  </tbody>\n",
       "</table>\n",
       "</div>"
      ],
      "text/plain": [
       "    epsilon  TrainScore  TestScore    sub\n",
       "0         0       0.502      0.503  0.001\n",
       "1         5       0.503      0.504  0.001\n",
       "2        10       0.501      0.502  0.000\n",
       "3        15       0.493      0.496  0.002\n",
       "4        20       0.487      0.490  0.003\n",
       "5        25       0.476      0.477  0.001\n",
       "6        30       0.468      0.469  0.001\n",
       "7        35       0.462      0.462  0.000\n",
       "8        40       0.453      0.450  0.002\n",
       "9        45       0.443      0.438  0.005\n",
       "10       50       0.437      0.428  0.009\n",
       "11       55       0.420      0.411  0.009\n",
       "12       60       0.401      0.391  0.010\n",
       "13       65       0.386      0.372  0.014\n",
       "14       70       0.367      0.354  0.013\n",
       "15       75       0.345      0.329  0.016\n",
       "16       80       0.320      0.303  0.017\n",
       "17       85       0.292      0.273  0.019\n",
       "18       90       0.264      0.242  0.023\n",
       "19       95       0.240      0.215  0.025"
      ]
     },
     "execution_count": 115,
     "metadata": {},
     "output_type": "execute_result"
    }
   ],
   "source": [
    "train_score=[]; test_score=[]; sub_score=[]\n",
    "\n",
    "para_epsilon=[eps for eps in range(0,100,5)]\n",
    "\n",
    "for v_epsilon in para_epsilon:\n",
    "    svm=SVR(epsilon=v_epsilon, C=7, gamma=0.07)\n",
    "    svm.fit(df_scaled_train_x, df_train_y)\n",
    "    train_score.append(svm.score(df_scaled_train_x, df_train_y))\n",
    "    test_score.append(svm.score(df_scaled_test_x, df_test_y))\n",
    "    sub_score.append(abs(svm.score(df_scaled_train_x,df_train_y)-svm.score(df_scaled_test_x, df_test_y)))\n",
    "\n",
    "df_score_epsilon=pd.DataFrame()\n",
    "df_score_epsilon['epsilon']=para_epsilon\n",
    "df_score_epsilon['TrainScore']=train_score\n",
    "df_score_epsilon['TestScore']=test_score\n",
    "df_score_epsilon['sub']=sub_score\n",
    "\n",
    "df_score_epsilon.round(3)"
   ]
  },
  {
   "cell_type": "code",
   "execution_count": 116,
   "metadata": {
    "scrolled": false
   },
   "outputs": [
    {
     "data": {
      "text/plain": [
       "<matplotlib.legend.Legend at 0x7f66fac3fef0>"
      ]
     },
     "execution_count": 116,
     "metadata": {},
     "output_type": "execute_result"
    },
    {
     "data": {
      "image/png": "[encoded data removed]",
      "text/plain": [
       "<Figure size 432x288 with 1 Axes>"
      ]
     },
     "metadata": {
      "needs_background": "light"
     },
     "output_type": "display_data"
    }
   ],
   "source": [
    "plt.plot(para_epsilon, train_score, linestyle=\"-\", label=\"Train Score\")\n",
    "plt.plot(para_epsilon, test_score, lineStyle=\"--\", label=\"Test Score\")\n",
    "plt.plot(para_epsilon,sub_score, lineStyle=\":\", label=\"Sub\" )\n",
    "#plt.ylabel('score'); plt.xlabel('epsilon')\n",
    "plt.legend()"
   ]
  },
  {
   "cell_type": "markdown",
   "metadata": {},
   "source": [
    "### 최종 모델 생성"
   ]
  },
  {
   "cell_type": "code",
   "execution_count": 126,
   "metadata": {
    "scrolled": true
   },
   "outputs": [
    {
     "name": "stdout",
     "output_type": "stream",
     "text": [
      "Scored on training set: 0.555\n",
      "Scored on test set : 0.527\n"
     ]
    }
   ],
   "source": [
    "svm_final=SVR(C=19, gamma=0.07, epsilon=5)\n",
    "svm_final.fit(df_scaled_train_x, df_train_y)\n",
    "\n",
    "print(\"Scored on training set: {:.3f}\".format(svm_final.score(df_scaled_train_x, df_train_y)))\n",
    "print(\"Scored on test set : {:.3f}\".format(svm_final.score(df_scaled_test_x, df_test_y)))"
   ]
  },
  {
   "cell_type": "code",
   "execution_count": null,
   "metadata": {},
   "outputs": [],
   "source": []
  },
  {
   "cell_type": "code",
   "execution_count": null,
   "metadata": {},
   "outputs": [],
   "source": []
  },
  {
   "cell_type": "code",
   "execution_count": null,
   "metadata": {},
   "outputs": [],
   "source": []
  }
 ],
 "metadata": {
  "kernelspec": {
   "display_name": "Python 3",
   "language": "python",
   "name": "python3"
  },
  "language_info": {
   "codemirror_mode": {
    "name": "ipython",
    "version": 3
   },
   "file_extension": ".py",
   "mimetype": "text/x-python",
   "name": "python",
   "nbconvert_exporter": "python",
   "pygments_lexer": "ipython3",
   "version": "3.7.3"
  }
 },
 "nbformat": 4,
 "nbformat_minor": 2
}
