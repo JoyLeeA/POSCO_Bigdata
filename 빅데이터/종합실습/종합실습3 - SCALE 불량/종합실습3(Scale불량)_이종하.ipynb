{
 "cells": [
  {
   "cell_type": "markdown",
   "metadata": {},
   "source": [
    "# 분석 배경"
   ]
  },
  {
   "cell_type": "markdown",
   "metadata": {},
   "source": [
    "OO 공장의 고객사에서 최근 들어 \"Scale 불량 발생 증가\"라는 이슈가 발생했다.\n",
    "\n",
    "그 원인을 분석해 본 결과 압연공정에서 Scale불량이 급증한 것을 확인할 수 있었다.\n",
    "\n",
    "그래서 데이터를 수집하여 다양한 분석을 통해 불량 발생의 근본 원인을 찾고 결과를 해석하여 개선 기회를 도출한다."
   ]
  },
  {
   "cell_type": "markdown",
   "metadata": {},
   "source": [
    "# 분석 현황"
   ]
  },
  {
   "cell_type": "markdown",
   "metadata": {},
   "source": [
    "발생원인(발생률%) : 압입흠(1.3), Scratch(0.5), 두께 부족(0.4), Scale(0.5), 계(7.2)"
   ]
  },
  {
   "cell_type": "markdown",
   "metadata": {},
   "source": [
    "# 배경 지식"
   ]
  },
  {
   "cell_type": "markdown",
   "metadata": {},
   "source": [
    "#### Scale 발생: 열간압연된 coil의 표면에 생성된 산화성 물질로, Scale이 없을 수록 질이 좋은 철강이라고 평가된다. (즉 없을수록 좋다)\n",
    "#### 가열로 가열대 온도: 예열된 슬라브를 상부온도가 1260°C-1280°C로 유지된 가열대에서 50분-70분 동안 체류시켜 상기 슬라브의 온도를 1130°C-1150°C로 유지하는 단계\n",
    "#### 가열로 균열대 온도: 가열된 상기 슬라브를 상기 가열로의 균열대에 45분-55분 동안 유지시키는 단계\n",
    "#### 가열로 추출 온도: 가열로의 균열대로부터 추출되는 상기 슬라브의 추출온도를 1165°C-1185로 유지하는 단계\n",
    "#### Hot Scale Breaker: 열간상태의 슬래브(Slab) 표면에 생성된 두꺼운 스케일을 제거하기 위한 장치\n",
    "#### 사상 압연 온도: 상기 균열대에서 추출된 슬라브를 990°C~1010°C에서 조압연하는 단계\n",
    "#### 압연간 Descaling 횟수: 스케일을 제거하는 단계\n",
    "#### 판두께: 말 그대로 판의 두께를 의미하는 것\n",
    "\n",
    "### Scale이 낮을 수록 좋을 것이다.\n",
    "### 각 단게의 온도는 무조건 낮거나 높다고 좋은 것이 아니라 적절히 조절해야한다.\n",
    "### Hot scale Breaker는 존재하는 것이 좋다. (스케일 제거를 위함)"
   ]
  },
  {
   "cell_type": "code",
   "execution_count": 196,
   "metadata": {},
   "outputs": [
    {
     "data": {
      "text/html": [
       "<style>.container { width:100% !important; }</style>"
      ],
      "text/plain": [
       "<IPython.core.display.HTML object>"
      ]
     },
     "metadata": {},
     "output_type": "display_data"
    }
   ],
   "source": [
    "import pandas as pd\n",
    "import numpy as np\n",
    "from sklearn.preprocessing import scale,minmax_scale,robust_scale\n",
    "#%matplotlib inline background 그래프 실행 및 결과 확인\n",
    "import pandas as pd\n",
    "import numpy as np\n",
    "import matplotlib\n",
    "import matplotlib.pyplot as plt\n",
    "import seaborn as sns\n",
    "from statsmodels.formula.api import ols\n",
    "from statsmodels.api import qqplot, add_constant\n",
    "import statsmodels.formula.api as smf\n",
    "from statsmodels.tools.eval_measures import rmse\n",
    "from statsmodels.stats.outliers_influence import variance_inflation_factor\n",
    "from sklearn.linear_model import LinearRegression\n",
    "from sklearn.feature_selection import RFE\n",
    "from sklearn.preprocessing import StandardScaler\n",
    "#예측\n",
    "from sklearn.tree import export_graphviz\n",
    "import graphviz\n",
    "from sklearn.model_selection import train_test_split\n",
    "from sklearn.tree import DecisionTreeRegressor\n",
    "from sklearn.ensemble import RandomForestRegressor\n",
    "from sklearn.ensemble import GradientBoostingRegressor\n",
    "from sklearn.model_selection import GridSearchCV\n",
    "#평가함수\n",
    "from sklearn.metrics import mean_squared_error\n",
    "from sklearn.metrics import mean_absolute_error\n",
    "from sklearn.metrics import accuracy_score\n",
    "#모델 성능 평가\n",
    "from sklearn.tree import DecisionTreeClassifier\n",
    "from sklearn.ensemble import RandomForestClassifier\n",
    "from sklearn.ensemble import GradientBoostingClassifier\n",
    "from sklearn.svm import SVC\n",
    "from sklearn.neighbors import KNeighborsClassifier\n",
    "from sklearn.neural_network import MLPClassifier\n",
    "from sklearn.metrics import f1_score,roc_curve,auc,precision_score,recall_score\n",
    "#confusion matrix\n",
    "from sklearn.metrics import confusion_matrix\n",
    "\n",
    "#Scale 변환:평균,표준편차 기준\n",
    "from sklearn.preprocessing import StandardScaler\n",
    "#주성분 분석\n",
    "from sklearn.decomposition import PCA\n",
    "#회귀분석\n",
    "import statsmodels.api as sm\n",
    "#RMSE:root mean squared error 함수\n",
    "def root_mean_squared_error(y_true,y_pred):\n",
    "    return np.sqrt(mean_squared_error(y_true,y_pred))\n",
    "#MAPE:mean absolute percentage error 함수\n",
    "def mean_absolute_percentage_error(y_true,y_pred):\n",
    "    return np.mean(np.abs((y_true-y_pred)/y_true))*100\n",
    "#분류 : KNN\n",
    "from sklearn.neighbors import KNeighborsClassifier\n",
    "#로지스틱 회귀\n",
    "from statsmodels.api import Logit\n",
    "#데이터 분항\n",
    "from sklearn.model_selection import train_test_split\n",
    "from sklearn.svm import SVC\n",
    "from sklearn.neural_network import MLPClassifier\n",
    "from sklearn.metrics import confusion_matrix\n",
    "from IPython.core.display import display, HTML\n",
    "# 추검정 및 통계 분석 패키지\n",
    "from scipy import stats\n",
    "from scipy.stats import shapiro\n",
    "import scipy.stats\n",
    "import statsmodels.api as sm\n",
    "from statsmodels.stats.proportion import proportions_ztest\n",
    "from sklearn.linear_model import LinearRegression\n",
    "display(HTML(\"<style>.container { width:100% !important; }</style>\"))"
   ]
  },
  {
   "cell_type": "code",
   "execution_count": 155,
   "metadata": {},
   "outputs": [],
   "source": [
    "import matplotlib\n",
    "from matplotlib import font_manager, rc\n",
    "import platform\n",
    "\n",
    "if platform.system() == 'Windows':\n",
    "# 윈도우인 경우\n",
    "    font_name = font_manager.FontProperties(fname=\"c:/Windows/Fonts/malgun.ttf\").get_name()\n",
    "    rc('font', family=font_name)\n",
    "else:    \n",
    "# Mac 인 경우\n",
    "    rc('font', family='AppleGothic')\n",
    "    \n",
    "matplotlib.rcParams['axes.unicode_minus'] = False   \n",
    "#그래프에서 마이너스 기호가 표시되도록 하는 설정입니다. "
   ]
  },
  {
   "cell_type": "code",
   "execution_count": 197,
   "metadata": {
    "scrolled": true
   },
   "outputs": [
    {
     "data": {
      "text/html": [
       "<div>\n",
       "<style scoped>\n",
       "    .dataframe tbody tr th:only-of-type {\n",
       "        vertical-align: middle;\n",
       "    }\n",
       "\n",
       "    .dataframe tbody tr th {\n",
       "        vertical-align: top;\n",
       "    }\n",
       "\n",
       "    .dataframe thead th {\n",
       "        text-align: right;\n",
       "    }\n",
       "</style>\n",
       "<table border=\"1\" class=\"dataframe\">\n",
       "  <thead>\n",
       "    <tr style=\"text-align: right;\">\n",
       "      <th></th>\n",
       "      <th>PLATE_NO</th>\n",
       "      <th>ROLLING_DATE</th>\n",
       "      <th>SCALE</th>\n",
       "      <th>SPEC</th>\n",
       "      <th>STEEL_KIND</th>\n",
       "      <th>PT_THK</th>\n",
       "      <th>PT_WDTH</th>\n",
       "      <th>PT_LTH</th>\n",
       "      <th>PT_WGT</th>\n",
       "      <th>FUR_NO</th>\n",
       "      <th>...</th>\n",
       "      <th>FUR_HZ_TEMP</th>\n",
       "      <th>FUR_HZ_TIME</th>\n",
       "      <th>FUR_SZ_TEMP</th>\n",
       "      <th>FUR_SZ_TIME</th>\n",
       "      <th>FUR_TIME</th>\n",
       "      <th>FUR_EXTEMP</th>\n",
       "      <th>ROLLING_TEMP_T5</th>\n",
       "      <th>HSB</th>\n",
       "      <th>ROLLING_DESCALING</th>\n",
       "      <th>WORK_GR</th>\n",
       "    </tr>\n",
       "  </thead>\n",
       "  <tbody>\n",
       "    <tr>\n",
       "      <th>0</th>\n",
       "      <td>PB562774</td>\n",
       "      <td>2008-08-01:00:00:15</td>\n",
       "      <td>양품</td>\n",
       "      <td>AB/EH32-TM</td>\n",
       "      <td>T1</td>\n",
       "      <td>32.25</td>\n",
       "      <td>3707</td>\n",
       "      <td>15109</td>\n",
       "      <td>14180</td>\n",
       "      <td>1호기</td>\n",
       "      <td>...</td>\n",
       "      <td>1144</td>\n",
       "      <td>116</td>\n",
       "      <td>1133</td>\n",
       "      <td>59</td>\n",
       "      <td>282</td>\n",
       "      <td>1133</td>\n",
       "      <td>934</td>\n",
       "      <td>적용</td>\n",
       "      <td>8</td>\n",
       "      <td>2조</td>\n",
       "    </tr>\n",
       "    <tr>\n",
       "      <th>1</th>\n",
       "      <td>PB562775</td>\n",
       "      <td>2008-08-01:00:00:16</td>\n",
       "      <td>양품</td>\n",
       "      <td>AB/EH32-TM</td>\n",
       "      <td>T1</td>\n",
       "      <td>32.25</td>\n",
       "      <td>3707</td>\n",
       "      <td>15109</td>\n",
       "      <td>14180</td>\n",
       "      <td>1호기</td>\n",
       "      <td>...</td>\n",
       "      <td>1144</td>\n",
       "      <td>122</td>\n",
       "      <td>1135</td>\n",
       "      <td>53</td>\n",
       "      <td>283</td>\n",
       "      <td>1135</td>\n",
       "      <td>937</td>\n",
       "      <td>적용</td>\n",
       "      <td>8</td>\n",
       "      <td>2조</td>\n",
       "    </tr>\n",
       "    <tr>\n",
       "      <th>2</th>\n",
       "      <td>PB562776</td>\n",
       "      <td>2008-08-01:00:00:59</td>\n",
       "      <td>양품</td>\n",
       "      <td>NV-E36-TM</td>\n",
       "      <td>T8</td>\n",
       "      <td>33.27</td>\n",
       "      <td>3619</td>\n",
       "      <td>19181</td>\n",
       "      <td>18130</td>\n",
       "      <td>2호기</td>\n",
       "      <td>...</td>\n",
       "      <td>1129</td>\n",
       "      <td>116</td>\n",
       "      <td>1121</td>\n",
       "      <td>55</td>\n",
       "      <td>282</td>\n",
       "      <td>1121</td>\n",
       "      <td>889</td>\n",
       "      <td>적용</td>\n",
       "      <td>8</td>\n",
       "      <td>3조</td>\n",
       "    </tr>\n",
       "    <tr>\n",
       "      <th>3</th>\n",
       "      <td>PB562777</td>\n",
       "      <td>2008-08-01:00:01:24</td>\n",
       "      <td>양품</td>\n",
       "      <td>NV-E36-TM</td>\n",
       "      <td>T8</td>\n",
       "      <td>33.27</td>\n",
       "      <td>3619</td>\n",
       "      <td>19181</td>\n",
       "      <td>18130</td>\n",
       "      <td>2호기</td>\n",
       "      <td>...</td>\n",
       "      <td>1152</td>\n",
       "      <td>125</td>\n",
       "      <td>1127</td>\n",
       "      <td>68</td>\n",
       "      <td>316</td>\n",
       "      <td>1127</td>\n",
       "      <td>885</td>\n",
       "      <td>적용</td>\n",
       "      <td>8</td>\n",
       "      <td>3조</td>\n",
       "    </tr>\n",
       "    <tr>\n",
       "      <th>4</th>\n",
       "      <td>PB562778</td>\n",
       "      <td>2008-08-01:00:01:44</td>\n",
       "      <td>양품</td>\n",
       "      <td>BV-EH36-TM</td>\n",
       "      <td>T8</td>\n",
       "      <td>38.33</td>\n",
       "      <td>3098</td>\n",
       "      <td>13334</td>\n",
       "      <td>12430</td>\n",
       "      <td>3호기</td>\n",
       "      <td>...</td>\n",
       "      <td>1140</td>\n",
       "      <td>134</td>\n",
       "      <td>1128</td>\n",
       "      <td>48</td>\n",
       "      <td>314</td>\n",
       "      <td>1128</td>\n",
       "      <td>873</td>\n",
       "      <td>적용</td>\n",
       "      <td>8</td>\n",
       "      <td>1조</td>\n",
       "    </tr>\n",
       "    <tr>\n",
       "      <th>...</th>\n",
       "      <td>...</td>\n",
       "      <td>...</td>\n",
       "      <td>...</td>\n",
       "      <td>...</td>\n",
       "      <td>...</td>\n",
       "      <td>...</td>\n",
       "      <td>...</td>\n",
       "      <td>...</td>\n",
       "      <td>...</td>\n",
       "      <td>...</td>\n",
       "      <td>...</td>\n",
       "      <td>...</td>\n",
       "      <td>...</td>\n",
       "      <td>...</td>\n",
       "      <td>...</td>\n",
       "      <td>...</td>\n",
       "      <td>...</td>\n",
       "      <td>...</td>\n",
       "      <td>...</td>\n",
       "      <td>...</td>\n",
       "      <td>...</td>\n",
       "    </tr>\n",
       "    <tr>\n",
       "      <th>715</th>\n",
       "      <td>PB563502</td>\n",
       "      <td>2008-08-02:13:35:36</td>\n",
       "      <td>불량</td>\n",
       "      <td>NK-KA</td>\n",
       "      <td>C0</td>\n",
       "      <td>20.14</td>\n",
       "      <td>3580</td>\n",
       "      <td>38639</td>\n",
       "      <td>21870</td>\n",
       "      <td>3호기</td>\n",
       "      <td>...</td>\n",
       "      <td>1172</td>\n",
       "      <td>72</td>\n",
       "      <td>1164</td>\n",
       "      <td>62</td>\n",
       "      <td>245</td>\n",
       "      <td>1164</td>\n",
       "      <td>1005</td>\n",
       "      <td>적용</td>\n",
       "      <td>8</td>\n",
       "      <td>2조</td>\n",
       "    </tr>\n",
       "    <tr>\n",
       "      <th>716</th>\n",
       "      <td>PB563503</td>\n",
       "      <td>2008-08-02:13:35:02</td>\n",
       "      <td>양품</td>\n",
       "      <td>NV-A32</td>\n",
       "      <td>C0</td>\n",
       "      <td>15.08</td>\n",
       "      <td>3212</td>\n",
       "      <td>48233</td>\n",
       "      <td>18340</td>\n",
       "      <td>2호기</td>\n",
       "      <td>...</td>\n",
       "      <td>1150</td>\n",
       "      <td>61</td>\n",
       "      <td>1169</td>\n",
       "      <td>61</td>\n",
       "      <td>238</td>\n",
       "      <td>1169</td>\n",
       "      <td>947</td>\n",
       "      <td>적용</td>\n",
       "      <td>10</td>\n",
       "      <td>1조</td>\n",
       "    </tr>\n",
       "    <tr>\n",
       "      <th>717</th>\n",
       "      <td>PB563504</td>\n",
       "      <td>2008-08-02:14:40:00</td>\n",
       "      <td>양품</td>\n",
       "      <td>NV-A32</td>\n",
       "      <td>C0</td>\n",
       "      <td>16.60</td>\n",
       "      <td>3441</td>\n",
       "      <td>43688</td>\n",
       "      <td>19590</td>\n",
       "      <td>2호기</td>\n",
       "      <td>...</td>\n",
       "      <td>1169</td>\n",
       "      <td>65</td>\n",
       "      <td>1163</td>\n",
       "      <td>77</td>\n",
       "      <td>247</td>\n",
       "      <td>1163</td>\n",
       "      <td>948</td>\n",
       "      <td>적용</td>\n",
       "      <td>10</td>\n",
       "      <td>4조</td>\n",
       "    </tr>\n",
       "    <tr>\n",
       "      <th>718</th>\n",
       "      <td>PB563505</td>\n",
       "      <td>2008-08-02:13:35:19</td>\n",
       "      <td>양품</td>\n",
       "      <td>LR-A</td>\n",
       "      <td>C0</td>\n",
       "      <td>15.59</td>\n",
       "      <td>3363</td>\n",
       "      <td>48740</td>\n",
       "      <td>80240</td>\n",
       "      <td>3호기</td>\n",
       "      <td>...</td>\n",
       "      <td>1179</td>\n",
       "      <td>86</td>\n",
       "      <td>1163</td>\n",
       "      <td>45</td>\n",
       "      <td>243</td>\n",
       "      <td>1163</td>\n",
       "      <td>940</td>\n",
       "      <td>적용</td>\n",
       "      <td>10</td>\n",
       "      <td>2조</td>\n",
       "    </tr>\n",
       "    <tr>\n",
       "      <th>719</th>\n",
       "      <td>PB563506</td>\n",
       "      <td>2008-08-02:14:40:53</td>\n",
       "      <td>양품</td>\n",
       "      <td>GL-A32</td>\n",
       "      <td>C0</td>\n",
       "      <td>16.09</td>\n",
       "      <td>3400</td>\n",
       "      <td>54209</td>\n",
       "      <td>69840</td>\n",
       "      <td>3호기</td>\n",
       "      <td>...</td>\n",
       "      <td>1186</td>\n",
       "      <td>82</td>\n",
       "      <td>1169</td>\n",
       "      <td>45</td>\n",
       "      <td>239</td>\n",
       "      <td>1169</td>\n",
       "      <td>957</td>\n",
       "      <td>적용</td>\n",
       "      <td>10</td>\n",
       "      <td>2조</td>\n",
       "    </tr>\n",
       "  </tbody>\n",
       "</table>\n",
       "<p>720 rows × 21 columns</p>\n",
       "</div>"
      ],
      "text/plain": [
       "     PLATE_NO         ROLLING_DATE SCALE        SPEC STEEL_KIND  PT_THK  \\\n",
       "0    PB562774  2008-08-01:00:00:15    양품  AB/EH32-TM         T1   32.25   \n",
       "1    PB562775  2008-08-01:00:00:16    양품  AB/EH32-TM         T1   32.25   \n",
       "2    PB562776  2008-08-01:00:00:59    양품   NV-E36-TM         T8   33.27   \n",
       "3    PB562777  2008-08-01:00:01:24    양품   NV-E36-TM         T8   33.27   \n",
       "4    PB562778  2008-08-01:00:01:44    양품  BV-EH36-TM         T8   38.33   \n",
       "..        ...                  ...   ...         ...        ...     ...   \n",
       "715  PB563502  2008-08-02:13:35:36    불량       NK-KA         C0   20.14   \n",
       "716  PB563503  2008-08-02:13:35:02    양품      NV-A32         C0   15.08   \n",
       "717  PB563504  2008-08-02:14:40:00    양품      NV-A32         C0   16.60   \n",
       "718  PB563505  2008-08-02:13:35:19    양품        LR-A         C0   15.59   \n",
       "719  PB563506  2008-08-02:14:40:53    양품      GL-A32         C0   16.09   \n",
       "\n",
       "     PT_WDTH  PT_LTH  PT_WGT FUR_NO  ...  FUR_HZ_TEMP  FUR_HZ_TIME  \\\n",
       "0       3707   15109   14180    1호기  ...         1144          116   \n",
       "1       3707   15109   14180    1호기  ...         1144          122   \n",
       "2       3619   19181   18130    2호기  ...         1129          116   \n",
       "3       3619   19181   18130    2호기  ...         1152          125   \n",
       "4       3098   13334   12430    3호기  ...         1140          134   \n",
       "..       ...     ...     ...    ...  ...          ...          ...   \n",
       "715     3580   38639   21870    3호기  ...         1172           72   \n",
       "716     3212   48233   18340    2호기  ...         1150           61   \n",
       "717     3441   43688   19590    2호기  ...         1169           65   \n",
       "718     3363   48740   80240    3호기  ...         1179           86   \n",
       "719     3400   54209   69840    3호기  ...         1186           82   \n",
       "\n",
       "     FUR_SZ_TEMP  FUR_SZ_TIME  FUR_TIME  FUR_EXTEMP  ROLLING_TEMP_T5  HSB  \\\n",
       "0           1133           59       282        1133              934   적용   \n",
       "1           1135           53       283        1135              937   적용   \n",
       "2           1121           55       282        1121              889   적용   \n",
       "3           1127           68       316        1127              885   적용   \n",
       "4           1128           48       314        1128              873   적용   \n",
       "..           ...          ...       ...         ...              ...  ...   \n",
       "715         1164           62       245        1164             1005   적용   \n",
       "716         1169           61       238        1169              947   적용   \n",
       "717         1163           77       247        1163              948   적용   \n",
       "718         1163           45       243        1163              940   적용   \n",
       "719         1169           45       239        1169              957   적용   \n",
       "\n",
       "    ROLLING_DESCALING  WORK_GR  \n",
       "0                   8       2조  \n",
       "1                   8       2조  \n",
       "2                   8       3조  \n",
       "3                   8       3조  \n",
       "4                   8       1조  \n",
       "..                ...      ...  \n",
       "715                 8       2조  \n",
       "716                10       1조  \n",
       "717                10       4조  \n",
       "718                10       2조  \n",
       "719                10       2조  \n",
       "\n",
       "[720 rows x 21 columns]"
      ]
     },
     "execution_count": 197,
     "metadata": {},
     "output_type": "execute_result"
    }
   ],
   "source": [
    "df_raw = pd.read_csv(\"/Users/joylee/Downloads/SCALE불량.csv\", engine = 'python', encoding = 'EUC-KR')\n",
    "df_raw #데이터 불러오기"
   ]
  },
  {
   "cell_type": "code",
   "execution_count": 161,
   "metadata": {},
   "outputs": [
    {
     "name": "stdout",
     "output_type": "stream",
     "text": [
      "<class 'pandas.core.frame.DataFrame'>\n",
      "RangeIndex: 720 entries, 0 to 719\n",
      "Data columns (total 21 columns):\n",
      " #   Column             Non-Null Count  Dtype  \n",
      "---  ------             --------------  -----  \n",
      " 0   PLATE_NO           720 non-null    object \n",
      " 1   ROLLING_DATE       720 non-null    object \n",
      " 2   SCALE              720 non-null    object \n",
      " 3   SPEC               720 non-null    object \n",
      " 4   STEEL_KIND         720 non-null    object \n",
      " 5   PT_THK             720 non-null    float64\n",
      " 6   PT_WDTH            720 non-null    int64  \n",
      " 7   PT_LTH             720 non-null    int64  \n",
      " 8   PT_WGT             720 non-null    int64  \n",
      " 9   FUR_NO             720 non-null    object \n",
      " 10  FUR_NO_ROW         720 non-null    int64  \n",
      " 11  FUR_HZ_TEMP        720 non-null    int64  \n",
      " 12  FUR_HZ_TIME        720 non-null    int64  \n",
      " 13  FUR_SZ_TEMP        720 non-null    int64  \n",
      " 14  FUR_SZ_TIME        720 non-null    int64  \n",
      " 15  FUR_TIME           720 non-null    int64  \n",
      " 16  FUR_EXTEMP         720 non-null    int64  \n",
      " 17  ROLLING_TEMP_T5    720 non-null    int64  \n",
      " 18  HSB                720 non-null    object \n",
      " 19  ROLLING_DESCALING  720 non-null    int64  \n",
      " 20  WORK_GR            720 non-null    object \n",
      "dtypes: float64(1), int64(12), object(8)\n",
      "memory usage: 118.2+ KB\n"
     ]
    }
   ],
   "source": [
    "df_raw.info() #데이터 정보 출력"
   ]
  },
  {
   "cell_type": "code",
   "execution_count": 162,
   "metadata": {},
   "outputs": [
    {
     "data": {
      "text/plain": [
       "PLATE_NO             0\n",
       "ROLLING_DATE         0\n",
       "SCALE                0\n",
       "SPEC                 0\n",
       "STEEL_KIND           0\n",
       "PT_THK               0\n",
       "PT_WDTH              0\n",
       "PT_LTH               0\n",
       "PT_WGT               0\n",
       "FUR_NO               0\n",
       "FUR_NO_ROW           0\n",
       "FUR_HZ_TEMP          0\n",
       "FUR_HZ_TIME          0\n",
       "FUR_SZ_TEMP          0\n",
       "FUR_SZ_TIME          0\n",
       "FUR_TIME             0\n",
       "FUR_EXTEMP           0\n",
       "ROLLING_TEMP_T5      0\n",
       "HSB                  0\n",
       "ROLLING_DESCALING    0\n",
       "WORK_GR              0\n",
       "dtype: int64"
      ]
     },
     "execution_count": 162,
     "metadata": {},
     "output_type": "execute_result"
    }
   ],
   "source": [
    "df_raw.isnull().sum() #결측치는 없는 것으로 확인되었다."
   ]
  },
  {
   "cell_type": "markdown",
   "metadata": {},
   "source": [
    "[결측치 및 데이터 확인결과]\n",
    "- 전체 데이터수는 720개이다.\n",
    "- 결측치가 존재하지 않는다.\n",
    "- 목표변수는 scale(이산형: 0과1) , 설명변수(연속형, 20개)\n",
    "- 문자형 변수를 더미변수로 바꿔주어야 함.(이산형 처리를 위함)\n",
    "- 탐색적 분석 이후에 더미화 해주기(더미화 해주면 탐색적 분석을 할 수가 없기 때문)\n",
    "- plate no는 scale 불량과 전혀 상관이 없음 ->  drop\n",
    "- ROLLING_DATE는 scale 불량과 전혀 상관이 없음 -> drop\n",
    "- FUR_SZ_TEMP와 FUR_EXTEMP는 값이 같음. -> 둘중 한개 drop\n"
   ]
  },
  {
   "cell_type": "code",
   "execution_count": 163,
   "metadata": {},
   "outputs": [
    {
     "data": {
      "text/html": [
       "<div>\n",
       "<style scoped>\n",
       "    .dataframe tbody tr th:only-of-type {\n",
       "        vertical-align: middle;\n",
       "    }\n",
       "\n",
       "    .dataframe tbody tr th {\n",
       "        vertical-align: top;\n",
       "    }\n",
       "\n",
       "    .dataframe thead th {\n",
       "        text-align: right;\n",
       "    }\n",
       "</style>\n",
       "<table border=\"1\" class=\"dataframe\">\n",
       "  <thead>\n",
       "    <tr style=\"text-align: right;\">\n",
       "      <th></th>\n",
       "      <th>PT_THK</th>\n",
       "      <th>PT_WDTH</th>\n",
       "      <th>PT_LTH</th>\n",
       "      <th>PT_WGT</th>\n",
       "      <th>FUR_NO_ROW</th>\n",
       "      <th>FUR_HZ_TEMP</th>\n",
       "      <th>FUR_HZ_TIME</th>\n",
       "      <th>FUR_SZ_TEMP</th>\n",
       "      <th>FUR_SZ_TIME</th>\n",
       "      <th>FUR_TIME</th>\n",
       "      <th>FUR_EXTEMP</th>\n",
       "      <th>ROLLING_TEMP_T5</th>\n",
       "      <th>ROLLING_DESCALING</th>\n",
       "    </tr>\n",
       "  </thead>\n",
       "  <tbody>\n",
       "    <tr>\n",
       "      <th>count</th>\n",
       "      <td>720.000000</td>\n",
       "      <td>720.000000</td>\n",
       "      <td>720.000000</td>\n",
       "      <td>720.000000</td>\n",
       "      <td>720.000000</td>\n",
       "      <td>720.000000</td>\n",
       "      <td>720.000000</td>\n",
       "      <td>720.000000</td>\n",
       "      <td>720.000000</td>\n",
       "      <td>720.000000</td>\n",
       "      <td>720.000000</td>\n",
       "      <td>720.000000</td>\n",
       "      <td>720.000000</td>\n",
       "    </tr>\n",
       "    <tr>\n",
       "      <th>mean</th>\n",
       "      <td>29.267857</td>\n",
       "      <td>2807.127778</td>\n",
       "      <td>34323.269444</td>\n",
       "      <td>41481.777778</td>\n",
       "      <td>1.497222</td>\n",
       "      <td>1155.338889</td>\n",
       "      <td>88.527778</td>\n",
       "      <td>1149.666667</td>\n",
       "      <td>78.802778</td>\n",
       "      <td>300.563889</td>\n",
       "      <td>1149.666667</td>\n",
       "      <td>933.920833</td>\n",
       "      <td>8.319444</td>\n",
       "    </tr>\n",
       "    <tr>\n",
       "      <th>std</th>\n",
       "      <td>19.152651</td>\n",
       "      <td>517.839690</td>\n",
       "      <td>13828.434837</td>\n",
       "      <td>24751.322015</td>\n",
       "      <td>0.500340</td>\n",
       "      <td>20.866398</td>\n",
       "      <td>37.660799</td>\n",
       "      <td>17.571788</td>\n",
       "      <td>36.421004</td>\n",
       "      <td>45.390303</td>\n",
       "      <td>17.571788</td>\n",
       "      <td>107.863887</td>\n",
       "      <td>1.623252</td>\n",
       "    </tr>\n",
       "    <tr>\n",
       "      <th>min</th>\n",
       "      <td>12.030000</td>\n",
       "      <td>1800.000000</td>\n",
       "      <td>7893.000000</td>\n",
       "      <td>7820.000000</td>\n",
       "      <td>1.000000</td>\n",
       "      <td>1103.000000</td>\n",
       "      <td>43.000000</td>\n",
       "      <td>1113.000000</td>\n",
       "      <td>35.000000</td>\n",
       "      <td>221.000000</td>\n",
       "      <td>1113.000000</td>\n",
       "      <td>0.000000</td>\n",
       "      <td>5.000000</td>\n",
       "    </tr>\n",
       "    <tr>\n",
       "      <th>25%</th>\n",
       "      <td>16.090000</td>\n",
       "      <td>2466.000000</td>\n",
       "      <td>22663.000000</td>\n",
       "      <td>17757.500000</td>\n",
       "      <td>1.000000</td>\n",
       "      <td>1139.000000</td>\n",
       "      <td>65.000000</td>\n",
       "      <td>1132.000000</td>\n",
       "      <td>57.750000</td>\n",
       "      <td>257.000000</td>\n",
       "      <td>1132.000000</td>\n",
       "      <td>889.750000</td>\n",
       "      <td>6.000000</td>\n",
       "    </tr>\n",
       "    <tr>\n",
       "      <th>50%</th>\n",
       "      <td>20.130000</td>\n",
       "      <td>2725.000000</td>\n",
       "      <td>37380.000000</td>\n",
       "      <td>36120.000000</td>\n",
       "      <td>1.000000</td>\n",
       "      <td>1158.000000</td>\n",
       "      <td>75.000000</td>\n",
       "      <td>1155.000000</td>\n",
       "      <td>67.500000</td>\n",
       "      <td>304.000000</td>\n",
       "      <td>1155.000000</td>\n",
       "      <td>951.000000</td>\n",
       "      <td>8.000000</td>\n",
       "    </tr>\n",
       "    <tr>\n",
       "      <th>75%</th>\n",
       "      <td>40.000000</td>\n",
       "      <td>3125.000000</td>\n",
       "      <td>43735.000000</td>\n",
       "      <td>61120.000000</td>\n",
       "      <td>2.000000</td>\n",
       "      <td>1171.000000</td>\n",
       "      <td>101.000000</td>\n",
       "      <td>1164.000000</td>\n",
       "      <td>86.000000</td>\n",
       "      <td>342.000000</td>\n",
       "      <td>1164.000000</td>\n",
       "      <td>994.250000</td>\n",
       "      <td>10.000000</td>\n",
       "    </tr>\n",
       "    <tr>\n",
       "      <th>max</th>\n",
       "      <td>100.340000</td>\n",
       "      <td>4575.000000</td>\n",
       "      <td>54917.000000</td>\n",
       "      <td>115080.000000</td>\n",
       "      <td>2.000000</td>\n",
       "      <td>1206.000000</td>\n",
       "      <td>312.000000</td>\n",
       "      <td>1185.000000</td>\n",
       "      <td>294.000000</td>\n",
       "      <td>398.000000</td>\n",
       "      <td>1185.000000</td>\n",
       "      <td>1078.000000</td>\n",
       "      <td>10.000000</td>\n",
       "    </tr>\n",
       "  </tbody>\n",
       "</table>\n",
       "</div>"
      ],
      "text/plain": [
       "           PT_THK      PT_WDTH        PT_LTH         PT_WGT  FUR_NO_ROW  \\\n",
       "count  720.000000   720.000000    720.000000     720.000000  720.000000   \n",
       "mean    29.267857  2807.127778  34323.269444   41481.777778    1.497222   \n",
       "std     19.152651   517.839690  13828.434837   24751.322015    0.500340   \n",
       "min     12.030000  1800.000000   7893.000000    7820.000000    1.000000   \n",
       "25%     16.090000  2466.000000  22663.000000   17757.500000    1.000000   \n",
       "50%     20.130000  2725.000000  37380.000000   36120.000000    1.000000   \n",
       "75%     40.000000  3125.000000  43735.000000   61120.000000    2.000000   \n",
       "max    100.340000  4575.000000  54917.000000  115080.000000    2.000000   \n",
       "\n",
       "       FUR_HZ_TEMP  FUR_HZ_TIME  FUR_SZ_TEMP  FUR_SZ_TIME    FUR_TIME  \\\n",
       "count   720.000000   720.000000   720.000000   720.000000  720.000000   \n",
       "mean   1155.338889    88.527778  1149.666667    78.802778  300.563889   \n",
       "std      20.866398    37.660799    17.571788    36.421004   45.390303   \n",
       "min    1103.000000    43.000000  1113.000000    35.000000  221.000000   \n",
       "25%    1139.000000    65.000000  1132.000000    57.750000  257.000000   \n",
       "50%    1158.000000    75.000000  1155.000000    67.500000  304.000000   \n",
       "75%    1171.000000   101.000000  1164.000000    86.000000  342.000000   \n",
       "max    1206.000000   312.000000  1185.000000   294.000000  398.000000   \n",
       "\n",
       "        FUR_EXTEMP  ROLLING_TEMP_T5  ROLLING_DESCALING  \n",
       "count   720.000000       720.000000         720.000000  \n",
       "mean   1149.666667       933.920833           8.319444  \n",
       "std      17.571788       107.863887           1.623252  \n",
       "min    1113.000000         0.000000           5.000000  \n",
       "25%    1132.000000       889.750000           6.000000  \n",
       "50%    1155.000000       951.000000           8.000000  \n",
       "75%    1164.000000       994.250000          10.000000  \n",
       "max    1185.000000      1078.000000          10.000000  "
      ]
     },
     "execution_count": 163,
     "metadata": {},
     "output_type": "execute_result"
    }
   ],
   "source": [
    "df_raw.describe()"
   ]
  },
  {
   "cell_type": "markdown",
   "metadata": {},
   "source": [
    "## 불필요한 변수 삭제"
   ]
  },
  {
   "cell_type": "code",
   "execution_count": 164,
   "metadata": {},
   "outputs": [],
   "source": [
    "df_raw = df_raw.drop(['PLATE_NO'], axis =1)\n",
    "df_raw = df_raw.drop(['ROLLING_DATE'], axis =1)\n",
    "df_raw = df_raw.drop(['FUR_EXTEMP'], axis =1)\n",
    "df_raw = df_raw.drop(['PT_WGT'], axis =1)\n",
    "df_raw = df_raw.drop(['FUR_HZ_TIME'], axis =1)"
   ]
  },
  {
   "cell_type": "code",
   "execution_count": 165,
   "metadata": {},
   "outputs": [
    {
     "data": {
      "text/html": [
       "<div>\n",
       "<style scoped>\n",
       "    .dataframe tbody tr th:only-of-type {\n",
       "        vertical-align: middle;\n",
       "    }\n",
       "\n",
       "    .dataframe tbody tr th {\n",
       "        vertical-align: top;\n",
       "    }\n",
       "\n",
       "    .dataframe thead th {\n",
       "        text-align: right;\n",
       "    }\n",
       "</style>\n",
       "<table border=\"1\" class=\"dataframe\">\n",
       "  <thead>\n",
       "    <tr style=\"text-align: right;\">\n",
       "      <th></th>\n",
       "      <th>SCALE</th>\n",
       "      <th>SPEC</th>\n",
       "      <th>STEEL_KIND</th>\n",
       "      <th>PT_THK</th>\n",
       "      <th>PT_WDTH</th>\n",
       "      <th>PT_LTH</th>\n",
       "      <th>FUR_NO</th>\n",
       "      <th>FUR_NO_ROW</th>\n",
       "      <th>FUR_HZ_TEMP</th>\n",
       "      <th>FUR_SZ_TEMP</th>\n",
       "      <th>FUR_SZ_TIME</th>\n",
       "      <th>FUR_TIME</th>\n",
       "      <th>ROLLING_TEMP_T5</th>\n",
       "      <th>HSB</th>\n",
       "      <th>ROLLING_DESCALING</th>\n",
       "      <th>WORK_GR</th>\n",
       "    </tr>\n",
       "  </thead>\n",
       "  <tbody>\n",
       "    <tr>\n",
       "      <th>0</th>\n",
       "      <td>양품</td>\n",
       "      <td>AB/EH32-TM</td>\n",
       "      <td>T1</td>\n",
       "      <td>32.25</td>\n",
       "      <td>3707</td>\n",
       "      <td>15109</td>\n",
       "      <td>1호기</td>\n",
       "      <td>1</td>\n",
       "      <td>1144</td>\n",
       "      <td>1133</td>\n",
       "      <td>59</td>\n",
       "      <td>282</td>\n",
       "      <td>934</td>\n",
       "      <td>적용</td>\n",
       "      <td>8</td>\n",
       "      <td>2조</td>\n",
       "    </tr>\n",
       "    <tr>\n",
       "      <th>1</th>\n",
       "      <td>양품</td>\n",
       "      <td>AB/EH32-TM</td>\n",
       "      <td>T1</td>\n",
       "      <td>32.25</td>\n",
       "      <td>3707</td>\n",
       "      <td>15109</td>\n",
       "      <td>1호기</td>\n",
       "      <td>2</td>\n",
       "      <td>1144</td>\n",
       "      <td>1135</td>\n",
       "      <td>53</td>\n",
       "      <td>283</td>\n",
       "      <td>937</td>\n",
       "      <td>적용</td>\n",
       "      <td>8</td>\n",
       "      <td>2조</td>\n",
       "    </tr>\n",
       "    <tr>\n",
       "      <th>2</th>\n",
       "      <td>양품</td>\n",
       "      <td>NV-E36-TM</td>\n",
       "      <td>T8</td>\n",
       "      <td>33.27</td>\n",
       "      <td>3619</td>\n",
       "      <td>19181</td>\n",
       "      <td>2호기</td>\n",
       "      <td>1</td>\n",
       "      <td>1129</td>\n",
       "      <td>1121</td>\n",
       "      <td>55</td>\n",
       "      <td>282</td>\n",
       "      <td>889</td>\n",
       "      <td>적용</td>\n",
       "      <td>8</td>\n",
       "      <td>3조</td>\n",
       "    </tr>\n",
       "    <tr>\n",
       "      <th>3</th>\n",
       "      <td>양품</td>\n",
       "      <td>NV-E36-TM</td>\n",
       "      <td>T8</td>\n",
       "      <td>33.27</td>\n",
       "      <td>3619</td>\n",
       "      <td>19181</td>\n",
       "      <td>2호기</td>\n",
       "      <td>2</td>\n",
       "      <td>1152</td>\n",
       "      <td>1127</td>\n",
       "      <td>68</td>\n",
       "      <td>316</td>\n",
       "      <td>885</td>\n",
       "      <td>적용</td>\n",
       "      <td>8</td>\n",
       "      <td>3조</td>\n",
       "    </tr>\n",
       "    <tr>\n",
       "      <th>4</th>\n",
       "      <td>양품</td>\n",
       "      <td>BV-EH36-TM</td>\n",
       "      <td>T8</td>\n",
       "      <td>38.33</td>\n",
       "      <td>3098</td>\n",
       "      <td>13334</td>\n",
       "      <td>3호기</td>\n",
       "      <td>1</td>\n",
       "      <td>1140</td>\n",
       "      <td>1128</td>\n",
       "      <td>48</td>\n",
       "      <td>314</td>\n",
       "      <td>873</td>\n",
       "      <td>적용</td>\n",
       "      <td>8</td>\n",
       "      <td>1조</td>\n",
       "    </tr>\n",
       "    <tr>\n",
       "      <th>...</th>\n",
       "      <td>...</td>\n",
       "      <td>...</td>\n",
       "      <td>...</td>\n",
       "      <td>...</td>\n",
       "      <td>...</td>\n",
       "      <td>...</td>\n",
       "      <td>...</td>\n",
       "      <td>...</td>\n",
       "      <td>...</td>\n",
       "      <td>...</td>\n",
       "      <td>...</td>\n",
       "      <td>...</td>\n",
       "      <td>...</td>\n",
       "      <td>...</td>\n",
       "      <td>...</td>\n",
       "      <td>...</td>\n",
       "    </tr>\n",
       "    <tr>\n",
       "      <th>715</th>\n",
       "      <td>불량</td>\n",
       "      <td>NK-KA</td>\n",
       "      <td>C0</td>\n",
       "      <td>20.14</td>\n",
       "      <td>3580</td>\n",
       "      <td>38639</td>\n",
       "      <td>3호기</td>\n",
       "      <td>1</td>\n",
       "      <td>1172</td>\n",
       "      <td>1164</td>\n",
       "      <td>62</td>\n",
       "      <td>245</td>\n",
       "      <td>1005</td>\n",
       "      <td>적용</td>\n",
       "      <td>8</td>\n",
       "      <td>2조</td>\n",
       "    </tr>\n",
       "    <tr>\n",
       "      <th>716</th>\n",
       "      <td>양품</td>\n",
       "      <td>NV-A32</td>\n",
       "      <td>C0</td>\n",
       "      <td>15.08</td>\n",
       "      <td>3212</td>\n",
       "      <td>48233</td>\n",
       "      <td>2호기</td>\n",
       "      <td>1</td>\n",
       "      <td>1150</td>\n",
       "      <td>1169</td>\n",
       "      <td>61</td>\n",
       "      <td>238</td>\n",
       "      <td>947</td>\n",
       "      <td>적용</td>\n",
       "      <td>10</td>\n",
       "      <td>1조</td>\n",
       "    </tr>\n",
       "    <tr>\n",
       "      <th>717</th>\n",
       "      <td>양품</td>\n",
       "      <td>NV-A32</td>\n",
       "      <td>C0</td>\n",
       "      <td>16.60</td>\n",
       "      <td>3441</td>\n",
       "      <td>43688</td>\n",
       "      <td>2호기</td>\n",
       "      <td>2</td>\n",
       "      <td>1169</td>\n",
       "      <td>1163</td>\n",
       "      <td>77</td>\n",
       "      <td>247</td>\n",
       "      <td>948</td>\n",
       "      <td>적용</td>\n",
       "      <td>10</td>\n",
       "      <td>4조</td>\n",
       "    </tr>\n",
       "    <tr>\n",
       "      <th>718</th>\n",
       "      <td>양품</td>\n",
       "      <td>LR-A</td>\n",
       "      <td>C0</td>\n",
       "      <td>15.59</td>\n",
       "      <td>3363</td>\n",
       "      <td>48740</td>\n",
       "      <td>3호기</td>\n",
       "      <td>2</td>\n",
       "      <td>1179</td>\n",
       "      <td>1163</td>\n",
       "      <td>45</td>\n",
       "      <td>243</td>\n",
       "      <td>940</td>\n",
       "      <td>적용</td>\n",
       "      <td>10</td>\n",
       "      <td>2조</td>\n",
       "    </tr>\n",
       "    <tr>\n",
       "      <th>719</th>\n",
       "      <td>양품</td>\n",
       "      <td>GL-A32</td>\n",
       "      <td>C0</td>\n",
       "      <td>16.09</td>\n",
       "      <td>3400</td>\n",
       "      <td>54209</td>\n",
       "      <td>3호기</td>\n",
       "      <td>1</td>\n",
       "      <td>1186</td>\n",
       "      <td>1169</td>\n",
       "      <td>45</td>\n",
       "      <td>239</td>\n",
       "      <td>957</td>\n",
       "      <td>적용</td>\n",
       "      <td>10</td>\n",
       "      <td>2조</td>\n",
       "    </tr>\n",
       "  </tbody>\n",
       "</table>\n",
       "<p>720 rows × 16 columns</p>\n",
       "</div>"
      ],
      "text/plain": [
       "    SCALE        SPEC STEEL_KIND  PT_THK  PT_WDTH  PT_LTH FUR_NO  FUR_NO_ROW  \\\n",
       "0      양품  AB/EH32-TM         T1   32.25     3707   15109    1호기           1   \n",
       "1      양품  AB/EH32-TM         T1   32.25     3707   15109    1호기           2   \n",
       "2      양품   NV-E36-TM         T8   33.27     3619   19181    2호기           1   \n",
       "3      양품   NV-E36-TM         T8   33.27     3619   19181    2호기           2   \n",
       "4      양품  BV-EH36-TM         T8   38.33     3098   13334    3호기           1   \n",
       "..    ...         ...        ...     ...      ...     ...    ...         ...   \n",
       "715    불량       NK-KA         C0   20.14     3580   38639    3호기           1   \n",
       "716    양품      NV-A32         C0   15.08     3212   48233    2호기           1   \n",
       "717    양품      NV-A32         C0   16.60     3441   43688    2호기           2   \n",
       "718    양품        LR-A         C0   15.59     3363   48740    3호기           2   \n",
       "719    양품      GL-A32         C0   16.09     3400   54209    3호기           1   \n",
       "\n",
       "     FUR_HZ_TEMP  FUR_SZ_TEMP  FUR_SZ_TIME  FUR_TIME  ROLLING_TEMP_T5 HSB  \\\n",
       "0           1144         1133           59       282              934  적용   \n",
       "1           1144         1135           53       283              937  적용   \n",
       "2           1129         1121           55       282              889  적용   \n",
       "3           1152         1127           68       316              885  적용   \n",
       "4           1140         1128           48       314              873  적용   \n",
       "..           ...          ...          ...       ...              ...  ..   \n",
       "715         1172         1164           62       245             1005  적용   \n",
       "716         1150         1169           61       238              947  적용   \n",
       "717         1169         1163           77       247              948  적용   \n",
       "718         1179         1163           45       243              940  적용   \n",
       "719         1186         1169           45       239              957  적용   \n",
       "\n",
       "     ROLLING_DESCALING WORK_GR  \n",
       "0                    8      2조  \n",
       "1                    8      2조  \n",
       "2                    8      3조  \n",
       "3                    8      3조  \n",
       "4                    8      1조  \n",
       "..                 ...     ...  \n",
       "715                  8      2조  \n",
       "716                 10      1조  \n",
       "717                 10      4조  \n",
       "718                 10      2조  \n",
       "719                 10      2조  \n",
       "\n",
       "[720 rows x 16 columns]"
      ]
     },
     "execution_count": 165,
     "metadata": {},
     "output_type": "execute_result"
    }
   ],
   "source": [
    "df_raw"
   ]
  },
  {
   "cell_type": "code",
   "execution_count": 166,
   "metadata": {},
   "outputs": [
    {
     "data": {
      "text/plain": [
       "<matplotlib.axes._subplots.AxesSubplot at 0x1c2357db10>"
      ]
     },
     "execution_count": 166,
     "metadata": {},
     "output_type": "execute_result"
    },
    {
     "data": {
      "image/png": "[encoded data removed]",
      "text/plain": [
       "<Figure size 1080x576 with 1 Axes>"
      ]
     },
     "metadata": {
      "needs_background": "light"
     },
     "output_type": "display_data"
    }
   ],
   "source": [
    "df_raw.boxplot(figsize=(15,8)) #이상치 없음"
   ]
  },
  {
   "cell_type": "markdown",
   "metadata": {},
   "source": [
    "# 데이터 탐색"
   ]
  },
  {
   "cell_type": "code",
   "execution_count": 167,
   "metadata": {},
   "outputs": [
    {
     "data": {
      "text/plain": [
       "<matplotlib.axes._subplots.AxesSubplot at 0x1c235d51d0>"
      ]
     },
     "execution_count": 167,
     "metadata": {},
     "output_type": "execute_result"
    },
    {
     "data": {
      "image/png": "[encoded data removed]",
      "text/plain": [
       "<Figure size 432x288 with 1 Axes>"
      ]
     },
     "metadata": {},
     "output_type": "display_data"
    }
   ],
   "source": [
    "df_count = df_raw.groupby([\"SCALE\"]).size()\n",
    "df_count.plot.pie(y=\"SCALE\", autopct=\"%1f%%\")\n",
    "#불량률은 약 32% 양품은 약 68%"
   ]
  },
  {
   "cell_type": "markdown",
   "metadata": {},
   "source": [
    "## 히스토그램 출력함수"
   ]
  },
  {
   "cell_type": "code",
   "execution_count": 168,
   "metadata": {},
   "outputs": [],
   "source": [
    "def fun_plot_hist(data, var):\n",
    "    plt.hist(data[data['SCALE']=='양품'][var], label = '양품', alpha = 0.5)\n",
    "    plt.hist(data[data['SCALE']=='불량'][var], label = '불량', alpha = 0.5)\n",
    "    plt.legend()"
   ]
  },
  {
   "cell_type": "markdown",
   "metadata": {},
   "source": [
    "## 교차표 출력함수"
   ]
  },
  {
   "cell_type": "code",
   "execution_count": 169,
   "metadata": {},
   "outputs": [],
   "source": [
    "def fun_print_crosstab(data, var):\n",
    "    print(pd.crosstab(index = data[\"SCALE\"], columns = data[var]))\n",
    "    print()\n",
    "    print(pd.crosstab(index = data[\"SCALE\"], columns = data[var], normalize = \"columns\").round(3))"
   ]
  },
  {
   "cell_type": "markdown",
   "metadata": {},
   "source": [
    "## 막대 그래프 출력"
   ]
  },
  {
   "cell_type": "code",
   "execution_count": 170,
   "metadata": {},
   "outputs": [],
   "source": [
    "def fun_plot_bar(data, var):\n",
    "    a = data[var].value_counts()\n",
    "    a.plot.bar()"
   ]
  },
  {
   "cell_type": "markdown",
   "metadata": {},
   "source": [
    "# 막대그래프 변수 리스트"
   ]
  },
  {
   "cell_type": "markdown",
   "metadata": {},
   "source": [
    "### 작업조"
   ]
  },
  {
   "cell_type": "code",
   "execution_count": 171,
   "metadata": {},
   "outputs": [
    {
     "data": {
      "image/png": "[encoded data removed]",
      "text/plain": [
       "<Figure size 432x288 with 1 Axes>"
      ]
     },
     "metadata": {
      "needs_background": "light"
     },
     "output_type": "display_data"
    }
   ],
   "source": [
    "fun_plot_bar(df_raw,\"SPEC\")"
   ]
  },
  {
   "cell_type": "code",
   "execution_count": 172,
   "metadata": {},
   "outputs": [
    {
     "data": {
      "image/png": "[encoded data removed]",
      "text/plain": [
       "<Figure size 432x288 with 1 Axes>"
      ]
     },
     "metadata": {
      "needs_background": "light"
     },
     "output_type": "display_data"
    }
   ],
   "source": [
    "fun_plot_bar(df_raw,\"WORK_GR\")"
   ]
  },
  {
   "cell_type": "markdown",
   "metadata": {},
   "source": [
    "# 히스토그램 변수 리스트"
   ]
  },
  {
   "cell_type": "markdown",
   "metadata": {},
   "source": [
    "### 작업시각"
   ]
  },
  {
   "cell_type": "code",
   "execution_count": 198,
   "metadata": {
    "scrolled": true
   },
   "outputs": [
    {
     "data": {
      "image/png": "[encoded data removed]",
      "text/plain": [
       "<Figure size 432x288 with 1 Axes>"
      ]
     },
     "metadata": {
      "needs_background": "light"
     },
     "output_type": "display_data"
    }
   ],
   "source": [
    "fun_plot_hist(df_raw,\"ROLLING_DATE\")"
   ]
  },
  {
   "cell_type": "markdown",
   "metadata": {},
   "source": [
    "- 특정시점 이상부터 불량이 발생하기 시작했음.\n",
    "- x축이 시간순 배열이 아니므로 의미가 없음 -> drop "
   ]
  },
  {
   "cell_type": "markdown",
   "metadata": {},
   "source": [
    "### 강종"
   ]
  },
  {
   "cell_type": "code",
   "execution_count": 24,
   "metadata": {},
   "outputs": [
    {
     "data": {
      "image/png": "[encoded data removed]",
      "text/plain": [
       "<Figure size 432x288 with 1 Axes>"
      ]
     },
     "metadata": {
      "needs_background": "light"
     },
     "output_type": "display_data"
    }
   ],
   "source": [
    "fun_plot_hist(df_raw,\"STEEL_KIND\")"
   ]
  },
  {
   "cell_type": "markdown",
   "metadata": {},
   "source": [
    "- C0에서 유독 불량이 많음."
   ]
  },
  {
   "cell_type": "markdown",
   "metadata": {},
   "source": [
    "### plate 두께"
   ]
  },
  {
   "cell_type": "code",
   "execution_count": 100,
   "metadata": {
    "scrolled": true
   },
   "outputs": [
    {
     "data": {
      "image/png": "[encoded data removed]",
      "text/plain": [
       "<Figure size 432x288 with 1 Axes>"
      ]
     },
     "metadata": {
      "needs_background": "light"
     },
     "output_type": "display_data"
    }
   ],
   "source": [
    "fun_plot_hist(df_raw, 'PT_THK')"
   ]
  },
  {
   "cell_type": "markdown",
   "metadata": {},
   "source": [
    "- 플레이트의 두께 폭이 작을 수록, 불량이 많다.\n",
    "- 플레이트의 두께가 작다는 것은 곧 압연을 많이 한다는 뜻이다.\n",
    "- 압연을 많이 하면 스케일이 많이 발생한다."
   ]
  },
  {
   "cell_type": "markdown",
   "metadata": {},
   "source": [
    "### plate 폭"
   ]
  },
  {
   "cell_type": "code",
   "execution_count": 101,
   "metadata": {},
   "outputs": [
    {
     "data": {
      "image/png": "[encoded data removed]",
      "text/plain": [
       "<Figure size 432x288 with 1 Axes>"
      ]
     },
     "metadata": {
      "needs_background": "light"
     },
     "output_type": "display_data"
    }
   ],
   "source": [
    "fun_plot_hist(df_raw, \"PT_WDTH\")"
   ]
  },
  {
   "cell_type": "markdown",
   "metadata": {},
   "source": [
    "- 플레이트의 폭이 2500 근방까지 불량률이 증가함\n",
    "- 그러나 그 이후의 불량률이 일정하지 않음.\n",
    "- x축이 시간 순 배열이 아니므로 의미가 없음 -> drop"
   ]
  },
  {
   "cell_type": "markdown",
   "metadata": {},
   "source": [
    "### plate 길이"
   ]
  },
  {
   "cell_type": "code",
   "execution_count": 102,
   "metadata": {},
   "outputs": [
    {
     "data": {
      "image/png": "[encoded data removed]",
      "text/plain": [
       "<Figure size 432x288 with 1 Axes>"
      ]
     },
     "metadata": {
      "needs_background": "light"
     },
     "output_type": "display_data"
    }
   ],
   "source": [
    "fun_plot_hist(df_raw, \"PT_LTH\")"
   ]
  },
  {
   "cell_type": "markdown",
   "metadata": {},
   "source": [
    "- 플레이트의 길이 폭이 30000~45000정도 까지 증가함.\n",
    "- 그 이후로 급격하게 불량률이 떨어짐.\n",
    "- 특정 구간에 대한 불량률을 조사해 볼 필요가 있음."
   ]
  },
  {
   "cell_type": "markdown",
   "metadata": {},
   "source": [
    "### plate 중량"
   ]
  },
  {
   "cell_type": "code",
   "execution_count": 103,
   "metadata": {},
   "outputs": [
    {
     "data": {
      "image/png": "[encoded data removed]",
      "text/plain": [
       "<Figure size 432x288 with 1 Axes>"
      ]
     },
     "metadata": {
      "needs_background": "light"
     },
     "output_type": "display_data"
    }
   ],
   "source": [
    "fun_plot_hist(df_raw, \"PT_WGT\")"
   ]
  },
  {
   "cell_type": "markdown",
   "metadata": {},
   "source": [
    "- 플레이트의 중량에따라 scale 불량의 비율이 큰 차이가 없는 것으로 보아 두 변수간의 상관이 적다고 생각할 수 있다. "
   ]
  },
  {
   "cell_type": "markdown",
   "metadata": {},
   "source": [
    "### 가열로 호기"
   ]
  },
  {
   "cell_type": "code",
   "execution_count": 104,
   "metadata": {},
   "outputs": [
    {
     "data": {
      "image/png": "[encoded data removed]",
      "text/plain": [
       "<Figure size 432x288 with 1 Axes>"
      ]
     },
     "metadata": {
      "needs_background": "light"
     },
     "output_type": "display_data"
    }
   ],
   "source": [
    "fun_plot_hist(df_raw, \"FUR_NO\")"
   ]
  },
  {
   "cell_type": "markdown",
   "metadata": {},
   "source": [
    "- 가열호기에 따라 불량률의 차이는 크지 않다\n",
    "- 다만, 작업 순번과 같이 확인해야 하는 문제이다."
   ]
  },
  {
   "cell_type": "markdown",
   "metadata": {},
   "source": [
    "### 가열로 작업순번"
   ]
  },
  {
   "cell_type": "code",
   "execution_count": 105,
   "metadata": {},
   "outputs": [
    {
     "data": {
      "image/png": "[encoded data removed]",
      "text/plain": [
       "<Figure size 432x288 with 1 Axes>"
      ]
     },
     "metadata": {
      "needs_background": "light"
     },
     "output_type": "display_data"
    }
   ],
   "source": [
    "fun_plot_hist(df_raw, \"FUR_NO_ROW\")"
   ]
  },
  {
   "cell_type": "markdown",
   "metadata": {},
   "source": [
    "- 작업 순번에 따라 불량률의 차이는 크지 않다\n",
    "- 다만, 가열로 호기와 같이 확인해야 하는 문제이다."
   ]
  },
  {
   "cell_type": "markdown",
   "metadata": {},
   "source": [
    "### 가열로 가열대 온도"
   ]
  },
  {
   "cell_type": "code",
   "execution_count": 106,
   "metadata": {},
   "outputs": [
    {
     "data": {
      "image/png": "[encoded data removed]",
      "text/plain": [
       "<Figure size 432x288 with 1 Axes>"
      ]
     },
     "metadata": {
      "needs_background": "light"
     },
     "output_type": "display_data"
    }
   ],
   "source": [
    "fun_plot_hist(df_raw, \"FUR_HZ_TEMP\")"
   ]
  },
  {
   "cell_type": "markdown",
   "metadata": {},
   "source": [
    "- 가열로 온도가 1160도 근처에서 불량률이 높은것으로 보아 scale 불량과 연관 있을것임"
   ]
  },
  {
   "cell_type": "markdown",
   "metadata": {},
   "source": [
    "### 가열로 가열대 시간"
   ]
  },
  {
   "cell_type": "code",
   "execution_count": 107,
   "metadata": {},
   "outputs": [
    {
     "data": {
      "image/png": "[encoded data removed]",
      "text/plain": [
       "<Figure size 432x288 with 1 Axes>"
      ]
     },
     "metadata": {
      "needs_background": "light"
     },
     "output_type": "display_data"
    }
   ],
   "source": [
    "fun_plot_hist(df_raw, \"FUR_HZ_TIME\")"
   ]
  },
  {
   "cell_type": "markdown",
   "metadata": {},
   "source": [
    "- 가열로 시간에따라 scale 불량의 변화가 크지않음\n",
    "- scale 불량과 관계가 적다고 볼 수 있음."
   ]
  },
  {
   "cell_type": "markdown",
   "metadata": {},
   "source": [
    "### 가열로 균열대 온도"
   ]
  },
  {
   "cell_type": "code",
   "execution_count": 108,
   "metadata": {},
   "outputs": [
    {
     "data": {
      "image/png": "[encoded data removed]",
      "text/plain": [
       "<Figure size 432x288 with 1 Axes>"
      ]
     },
     "metadata": {
      "needs_background": "light"
     },
     "output_type": "display_data"
    }
   ],
   "source": [
    "fun_plot_hist(df_raw, \"FUR_SZ_TEMP\")"
   ]
  },
  {
   "cell_type": "markdown",
   "metadata": {},
   "source": [
    "- 가열로 균열대 온도가 1150~60 구간의 불량률이 큰것으로 보아 scale 불량과 연관이 있을 것임."
   ]
  },
  {
   "cell_type": "markdown",
   "metadata": {},
   "source": [
    "### 가열로 균열대 시간"
   ]
  },
  {
   "cell_type": "code",
   "execution_count": 109,
   "metadata": {},
   "outputs": [
    {
     "data": {
      "image/png": "[encoded data removed]",
      "text/plain": [
       "<Figure size 432x288 with 1 Axes>"
      ]
     },
     "metadata": {
      "needs_background": "light"
     },
     "output_type": "display_data"
    }
   ],
   "source": [
    "fun_plot_hist(df_raw, \"FUR_TIME\")"
   ]
  },
  {
   "cell_type": "markdown",
   "metadata": {},
   "source": [
    "- 불량률이 특정 구간에서 높다. \n",
    "-  어느정도 영향이 있을 것으로 보인다."
   ]
  },
  {
   "cell_type": "markdown",
   "metadata": {},
   "source": [
    "### 추출온도"
   ]
  },
  {
   "cell_type": "code",
   "execution_count": 112,
   "metadata": {},
   "outputs": [
    {
     "data": {
      "image/png": "[encoded data removed]",
      "text/plain": [
       "<Figure size 432x288 with 1 Axes>"
      ]
     },
     "metadata": {
      "needs_background": "light"
     },
     "output_type": "display_data"
    }
   ],
   "source": [
    "fun_plot_hist(df_raw, \"FUR_EXTEMP\")"
   ]
  },
  {
   "cell_type": "markdown",
   "metadata": {},
   "source": [
    "- FUR_SZ_TEMP와 동일한 값을 지녔다.\n",
    "- 중복 되었으므로 drop 한다."
   ]
  },
  {
   "cell_type": "markdown",
   "metadata": {},
   "source": [
    "### 압연온도"
   ]
  },
  {
   "cell_type": "code",
   "execution_count": 36,
   "metadata": {},
   "outputs": [
    {
     "data": {
      "image/png": "[encoded data removed]",
      "text/plain": [
       "<Figure size 432x288 with 1 Axes>"
      ]
     },
     "metadata": {
      "needs_background": "light"
     },
     "output_type": "display_data"
    }
   ],
   "source": [
    "fun_plot_hist(df_raw, \"ROLLING_TEMP_T5\")"
   ]
  },
  {
   "cell_type": "markdown",
   "metadata": {},
   "source": [
    "- 특정 구간(800도 이상)에서만 발생한다.\n",
    "- 스케일 발생과 매우 밀접한 관련이 있다고 볼 수 있다."
   ]
  },
  {
   "cell_type": "markdown",
   "metadata": {},
   "source": [
    "### HSB적용 (1 - 적용, 0 - 미적용)"
   ]
  },
  {
   "cell_type": "code",
   "execution_count": 37,
   "metadata": {},
   "outputs": [
    {
     "data": {
      "image/png": "[encoded data removed]",
      "text/plain": [
       "<Figure size 432x288 with 1 Axes>"
      ]
     },
     "metadata": {
      "needs_background": "light"
     },
     "output_type": "display_data"
    }
   ],
   "source": [
    "fun_plot_hist(df_raw, \"HSB\")"
   ]
  },
  {
   "cell_type": "markdown",
   "metadata": {},
   "source": [
    "- HSB 미적용 제품의 경우 양품이 한개도 존재하지 않는다.\n",
    "- HSB 적용 제품의 경우 양품이 불량품에 비해 2배이상 많다.\n",
    "- 스케일 불량에 가장 크리티컬한 요인일 것이라고 예측할 수 있다."
   ]
  },
  {
   "cell_type": "markdown",
   "metadata": {},
   "source": [
    "### 압연 중 Descaling 횟수"
   ]
  },
  {
   "cell_type": "code",
   "execution_count": 38,
   "metadata": {},
   "outputs": [
    {
     "data": {
      "image/png": "[encoded data removed]",
      "text/plain": [
       "<Figure size 432x288 with 1 Axes>"
      ]
     },
     "metadata": {
      "needs_background": "light"
     },
     "output_type": "display_data"
    }
   ],
   "source": [
    "fun_plot_hist(df_raw, \"ROLLING_DESCALING\")"
   ]
  },
  {
   "cell_type": "markdown",
   "metadata": {},
   "source": [
    "- Descaling 횟수가 적을 경우 양품이 없고 불량품만 있는 경우가 있다.\n",
    "- Descaling 횟수가 많을 수록, 양품이 상당히 많다.\n",
    "- Descaling도 상당히 스케일 불량에 상당히 크리티컬할 요인일 것이다."
   ]
  },
  {
   "cell_type": "markdown",
   "metadata": {},
   "source": [
    "### 작업조"
   ]
  },
  {
   "cell_type": "code",
   "execution_count": 39,
   "metadata": {},
   "outputs": [
    {
     "data": {
      "image/png": "[encoded data removed]",
      "text/plain": [
       "<Figure size 432x288 with 1 Axes>"
      ]
     },
     "metadata": {
      "needs_background": "light"
     },
     "output_type": "display_data"
    }
   ],
   "source": [
    "fun_plot_hist(df_raw, \"WORK_GR\")"
   ]
  },
  {
   "cell_type": "markdown",
   "metadata": {},
   "source": [
    "- 2조의 불량률이 낮다\n",
    "- 단 모든 조의 능률은 큰차이가 없다"
   ]
  },
  {
   "cell_type": "markdown",
   "metadata": {},
   "source": [
    "## 가열로 호기"
   ]
  },
  {
   "cell_type": "code",
   "execution_count": 87,
   "metadata": {},
   "outputs": [
    {
     "name": "stdout",
     "output_type": "stream",
     "text": [
      "FUR_NO  1호기  2호기  3호기\n",
      "SCALE                \n",
      "불량       73   70   88\n",
      "양품      167  167  155\n",
      "\n",
      "FUR_NO    1호기    2호기    3호기\n",
      "SCALE                      \n",
      "불량      0.304  0.295  0.362\n",
      "양품      0.696  0.705  0.638\n"
     ]
    }
   ],
   "source": [
    "fun_print_crosstab(df_raw, \"FUR_NO\") #큰차이 보이지 않음"
   ]
  },
  {
   "cell_type": "code",
   "execution_count": 41,
   "metadata": {},
   "outputs": [
    {
     "name": "stderr",
     "output_type": "stream",
     "text": [
      "/Users/joylee/anaconda3/lib/python3.7/site-packages/ipykernel_launcher.py:1: UserWarning: Boolean Series key will be reindexed to match DataFrame index.\n",
      "  \"\"\"Entry point for launching an IPython kernel.\n"
     ]
    },
    {
     "data": {
      "text/plain": [
       "PLATE_NO             198\n",
       "ROLLING_DATE         198\n",
       "SCALE                198\n",
       "SPEC                 198\n",
       "STEEL_KIND           198\n",
       "PT_THK               198\n",
       "PT_WDTH              198\n",
       "PT_LTH               198\n",
       "PT_WGT               198\n",
       "FUR_NO               198\n",
       "FUR_NO_ROW           198\n",
       "FUR_HZ_TEMP          198\n",
       "FUR_HZ_TIME          198\n",
       "FUR_SZ_TEMP          198\n",
       "FUR_SZ_TIME          198\n",
       "FUR_TIME             198\n",
       "FUR_EXTEMP           198\n",
       "ROLLING_TEMP_T5      198\n",
       "HSB                  198\n",
       "ROLLING_DESCALING    198\n",
       "WORK_GR              198\n",
       "dtype: int64"
      ]
     },
     "execution_count": 41,
     "metadata": {},
     "output_type": "execute_result"
    }
   ],
   "source": [
    "df_raw[df_raw[\"SCALE\"]==\"불량\"][df_raw[\"HSB\"]==\"적용\"].count()"
   ]
  },
  {
   "cell_type": "code",
   "execution_count": 42,
   "metadata": {
    "scrolled": true
   },
   "outputs": [
    {
     "name": "stderr",
     "output_type": "stream",
     "text": [
      "/Users/joylee/anaconda3/lib/python3.7/site-packages/ipykernel_launcher.py:1: UserWarning: Boolean Series key will be reindexed to match DataFrame index.\n",
      "  \"\"\"Entry point for launching an IPython kernel.\n"
     ]
    },
    {
     "data": {
      "text/plain": [
       "PLATE_NO             33\n",
       "ROLLING_DATE         33\n",
       "SCALE                33\n",
       "SPEC                 33\n",
       "STEEL_KIND           33\n",
       "PT_THK               33\n",
       "PT_WDTH              33\n",
       "PT_LTH               33\n",
       "PT_WGT               33\n",
       "FUR_NO               33\n",
       "FUR_NO_ROW           33\n",
       "FUR_HZ_TEMP          33\n",
       "FUR_HZ_TIME          33\n",
       "FUR_SZ_TEMP          33\n",
       "FUR_SZ_TIME          33\n",
       "FUR_TIME             33\n",
       "FUR_EXTEMP           33\n",
       "ROLLING_TEMP_T5      33\n",
       "HSB                  33\n",
       "ROLLING_DESCALING    33\n",
       "WORK_GR              33\n",
       "dtype: int64"
      ]
     },
     "execution_count": 42,
     "metadata": {},
     "output_type": "execute_result"
    }
   ],
   "source": [
    "df_raw[df_raw[\"SCALE\"]==\"불량\"][df_raw[\"HSB\"]==\"미적용\"].count()"
   ]
  },
  {
   "cell_type": "markdown",
   "metadata": {},
   "source": [
    "# 로지스틱 회귀분석"
   ]
  },
  {
   "cell_type": "code",
   "execution_count": 251,
   "metadata": {},
   "outputs": [
    {
     "data": {
      "text/html": [
       "<div>\n",
       "<style scoped>\n",
       "    .dataframe tbody tr th:only-of-type {\n",
       "        vertical-align: middle;\n",
       "    }\n",
       "\n",
       "    .dataframe tbody tr th {\n",
       "        vertical-align: top;\n",
       "    }\n",
       "\n",
       "    .dataframe thead th {\n",
       "        text-align: right;\n",
       "    }\n",
       "</style>\n",
       "<table border=\"1\" class=\"dataframe\">\n",
       "  <thead>\n",
       "    <tr style=\"text-align: right;\">\n",
       "      <th></th>\n",
       "      <th>PLATE_NO</th>\n",
       "      <th>ROLLING_DATE</th>\n",
       "      <th>SCALE</th>\n",
       "      <th>SPEC</th>\n",
       "      <th>STEEL_KIND</th>\n",
       "      <th>PT_THK</th>\n",
       "      <th>PT_WDTH</th>\n",
       "      <th>PT_LTH</th>\n",
       "      <th>PT_WGT</th>\n",
       "      <th>FUR_NO</th>\n",
       "      <th>...</th>\n",
       "      <th>FUR_HZ_TEMP</th>\n",
       "      <th>FUR_HZ_TIME</th>\n",
       "      <th>FUR_SZ_TEMP</th>\n",
       "      <th>FUR_SZ_TIME</th>\n",
       "      <th>FUR_TIME</th>\n",
       "      <th>FUR_EXTEMP</th>\n",
       "      <th>ROLLING_TEMP_T5</th>\n",
       "      <th>HSB</th>\n",
       "      <th>ROLLING_DESCALING</th>\n",
       "      <th>WORK_GR</th>\n",
       "    </tr>\n",
       "  </thead>\n",
       "  <tbody>\n",
       "    <tr>\n",
       "      <th>0</th>\n",
       "      <td>PB562774</td>\n",
       "      <td>2008-08-01:00:00:15</td>\n",
       "      <td>양품</td>\n",
       "      <td>AB/EH32-TM</td>\n",
       "      <td>T1</td>\n",
       "      <td>32.25</td>\n",
       "      <td>3707</td>\n",
       "      <td>15109</td>\n",
       "      <td>14180</td>\n",
       "      <td>1호기</td>\n",
       "      <td>...</td>\n",
       "      <td>1144</td>\n",
       "      <td>116</td>\n",
       "      <td>1133</td>\n",
       "      <td>59</td>\n",
       "      <td>282</td>\n",
       "      <td>1133</td>\n",
       "      <td>934</td>\n",
       "      <td>적용</td>\n",
       "      <td>8</td>\n",
       "      <td>2조</td>\n",
       "    </tr>\n",
       "    <tr>\n",
       "      <th>1</th>\n",
       "      <td>PB562775</td>\n",
       "      <td>2008-08-01:00:00:16</td>\n",
       "      <td>양품</td>\n",
       "      <td>AB/EH32-TM</td>\n",
       "      <td>T1</td>\n",
       "      <td>32.25</td>\n",
       "      <td>3707</td>\n",
       "      <td>15109</td>\n",
       "      <td>14180</td>\n",
       "      <td>1호기</td>\n",
       "      <td>...</td>\n",
       "      <td>1144</td>\n",
       "      <td>122</td>\n",
       "      <td>1135</td>\n",
       "      <td>53</td>\n",
       "      <td>283</td>\n",
       "      <td>1135</td>\n",
       "      <td>937</td>\n",
       "      <td>적용</td>\n",
       "      <td>8</td>\n",
       "      <td>2조</td>\n",
       "    </tr>\n",
       "    <tr>\n",
       "      <th>2</th>\n",
       "      <td>PB562776</td>\n",
       "      <td>2008-08-01:00:00:59</td>\n",
       "      <td>양품</td>\n",
       "      <td>NV-E36-TM</td>\n",
       "      <td>T8</td>\n",
       "      <td>33.27</td>\n",
       "      <td>3619</td>\n",
       "      <td>19181</td>\n",
       "      <td>18130</td>\n",
       "      <td>2호기</td>\n",
       "      <td>...</td>\n",
       "      <td>1129</td>\n",
       "      <td>116</td>\n",
       "      <td>1121</td>\n",
       "      <td>55</td>\n",
       "      <td>282</td>\n",
       "      <td>1121</td>\n",
       "      <td>889</td>\n",
       "      <td>적용</td>\n",
       "      <td>8</td>\n",
       "      <td>3조</td>\n",
       "    </tr>\n",
       "    <tr>\n",
       "      <th>3</th>\n",
       "      <td>PB562777</td>\n",
       "      <td>2008-08-01:00:01:24</td>\n",
       "      <td>양품</td>\n",
       "      <td>NV-E36-TM</td>\n",
       "      <td>T8</td>\n",
       "      <td>33.27</td>\n",
       "      <td>3619</td>\n",
       "      <td>19181</td>\n",
       "      <td>18130</td>\n",
       "      <td>2호기</td>\n",
       "      <td>...</td>\n",
       "      <td>1152</td>\n",
       "      <td>125</td>\n",
       "      <td>1127</td>\n",
       "      <td>68</td>\n",
       "      <td>316</td>\n",
       "      <td>1127</td>\n",
       "      <td>885</td>\n",
       "      <td>적용</td>\n",
       "      <td>8</td>\n",
       "      <td>3조</td>\n",
       "    </tr>\n",
       "    <tr>\n",
       "      <th>4</th>\n",
       "      <td>PB562778</td>\n",
       "      <td>2008-08-01:00:01:44</td>\n",
       "      <td>양품</td>\n",
       "      <td>BV-EH36-TM</td>\n",
       "      <td>T8</td>\n",
       "      <td>38.33</td>\n",
       "      <td>3098</td>\n",
       "      <td>13334</td>\n",
       "      <td>12430</td>\n",
       "      <td>3호기</td>\n",
       "      <td>...</td>\n",
       "      <td>1140</td>\n",
       "      <td>134</td>\n",
       "      <td>1128</td>\n",
       "      <td>48</td>\n",
       "      <td>314</td>\n",
       "      <td>1128</td>\n",
       "      <td>873</td>\n",
       "      <td>적용</td>\n",
       "      <td>8</td>\n",
       "      <td>1조</td>\n",
       "    </tr>\n",
       "    <tr>\n",
       "      <th>...</th>\n",
       "      <td>...</td>\n",
       "      <td>...</td>\n",
       "      <td>...</td>\n",
       "      <td>...</td>\n",
       "      <td>...</td>\n",
       "      <td>...</td>\n",
       "      <td>...</td>\n",
       "      <td>...</td>\n",
       "      <td>...</td>\n",
       "      <td>...</td>\n",
       "      <td>...</td>\n",
       "      <td>...</td>\n",
       "      <td>...</td>\n",
       "      <td>...</td>\n",
       "      <td>...</td>\n",
       "      <td>...</td>\n",
       "      <td>...</td>\n",
       "      <td>...</td>\n",
       "      <td>...</td>\n",
       "      <td>...</td>\n",
       "      <td>...</td>\n",
       "    </tr>\n",
       "    <tr>\n",
       "      <th>715</th>\n",
       "      <td>PB563502</td>\n",
       "      <td>2008-08-02:13:35:36</td>\n",
       "      <td>불량</td>\n",
       "      <td>NK-KA</td>\n",
       "      <td>C0</td>\n",
       "      <td>20.14</td>\n",
       "      <td>3580</td>\n",
       "      <td>38639</td>\n",
       "      <td>21870</td>\n",
       "      <td>3호기</td>\n",
       "      <td>...</td>\n",
       "      <td>1172</td>\n",
       "      <td>72</td>\n",
       "      <td>1164</td>\n",
       "      <td>62</td>\n",
       "      <td>245</td>\n",
       "      <td>1164</td>\n",
       "      <td>1005</td>\n",
       "      <td>적용</td>\n",
       "      <td>8</td>\n",
       "      <td>2조</td>\n",
       "    </tr>\n",
       "    <tr>\n",
       "      <th>716</th>\n",
       "      <td>PB563503</td>\n",
       "      <td>2008-08-02:13:35:02</td>\n",
       "      <td>양품</td>\n",
       "      <td>NV-A32</td>\n",
       "      <td>C0</td>\n",
       "      <td>15.08</td>\n",
       "      <td>3212</td>\n",
       "      <td>48233</td>\n",
       "      <td>18340</td>\n",
       "      <td>2호기</td>\n",
       "      <td>...</td>\n",
       "      <td>1150</td>\n",
       "      <td>61</td>\n",
       "      <td>1169</td>\n",
       "      <td>61</td>\n",
       "      <td>238</td>\n",
       "      <td>1169</td>\n",
       "      <td>947</td>\n",
       "      <td>적용</td>\n",
       "      <td>10</td>\n",
       "      <td>1조</td>\n",
       "    </tr>\n",
       "    <tr>\n",
       "      <th>717</th>\n",
       "      <td>PB563504</td>\n",
       "      <td>2008-08-02:14:40:00</td>\n",
       "      <td>양품</td>\n",
       "      <td>NV-A32</td>\n",
       "      <td>C0</td>\n",
       "      <td>16.60</td>\n",
       "      <td>3441</td>\n",
       "      <td>43688</td>\n",
       "      <td>19590</td>\n",
       "      <td>2호기</td>\n",
       "      <td>...</td>\n",
       "      <td>1169</td>\n",
       "      <td>65</td>\n",
       "      <td>1163</td>\n",
       "      <td>77</td>\n",
       "      <td>247</td>\n",
       "      <td>1163</td>\n",
       "      <td>948</td>\n",
       "      <td>적용</td>\n",
       "      <td>10</td>\n",
       "      <td>4조</td>\n",
       "    </tr>\n",
       "    <tr>\n",
       "      <th>718</th>\n",
       "      <td>PB563505</td>\n",
       "      <td>2008-08-02:13:35:19</td>\n",
       "      <td>양품</td>\n",
       "      <td>LR-A</td>\n",
       "      <td>C0</td>\n",
       "      <td>15.59</td>\n",
       "      <td>3363</td>\n",
       "      <td>48740</td>\n",
       "      <td>80240</td>\n",
       "      <td>3호기</td>\n",
       "      <td>...</td>\n",
       "      <td>1179</td>\n",
       "      <td>86</td>\n",
       "      <td>1163</td>\n",
       "      <td>45</td>\n",
       "      <td>243</td>\n",
       "      <td>1163</td>\n",
       "      <td>940</td>\n",
       "      <td>적용</td>\n",
       "      <td>10</td>\n",
       "      <td>2조</td>\n",
       "    </tr>\n",
       "    <tr>\n",
       "      <th>719</th>\n",
       "      <td>PB563506</td>\n",
       "      <td>2008-08-02:14:40:53</td>\n",
       "      <td>양품</td>\n",
       "      <td>GL-A32</td>\n",
       "      <td>C0</td>\n",
       "      <td>16.09</td>\n",
       "      <td>3400</td>\n",
       "      <td>54209</td>\n",
       "      <td>69840</td>\n",
       "      <td>3호기</td>\n",
       "      <td>...</td>\n",
       "      <td>1186</td>\n",
       "      <td>82</td>\n",
       "      <td>1169</td>\n",
       "      <td>45</td>\n",
       "      <td>239</td>\n",
       "      <td>1169</td>\n",
       "      <td>957</td>\n",
       "      <td>적용</td>\n",
       "      <td>10</td>\n",
       "      <td>2조</td>\n",
       "    </tr>\n",
       "  </tbody>\n",
       "</table>\n",
       "<p>720 rows × 21 columns</p>\n",
       "</div>"
      ],
      "text/plain": [
       "     PLATE_NO         ROLLING_DATE SCALE        SPEC STEEL_KIND  PT_THK  \\\n",
       "0    PB562774  2008-08-01:00:00:15    양품  AB/EH32-TM         T1   32.25   \n",
       "1    PB562775  2008-08-01:00:00:16    양품  AB/EH32-TM         T1   32.25   \n",
       "2    PB562776  2008-08-01:00:00:59    양품   NV-E36-TM         T8   33.27   \n",
       "3    PB562777  2008-08-01:00:01:24    양품   NV-E36-TM         T8   33.27   \n",
       "4    PB562778  2008-08-01:00:01:44    양품  BV-EH36-TM         T8   38.33   \n",
       "..        ...                  ...   ...         ...        ...     ...   \n",
       "715  PB563502  2008-08-02:13:35:36    불량       NK-KA         C0   20.14   \n",
       "716  PB563503  2008-08-02:13:35:02    양품      NV-A32         C0   15.08   \n",
       "717  PB563504  2008-08-02:14:40:00    양품      NV-A32         C0   16.60   \n",
       "718  PB563505  2008-08-02:13:35:19    양품        LR-A         C0   15.59   \n",
       "719  PB563506  2008-08-02:14:40:53    양품      GL-A32         C0   16.09   \n",
       "\n",
       "     PT_WDTH  PT_LTH  PT_WGT FUR_NO  ...  FUR_HZ_TEMP  FUR_HZ_TIME  \\\n",
       "0       3707   15109   14180    1호기  ...         1144          116   \n",
       "1       3707   15109   14180    1호기  ...         1144          122   \n",
       "2       3619   19181   18130    2호기  ...         1129          116   \n",
       "3       3619   19181   18130    2호기  ...         1152          125   \n",
       "4       3098   13334   12430    3호기  ...         1140          134   \n",
       "..       ...     ...     ...    ...  ...          ...          ...   \n",
       "715     3580   38639   21870    3호기  ...         1172           72   \n",
       "716     3212   48233   18340    2호기  ...         1150           61   \n",
       "717     3441   43688   19590    2호기  ...         1169           65   \n",
       "718     3363   48740   80240    3호기  ...         1179           86   \n",
       "719     3400   54209   69840    3호기  ...         1186           82   \n",
       "\n",
       "     FUR_SZ_TEMP  FUR_SZ_TIME  FUR_TIME  FUR_EXTEMP  ROLLING_TEMP_T5  HSB  \\\n",
       "0           1133           59       282        1133              934   적용   \n",
       "1           1135           53       283        1135              937   적용   \n",
       "2           1121           55       282        1121              889   적용   \n",
       "3           1127           68       316        1127              885   적용   \n",
       "4           1128           48       314        1128              873   적용   \n",
       "..           ...          ...       ...         ...              ...  ...   \n",
       "715         1164           62       245        1164             1005   적용   \n",
       "716         1169           61       238        1169              947   적용   \n",
       "717         1163           77       247        1163              948   적용   \n",
       "718         1163           45       243        1163              940   적용   \n",
       "719         1169           45       239        1169              957   적용   \n",
       "\n",
       "    ROLLING_DESCALING  WORK_GR  \n",
       "0                   8       2조  \n",
       "1                   8       2조  \n",
       "2                   8       3조  \n",
       "3                   8       3조  \n",
       "4                   8       1조  \n",
       "..                ...      ...  \n",
       "715                 8       2조  \n",
       "716                10       1조  \n",
       "717                10       4조  \n",
       "718                10       2조  \n",
       "719                10       2조  \n",
       "\n",
       "[720 rows x 21 columns]"
      ]
     },
     "execution_count": 251,
     "metadata": {},
     "output_type": "execute_result"
    }
   ],
   "source": [
    "df_raw = pd.read_csv(\"/Users/joylee/Downloads/SCALE불량.csv\", engine = 'python', encoding = 'EUC-KR')\n",
    "df_raw #데이터 불러오기"
   ]
  },
  {
   "cell_type": "code",
   "execution_count": 252,
   "metadata": {},
   "outputs": [
    {
     "name": "stdout",
     "output_type": "stream",
     "text": [
      "train data size : (504, 21)\n",
      "test data size : (216, 21)\n"
     ]
    }
   ],
   "source": [
    "df_raw.isnull().sum(axis=0)\n",
    "\n",
    "df_raw[\"SCALE\"] = np.where(df_raw[\"SCALE\"] == \"양품\", 0, 1)\n",
    "\n",
    "df_raw\n",
    "\n",
    "# train_test_split(데이터, test_size = test 데이터 비율, random_state:랜덤)\n",
    "df_train, df_test = train_test_split(df_raw, # 데이터\n",
    "                                    test_size = 0.3, # test 데이터의 비율\n",
    "                                    random_state = 1234) # random state\n",
    "\n",
    "print(\"train data size : {}\".format(df_train.shape))\n",
    "print(\"test data size : {}\".format(df_test.shape))\n"
   ]
  },
  {
   "cell_type": "code",
   "execution_count": 253,
   "metadata": {},
   "outputs": [
    {
     "name": "stdout",
     "output_type": "stream",
     "text": [
      "Warning: Maximum number of iterations has been exceeded.\n",
      "         Current function value: 0.270654\n",
      "         Iterations: 35\n",
      "                           Logit Regression Results                           \n",
      "==============================================================================\n",
      "Dep. Variable:                  SCALE   No. Observations:                  504\n",
      "Model:                          Logit   Df Residuals:                      494\n",
      "Method:                           MLE   Df Model:                            9\n",
      "Date:                Mon, 17 Feb 2020   Pseudo R-squ.:                  0.5669\n",
      "Time:                        06:32:48   Log-Likelihood:                -136.41\n",
      "converged:                      False   LL-Null:                       -314.97\n",
      "Covariance Type:            nonrobust   LLR p-value:                 1.890e-71\n",
      "=====================================================================================\n",
      "                        coef    std err          z      P>|z|      [0.025      0.975]\n",
      "-------------------------------------------------------------------------------------\n",
      "Intercept           -91.1885   4838.679     -0.019      0.985   -9574.826    9392.449\n",
      "C(HSB)[T.적용]        -24.2926   4838.631     -0.005      0.996   -9507.834    9459.249\n",
      "PT_THK               -0.0223      0.027     -0.822      0.411      -0.076       0.031\n",
      "PT_WDTH              -0.0009      0.000     -2.124      0.034      -0.002   -6.77e-05\n",
      "PT_LTH            -1.961e-05   2.53e-05     -0.775      0.438   -6.92e-05       3e-05\n",
      "FUR_HZ_TEMP           0.0220      0.015      1.493      0.135      -0.007       0.051\n",
      "FUR_SZ_TEMP           0.0587      0.029      2.002      0.045       0.001       0.116\n",
      "FUR_TIME             -0.0003      0.004     -0.067      0.947      -0.008       0.008\n",
      "ROLLING_TEMP_T5       0.0340      0.005      6.400      0.000       0.024       0.044\n",
      "ROLLING_DESCALING    -0.8917      0.195     -4.579      0.000      -1.273      -0.510\n",
      "=====================================================================================\n"
     ]
    },
    {
     "name": "stderr",
     "output_type": "stream",
     "text": [
      "/Users/joylee/anaconda3/lib/python3.7/site-packages/statsmodels/base/model.py:568: ConvergenceWarning: Maximum Likelihood optimization failed to converge. Check mle_retvals\n",
      "  \"Check mle_retvals\", ConvergenceWarning)\n"
     ]
    }
   ],
   "source": [
    "log_model = Logit.from_formula(\"\"\"SCALE ~ PT_THK + PT_WDTH + PT_LTH  + FUR_HZ_TEMP + FUR_SZ_TEMP + FUR_TIME + ROLLING_TEMP_T5 + C(HSB) + ROLLING_DESCALING\"\"\", df_train)\n",
    "log_result = log_model.fit()\n",
    "print(log_result.summary())"
   ]
  },
  {
   "cell_type": "code",
   "execution_count": 254,
   "metadata": {},
   "outputs": [
    {
     "name": "stdout",
     "output_type": "stream",
     "text": [
      "Accuracy: 0.852\n",
      "\n",
      "Confusion Matrix \n",
      "[[123  22]\n",
      " [ 10  61]]\n"
     ]
    }
   ],
   "source": [
    "y_pred = log_result.predict(df_test)\n",
    "y_pred_class = (y_pred > 0.5).astype(int)\n",
    "print(\"Accuracy: {0:.3f}\\n\".format(accuracy_score(df_test[\"SCALE\"], y_pred_class)))\n",
    "print(\"Confusion Matrix \\n{}\".format(confusion_matrix(df_test[\"SCALE\"], y_pred_class)))"
   ]
  },
  {
   "cell_type": "code",
   "execution_count": 255,
   "metadata": {},
   "outputs": [],
   "source": [
    "# select_dtypes: 특정 변수 타입을 선택/제외하여 데이터 추출\n",
    "df_char = df_raw.select_dtypes(include = \"object\")\n",
    "df_numeric = df_raw.select_dtypes(exclude = \"object\")"
   ]
  },
  {
   "cell_type": "code",
   "execution_count": 249,
   "metadata": {},
   "outputs": [],
   "source": [
    "# Data Scaling\n",
    "scaler = StandardScaler()\n",
    "np_numeric_scaled = scaler.fit_transform(df_numeric)\n",
    "df_numeric_scaled = pd.DataFrame(np_numeric_scaled, columns = df_numeric.columns)"
   ]
  },
  {
   "cell_type": "code",
   "execution_count": 225,
   "metadata": {},
   "outputs": [
    {
     "data": {
      "text/html": [
       "<div>\n",
       "<style scoped>\n",
       "    .dataframe tbody tr th:only-of-type {\n",
       "        vertical-align: middle;\n",
       "    }\n",
       "\n",
       "    .dataframe tbody tr th {\n",
       "        vertical-align: top;\n",
       "    }\n",
       "\n",
       "    .dataframe thead th {\n",
       "        text-align: right;\n",
       "    }\n",
       "</style>\n",
       "<table border=\"1\" class=\"dataframe\">\n",
       "  <thead>\n",
       "    <tr style=\"text-align: right;\">\n",
       "      <th></th>\n",
       "      <th>SCALE</th>\n",
       "      <th>PT_THK</th>\n",
       "      <th>PT_WDTH</th>\n",
       "      <th>PT_LTH</th>\n",
       "      <th>PT_WGT</th>\n",
       "      <th>FUR_NO_ROW</th>\n",
       "      <th>FUR_HZ_TEMP</th>\n",
       "      <th>FUR_HZ_TIME</th>\n",
       "      <th>FUR_SZ_TEMP</th>\n",
       "      <th>FUR_SZ_TIME</th>\n",
       "      <th>...</th>\n",
       "      <th>FUR_EXTEMP</th>\n",
       "      <th>ROLLING_TEMP_T5</th>\n",
       "      <th>ROLLING_DESCALING</th>\n",
       "      <th>PLATE_NO</th>\n",
       "      <th>ROLLING_DATE</th>\n",
       "      <th>SPEC</th>\n",
       "      <th>STEEL_KIND</th>\n",
       "      <th>FUR_NO</th>\n",
       "      <th>HSB</th>\n",
       "      <th>WORK_GR</th>\n",
       "    </tr>\n",
       "  </thead>\n",
       "  <tbody>\n",
       "    <tr>\n",
       "      <th>0</th>\n",
       "      <td>-0.687308</td>\n",
       "      <td>0.155812</td>\n",
       "      <td>1.738951</td>\n",
       "      <td>-1.390441</td>\n",
       "      <td>-1.103810</td>\n",
       "      <td>-0.994460</td>\n",
       "      <td>-0.543782</td>\n",
       "      <td>0.729972</td>\n",
       "      <td>-0.949149</td>\n",
       "      <td>-0.544097</td>\n",
       "      <td>...</td>\n",
       "      <td>-0.949149</td>\n",
       "      <td>0.000734</td>\n",
       "      <td>-0.196930</td>\n",
       "      <td>PB562774</td>\n",
       "      <td>2008-08-01:00:00:15</td>\n",
       "      <td>AB/EH32-TM</td>\n",
       "      <td>T1</td>\n",
       "      <td>1호기</td>\n",
       "      <td>적용</td>\n",
       "      <td>2조</td>\n",
       "    </tr>\n",
       "    <tr>\n",
       "      <th>1</th>\n",
       "      <td>-0.687308</td>\n",
       "      <td>0.155812</td>\n",
       "      <td>1.738951</td>\n",
       "      <td>-1.390441</td>\n",
       "      <td>-1.103810</td>\n",
       "      <td>1.005571</td>\n",
       "      <td>-0.543782</td>\n",
       "      <td>0.889399</td>\n",
       "      <td>-0.835252</td>\n",
       "      <td>-0.708951</td>\n",
       "      <td>...</td>\n",
       "      <td>-0.835252</td>\n",
       "      <td>0.028567</td>\n",
       "      <td>-0.196930</td>\n",
       "      <td>PB562775</td>\n",
       "      <td>2008-08-01:00:00:16</td>\n",
       "      <td>AB/EH32-TM</td>\n",
       "      <td>T1</td>\n",
       "      <td>1호기</td>\n",
       "      <td>적용</td>\n",
       "      <td>2조</td>\n",
       "    </tr>\n",
       "    <tr>\n",
       "      <th>2</th>\n",
       "      <td>-0.687308</td>\n",
       "      <td>0.209106</td>\n",
       "      <td>1.568896</td>\n",
       "      <td>-1.095771</td>\n",
       "      <td>-0.944112</td>\n",
       "      <td>-0.994460</td>\n",
       "      <td>-1.263141</td>\n",
       "      <td>0.729972</td>\n",
       "      <td>-1.632537</td>\n",
       "      <td>-0.654000</td>\n",
       "      <td>...</td>\n",
       "      <td>-1.632537</td>\n",
       "      <td>-0.416748</td>\n",
       "      <td>-0.196930</td>\n",
       "      <td>PB562776</td>\n",
       "      <td>2008-08-01:00:00:59</td>\n",
       "      <td>NV-E36-TM</td>\n",
       "      <td>T8</td>\n",
       "      <td>2호기</td>\n",
       "      <td>적용</td>\n",
       "      <td>3조</td>\n",
       "    </tr>\n",
       "    <tr>\n",
       "      <th>3</th>\n",
       "      <td>-0.687308</td>\n",
       "      <td>0.209106</td>\n",
       "      <td>1.568896</td>\n",
       "      <td>-1.095771</td>\n",
       "      <td>-0.944112</td>\n",
       "      <td>1.005571</td>\n",
       "      <td>-0.160124</td>\n",
       "      <td>0.969113</td>\n",
       "      <td>-1.290843</td>\n",
       "      <td>-0.296815</td>\n",
       "      <td>...</td>\n",
       "      <td>-1.290843</td>\n",
       "      <td>-0.453858</td>\n",
       "      <td>-0.196930</td>\n",
       "      <td>PB562777</td>\n",
       "      <td>2008-08-01:00:01:24</td>\n",
       "      <td>NV-E36-TM</td>\n",
       "      <td>T8</td>\n",
       "      <td>2호기</td>\n",
       "      <td>적용</td>\n",
       "      <td>3조</td>\n",
       "    </tr>\n",
       "    <tr>\n",
       "      <th>4</th>\n",
       "      <td>-0.687308</td>\n",
       "      <td>0.473482</td>\n",
       "      <td>0.562094</td>\n",
       "      <td>-1.518889</td>\n",
       "      <td>-1.174562</td>\n",
       "      <td>-0.994460</td>\n",
       "      <td>-0.735611</td>\n",
       "      <td>1.208255</td>\n",
       "      <td>-1.233894</td>\n",
       "      <td>-0.846330</td>\n",
       "      <td>...</td>\n",
       "      <td>-1.233894</td>\n",
       "      <td>-0.565186</td>\n",
       "      <td>-0.196930</td>\n",
       "      <td>PB562778</td>\n",
       "      <td>2008-08-01:00:01:44</td>\n",
       "      <td>BV-EH36-TM</td>\n",
       "      <td>T8</td>\n",
       "      <td>3호기</td>\n",
       "      <td>적용</td>\n",
       "      <td>1조</td>\n",
       "    </tr>\n",
       "    <tr>\n",
       "      <th>...</th>\n",
       "      <td>...</td>\n",
       "      <td>...</td>\n",
       "      <td>...</td>\n",
       "      <td>...</td>\n",
       "      <td>...</td>\n",
       "      <td>...</td>\n",
       "      <td>...</td>\n",
       "      <td>...</td>\n",
       "      <td>...</td>\n",
       "      <td>...</td>\n",
       "      <td>...</td>\n",
       "      <td>...</td>\n",
       "      <td>...</td>\n",
       "      <td>...</td>\n",
       "      <td>...</td>\n",
       "      <td>...</td>\n",
       "      <td>...</td>\n",
       "      <td>...</td>\n",
       "      <td>...</td>\n",
       "      <td>...</td>\n",
       "      <td>...</td>\n",
       "    </tr>\n",
       "    <tr>\n",
       "      <th>715</th>\n",
       "      <td>1.454951</td>\n",
       "      <td>-0.476916</td>\n",
       "      <td>1.493531</td>\n",
       "      <td>0.312308</td>\n",
       "      <td>-0.792904</td>\n",
       "      <td>-0.994460</td>\n",
       "      <td>0.799021</td>\n",
       "      <td>-0.439164</td>\n",
       "      <td>0.816269</td>\n",
       "      <td>-0.461669</td>\n",
       "      <td>...</td>\n",
       "      <td>0.816269</td>\n",
       "      <td>0.659429</td>\n",
       "      <td>-0.196930</td>\n",
       "      <td>PB563502</td>\n",
       "      <td>2008-08-02:13:35:36</td>\n",
       "      <td>NK-KA</td>\n",
       "      <td>C0</td>\n",
       "      <td>3호기</td>\n",
       "      <td>적용</td>\n",
       "      <td>2조</td>\n",
       "    </tr>\n",
       "    <tr>\n",
       "      <th>716</th>\n",
       "      <td>-0.687308</td>\n",
       "      <td>-0.741293</td>\n",
       "      <td>0.782392</td>\n",
       "      <td>1.006578</td>\n",
       "      <td>-0.935621</td>\n",
       "      <td>-0.994460</td>\n",
       "      <td>-0.256038</td>\n",
       "      <td>-0.731448</td>\n",
       "      <td>1.101013</td>\n",
       "      <td>-0.489145</td>\n",
       "      <td>...</td>\n",
       "      <td>1.101013</td>\n",
       "      <td>0.121341</td>\n",
       "      <td>1.036021</td>\n",
       "      <td>PB563503</td>\n",
       "      <td>2008-08-02:13:35:02</td>\n",
       "      <td>NV-A32</td>\n",
       "      <td>C0</td>\n",
       "      <td>2호기</td>\n",
       "      <td>적용</td>\n",
       "      <td>1조</td>\n",
       "    </tr>\n",
       "    <tr>\n",
       "      <th>717</th>\n",
       "      <td>-0.687308</td>\n",
       "      <td>-0.661875</td>\n",
       "      <td>1.224921</td>\n",
       "      <td>0.677679</td>\n",
       "      <td>-0.885084</td>\n",
       "      <td>1.005571</td>\n",
       "      <td>0.655149</td>\n",
       "      <td>-0.625163</td>\n",
       "      <td>0.759320</td>\n",
       "      <td>-0.049533</td>\n",
       "      <td>...</td>\n",
       "      <td>0.759320</td>\n",
       "      <td>0.130618</td>\n",
       "      <td>1.036021</td>\n",
       "      <td>PB563504</td>\n",
       "      <td>2008-08-02:14:40:00</td>\n",
       "      <td>NV-A32</td>\n",
       "      <td>C0</td>\n",
       "      <td>2호기</td>\n",
       "      <td>적용</td>\n",
       "      <td>4조</td>\n",
       "    </tr>\n",
       "    <tr>\n",
       "      <th>718</th>\n",
       "      <td>-0.687308</td>\n",
       "      <td>-0.714646</td>\n",
       "      <td>1.074191</td>\n",
       "      <td>1.043267</td>\n",
       "      <td>1.566994</td>\n",
       "      <td>1.005571</td>\n",
       "      <td>1.134722</td>\n",
       "      <td>-0.067166</td>\n",
       "      <td>0.759320</td>\n",
       "      <td>-0.928757</td>\n",
       "      <td>...</td>\n",
       "      <td>0.759320</td>\n",
       "      <td>0.056399</td>\n",
       "      <td>1.036021</td>\n",
       "      <td>PB563505</td>\n",
       "      <td>2008-08-02:13:35:19</td>\n",
       "      <td>LR-A</td>\n",
       "      <td>C0</td>\n",
       "      <td>3호기</td>\n",
       "      <td>적용</td>\n",
       "      <td>2조</td>\n",
       "    </tr>\n",
       "    <tr>\n",
       "      <th>719</th>\n",
       "      <td>-0.687308</td>\n",
       "      <td>-0.688522</td>\n",
       "      <td>1.145691</td>\n",
       "      <td>1.439032</td>\n",
       "      <td>1.146522</td>\n",
       "      <td>-0.994460</td>\n",
       "      <td>1.470423</td>\n",
       "      <td>-0.173451</td>\n",
       "      <td>1.101013</td>\n",
       "      <td>-0.928757</td>\n",
       "      <td>...</td>\n",
       "      <td>1.101013</td>\n",
       "      <td>0.214114</td>\n",
       "      <td>1.036021</td>\n",
       "      <td>PB563506</td>\n",
       "      <td>2008-08-02:14:40:53</td>\n",
       "      <td>GL-A32</td>\n",
       "      <td>C0</td>\n",
       "      <td>3호기</td>\n",
       "      <td>적용</td>\n",
       "      <td>2조</td>\n",
       "    </tr>\n",
       "  </tbody>\n",
       "</table>\n",
       "<p>720 rows × 21 columns</p>\n",
       "</div>"
      ],
      "text/plain": [
       "        SCALE    PT_THK   PT_WDTH    PT_LTH    PT_WGT  FUR_NO_ROW  \\\n",
       "0   -0.687308  0.155812  1.738951 -1.390441 -1.103810   -0.994460   \n",
       "1   -0.687308  0.155812  1.738951 -1.390441 -1.103810    1.005571   \n",
       "2   -0.687308  0.209106  1.568896 -1.095771 -0.944112   -0.994460   \n",
       "3   -0.687308  0.209106  1.568896 -1.095771 -0.944112    1.005571   \n",
       "4   -0.687308  0.473482  0.562094 -1.518889 -1.174562   -0.994460   \n",
       "..        ...       ...       ...       ...       ...         ...   \n",
       "715  1.454951 -0.476916  1.493531  0.312308 -0.792904   -0.994460   \n",
       "716 -0.687308 -0.741293  0.782392  1.006578 -0.935621   -0.994460   \n",
       "717 -0.687308 -0.661875  1.224921  0.677679 -0.885084    1.005571   \n",
       "718 -0.687308 -0.714646  1.074191  1.043267  1.566994    1.005571   \n",
       "719 -0.687308 -0.688522  1.145691  1.439032  1.146522   -0.994460   \n",
       "\n",
       "     FUR_HZ_TEMP  FUR_HZ_TIME  FUR_SZ_TEMP  FUR_SZ_TIME  ...  FUR_EXTEMP  \\\n",
       "0      -0.543782     0.729972    -0.949149    -0.544097  ...   -0.949149   \n",
       "1      -0.543782     0.889399    -0.835252    -0.708951  ...   -0.835252   \n",
       "2      -1.263141     0.729972    -1.632537    -0.654000  ...   -1.632537   \n",
       "3      -0.160124     0.969113    -1.290843    -0.296815  ...   -1.290843   \n",
       "4      -0.735611     1.208255    -1.233894    -0.846330  ...   -1.233894   \n",
       "..           ...          ...          ...          ...  ...         ...   \n",
       "715     0.799021    -0.439164     0.816269    -0.461669  ...    0.816269   \n",
       "716    -0.256038    -0.731448     1.101013    -0.489145  ...    1.101013   \n",
       "717     0.655149    -0.625163     0.759320    -0.049533  ...    0.759320   \n",
       "718     1.134722    -0.067166     0.759320    -0.928757  ...    0.759320   \n",
       "719     1.470423    -0.173451     1.101013    -0.928757  ...    1.101013   \n",
       "\n",
       "     ROLLING_TEMP_T5  ROLLING_DESCALING  PLATE_NO         ROLLING_DATE  \\\n",
       "0           0.000734          -0.196930  PB562774  2008-08-01:00:00:15   \n",
       "1           0.028567          -0.196930  PB562775  2008-08-01:00:00:16   \n",
       "2          -0.416748          -0.196930  PB562776  2008-08-01:00:00:59   \n",
       "3          -0.453858          -0.196930  PB562777  2008-08-01:00:01:24   \n",
       "4          -0.565186          -0.196930  PB562778  2008-08-01:00:01:44   \n",
       "..               ...                ...       ...                  ...   \n",
       "715         0.659429          -0.196930  PB563502  2008-08-02:13:35:36   \n",
       "716         0.121341           1.036021  PB563503  2008-08-02:13:35:02   \n",
       "717         0.130618           1.036021  PB563504  2008-08-02:14:40:00   \n",
       "718         0.056399           1.036021  PB563505  2008-08-02:13:35:19   \n",
       "719         0.214114           1.036021  PB563506  2008-08-02:14:40:53   \n",
       "\n",
       "           SPEC STEEL_KIND FUR_NO HSB WORK_GR  \n",
       "0    AB/EH32-TM         T1    1호기  적용      2조  \n",
       "1    AB/EH32-TM         T1    1호기  적용      2조  \n",
       "2     NV-E36-TM         T8    2호기  적용      3조  \n",
       "3     NV-E36-TM         T8    2호기  적용      3조  \n",
       "4    BV-EH36-TM         T8    3호기  적용      1조  \n",
       "..          ...        ...    ...  ..     ...  \n",
       "715       NK-KA         C0    3호기  적용      2조  \n",
       "716      NV-A32         C0    2호기  적용      1조  \n",
       "717      NV-A32         C0    2호기  적용      4조  \n",
       "718        LR-A         C0    3호기  적용      2조  \n",
       "719      GL-A32         C0    3호기  적용      2조  \n",
       "\n",
       "[720 rows x 21 columns]"
      ]
     },
     "execution_count": 225,
     "metadata": {},
     "output_type": "execute_result"
    }
   ],
   "source": [
    "# 문자 데이터 + 숫자 데이터\n",
    "df_scaled = pd.concat([df_numeric_scaled, df_char], axis=1)\n",
    "df_scaled"
   ]
  },
  {
   "cell_type": "code",
   "execution_count": 226,
   "metadata": {},
   "outputs": [],
   "source": [
    "# BAD 데이터를 0과 1로 변환, np.where(조건, 조건을 만족하는 경우, 만족하지 않는 경우) \n",
    "df_numeric_scaled[\"SCALE\"] = np.where(df_numeric_scaled[\"SCALE\"] > 0, 1, 0)\n",
    "df_scaled = df_numeric_scaled"
   ]
  },
  {
   "cell_type": "code",
   "execution_count": 227,
   "metadata": {},
   "outputs": [],
   "source": [
    "df_scaled_train, df_scaled_test = train_test_split(df_scaled, test_size=0.3, random_state=1234)"
   ]
  },
  {
   "cell_type": "code",
   "execution_count": 257,
   "metadata": {},
   "outputs": [],
   "source": [
    "scaled_log_model = Logit.from_formula(\"\"\"SCALE ~ PT_THK + PT_WDTH + PT_LTH + FUR_HZ_TEMP + FUR_SZ_TEMP + FUR_TIME + ROLLING_TEMP_T5 + ROLLING_DESCALING\"\"\", df_scaled_train)"
   ]
  },
  {
   "cell_type": "code",
   "execution_count": 258,
   "metadata": {},
   "outputs": [
    {
     "name": "stdout",
     "output_type": "stream",
     "text": [
      "Optimization terminated successfully.\n",
      "         Current function value: 0.359037\n",
      "         Iterations 8\n",
      "                           Logit Regression Results                           \n",
      "==============================================================================\n",
      "Dep. Variable:                  SCALE   No. Observations:                  504\n",
      "Model:                          Logit   Df Residuals:                      495\n",
      "Method:                           MLE   Df Model:                            8\n",
      "Date:                Mon, 17 Feb 2020   Pseudo R-squ.:                  0.4255\n",
      "Time:                        06:33:16   Log-Likelihood:                -180.95\n",
      "converged:                       True   LL-Null:                       -314.97\n",
      "Covariance Type:            nonrobust   LLR p-value:                 2.576e-53\n",
      "=====================================================================================\n",
      "                        coef    std err          z      P>|z|      [0.025      0.975]\n",
      "-------------------------------------------------------------------------------------\n",
      "Intercept            -1.4814      0.167     -8.855      0.000      -1.809      -1.153\n",
      "PT_THK                0.7090      0.446      1.590      0.112      -0.165       1.583\n",
      "PT_WDTH              -0.3598      0.180     -1.998      0.046      -0.713      -0.007\n",
      "PT_LTH               -0.0817      0.316     -0.259      0.796      -0.700       0.537\n",
      "FUR_HZ_TEMP          -0.0063      0.237     -0.027      0.979      -0.472       0.459\n",
      "FUR_SZ_TEMP           1.6850      0.407      4.145      0.000       0.888       2.482\n",
      "FUR_TIME              0.0180      0.164      0.110      0.913      -0.303       0.339\n",
      "ROLLING_TEMP_T5       2.6685      0.440      6.065      0.000       1.806       3.531\n",
      "ROLLING_DESCALING    -0.9738      0.276     -3.530      0.000      -1.514      -0.433\n",
      "=====================================================================================\n"
     ]
    }
   ],
   "source": [
    "scaled_log_result = scaled_log_model.fit()\n",
    "print(scaled_log_result.summary())"
   ]
  },
  {
   "cell_type": "code",
   "execution_count": 259,
   "metadata": {},
   "outputs": [
    {
     "data": {
      "text/html": [
       "<div>\n",
       "<style scoped>\n",
       "    .dataframe tbody tr th:only-of-type {\n",
       "        vertical-align: middle;\n",
       "    }\n",
       "\n",
       "    .dataframe tbody tr th {\n",
       "        vertical-align: top;\n",
       "    }\n",
       "\n",
       "    .dataframe thead th {\n",
       "        text-align: right;\n",
       "    }\n",
       "</style>\n",
       "<table border=\"1\" class=\"dataframe\">\n",
       "  <thead>\n",
       "    <tr style=\"text-align: right;\">\n",
       "      <th></th>\n",
       "      <th>PLATE_NO</th>\n",
       "      <th>ROLLING_DATE</th>\n",
       "      <th>SCALE</th>\n",
       "      <th>SPEC</th>\n",
       "      <th>STEEL_KIND</th>\n",
       "      <th>PT_THK</th>\n",
       "      <th>PT_WDTH</th>\n",
       "      <th>PT_LTH</th>\n",
       "      <th>PT_WGT</th>\n",
       "      <th>FUR_NO</th>\n",
       "      <th>...</th>\n",
       "      <th>FUR_HZ_TEMP</th>\n",
       "      <th>FUR_HZ_TIME</th>\n",
       "      <th>FUR_SZ_TEMP</th>\n",
       "      <th>FUR_SZ_TIME</th>\n",
       "      <th>FUR_TIME</th>\n",
       "      <th>FUR_EXTEMP</th>\n",
       "      <th>ROLLING_TEMP_T5</th>\n",
       "      <th>HSB</th>\n",
       "      <th>ROLLING_DESCALING</th>\n",
       "      <th>WORK_GR</th>\n",
       "    </tr>\n",
       "  </thead>\n",
       "  <tbody>\n",
       "  </tbody>\n",
       "</table>\n",
       "<p>0 rows × 21 columns</p>\n",
       "</div>"
      ],
      "text/plain": [
       "Empty DataFrame\n",
       "Columns: [PLATE_NO, ROLLING_DATE, SCALE, SPEC, STEEL_KIND, PT_THK, PT_WDTH, PT_LTH, PT_WGT, FUR_NO, FUR_NO_ROW, FUR_HZ_TEMP, FUR_HZ_TIME, FUR_SZ_TEMP, FUR_SZ_TIME, FUR_TIME, FUR_EXTEMP, ROLLING_TEMP_T5, HSB, ROLLING_DESCALING, WORK_GR]\n",
       "Index: []\n",
       "\n",
       "[0 rows x 21 columns]"
      ]
     },
     "execution_count": 259,
     "metadata": {},
     "output_type": "execute_result"
    },
    {
     "data": {
      "image/png": "[encoded data removed]",
      "text/plain": [
       "<Figure size 432x288 with 1 Axes>"
      ]
     },
     "metadata": {
      "needs_background": "light"
     },
     "output_type": "display_data"
    }
   ],
   "source": [
    "df_log_scaled_coef = pd.DataFrame({\"Coef\":scaled_log_result.params.values[1:]},\n",
    "                                 index = scaled_log_model.exog_names[1:])\n",
    "df_log_scaled_coef.plot.barh(y=\"Coef\", legend=False)\n",
    "\n",
    "important=df_raw[df_raw['FUR_EXTEMP']!=df_raw['FUR_SZ_TEMP']]\n",
    "important\n"
   ]
  },
  {
   "cell_type": "markdown",
   "metadata": {},
   "source": [
    "## 더미변수 및 데이터 분할"
   ]
  },
  {
   "cell_type": "code",
   "execution_count": 260,
   "metadata": {},
   "outputs": [
    {
     "name": "stderr",
     "output_type": "stream",
     "text": [
      "/Users/joylee/anaconda3/lib/python3.7/site-packages/pandas/core/ops/array_ops.py:252: FutureWarning: elementwise comparison failed; returning scalar instead, but in the future will perform elementwise comparison\n",
      "  res_values = method(rvalues)\n"
     ]
    }
   ],
   "source": [
    "# drop: X변수와 변수 삭제\n",
    "df_raw_x = df_raw.drop([\"SCALE\"], axis=1, inplace=False)\n",
    "df_raw_y = df_raw[\"SCALE\"]\n",
    "# get_dummies: 데이터의 문자형 변수에 대한 더미변수 생성\n",
    "df_x_dummy = pd.get_dummies(df_raw_x)\n",
    "df_raw_y = np.where(df_raw_y == \"양품\", 0, 1)"
   ]
  },
  {
   "cell_type": "code",
   "execution_count": 261,
   "metadata": {},
   "outputs": [
    {
     "data": {
      "text/plain": [
       "array([1, 1, 1, 1, 1, 1, 1, 1, 1, 1, 1, 1, 1, 1, 1, 1, 1, 1, 1, 1, 1, 1,\n",
       "       1, 1, 1, 1, 1, 1, 1, 1, 1, 1, 1, 1, 1, 1, 1, 1, 1, 1, 1, 1, 1, 1,\n",
       "       1, 1, 1, 1, 1, 1, 1, 1, 1, 1, 1, 1, 1, 1, 1, 1, 1, 1, 1, 1, 1, 1,\n",
       "       1, 1, 1, 1, 1, 1, 1, 1, 1, 1, 1, 1, 1, 1, 1, 1, 1, 1, 1, 1, 1, 1,\n",
       "       1, 1, 1, 1, 1, 1, 1, 1, 1, 1, 1, 1, 1, 1, 1, 1, 1, 1, 1, 1, 1, 1,\n",
       "       1, 1, 1, 1, 1, 1, 1, 1, 1, 1, 1, 1, 1, 1, 1, 1, 1, 1, 1, 1, 1, 1,\n",
       "       1, 1, 1, 1, 1, 1, 1, 1, 1, 1, 1, 1, 1, 1, 1, 1, 1, 1, 1, 1, 1, 1,\n",
       "       1, 1, 1, 1, 1, 1, 1, 1, 1, 1, 1, 1, 1, 1, 1, 1, 1, 1, 1, 1, 1, 1,\n",
       "       1, 1, 1, 1, 1, 1, 1, 1, 1, 1, 1, 1, 1, 1, 1, 1, 1, 1, 1, 1, 1, 1,\n",
       "       1, 1, 1, 1, 1, 1, 1, 1, 1, 1, 1, 1, 1, 1, 1, 1, 1, 1, 1, 1, 1, 1,\n",
       "       1, 1, 1, 1, 1, 1, 1, 1, 1, 1, 1, 1, 1, 1, 1, 1, 1, 1, 1, 1, 1, 1,\n",
       "       1, 1, 1, 1, 1, 1, 1, 1, 1, 1, 1, 1, 1, 1, 1, 1, 1, 1, 1, 1, 1, 1,\n",
       "       1, 1, 1, 1, 1, 1, 1, 1, 1, 1, 1, 1, 1, 1, 1, 1, 1, 1, 1, 1, 1, 1,\n",
       "       1, 1, 1, 1, 1, 1, 1, 1, 1, 1, 1, 1, 1, 1, 1, 1, 1, 1, 1, 1, 1, 1,\n",
       "       1, 1, 1, 1, 1, 1, 1, 1, 1, 1, 1, 1, 1, 1, 1, 1, 1, 1, 1, 1, 1, 1,\n",
       "       1, 1, 1, 1, 1, 1, 1, 1, 1, 1, 1, 1, 1, 1, 1, 1, 1, 1, 1, 1, 1, 1,\n",
       "       1, 1, 1, 1, 1, 1, 1, 1, 1, 1, 1, 1, 1, 1, 1, 1, 1, 1, 1, 1, 1, 1,\n",
       "       1, 1, 1, 1, 1, 1, 1, 1, 1, 1, 1, 1, 1, 1, 1, 1, 1, 1, 1, 1, 1, 1,\n",
       "       1, 1, 1, 1, 1, 1, 1, 1, 1, 1, 1, 1, 1, 1, 1, 1, 1, 1, 1, 1, 1, 1,\n",
       "       1, 1, 1, 1, 1, 1, 1, 1, 1, 1, 1, 1, 1, 1, 1, 1, 1, 1, 1, 1, 1, 1,\n",
       "       1, 1, 1, 1, 1, 1, 1, 1, 1, 1, 1, 1, 1, 1, 1, 1, 1, 1, 1, 1, 1, 1,\n",
       "       1, 1, 1, 1, 1, 1, 1, 1, 1, 1, 1, 1, 1, 1, 1, 1, 1, 1, 1, 1, 1, 1,\n",
       "       1, 1, 1, 1, 1, 1, 1, 1, 1, 1, 1, 1, 1, 1, 1, 1, 1, 1, 1, 1, 1, 1,\n",
       "       1, 1, 1, 1, 1, 1, 1, 1, 1, 1, 1, 1, 1, 1, 1, 1, 1, 1, 1, 1, 1, 1,\n",
       "       1, 1, 1, 1, 1, 1, 1, 1, 1, 1, 1, 1, 1, 1, 1, 1, 1, 1, 1, 1, 1, 1,\n",
       "       1, 1, 1, 1, 1, 1, 1, 1, 1, 1, 1, 1, 1, 1, 1, 1, 1, 1, 1, 1, 1, 1,\n",
       "       1, 1, 1, 1, 1, 1, 1, 1, 1, 1, 1, 1, 1, 1, 1, 1, 1, 1, 1, 1, 1, 1,\n",
       "       1, 1, 1, 1, 1, 1, 1, 1, 1, 1, 1, 1, 1, 1, 1, 1, 1, 1, 1, 1, 1, 1,\n",
       "       1, 1, 1, 1, 1, 1, 1, 1, 1, 1, 1, 1, 1, 1, 1, 1, 1, 1, 1, 1, 1, 1,\n",
       "       1, 1, 1, 1, 1, 1, 1, 1, 1, 1, 1, 1, 1, 1, 1, 1, 1, 1, 1, 1, 1, 1,\n",
       "       1, 1, 1, 1, 1, 1, 1, 1, 1, 1, 1, 1, 1, 1, 1, 1, 1, 1, 1, 1, 1, 1,\n",
       "       1, 1, 1, 1, 1, 1, 1, 1, 1, 1, 1, 1, 1, 1, 1, 1, 1, 1, 1, 1, 1, 1,\n",
       "       1, 1, 1, 1, 1, 1, 1, 1, 1, 1, 1, 1, 1, 1, 1, 1])"
      ]
     },
     "execution_count": 261,
     "metadata": {},
     "output_type": "execute_result"
    }
   ],
   "source": [
    "df_x_dummy\n",
    "df_raw_y"
   ]
  },
  {
   "cell_type": "code",
   "execution_count": 262,
   "metadata": {},
   "outputs": [
    {
     "name": "stdout",
     "output_type": "stream",
     "text": [
      "train data X size:(504, 1521)\n",
      "train data Y size:(504,)\n",
      "test data X size:(216, 1521)\n",
      "test data Y size:(216,)\n"
     ]
    }
   ],
   "source": [
    "# 데이터 분할(train,test 데이터 7:3 비율로 분할)\n",
    "# train_test_split(x: 설명변수 데이터 )\n",
    "df_train_x, df_test_x, df_train_y, df_test_y = train_test_split(df_x_dummy,df_raw_y,test_size=0.3,random_state=1234)\n",
    "print(\"train data X size:{}\".format(df_train_x.shape))\n",
    "print(\"train data Y size:{}\".format(df_train_y.shape))\n",
    "print(\"test data X size:{}\".format(df_test_x.shape))\n",
    "print(\"test data Y size:{}\".format(df_test_y.shape))"
   ]
  },
  {
   "cell_type": "markdown",
   "metadata": {},
   "source": [
    "## 의사결정 나무"
   ]
  },
  {
   "cell_type": "code",
   "execution_count": 267,
   "metadata": {},
   "outputs": [
    {
     "data": {
      "image/svg+xml": [
       "<?xml version=\"1.0\" encoding=\"UTF-8\" standalone=\"no\"?>\n",
       "<!DOCTYPE svg PUBLIC \"-//W3C//DTD SVG 1.1//EN\"\n",
       " \"http://www.w3.org/Graphics/SVG/1.1/DTD/svg11.dtd\">\n",
       "<!-- Generated by graphviz version 2.40.1 (20161225.0304)\n",
       " -->\n",
       "<!-- Title: Tree Pages: 1 -->\n",
       "<svg width=\"1025pt\" height=\"477pt\"\n",
       " viewBox=\"0.00 0.00 1024.50 477.00\" xmlns=\"http://www.w3.org/2000/svg\" xmlns:xlink=\"http://www.w3.org/1999/xlink\">\n",
       "<g id=\"graph0\" class=\"graph\" transform=\"scale(1 1) rotate(0) translate(4 473)\">\n",
       "<title>Tree</title>\n",
       "<polygon fill=\"#ffffff\" stroke=\"transparent\" points=\"-4,4 -4,-473 1020.5,-473 1020.5,4 -4,4\"/>\n",
       "<!-- 0 -->\n",
       "<g id=\"node1\" class=\"node\">\n",
       "<title>0</title>\n",
       "<polygon fill=\"#f3c7a7\" stroke=\"#000000\" points=\"581,-469 446,-469 446,-401 581,-401 581,-469\"/>\n",
       "<text text-anchor=\"middle\" x=\"513.5\" y=\"-453.8\" font-family=\"Times,serif\" font-size=\"14.00\" fill=\"#000000\">ABDOMEN &lt;= 91.3</text>\n",
       "<text text-anchor=\"middle\" x=\"513.5\" y=\"-438.8\" font-family=\"Times,serif\" font-size=\"14.00\" fill=\"#000000\">mse = 70.379</text>\n",
       "<text text-anchor=\"middle\" x=\"513.5\" y=\"-423.8\" font-family=\"Times,serif\" font-size=\"14.00\" fill=\"#000000\">samples = 176</text>\n",
       "<text text-anchor=\"middle\" x=\"513.5\" y=\"-408.8\" font-family=\"Times,serif\" font-size=\"14.00\" fill=\"#000000\">value = 18.676</text>\n",
       "</g>\n",
       "<!-- 1 -->\n",
       "<g id=\"node2\" class=\"node\">\n",
       "<title>1</title>\n",
       "<polygon fill=\"#f8dfcc\" stroke=\"#000000\" points=\"462.5,-365 320.5,-365 320.5,-297 462.5,-297 462.5,-365\"/>\n",
       "<text text-anchor=\"middle\" x=\"391.5\" y=\"-349.8\" font-family=\"Times,serif\" font-size=\"14.00\" fill=\"#000000\">ABDOMEN &lt;= 85.45</text>\n",
       "<text text-anchor=\"middle\" x=\"391.5\" y=\"-334.8\" font-family=\"Times,serif\" font-size=\"14.00\" fill=\"#000000\">mse = 31.841</text>\n",
       "<text text-anchor=\"middle\" x=\"391.5\" y=\"-319.8\" font-family=\"Times,serif\" font-size=\"14.00\" fill=\"#000000\">samples = 90</text>\n",
       "<text text-anchor=\"middle\" x=\"391.5\" y=\"-304.8\" font-family=\"Times,serif\" font-size=\"14.00\" fill=\"#000000\">value = 12.782</text>\n",
       "</g>\n",
       "<!-- 0&#45;&gt;1 -->\n",
       "<g id=\"edge1\" class=\"edge\">\n",
       "<title>0&#45;&gt;1</title>\n",
       "<path fill=\"none\" stroke=\"#000000\" d=\"M473.5526,-400.9465C462.5988,-391.6088 450.6127,-381.3911 439.268,-371.7203\"/>\n",
       "<polygon fill=\"#000000\" stroke=\"#000000\" points=\"441.4179,-368.9538 431.5371,-365.13 436.8767,-374.2809 441.4179,-368.9538\"/>\n",
       "<text text-anchor=\"middle\" x=\"433.522\" y=\"-386.3511\" font-family=\"Times,serif\" font-size=\"14.00\" fill=\"#000000\">True</text>\n",
       "</g>\n",
       "<!-- 12 -->\n",
       "<g id=\"node13\" class=\"node\">\n",
       "<title>12</title>\n",
       "<polygon fill=\"#eeae7f\" stroke=\"#000000\" points=\"715.5,-365 573.5,-365 573.5,-297 715.5,-297 715.5,-365\"/>\n",
       "<text text-anchor=\"middle\" x=\"644.5\" y=\"-349.8\" font-family=\"Times,serif\" font-size=\"14.00\" fill=\"#000000\">ABDOMEN &lt;= 104.9</text>\n",
       "<text text-anchor=\"middle\" x=\"644.5\" y=\"-334.8\" font-family=\"Times,serif\" font-size=\"14.00\" fill=\"#000000\">mse = 36.311</text>\n",
       "<text text-anchor=\"middle\" x=\"644.5\" y=\"-319.8\" font-family=\"Times,serif\" font-size=\"14.00\" fill=\"#000000\">samples = 86</text>\n",
       "<text text-anchor=\"middle\" x=\"644.5\" y=\"-304.8\" font-family=\"Times,serif\" font-size=\"14.00\" fill=\"#000000\">value = 24.844</text>\n",
       "</g>\n",
       "<!-- 0&#45;&gt;12 -->\n",
       "<g id=\"edge12\" class=\"edge\">\n",
       "<title>0&#45;&gt;12</title>\n",
       "<path fill=\"none\" stroke=\"#000000\" d=\"M556.3943,-400.9465C568.2693,-391.519 581.2741,-381.1946 593.5593,-371.4415\"/>\n",
       "<polygon fill=\"#000000\" stroke=\"#000000\" points=\"595.8536,-374.089 601.5093,-365.13 591.5011,-368.6066 595.8536,-374.089\"/>\n",
       "<text text-anchor=\"middle\" x=\"598.6558\" y=\"-386.2666\" font-family=\"Times,serif\" font-size=\"14.00\" fill=\"#000000\">False</text>\n",
       "</g>\n",
       "<!-- 2 -->\n",
       "<g id=\"node3\" class=\"node\">\n",
       "<title>2</title>\n",
       "<polygon fill=\"#fbeade\" stroke=\"#000000\" points=\"276.5,-261 176.5,-261 176.5,-193 276.5,-193 276.5,-261\"/>\n",
       "<text text-anchor=\"middle\" x=\"226.5\" y=\"-245.8\" font-family=\"Times,serif\" font-size=\"14.00\" fill=\"#000000\">AGE &lt;= 42.5</text>\n",
       "<text text-anchor=\"middle\" x=\"226.5\" y=\"-230.8\" font-family=\"Times,serif\" font-size=\"14.00\" fill=\"#000000\">mse = 21.668</text>\n",
       "<text text-anchor=\"middle\" x=\"226.5\" y=\"-215.8\" font-family=\"Times,serif\" font-size=\"14.00\" fill=\"#000000\">samples = 50</text>\n",
       "<text text-anchor=\"middle\" x=\"226.5\" y=\"-200.8\" font-family=\"Times,serif\" font-size=\"14.00\" fill=\"#000000\">value = 10.014</text>\n",
       "</g>\n",
       "<!-- 1&#45;&gt;2 -->\n",
       "<g id=\"edge2\" class=\"edge\">\n",
       "<title>1&#45;&gt;2</title>\n",
       "<path fill=\"none\" stroke=\"#000000\" d=\"M337.4728,-296.9465C320.8255,-286.4537 302.4152,-274.8496 285.4541,-264.1589\"/>\n",
       "<polygon fill=\"#000000\" stroke=\"#000000\" points=\"287.0596,-261.0337 276.7336,-258.6624 283.3271,-266.9556 287.0596,-261.0337\"/>\n",
       "</g>\n",
       "<!-- 7 -->\n",
       "<g id=\"node8\" class=\"node\">\n",
       "<title>7</title>\n",
       "<polygon fill=\"#f5d1b6\" stroke=\"#000000\" points=\"446,-261 337,-261 337,-193 446,-193 446,-261\"/>\n",
       "<text text-anchor=\"middle\" x=\"391.5\" y=\"-245.8\" font-family=\"Times,serif\" font-size=\"14.00\" fill=\"#000000\">NECK &lt;= 36.85</text>\n",
       "<text text-anchor=\"middle\" x=\"391.5\" y=\"-230.8\" font-family=\"Times,serif\" font-size=\"14.00\" fill=\"#000000\">mse = 23.004</text>\n",
       "<text text-anchor=\"middle\" x=\"391.5\" y=\"-215.8\" font-family=\"Times,serif\" font-size=\"14.00\" fill=\"#000000\">samples = 40</text>\n",
       "<text text-anchor=\"middle\" x=\"391.5\" y=\"-200.8\" font-family=\"Times,serif\" font-size=\"14.00\" fill=\"#000000\">value = 16.242</text>\n",
       "</g>\n",
       "<!-- 1&#45;&gt;7 -->\n",
       "<g id=\"edge7\" class=\"edge\">\n",
       "<title>1&#45;&gt;7</title>\n",
       "<path fill=\"none\" stroke=\"#000000\" d=\"M391.5,-296.9465C391.5,-288.776 391.5,-279.9318 391.5,-271.3697\"/>\n",
       "<polygon fill=\"#000000\" stroke=\"#000000\" points=\"395.0001,-271.13 391.5,-261.13 388.0001,-271.13 395.0001,-271.13\"/>\n",
       "</g>\n",
       "<!-- 3 -->\n",
       "<g id=\"node4\" class=\"node\">\n",
       "<title>3</title>\n",
       "<polygon fill=\"#fcf0e7\" stroke=\"#000000\" points=\"158.5,-157 44.5,-157 44.5,-89 158.5,-89 158.5,-157\"/>\n",
       "<text text-anchor=\"middle\" x=\"101.5\" y=\"-141.8\" font-family=\"Times,serif\" font-size=\"14.00\" fill=\"#000000\">THIGH &lt;= 52.15</text>\n",
       "<text text-anchor=\"middle\" x=\"101.5\" y=\"-126.8\" font-family=\"Times,serif\" font-size=\"14.00\" fill=\"#000000\">mse = 18.586</text>\n",
       "<text text-anchor=\"middle\" x=\"101.5\" y=\"-111.8\" font-family=\"Times,serif\" font-size=\"14.00\" fill=\"#000000\">samples = 32</text>\n",
       "<text text-anchor=\"middle\" x=\"101.5\" y=\"-96.8\" font-family=\"Times,serif\" font-size=\"14.00\" fill=\"#000000\">value = 8.584</text>\n",
       "</g>\n",
       "<!-- 2&#45;&gt;3 -->\n",
       "<g id=\"edge3\" class=\"edge\">\n",
       "<title>2&#45;&gt;3</title>\n",
       "<path fill=\"none\" stroke=\"#000000\" d=\"M185.5703,-192.9465C174.3472,-183.6088 162.0663,-173.3911 150.4427,-163.7203\"/>\n",
       "<polygon fill=\"#000000\" stroke=\"#000000\" points=\"152.4474,-160.8353 142.5216,-157.13 147.9704,-166.2164 152.4474,-160.8353\"/>\n",
       "</g>\n",
       "<!-- 6 -->\n",
       "<g id=\"node7\" class=\"node\">\n",
       "<title>6</title>\n",
       "<polygon fill=\"#f9e0ce\" stroke=\"#000000\" points=\"276.5,-149.5 176.5,-149.5 176.5,-96.5 276.5,-96.5 276.5,-149.5\"/>\n",
       "<text text-anchor=\"middle\" x=\"226.5\" y=\"-134.3\" font-family=\"Times,serif\" font-size=\"14.00\" fill=\"#000000\">mse = 17.054</text>\n",
       "<text text-anchor=\"middle\" x=\"226.5\" y=\"-119.3\" font-family=\"Times,serif\" font-size=\"14.00\" fill=\"#000000\">samples = 18</text>\n",
       "<text text-anchor=\"middle\" x=\"226.5\" y=\"-104.3\" font-family=\"Times,serif\" font-size=\"14.00\" fill=\"#000000\">value = 12.556</text>\n",
       "</g>\n",
       "<!-- 2&#45;&gt;6 -->\n",
       "<g id=\"edge6\" class=\"edge\">\n",
       "<title>2&#45;&gt;6</title>\n",
       "<path fill=\"none\" stroke=\"#000000\" d=\"M226.5,-192.9465C226.5,-182.2621 226.5,-170.4254 226.5,-159.5742\"/>\n",
       "<polygon fill=\"#000000\" stroke=\"#000000\" points=\"230.0001,-159.5421 226.5,-149.5422 223.0001,-159.5422 230.0001,-159.5421\"/>\n",
       "</g>\n",
       "<!-- 4 -->\n",
       "<g id=\"node5\" class=\"node\">\n",
       "<title>4</title>\n",
       "<polygon fill=\"#ffffff\" stroke=\"#000000\" points=\"93,-53 0,-53 0,0 93,0 93,-53\"/>\n",
       "<text text-anchor=\"middle\" x=\"46.5\" y=\"-37.8\" font-family=\"Times,serif\" font-size=\"14.00\" fill=\"#000000\">mse = 10.761</text>\n",
       "<text text-anchor=\"middle\" x=\"46.5\" y=\"-22.8\" font-family=\"Times,serif\" font-size=\"14.00\" fill=\"#000000\">samples = 8</text>\n",
       "<text text-anchor=\"middle\" x=\"46.5\" y=\"-7.8\" font-family=\"Times,serif\" font-size=\"14.00\" fill=\"#000000\">value = 4.887</text>\n",
       "</g>\n",
       "<!-- 3&#45;&gt;4 -->\n",
       "<g id=\"edge4\" class=\"edge\">\n",
       "<title>3&#45;&gt;4</title>\n",
       "<path fill=\"none\" stroke=\"#000000\" d=\"M82.1091,-88.9777C77.151,-80.2786 71.8067,-70.9018 66.8042,-62.1247\"/>\n",
       "<polygon fill=\"#000000\" stroke=\"#000000\" points=\"69.7378,-60.2033 61.7452,-53.2485 63.6562,-63.6696 69.7378,-60.2033\"/>\n",
       "</g>\n",
       "<!-- 5 -->\n",
       "<g id=\"node6\" class=\"node\">\n",
       "<title>5</title>\n",
       "<polygon fill=\"#fbebdf\" stroke=\"#000000\" points=\"204,-53 111,-53 111,0 204,0 204,-53\"/>\n",
       "<text text-anchor=\"middle\" x=\"157.5\" y=\"-37.8\" font-family=\"Times,serif\" font-size=\"14.00\" fill=\"#000000\">mse = 15.12</text>\n",
       "<text text-anchor=\"middle\" x=\"157.5\" y=\"-22.8\" font-family=\"Times,serif\" font-size=\"14.00\" fill=\"#000000\">samples = 24</text>\n",
       "<text text-anchor=\"middle\" x=\"157.5\" y=\"-7.8\" font-family=\"Times,serif\" font-size=\"14.00\" fill=\"#000000\">value = 9.817</text>\n",
       "</g>\n",
       "<!-- 3&#45;&gt;5 -->\n",
       "<g id=\"edge5\" class=\"edge\">\n",
       "<title>3&#45;&gt;5</title>\n",
       "<path fill=\"none\" stroke=\"#000000\" d=\"M121.2435,-88.9777C126.2917,-80.2786 131.7331,-70.9018 136.8266,-62.1247\"/>\n",
       "<polygon fill=\"#000000\" stroke=\"#000000\" points=\"139.9855,-63.6544 141.9776,-53.2485 133.9311,-60.1409 139.9855,-63.6544\"/>\n",
       "</g>\n",
       "<!-- 8 -->\n",
       "<g id=\"node9\" class=\"node\">\n",
       "<title>8</title>\n",
       "<polygon fill=\"#f2c29f\" stroke=\"#000000\" points=\"394.5,-149.5 294.5,-149.5 294.5,-96.5 394.5,-96.5 394.5,-149.5\"/>\n",
       "<text text-anchor=\"middle\" x=\"344.5\" y=\"-134.3\" font-family=\"Times,serif\" font-size=\"14.00\" fill=\"#000000\">mse = 15.087</text>\n",
       "<text text-anchor=\"middle\" x=\"344.5\" y=\"-119.3\" font-family=\"Times,serif\" font-size=\"14.00\" fill=\"#000000\">samples = 13</text>\n",
       "<text text-anchor=\"middle\" x=\"344.5\" y=\"-104.3\" font-family=\"Times,serif\" font-size=\"14.00\" fill=\"#000000\">value = 19.862</text>\n",
       "</g>\n",
       "<!-- 7&#45;&gt;8 -->\n",
       "<g id=\"edge8\" class=\"edge\">\n",
       "<title>7&#45;&gt;8</title>\n",
       "<path fill=\"none\" stroke=\"#000000\" d=\"M376.1104,-192.9465C371.1823,-182.0418 365.7118,-169.9368 360.726,-158.9043\"/>\n",
       "<polygon fill=\"#000000\" stroke=\"#000000\" points=\"363.8027,-157.2134 356.495,-149.5422 357.4239,-160.0962 363.8027,-157.2134\"/>\n",
       "</g>\n",
       "<!-- 9 -->\n",
       "<g id=\"node10\" class=\"node\">\n",
       "<title>9</title>\n",
       "<polygon fill=\"#f7d8c2\" stroke=\"#000000\" points=\"526.5,-157 412.5,-157 412.5,-89 526.5,-89 526.5,-157\"/>\n",
       "<text text-anchor=\"middle\" x=\"469.5\" y=\"-141.8\" font-family=\"Times,serif\" font-size=\"14.00\" fill=\"#000000\">THIGH &lt;= 59.45</text>\n",
       "<text text-anchor=\"middle\" x=\"469.5\" y=\"-126.8\" font-family=\"Times,serif\" font-size=\"14.00\" fill=\"#000000\">mse = 17.474</text>\n",
       "<text text-anchor=\"middle\" x=\"469.5\" y=\"-111.8\" font-family=\"Times,serif\" font-size=\"14.00\" fill=\"#000000\">samples = 27</text>\n",
       "<text text-anchor=\"middle\" x=\"469.5\" y=\"-96.8\" font-family=\"Times,serif\" font-size=\"14.00\" fill=\"#000000\">value = 14.5</text>\n",
       "</g>\n",
       "<!-- 7&#45;&gt;9 -->\n",
       "<g id=\"edge9\" class=\"edge\">\n",
       "<title>7&#45;&gt;9</title>\n",
       "<path fill=\"none\" stroke=\"#000000\" d=\"M417.0401,-192.9465C423.6393,-184.1475 430.8246,-174.5672 437.7005,-165.3993\"/>\n",
       "<polygon fill=\"#000000\" stroke=\"#000000\" points=\"440.7025,-167.23 443.9025,-157.13 435.1025,-163.03 440.7025,-167.23\"/>\n",
       "</g>\n",
       "<!-- 10 -->\n",
       "<g id=\"node11\" class=\"node\">\n",
       "<title>10</title>\n",
       "<polygon fill=\"#f5cfb4\" stroke=\"#000000\" points=\"415.5,-53 315.5,-53 315.5,0 415.5,0 415.5,-53\"/>\n",
       "<text text-anchor=\"middle\" x=\"365.5\" y=\"-37.8\" font-family=\"Times,serif\" font-size=\"14.00\" fill=\"#000000\">mse = 9.595</text>\n",
       "<text text-anchor=\"middle\" x=\"365.5\" y=\"-22.8\" font-family=\"Times,serif\" font-size=\"14.00\" fill=\"#000000\">samples = 16</text>\n",
       "<text text-anchor=\"middle\" x=\"365.5\" y=\"-7.8\" font-family=\"Times,serif\" font-size=\"14.00\" fill=\"#000000\">value = 16.562</text>\n",
       "</g>\n",
       "<!-- 9&#45;&gt;10 -->\n",
       "<g id=\"edge10\" class=\"edge\">\n",
       "<title>9&#45;&gt;10</title>\n",
       "<path fill=\"none\" stroke=\"#000000\" d=\"M432.8335,-88.9777C422.7675,-79.6376 411.8596,-69.5163 401.8135,-60.1947\"/>\n",
       "<polygon fill=\"#000000\" stroke=\"#000000\" points=\"404.0385,-57.4847 394.3274,-53.2485 399.2772,-62.616 404.0385,-57.4847\"/>\n",
       "</g>\n",
       "<!-- 11 -->\n",
       "<g id=\"node12\" class=\"node\">\n",
       "<title>11</title>\n",
       "<polygon fill=\"#f9e4d5\" stroke=\"#000000\" points=\"525.5,-53 433.5,-53 433.5,0 525.5,0 525.5,-53\"/>\n",
       "<text text-anchor=\"middle\" x=\"479.5\" y=\"-37.8\" font-family=\"Times,serif\" font-size=\"14.00\" fill=\"#000000\">mse = 13.747</text>\n",
       "<text text-anchor=\"middle\" x=\"479.5\" y=\"-22.8\" font-family=\"Times,serif\" font-size=\"14.00\" fill=\"#000000\">samples = 11</text>\n",
       "<text text-anchor=\"middle\" x=\"479.5\" y=\"-7.8\" font-family=\"Times,serif\" font-size=\"14.00\" fill=\"#000000\">value = 11.5</text>\n",
       "</g>\n",
       "<!-- 9&#45;&gt;11 -->\n",
       "<g id=\"edge11\" class=\"edge\">\n",
       "<title>9&#45;&gt;11</title>\n",
       "<path fill=\"none\" stroke=\"#000000\" d=\"M473.0256,-88.9777C473.8891,-80.6449 474.8171,-71.6903 475.6931,-63.2364\"/>\n",
       "<polygon fill=\"#000000\" stroke=\"#000000\" points=\"479.1787,-63.556 476.7281,-53.2485 472.2159,-62.8344 479.1787,-63.556\"/>\n",
       "</g>\n",
       "<!-- 13 -->\n",
       "<g id=\"node14\" class=\"node\">\n",
       "<title>13</title>\n",
       "<polygon fill=\"#f0b68d\" stroke=\"#000000\" points=\"709.5,-261 579.5,-261 579.5,-193 709.5,-193 709.5,-261\"/>\n",
       "<text text-anchor=\"middle\" x=\"644.5\" y=\"-245.8\" font-family=\"Times,serif\" font-size=\"14.00\" fill=\"#000000\">HEIGHT &lt;= 68.375</text>\n",
       "<text text-anchor=\"middle\" x=\"644.5\" y=\"-230.8\" font-family=\"Times,serif\" font-size=\"14.00\" fill=\"#000000\">mse = 19.797</text>\n",
       "<text text-anchor=\"middle\" x=\"644.5\" y=\"-215.8\" font-family=\"Times,serif\" font-size=\"14.00\" fill=\"#000000\">samples = 65</text>\n",
       "<text text-anchor=\"middle\" x=\"644.5\" y=\"-200.8\" font-family=\"Times,serif\" font-size=\"14.00\" fill=\"#000000\">value = 22.762</text>\n",
       "</g>\n",
       "<!-- 12&#45;&gt;13 -->\n",
       "<g id=\"edge13\" class=\"edge\">\n",
       "<title>12&#45;&gt;13</title>\n",
       "<path fill=\"none\" stroke=\"#000000\" d=\"M644.5,-296.9465C644.5,-288.776 644.5,-279.9318 644.5,-271.3697\"/>\n",
       "<polygon fill=\"#000000\" stroke=\"#000000\" points=\"648.0001,-271.13 644.5,-261.13 641.0001,-271.13 648.0001,-271.13\"/>\n",
       "</g>\n",
       "<!-- 18 -->\n",
       "<g id=\"node19\" class=\"node\">\n",
       "<title>18</title>\n",
       "<polygon fill=\"#e99456\" stroke=\"#000000\" points=\"919.5,-261 777.5,-261 777.5,-193 919.5,-193 919.5,-261\"/>\n",
       "<text text-anchor=\"middle\" x=\"848.5\" y=\"-245.8\" font-family=\"Times,serif\" font-size=\"14.00\" fill=\"#000000\">ABDOMEN &lt;= 112.3</text>\n",
       "<text text-anchor=\"middle\" x=\"848.5\" y=\"-230.8\" font-family=\"Times,serif\" font-size=\"14.00\" fill=\"#000000\">mse = 32.445</text>\n",
       "<text text-anchor=\"middle\" x=\"848.5\" y=\"-215.8\" font-family=\"Times,serif\" font-size=\"14.00\" fill=\"#000000\">samples = 21</text>\n",
       "<text text-anchor=\"middle\" x=\"848.5\" y=\"-200.8\" font-family=\"Times,serif\" font-size=\"14.00\" fill=\"#000000\">value = 31.29</text>\n",
       "</g>\n",
       "<!-- 12&#45;&gt;18 -->\n",
       "<g id=\"edge18\" class=\"edge\">\n",
       "<title>12&#45;&gt;18</title>\n",
       "<path fill=\"none\" stroke=\"#000000\" d=\"M711.2972,-296.9465C730.8463,-286.9803 752.3617,-276.0117 772.4406,-265.7754\"/>\n",
       "<polygon fill=\"#000000\" stroke=\"#000000\" points=\"774.2333,-268.7901 781.5527,-261.13 771.054,-262.5537 774.2333,-268.7901\"/>\n",
       "</g>\n",
       "<!-- 14 -->\n",
       "<g id=\"node15\" class=\"node\">\n",
       "<title>14</title>\n",
       "<polygon fill=\"#eda979\" stroke=\"#000000\" points=\"644.5,-149.5 544.5,-149.5 544.5,-96.5 644.5,-96.5 644.5,-149.5\"/>\n",
       "<text text-anchor=\"middle\" x=\"594.5\" y=\"-134.3\" font-family=\"Times,serif\" font-size=\"14.00\" fill=\"#000000\">mse = 17.965</text>\n",
       "<text text-anchor=\"middle\" x=\"594.5\" y=\"-119.3\" font-family=\"Times,serif\" font-size=\"14.00\" fill=\"#000000\">samples = 13</text>\n",
       "<text text-anchor=\"middle\" x=\"594.5\" y=\"-104.3\" font-family=\"Times,serif\" font-size=\"14.00\" fill=\"#000000\">value = 25.908</text>\n",
       "</g>\n",
       "<!-- 13&#45;&gt;14 -->\n",
       "<g id=\"edge14\" class=\"edge\">\n",
       "<title>13&#45;&gt;14</title>\n",
       "<path fill=\"none\" stroke=\"#000000\" d=\"M628.1281,-192.9465C622.8325,-181.9316 616.9482,-169.6922 611.6011,-158.5703\"/>\n",
       "<polygon fill=\"#000000\" stroke=\"#000000\" points=\"614.748,-157.0381 607.2607,-149.5422 608.4393,-160.0712 614.748,-157.0381\"/>\n",
       "</g>\n",
       "<!-- 15 -->\n",
       "<g id=\"node16\" class=\"node\">\n",
       "<title>15</title>\n",
       "<polygon fill=\"#f1b992\" stroke=\"#000000\" points=\"780.5,-157 662.5,-157 662.5,-89 780.5,-89 780.5,-157\"/>\n",
       "<text text-anchor=\"middle\" x=\"721.5\" y=\"-141.8\" font-family=\"Times,serif\" font-size=\"14.00\" fill=\"#000000\">ANKLE &lt;= 24.65</text>\n",
       "<text text-anchor=\"middle\" x=\"721.5\" y=\"-126.8\" font-family=\"Times,serif\" font-size=\"14.00\" fill=\"#000000\">mse = 17.162</text>\n",
       "<text text-anchor=\"middle\" x=\"721.5\" y=\"-111.8\" font-family=\"Times,serif\" font-size=\"14.00\" fill=\"#000000\">samples = 52</text>\n",
       "<text text-anchor=\"middle\" x=\"721.5\" y=\"-96.8\" font-family=\"Times,serif\" font-size=\"14.00\" fill=\"#000000\">value = 21.975</text>\n",
       "</g>\n",
       "<!-- 13&#45;&gt;15 -->\n",
       "<g id=\"edge15\" class=\"edge\">\n",
       "<title>13&#45;&gt;15</title>\n",
       "<path fill=\"none\" stroke=\"#000000\" d=\"M669.7127,-192.9465C676.2273,-184.1475 683.3205,-174.5672 690.1082,-165.3993\"/>\n",
       "<polygon fill=\"#000000\" stroke=\"#000000\" points=\"693.0931,-167.2496 696.2307,-157.13 687.4673,-163.0843 693.0931,-167.2496\"/>\n",
       "</g>\n",
       "<!-- 16 -->\n",
       "<g id=\"node17\" class=\"node\">\n",
       "<title>16</title>\n",
       "<polygon fill=\"#f0b68d\" stroke=\"#000000\" points=\"712.5,-53 612.5,-53 612.5,0 712.5,0 712.5,-53\"/>\n",
       "<text text-anchor=\"middle\" x=\"662.5\" y=\"-37.8\" font-family=\"Times,serif\" font-size=\"14.00\" fill=\"#000000\">mse = 17.507</text>\n",
       "<text text-anchor=\"middle\" x=\"662.5\" y=\"-22.8\" font-family=\"Times,serif\" font-size=\"14.00\" fill=\"#000000\">samples = 41</text>\n",
       "<text text-anchor=\"middle\" x=\"662.5\" y=\"-7.8\" font-family=\"Times,serif\" font-size=\"14.00\" fill=\"#000000\">value = 22.729</text>\n",
       "</g>\n",
       "<!-- 15&#45;&gt;16 -->\n",
       "<g id=\"edge16\" class=\"edge\">\n",
       "<title>15&#45;&gt;16</title>\n",
       "<path fill=\"none\" stroke=\"#000000\" d=\"M700.6988,-88.9777C695.3242,-80.187 689.5265,-70.7044 684.1115,-61.8477\"/>\n",
       "<polygon fill=\"#000000\" stroke=\"#000000\" points=\"687.0564,-59.9545 678.854,-53.2485 681.0842,-63.6059 687.0564,-59.9545\"/>\n",
       "</g>\n",
       "<!-- 17 -->\n",
       "<g id=\"node18\" class=\"node\">\n",
       "<title>17</title>\n",
       "<polygon fill=\"#f3c5a4\" stroke=\"#000000\" points=\"830.5,-53 730.5,-53 730.5,0 830.5,0 830.5,-53\"/>\n",
       "<text text-anchor=\"middle\" x=\"780.5\" y=\"-37.8\" font-family=\"Times,serif\" font-size=\"14.00\" fill=\"#000000\">mse = 5.851</text>\n",
       "<text text-anchor=\"middle\" x=\"780.5\" y=\"-22.8\" font-family=\"Times,serif\" font-size=\"14.00\" fill=\"#000000\">samples = 11</text>\n",
       "<text text-anchor=\"middle\" x=\"780.5\" y=\"-7.8\" font-family=\"Times,serif\" font-size=\"14.00\" fill=\"#000000\">value = 19.164</text>\n",
       "</g>\n",
       "<!-- 15&#45;&gt;17 -->\n",
       "<g id=\"edge17\" class=\"edge\">\n",
       "<title>15&#45;&gt;17</title>\n",
       "<path fill=\"none\" stroke=\"#000000\" d=\"M742.3012,-88.9777C747.6758,-80.187 753.4735,-70.7044 758.8885,-61.8477\"/>\n",
       "<polygon fill=\"#000000\" stroke=\"#000000\" points=\"761.9158,-63.6059 764.146,-53.2485 755.9436,-59.9545 761.9158,-63.6059\"/>\n",
       "</g>\n",
       "<!-- 19 -->\n",
       "<g id=\"node20\" class=\"node\">\n",
       "<title>19</title>\n",
       "<polygon fill=\"#eb9f68\" stroke=\"#000000\" points=\"898.5,-149.5 798.5,-149.5 798.5,-96.5 898.5,-96.5 898.5,-149.5\"/>\n",
       "<text text-anchor=\"middle\" x=\"848.5\" y=\"-134.3\" font-family=\"Times,serif\" font-size=\"14.00\" fill=\"#000000\">mse = 13.122</text>\n",
       "<text text-anchor=\"middle\" x=\"848.5\" y=\"-119.3\" font-family=\"Times,serif\" font-size=\"14.00\" fill=\"#000000\">samples = 13</text>\n",
       "<text text-anchor=\"middle\" x=\"848.5\" y=\"-104.3\" font-family=\"Times,serif\" font-size=\"14.00\" fill=\"#000000\">value = 28.492</text>\n",
       "</g>\n",
       "<!-- 18&#45;&gt;19 -->\n",
       "<g id=\"edge19\" class=\"edge\">\n",
       "<title>18&#45;&gt;19</title>\n",
       "<path fill=\"none\" stroke=\"#000000\" d=\"M848.5,-192.9465C848.5,-182.2621 848.5,-170.4254 848.5,-159.5742\"/>\n",
       "<polygon fill=\"#000000\" stroke=\"#000000\" points=\"852.0001,-159.5421 848.5,-149.5422 845.0001,-159.5422 852.0001,-159.5421\"/>\n",
       "</g>\n",
       "<!-- 20 -->\n",
       "<g id=\"node21\" class=\"node\">\n",
       "<title>20</title>\n",
       "<polygon fill=\"#e58139\" stroke=\"#000000\" points=\"1016.5,-149.5 916.5,-149.5 916.5,-96.5 1016.5,-96.5 1016.5,-149.5\"/>\n",
       "<text text-anchor=\"middle\" x=\"966.5\" y=\"-134.3\" font-family=\"Times,serif\" font-size=\"14.00\" fill=\"#000000\">mse = 30.445</text>\n",
       "<text text-anchor=\"middle\" x=\"966.5\" y=\"-119.3\" font-family=\"Times,serif\" font-size=\"14.00\" fill=\"#000000\">samples = 8</text>\n",
       "<text text-anchor=\"middle\" x=\"966.5\" y=\"-104.3\" font-family=\"Times,serif\" font-size=\"14.00\" fill=\"#000000\">value = 35.838</text>\n",
       "</g>\n",
       "<!-- 18&#45;&gt;20 -->\n",
       "<g id=\"edge20\" class=\"edge\">\n",
       "<title>18&#45;&gt;20</title>\n",
       "<path fill=\"none\" stroke=\"#000000\" d=\"M887.1376,-192.9465C900.5101,-181.1606 915.4734,-167.9726 928.7719,-156.2519\"/>\n",
       "<polygon fill=\"#000000\" stroke=\"#000000\" points=\"931.197,-158.7799 936.3849,-149.5422 926.5685,-153.5285 931.197,-158.7799\"/>\n",
       "</g>\n",
       "</g>\n",
       "</svg>\n"
      ],
      "text/plain": [
       "<graphviz.files.Source at 0x1c24787f10>"
      ]
     },
     "metadata": {},
     "output_type": "display_data"
    }
   ],
   "source": [
    "# 최대 깊이 변경에 따른 모델 성능 \n",
    "# 변수명 저장\n",
    "v_feature_name=df_train_x.columns\n",
    "#깊이가 4인 모델 \n",
    "tree_final=DecisionTreeClassifier(random_state=1234)\n",
    "tree_final.fit(df_train_x,df_train_y)\n",
    "\n",
    "#트리 모델을 tree_low.dot 파일로 저장.(목표변수, 0:Good,1:bad)\n",
    "export_graphviz(tree_final,out_file=\"tree_low.dot\",class_names=[\"양품\",\"불량\"],feature_names=v_feature_name,impurity=True,filled=True)\n",
    "\n",
    "#graphviz를 이용해 트리 모델 시각화 \n",
    "with open(\"tree_final.dot\")as f:\n",
    "    dot_graph=f.read()\n",
    "display(graphviz.Source(dot_graph))"
   ]
  },
  {
   "cell_type": "markdown",
   "metadata": {},
   "source": [
    "### 변수중요도"
   ]
  },
  {
   "cell_type": "code",
   "execution_count": 199,
   "metadata": {},
   "outputs": [
    {
     "data": {
      "text/html": [
       "<div>\n",
       "<style scoped>\n",
       "    .dataframe tbody tr th:only-of-type {\n",
       "        vertical-align: middle;\n",
       "    }\n",
       "\n",
       "    .dataframe tbody tr th {\n",
       "        vertical-align: top;\n",
       "    }\n",
       "\n",
       "    .dataframe thead th {\n",
       "        text-align: right;\n",
       "    }\n",
       "</style>\n",
       "<table border=\"1\" class=\"dataframe\">\n",
       "  <thead>\n",
       "    <tr style=\"text-align: right;\">\n",
       "      <th></th>\n",
       "      <th>Feature</th>\n",
       "      <th>Importance</th>\n",
       "    </tr>\n",
       "  </thead>\n",
       "  <tbody>\n",
       "    <tr>\n",
       "      <th>8</th>\n",
       "      <td>ROLLING_TEMP_T5</td>\n",
       "      <td>0.552</td>\n",
       "    </tr>\n",
       "    <tr>\n",
       "      <th>89</th>\n",
       "      <td>HSB_적용</td>\n",
       "      <td>0.149</td>\n",
       "    </tr>\n",
       "    <tr>\n",
       "      <th>5</th>\n",
       "      <td>FUR_SZ_TEMP</td>\n",
       "      <td>0.117</td>\n",
       "    </tr>\n",
       "    <tr>\n",
       "      <th>9</th>\n",
       "      <td>ROLLING_DESCALING</td>\n",
       "      <td>0.095</td>\n",
       "    </tr>\n",
       "    <tr>\n",
       "      <th>7</th>\n",
       "      <td>FUR_TIME</td>\n",
       "      <td>0.024</td>\n",
       "    </tr>\n",
       "    <tr>\n",
       "      <th>0</th>\n",
       "      <td>PT_THK</td>\n",
       "      <td>0.024</td>\n",
       "    </tr>\n",
       "    <tr>\n",
       "      <th>6</th>\n",
       "      <td>FUR_SZ_TIME</td>\n",
       "      <td>0.013</td>\n",
       "    </tr>\n",
       "    <tr>\n",
       "      <th>43</th>\n",
       "      <td>SPEC_KR-A</td>\n",
       "      <td>0.007</td>\n",
       "    </tr>\n",
       "    <tr>\n",
       "      <th>91</th>\n",
       "      <td>WORK_GR_2조</td>\n",
       "      <td>0.007</td>\n",
       "    </tr>\n",
       "    <tr>\n",
       "      <th>93</th>\n",
       "      <td>WORK_GR_4조</td>\n",
       "      <td>0.005</td>\n",
       "    </tr>\n",
       "    <tr>\n",
       "      <th>11</th>\n",
       "      <td>SPEC_A283-C</td>\n",
       "      <td>0.004</td>\n",
       "    </tr>\n",
       "    <tr>\n",
       "      <th>41</th>\n",
       "      <td>SPEC_JS-SM490YB</td>\n",
       "      <td>0.003</td>\n",
       "    </tr>\n",
       "  </tbody>\n",
       "</table>\n",
       "</div>"
      ],
      "text/plain": [
       "              Feature  Importance\n",
       "8     ROLLING_TEMP_T5       0.552\n",
       "89             HSB_적용       0.149\n",
       "5         FUR_SZ_TEMP       0.117\n",
       "9   ROLLING_DESCALING       0.095\n",
       "7            FUR_TIME       0.024\n",
       "0              PT_THK       0.024\n",
       "6         FUR_SZ_TIME       0.013\n",
       "43          SPEC_KR-A       0.007\n",
       "91         WORK_GR_2조       0.007\n",
       "93         WORK_GR_4조       0.005\n",
       "11        SPEC_A283-C       0.004\n",
       "41    SPEC_JS-SM490YB       0.003"
      ]
     },
     "execution_count": 199,
     "metadata": {},
     "output_type": "execute_result"
    }
   ],
   "source": [
    "#tree,feature_importances_로 설명변수 중요도 확인 및 테이블로 저장\n",
    "df_importance=pd.DataFrame()\n",
    "df_importance[\"Feature\"]=v_feature_name\n",
    "df_importance[\"Importance\"]=tree_low.feature_importances_\n",
    "\n",
    "#df_feature_importance의 테이블을 중요도 순으로 정렬\n",
    "df_importance.sort_values(\"Importance\",ascending=False,inplace=True)\n",
    "df_importance=df_importance[df_importance.Importance!=0].round(3)\n",
    "df_importance"
   ]
  },
  {
   "cell_type": "code",
   "execution_count": 136,
   "metadata": {},
   "outputs": [
    {
     "data": {
      "text/plain": [
       "Text(0, 0.5, '설명변수')"
      ]
     },
     "execution_count": 136,
     "metadata": {},
     "output_type": "execute_result"
    },
    {
     "data": {
      "image/png": "[encoded data removed]",
      "text/plain": [
       "<Figure size 432x288 with 1 Axes>"
      ]
     },
     "metadata": {
      "needs_background": "light"
     },
     "output_type": "display_data"
    }
   ],
   "source": [
    "# 설명변수 중요도 그래프\n",
    "# 중요도가 높은 변수를 상위에 그림 \n",
    "df_importance.sort_values(\"Importance\",ascending=True,inplace=True)\n",
    "coordinates=range(len(df_importance))\n",
    "plt.barh(y=coordinates,width=df_importance[\"Importance\"])\n",
    "plt.yticks(coordinates,df_importance[\"Feature\"])\n",
    "plt.xlabel(\"설명변수 중요도\")\n",
    "plt.ylabel(\"설명변수\")"
   ]
  },
  {
   "cell_type": "markdown",
   "metadata": {},
   "source": [
    "## 랜덤포레스트"
   ]
  },
  {
   "cell_type": "code",
   "execution_count": 137,
   "metadata": {},
   "outputs": [
    {
     "name": "stdout",
     "output_type": "stream",
     "text": [
      "Accuracy on training set: 1.000\n",
      "Accuracy on test set: 0.963\n"
     ]
    }
   ],
   "source": [
    "rf_final= RandomForestClassifier(random_state=1234)\n",
    "rf_final.fit(df_train_x, df_train_y)\n",
    "# train 데이터 정확도\n",
    "print(\"Accuracy on training set: {:.3f}\".format(rf_final.score(df_train_x, df_train_y)))\n",
    "# test 데이터 정확도\n",
    "print(\"Accuracy on test set: {:.3f}\".format(rf_final.score(df_test_x, df_test_y)))"
   ]
  },
  {
   "cell_type": "code",
   "execution_count": 201,
   "metadata": {},
   "outputs": [
    {
     "data": {
      "text/html": [
       "<div>\n",
       "<style scoped>\n",
       "    .dataframe tbody tr th:only-of-type {\n",
       "        vertical-align: middle;\n",
       "    }\n",
       "\n",
       "    .dataframe tbody tr th {\n",
       "        vertical-align: top;\n",
       "    }\n",
       "\n",
       "    .dataframe thead th {\n",
       "        text-align: right;\n",
       "    }\n",
       "</style>\n",
       "<table border=\"1\" class=\"dataframe\">\n",
       "  <thead>\n",
       "    <tr style=\"text-align: right;\">\n",
       "      <th></th>\n",
       "      <th>Feature</th>\n",
       "      <th>Importance</th>\n",
       "    </tr>\n",
       "  </thead>\n",
       "  <tbody>\n",
       "    <tr>\n",
       "      <th>8</th>\n",
       "      <td>ROLLING_TEMP_T5</td>\n",
       "      <td>0.293</td>\n",
       "    </tr>\n",
       "    <tr>\n",
       "      <th>5</th>\n",
       "      <td>FUR_SZ_TEMP</td>\n",
       "      <td>0.087</td>\n",
       "    </tr>\n",
       "    <tr>\n",
       "      <th>0</th>\n",
       "      <td>PT_THK</td>\n",
       "      <td>0.072</td>\n",
       "    </tr>\n",
       "    <tr>\n",
       "      <th>9</th>\n",
       "      <td>ROLLING_DESCALING</td>\n",
       "      <td>0.055</td>\n",
       "    </tr>\n",
       "    <tr>\n",
       "      <th>1</th>\n",
       "      <td>PT_WDTH</td>\n",
       "      <td>0.055</td>\n",
       "    </tr>\n",
       "    <tr>\n",
       "      <th>4</th>\n",
       "      <td>FUR_HZ_TEMP</td>\n",
       "      <td>0.052</td>\n",
       "    </tr>\n",
       "  </tbody>\n",
       "</table>\n",
       "</div>"
      ],
      "text/plain": [
       "             Feature  Importance\n",
       "8    ROLLING_TEMP_T5       0.293\n",
       "5        FUR_SZ_TEMP       0.087\n",
       "0             PT_THK       0.072\n",
       "9  ROLLING_DESCALING       0.055\n",
       "1            PT_WDTH       0.055\n",
       "4        FUR_HZ_TEMP       0.052"
      ]
     },
     "execution_count": 201,
     "metadata": {},
     "output_type": "execute_result"
    }
   ],
   "source": [
    "#tree,feature_importances_로 설명변수 중요도 확인 및 테이블로 저장\n",
    "df_importance=pd.DataFrame()\n",
    "df_importance[\"Feature\"]=v_feature_name\n",
    "df_importance[\"Importance\"]=tree_low.feature_importances_\n",
    "\n",
    "#df_feature_importance의 테이블을 중요도 순으로 정렬\n",
    "df_importance.sort_values(\"Importance\",ascending=False,inplace=True)\n",
    "df_importance=df_importance[df_importance.Importance!=0].round(3)\n",
    "df_importance\n",
    "\n",
    "\n",
    "\n",
    "\n",
    "#변수명\n",
    "v_feature_name=df_train_x.columns\n",
    "#tree,feature_importances_로 설명변수 중요도 확인 및 테이블로 저장\n",
    "df_importance=pd.DataFrame()\n",
    "df_importance[\"Feature\"]=v_feature_name\n",
    "df_importance[\"Importance\"]=rf_final.feature_importances_\n",
    "\n",
    "#df_feature_importance의 테이블을 중요도 순으로 정렬\n",
    "df_importance.sort_values(\"Importance\",ascending=False,inplace=True)\n",
    "df_importance=df_importance[df_importance.Importance>=0.05].round(3)\n",
    "df_importance"
   ]
  },
  {
   "cell_type": "code",
   "execution_count": 202,
   "metadata": {},
   "outputs": [
    {
     "data": {
      "text/plain": [
       "Text(0, 0.5, '설명변수')"
      ]
     },
     "execution_count": 202,
     "metadata": {},
     "output_type": "execute_result"
    },
    {
     "data": {
      "image/png": "[encoded data removed]",
      "text/plain": [
       "<Figure size 432x288 with 1 Axes>"
      ]
     },
     "metadata": {
      "needs_background": "light"
     },
     "output_type": "display_data"
    }
   ],
   "source": [
    "# 설명변수 중요도 그래프\n",
    "# 중요도가 높은 변수를 상위에 그림 \n",
    "df_importance.sort_values(\"Importance\",ascending=True,inplace=True)\n",
    "coordinates=range(len(df_importance))\n",
    "plt.barh(y=coordinates,width=df_importance[\"Importance\"])\n",
    "plt.yticks(coordinates,df_importance[\"Feature\"])\n",
    "plt.xlabel(\"설명변수 중요도\")\n",
    "plt.ylabel(\"설명변수\")"
   ]
  },
  {
   "cell_type": "markdown",
   "metadata": {},
   "source": [
    "# 그래디언트 부스팅"
   ]
  },
  {
   "cell_type": "code",
   "execution_count": 140,
   "metadata": {},
   "outputs": [
    {
     "name": "stdout",
     "output_type": "stream",
     "text": [
      "Accuracy on training set: 1.000\n",
      "Accuracy on test set: 0.995\n"
     ]
    }
   ],
   "source": [
    "gb_final = GradientBoostingClassifier(random_state=1234)\n",
    "gb_final.fit(df_train_x, df_train_y)\n",
    "# train 데이터 정확도\n",
    "print(\"Accuracy on training set: {:.3f}\".format(gb_final.score(df_train_x, df_train_y)))\n",
    "# test 데이터 정확도\n",
    "print(\"Accuracy on test set: {:.3f}\".format(gb_final.score(df_test_x, df_test_y)))"
   ]
  },
  {
   "cell_type": "code",
   "execution_count": 204,
   "metadata": {},
   "outputs": [
    {
     "data": {
      "text/html": [
       "<div>\n",
       "<style scoped>\n",
       "    .dataframe tbody tr th:only-of-type {\n",
       "        vertical-align: middle;\n",
       "    }\n",
       "\n",
       "    .dataframe tbody tr th {\n",
       "        vertical-align: top;\n",
       "    }\n",
       "\n",
       "    .dataframe thead th {\n",
       "        text-align: right;\n",
       "    }\n",
       "</style>\n",
       "<table border=\"1\" class=\"dataframe\">\n",
       "  <thead>\n",
       "    <tr style=\"text-align: right;\">\n",
       "      <th></th>\n",
       "      <th>Feature</th>\n",
       "      <th>Importance</th>\n",
       "    </tr>\n",
       "  </thead>\n",
       "  <tbody>\n",
       "    <tr>\n",
       "      <th>8</th>\n",
       "      <td>ROLLING_TEMP_T5</td>\n",
       "      <td>0.583</td>\n",
       "    </tr>\n",
       "    <tr>\n",
       "      <th>5</th>\n",
       "      <td>FUR_SZ_TEMP</td>\n",
       "      <td>0.129</td>\n",
       "    </tr>\n",
       "    <tr>\n",
       "      <th>88</th>\n",
       "      <td>HSB_미적용</td>\n",
       "      <td>0.103</td>\n",
       "    </tr>\n",
       "    <tr>\n",
       "      <th>9</th>\n",
       "      <td>ROLLING_DESCALING</td>\n",
       "      <td>0.096</td>\n",
       "    </tr>\n",
       "    <tr>\n",
       "      <th>89</th>\n",
       "      <td>HSB_적용</td>\n",
       "      <td>0.053</td>\n",
       "    </tr>\n",
       "  </tbody>\n",
       "</table>\n",
       "</div>"
      ],
      "text/plain": [
       "              Feature  Importance\n",
       "8     ROLLING_TEMP_T5       0.583\n",
       "5         FUR_SZ_TEMP       0.129\n",
       "88            HSB_미적용       0.103\n",
       "9   ROLLING_DESCALING       0.096\n",
       "89             HSB_적용       0.053"
      ]
     },
     "execution_count": 204,
     "metadata": {},
     "output_type": "execute_result"
    }
   ],
   "source": [
    "# 변수명 저장 \n",
    "v_feature_name=df_train_x.columns\n",
    "\n",
    "#Tree,feature_importances_로 설명변수 중요도 확인 및 테이블로 저장 \n",
    "df_importance=pd.DataFrame()\n",
    "df_importance[\"Feature\"]=v_feature_name\n",
    "df_importance[\"Importance\"]=gb_final.feature_importances_\n",
    "\n",
    "#df_feature_importance의 테이블을 중요도 별로 정렬\n",
    "df_importance.sort_values(\"Importance\",ascending=False,inplace=True)\n",
    "df_importance=df_importance[df_importance[\"Importance\"]>0.05].round(3)\n",
    "df_importance.round(3)"
   ]
  },
  {
   "cell_type": "code",
   "execution_count": 270,
   "metadata": {},
   "outputs": [
    {
     "data": {
      "text/plain": [
       "Text(0, 0.5, '변수')"
      ]
     },
     "execution_count": 270,
     "metadata": {},
     "output_type": "execute_result"
    },
    {
     "data": {
      "image/png": "[encoded data removed]",
      "text/plain": [
       "<Figure size 432x288 with 1 Axes>"
      ]
     },
     "metadata": {
      "needs_background": "light"
     },
     "output_type": "display_data"
    }
   ],
   "source": [
    "# 5.설명변수의 중요도\n",
    "#설명 변수 중요도 그래프 \n",
    "#중요도가 높은 변수를 상위에 그림 \n",
    "df_importance.sort_values(\"Importance\",ascending=True,inplace=True)\n",
    "coordinates=range(len(df_importance))\n",
    "plt.barh(y=coordinates,width=df_importance['Importance'])\n",
    "plt.yticks(coordinates,df_importance[\"Feature\"])\n",
    "plt.xlabel('변수 중요도')\n",
    "plt.ylabel('변수')"
   ]
  },
  {
   "cell_type": "code",
   "execution_count": null,
   "metadata": {},
   "outputs": [],
   "source": [
    "df_odd=[([\"ROLLING_DESCALING\"]==5)|([\"ROLLING_DESCALING\"]==7)|([\"ROLLING_DESCALING\"]==9)]\n",
    "scale_count=df_odd.groupby([\"SCALE\"]).size()\n",
    "scale_count.plot.pie(autopct=\"%.1f%%\")\n",
    "#UBUNTU에서 작동"
   ]
  }
 ],
 "metadata": {
  "kernelspec": {
   "display_name": "Python 3",
   "language": "python",
   "name": "python3"
  },
  "language_info": {
   "codemirror_mode": {
    "name": "ipython",
    "version": 3
   },
   "file_extension": ".py",
   "mimetype": "text/x-python",
   "name": "python",
   "nbconvert_exporter": "python",
   "pygments_lexer": "ipython3",
   "version": "3.7.6"
  }
 },
 "nbformat": 4,
 "nbformat_minor": 4
}
