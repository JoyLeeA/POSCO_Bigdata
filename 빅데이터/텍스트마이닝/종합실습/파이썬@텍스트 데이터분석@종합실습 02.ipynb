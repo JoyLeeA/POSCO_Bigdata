{
 "cells": [
  {
   "cell_type": "code",
   "execution_count": null,
   "metadata": {},
   "outputs": [],
   "source": [
    "import requests\n",
    "import pandas as pd\n",
    "\n",
    "client_id = \"kV9KBToXgWIqyXY3CGjB\"\n",
    "client_secret = \"tcQXerzca7\"\n",
    "\n",
    "url = \"https://openapi.naver.com/v1/search/book.json?query=파이썬\"\n",
    "headers = {\n",
    "    \"X-Naver-Client-id\": client_id,\n",
    "    \"X-Naver-Client-Secret\": client_secret,\n",
    "}\n",
    "\n",
    "resp = requests.get(url, headers=headers)\n",
    "resp = resp.json()\n",
    "data = resp['items']\n",
    "\n",
    "# DataFrame\n",
    "df = pd.DataFrame(data=data)\n",
    "print(df)"
   ]
  }
 ],
 "metadata": {
  "kernelspec": {
   "display_name": "Python 3",
   "language": "python",
   "name": "python3"
  },
  "language_info": {
   "codemirror_mode": {
    "name": "ipython",
    "version": 3
   },
   "file_extension": ".py",
   "mimetype": "text/x-python",
   "name": "python",
   "nbconvert_exporter": "python",
   "pygments_lexer": "ipython3",
   "version": "3.7.0"
  }
 },
 "nbformat": 4,
 "nbformat_minor": 2
}
