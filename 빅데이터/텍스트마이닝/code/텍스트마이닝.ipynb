{
 "cells": [
  {
   "cell_type": "code",
   "execution_count": 14,
   "metadata": {},
   "outputs": [
    {
     "name": "stdout",
     "output_type": "stream",
     "text": [
      "2020-01-31 09:09:12.869000\n",
      "10737500\n"
     ]
    }
   ],
   "source": [
    "from bs4 import BeautifulSoup\n",
    "import requests\n",
    "import datetime\n",
    "import time\n",
    "url = \"https://api.korbit.co.kr/v1/ticker?currency_pair=btc_krw\"\n",
    "resp = requests.get(url)\n",
    "data = resp.json()\n",
    "ts = data['timestamp']\n",
    "price = data['last']\n",
    "dt = datetime.datetime.fromtimestamp(ts/1000)\n",
    "print(dt)\n",
    "print(price)\n",
    "time.sleep(1)\n"
   ]
  },
  {
   "cell_type": "code",
   "execution_count": 15,
   "metadata": {},
   "outputs": [
    {
     "name": "stdout",
     "output_type": "stream",
     "text": [
      "메로나     1000\n",
      "구구콘     2000\n",
      "하겐다즈    3000\n",
      "dtype: int64\n"
     ]
    }
   ],
   "source": [
    "# day02/01_pandas/01.py\n",
    "from pandas import Series\n",
    "data = [1000, 2000, 3000]\n",
    "index = ['메로나', '구구콘', '하겐다즈']\n",
    "s = Series(data=data, index=index)\n",
    "print(s)"
   ]
  },
  {
   "cell_type": "code",
   "execution_count": 19,
   "metadata": {},
   "outputs": [
    {
     "data": {
      "text/plain": [
       "1000"
      ]
     },
     "execution_count": 19,
     "metadata": {},
     "output_type": "execute_result"
    }
   ],
   "source": [
    "data = [1000, 2000, 3000]\n",
    "index = ['메로나', '구구콘', '하겐다즈']\n",
    "s = Series(data=data, index=index)\n",
    "#s.iloc[0]\n",
    "#s.loc['메로나']\n",
    "#s['메로나']"
   ]
  },
  {
   "cell_type": "code",
   "execution_count": null,
   "metadata": {},
   "outputs": [],
   "source": []
  }
 ],
 "metadata": {
  "kernelspec": {
   "display_name": "Python 3",
   "language": "python",
   "name": "python3"
  },
  "language_info": {
   "codemirror_mode": {
    "name": "ipython",
    "version": 3
   },
   "file_extension": ".py",
   "mimetype": "text/x-python",
   "name": "python",
   "nbconvert_exporter": "python",
   "pygments_lexer": "ipython3",
   "version": "3.7.6"
  }
 },
 "nbformat": 4,
 "nbformat_minor": 4
}
